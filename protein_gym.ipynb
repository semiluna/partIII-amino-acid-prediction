{
 "cells": [
  {
   "cell_type": "code",
   "execution_count": 1,
   "metadata": {},
   "outputs": [
    {
     "name": "stderr",
     "output_type": "stream",
     "text": [
      "/Users/antoniaboca/miniconda3/envs/diss/lib/python3.8/site-packages/tqdm/auto.py:22: TqdmWarning: IProgress not found. Please update jupyter and ipywidgets. See https://ipywidgets.readthedocs.io/en/stable/user_install.html\n",
      "  from .autonotebook import tqdm as notebook_tqdm\n"
     ]
    },
    {
     "name": "stdout",
     "output_type": "stream",
     "text": [
      "It seems the fitness data is not log transformed.\n",
      "No wildtype data found. Inferring wildtype data.\n",
      "No wildtype data found. Inferring wildtype data.\n",
      "No wildtype data found. Inferring wildtype data.\n",
      "No wildtype data found. Inferring wildtype data.\n",
      "No wildtype data found. Inferring wildtype data.\n",
      "No wildtype data found. Inferring wildtype data.\n",
      "It seems the fitness data is not log transformed.\n",
      "No wildtype data found. Inferring wildtype data.\n",
      "No wildtype data found. Inferring wildtype data.\n",
      "No wildtype data found. Inferring wildtype data.\n",
      "No wildtype data found. Inferring wildtype data.\n",
      "No wildtype data found. Inferring wildtype data.\n",
      "No wildtype data found. Inferring wildtype data.\n",
      "No wildtype data found. Inferring wildtype data.\n",
      "It seems the fitness data is not log transformed.\n",
      "No wildtype data found. Inferring wildtype data.\n",
      "No wildtype data found. Inferring wildtype data.\n",
      "It seems the fitness data is not log transformed.\n",
      "No wildtype data found. Inferring wildtype data.\n",
      "No wildtype data found. Inferring wildtype data.\n",
      "No wildtype data found. Inferring wildtype data.\n",
      "No wildtype data found. Inferring wildtype data.\n",
      "No wildtype data found. Inferring wildtype data.\n",
      "No wildtype data found. Inferring wildtype data.\n",
      "No wildtype data found. Inferring wildtype data.\n",
      "No wildtype data found. Inferring wildtype data.\n",
      "It seems the fitness data is not log transformed.\n",
      "No wildtype data found. Inferring wildtype data.\n",
      "It seems the fitness data is not log transformed.\n",
      "No wildtype data found. Inferring wildtype data.\n",
      "No wildtype data found. Inferring wildtype data.\n",
      "It seems the fitness data is not log transformed.\n",
      "No wildtype data found. Inferring wildtype data.\n",
      "No wildtype data found. Inferring wildtype data.\n",
      "It seems the fitness data is not log transformed.\n",
      "No wildtype data found. Inferring wildtype data.\n",
      "No wildtype data found. Inferring wildtype data.\n",
      "It seems the fitness data is not log transformed.\n",
      "No wildtype data found. Inferring wildtype data.\n",
      "No wildtype data found. Inferring wildtype data.\n",
      "No wildtype data found. Inferring wildtype data.\n",
      "No wildtype data found. Inferring wildtype data.\n",
      "No wildtype data found. Inferring wildtype data.\n",
      "No wildtype data found. Inferring wildtype data.\n",
      "No wildtype data found. Inferring wildtype data.\n",
      "No wildtype data found. Inferring wildtype data.\n",
      "No wildtype data found. Inferring wildtype data.\n",
      "No wildtype data found. Inferring wildtype data.\n",
      "No wildtype data found. Inferring wildtype data.\n",
      "No wildtype data found. Inferring wildtype data.\n",
      "No wildtype data found. Inferring wildtype data.\n",
      "No wildtype data found. Inferring wildtype data.\n",
      "No wildtype data found. Inferring wildtype data.\n",
      "No wildtype data found. Inferring wildtype data.\n",
      "It seems the fitness data is not log transformed.\n",
      "No wildtype data found. Inferring wildtype data.\n",
      "No wildtype data found. Inferring wildtype data.\n",
      "No wildtype data found. Inferring wildtype data.\n",
      "No wildtype data found. Inferring wildtype data.\n",
      "It seems the fitness data is not log transformed.\n",
      "No wildtype data found. Inferring wildtype data.\n",
      "No wildtype data found. Inferring wildtype data.\n",
      "No wildtype data found. Inferring wildtype data.\n",
      "No wildtype data found. Inferring wildtype data.\n",
      "No wildtype data found. Inferring wildtype data.\n",
      "No wildtype data found. Inferring wildtype data.\n",
      "It seems the fitness data is not log transformed.\n",
      "No wildtype data found. Inferring wildtype data.\n",
      "No wildtype data found. Inferring wildtype data.\n",
      "No wildtype data found. Inferring wildtype data.\n",
      "No wildtype data found. Inferring wildtype data.\n",
      "No wildtype data found. Inferring wildtype data.\n",
      "No wildtype data found. Inferring wildtype data.\n",
      "No wildtype data found. Inferring wildtype data.\n",
      "No wildtype data found. Inferring wildtype data.\n",
      "No wildtype data found. Inferring wildtype data.\n",
      "No wildtype data found. Inferring wildtype data.\n",
      "No wildtype data found. Inferring wildtype data.\n",
      "It seems the fitness data is not log transformed.\n",
      "No wildtype data found. Inferring wildtype data.\n",
      "No wildtype data found. Inferring wildtype data.\n",
      "It seems the fitness data is not log transformed.\n",
      "No wildtype data found. Inferring wildtype data.\n",
      "No wildtype data found. Inferring wildtype data.\n",
      "No wildtype data found. Inferring wildtype data.\n",
      "No wildtype data found. Inferring wildtype data.\n",
      "No wildtype data found. Inferring wildtype data.\n",
      "No wildtype data found. Inferring wildtype data.\n",
      "No wildtype data found. Inferring wildtype data.\n",
      "No wildtype data found. Inferring wildtype data.\n",
      "No wildtype data found. Inferring wildtype data.\n",
      "No wildtype data found. Inferring wildtype data.\n",
      "No wildtype data found. Inferring wildtype data.\n",
      "No wildtype data found. Inferring wildtype data.\n",
      "No wildtype data found. Inferring wildtype data.\n",
      "No wildtype data found. Inferring wildtype data.\n",
      "No wildtype data found. Inferring wildtype data.\n",
      "It seems the fitness data is not log transformed.\n",
      "No wildtype data found. Inferring wildtype data.\n",
      "No wildtype data found. Inferring wildtype data.\n",
      "It seems the fitness data is not log transformed.\n",
      "No wildtype data found. Inferring wildtype data.\n"
     ]
    }
   ],
   "source": [
    "from protein_engineering.protein_gym import ProteinGymDataset, PROTEIN_GYM_DATASETS, PROTEIN_GYM_PATH\n",
    "\n",
    "datasets = []\n",
    "for path in PROTEIN_GYM_DATASETS:\n",
    "    datasets.append(ProteinGymDataset(path))\n"
   ]
  },
  {
   "cell_type": "code",
   "execution_count": 2,
   "metadata": {},
   "outputs": [
    {
     "data": {
      "text/plain": [
       "'MTEQKALVKRITNETKIQIAISLKGGPLAIEHSIFPEKEAEAVAEQATQSQVINVHTGIGFLDHMIHALAKHSGWSLIVECIGDLHIDDHHTTEDCGIALGQAFKEALGAVRGVKRFGSGFAPLDEALSRAVVDLSNRPYAVVELGLQREKVGDLSCEMIPHFLESFAEASRITLHVDCLRGKNDHHRSESAFKALAVAIREATSPNGTNDVPSTKGVLM'"
      ]
     },
     "execution_count": 2,
     "metadata": {},
     "output_type": "execute_result"
    }
   ],
   "source": [
    "datasets[0].data.iloc[0]['sequence']"
   ]
  },
  {
   "cell_type": "code",
   "execution_count": 3,
   "metadata": {},
   "outputs": [
    {
     "name": "stdout",
     "output_type": "stream",
     "text": [
      "{'query_id': 'd181ea33-dc6f-4714-b618-0d34f3833acd', 'result_type': 'entry', 'total_count': 2, 'result_set': [{'identifier': '6EZM', 'score': 1.0}, {'identifier': 'AF_AFP06633F1', 'score': 1.0}]}\n"
     ]
    },
    {
     "name": "stderr",
     "output_type": "stream",
     "text": [
      "  % Total    % Received % Xferd  Average Speed   Time    Time     Time  Current\n",
      "                                 Dload  Upload   Total   Spent    Left  Speed\n",
      "100 3134k    0 3134k    0     0  1239k      0 --:--:--  0:00:02 --:--:-- 1241k\n",
      "  % Total    % Received % Xferd  Average Speed   Time    Time     Time  Current\n",
      "                                 Dload  Upload   Total   Spent    Left  Speed\n",
      "100  137k  100  137k    0     0  1743k      0 --:--:-- --:--:-- --:--:-- 1812k\n"
     ]
    }
   ],
   "source": [
    "datasets[0].downloaded = False\n",
    "lists, alpha_fold = datasets[0].download_structure()"
   ]
  },
  {
   "cell_type": "code",
   "execution_count": 11,
   "metadata": {},
   "outputs": [
    {
     "name": "stdout",
     "output_type": "stream",
     "text": [
      "Downloading sequence MTEQKALVKRITNETKIQIAISLKGGPLAIEHSIFPEKEAEAVAEQATQSQVINVHTGIGFLDHMIHALAKHSGWSLIVECIGDLHIDDHHTTEDCGIALGQAFKEALGAVRGVKRFGSGFAPLDEALSRAVVDLSNRPYAVVELGLQREKVGDLSCEMIPHFLESFAEASRITLHVDCLRGKNDHHRSESAFKALAVAIREATSPNGTNDVPSTKGVLM...\n",
      "{'query_id': '0649665f-d334-4c7c-b1c2-234e6e207255', 'result_type': 'entry', 'total_count': 2, 'result_set': [{'identifier': '6EZM', 'score': 1.0}, {'identifier': 'AF_AFP06633F1', 'score': 1.0}]}\n"
     ]
    },
    {
     "name": "stderr",
     "output_type": "stream",
     "text": [
      "  % Total    % Received % Xferd  Average Speed   Time    Time     Time  Current\n",
      "                                 Dload  Upload   Total   Spent    Left  Speed\n",
      "100 3134k    0 3134k    0     0   656k      0 --:--:--  0:00:04 --:--:--  755k\n",
      "  % Total    % Received % Xferd  Average Speed   Time    Time     Time  Current\n",
      "                                 Dload  Upload   Total   Spent    Left  Speed\n",
      "100  137k  100  137k    0     0   831k      0 --:--:-- --:--:-- --:--:--  844k\n"
     ]
    },
    {
     "name": "stdout",
     "output_type": "stream",
     "text": [
      "Downloading sequence MRHGDISSSNDTVGVAVVNYKMPRLHTAAEVLDNARKIAEMIVGMKQGLPGMDLVVFPEYSLQGIMYDPAEMMETAVAIPGEETEIFSRACRKANVWGVFSLTGERHEEHPRKAPYNTLVLIDNNGEIVQKYRKIIPWCPIEGWYPGGQTYVSEGPKGMKISLIICDDGNYPEIWRDCAMKGAELIVRCQGYMYPAKDQQVMMAKAMAWANNCYVAVANAAGFDGVYSYFGHSAIIGFDGRTLGECGEEEMGIQYAQLSLSQIRDARANDQSQNHLFKILHRGYSGLQASGDGDRGLAECPFEFYRTWVTDAEKARENVERLTRSTTGVAQCPVGRLPYEGLEKEA...\n",
      "{'query_id': '792258fe-fca0-4b7b-b66e-c50b1cb98605', 'result_type': 'entry', 'total_count': 6, 'result_set': [{'identifier': 'AF_AFP11436F1', 'score': 1.0}, {'identifier': 'AF_AFB7V2X1F1', 'score': 0.98}, {'identifier': 'AF_AFQ02QK0F1', 'score': 0.98}, {'identifier': 'AF_AFA6V262F1', 'score': 0.94}, {'identifier': '2UXY', 'score': 0.82}, {'identifier': 'AF_AFA5W2C0F1', 'score': 0.0}]}\n"
     ]
    },
    {
     "name": "stderr",
     "output_type": "stream",
     "text": [
      "  % Total    % Received % Xferd  Average Speed   Time    Time     Time  Current\n",
      "                                 Dload  Upload   Total   Spent    Left  Speed\n",
      "100  219k  100  219k    0     0   917k      0 --:--:-- --:--:-- --:--:--  937k\n"
     ]
    },
    {
     "name": "stdout",
     "output_type": "stream",
     "text": [
      "Downloading sequence MFVFLVLLPLVSSQCVNLTTRTQLPPAYTNSFTRGVYYPDKVFRSSVLHSTQDLFLPFFSNVTWFHAIHVSGTNGTKRFDNPVLPFNDGVYFASTEKSNIIRGWIFGTTLDSKTQSLLIVNNATNVVIKVCEFQFCNDPFLGVYYHKNNKSWMESEFRVYSSANNCTFEYVSQPFLMDLEGKQGNFKNLREFVFKNIDGYFKIYSKHTPINLVRDLPQGFSALEPLVDLPIGINITRFQTLLALHRSYLTPGDSSSGWTAGAAAYYVGYLQPRTFLLKYNENGTITDAVDCALDPLSETKCTLKSFTVEKGIYQTSNFRVQPTESIVRFPNITNLCPFGEVFNATRFASVYAWNRKRISNCVADYSVLYNSASFSTFKCYGVSPTKLNDLCFTNVYADSFVIRGDEVRQIAPGQTGKIADYNYKLPDDFTGCVIAWNSNNLDSKVGGNYNYLYRLFRKSNLKPFERDISTEIYQAGSTPCNGVEGFNCYFPLQSYGFQPTNGVGYQPYRVVVLSFELLHAPATVCGPKKSTNLVKNKCVNFNFNGLTGTGVLTESNKKFLPFQQFGRDIADTTDAVRDPQTLEILDITPCSFGGVSVITPGTNTSNQVAVLYQDVNCTEVPVAIHADQLTPTWRVYSTGSNVFQTRAGCLIGAEHVNNSYECDIPIGAGICASYQTQTNSPRRARSVASQSIIAYTMSLGAENSVAYSNNSIAIPTNFTISVTTEILPVSMTKTSVDCTMYICGDSTECSNLLLQYGSFCTQLNRALTGIAVEQDKNTQEVFAQVKQIYKTPPIKDFGGFNFSQILPDPSKPSKRSFIEDLLFNKVTLADAGFIKQYGDCLGDIAARDLICAQKFNGLTVLPPLLTDEMIAQYTSALLAGTITSGWTFGAGAALQIPFAMQMAYRFNGIGVTQNVLYENQKLIANQFNSAIGKIQDSLSSTASALGKLQDVVNQNAQALNTLVKQLSSNFGAISSVLNDILSRLDKVEAEVQIDRLITGRLQSLQTYVTQQLIRAAEIRASANLAATKMSECVLGQSKRVDFCGKGYHLMSFPQSAPHGVVFLHVTYVPAQEKNFTTAPAICHDGKAHFPREGVFVSNGTHWFVTQRNFYEPQIITTDNTFVSGNCDVVIGIVNNTVYDPLQPELDSFKEELDKYFKNHTSPDVDLGDISGINASVVNIQKEIDRLNEVAKNLNESLIDLQELGKYEQYIKWPWYIWLGFIAGLIAIVMVTIMLCCMTSCCSCLKGCCSCGSCCKFDEDDSEPVLKGVKLHYT...\n",
      "{'query_id': '816c023c-fa70-4c61-afb0-bfcc01250f56', 'result_type': 'entry', 'total_count': 1368, 'result_set': [{'identifier': '6XR8', 'score': 1.0}, {'identifier': '6XRA', 'score': 1.0}, {'identifier': '7CWL', 'score': 1.0}, {'identifier': '7CWM', 'score': 1.0}, {'identifier': '7CWN', 'score': 1.0}, {'identifier': '7CWO', 'score': 1.0}, {'identifier': '7CWU', 'score': 1.0}, {'identifier': '7F3Q', 'score': 1.0}, {'identifier': '7FG2', 'score': 1.0}, {'identifier': '7FG3', 'score': 1.0}]}\n",
      "WARNING: no Alpha fold structure found.\n",
      "WARNING: multiple experimental structures found.\n"
     ]
    },
    {
     "name": "stderr",
     "output_type": "stream",
     "text": [
      "  % Total    % Received % Xferd  Average Speed   Time    Time     Time  Current\n",
      "                                 Dload  Upload   Total   Spent    Left  Speed\n",
      "100   260  100   260    0     0    637      0 --:--:-- --:--:-- --:--:--   646\n",
      "/Users/antoniaboca/miniconda3/envs/diss/lib/python3.8/site-packages/biopandas/pdb/pandas_pdb.py:461: UserWarning: No ATOM/HETATM entries have been loaded. Is the input file/text in the pdb format?\n",
      "  warnings.warn(\n",
      "  % Total    % Received % Xferd  Average Speed   Time    Time     Time  Current\n",
      "                                 Dload  Upload   Total   Spent    Left  Speed\n",
      "100  733k    0  733k    0     0   669k      0 --:--:--  0:00:01 --:--:--  671k\n",
      "  % Total    % Received % Xferd  Average Speed   Time    Time     Time  Current\n",
      "                                 Dload  Upload   Total   Spent    Left  Speed\n",
      "100 2485k    0 2485k    0     0   798k      0 --:--:--  0:00:03 --:--:--  799k\n",
      "  % Total    % Received % Xferd  Average Speed   Time    Time     Time  Current\n",
      "                                 Dload  Upload   Total   Spent    Left  Speed\n",
      "100 2497k    0 2497k    0     0   764k      0 --:--:--  0:00:03 --:--:--  765k\n",
      "  % Total    % Received % Xferd  Average Speed   Time    Time     Time  Current\n",
      "                                 Dload  Upload   Total   Spent    Left  Speed\n",
      "100 2943k    0 2943k    0     0   822k      0 --:--:--  0:00:03 --:--:--  823k\n",
      "  % Total    % Received % Xferd  Average Speed   Time    Time     Time  Current\n",
      "                                 Dload  Upload   Total   Spent    Left  Speed\n",
      "100  272k    0  272k    0     0   321k      0 --:--:-- --:--:-- --:--:--  322k\n",
      "  % Total    % Received % Xferd  Average Speed   Time    Time     Time  Current\n",
      "                                 Dload  Upload   Total   Spent    Left  Speed\n",
      "100 2931k    0 2931k    0     0   781k      0 --:--:--  0:00:03 --:--:--  781k\n",
      "  % Total    % Received % Xferd  Average Speed   Time    Time     Time  Current\n",
      "                                 Dload  Upload   Total   Spent    Left  Speed\n",
      "100  658k    0  658k    0     0   541k      0 --:--:--  0:00:01 --:--:--  542k\n",
      "  % Total    % Received % Xferd  Average Speed   Time    Time     Time  Current\n",
      "                                 Dload  Upload   Total   Spent    Left  Speed\n",
      "100  756k    0  756k    0     0   570k      0 --:--:--  0:00:01 --:--:--  571k\n",
      "  % Total    % Received % Xferd  Average Speed   Time    Time     Time  Current\n",
      "                                 Dload  Upload   Total   Spent    Left  Speed\n",
      "100  733k    0  733k    0     0   544k      0 --:--:--  0:00:01 --:--:--  544k\n"
     ]
    },
    {
     "name": "stdout",
     "output_type": "stream",
     "text": [
      "Downloading sequence MPRYLKGWLKDVVQLSLRRPSFRASRQRPIISLNERILEFNKRNITAIIAEYKRKSPSGLDVERDPIEYSKFMERYAVGLSILTEEKYFNGSYETLRKIASSVSIPILMKDFIVKESQIDDAYNLGADTVLLIVKILTERELESLLEYARSYGMEPLIEINDENDLDIALRIGARFIGINSRDLETLEINKENQRKLISMIPSNVVKVAESGISERNEIEELRKLGVNAFLIGSSLMRNPEKIKEFIL...\n",
      "{'query_id': '4e8731be-1a5b-4e89-b304-3d34b7b4644e', 'result_type': 'entry', 'total_count': 32, 'result_set': [{'identifier': '1IGS', 'score': 1.0}, {'identifier': '1JUK', 'score': 1.0}, {'identifier': '1JUL', 'score': 1.0}, {'identifier': 'AF_AFQ06121F1', 'score': 1.0}, {'identifier': '1A53', 'score': 0.9636363636363636}, {'identifier': '1LBF', 'score': 0.9636363636363636}, {'identifier': '1LBL', 'score': 0.9636363636363636}, {'identifier': '5K7J', 'score': 0.6727272727272727}, {'identifier': '4IWW', 'score': 0.5636363636363636}, {'identifier': '4IX0', 'score': 0.5636363636363636}]}\n",
      "WARNING: multiple experimental structures found.\n"
     ]
    },
    {
     "name": "stderr",
     "output_type": "stream",
     "text": [
      "  % Total    % Received % Xferd  Average Speed   Time    Time     Time  Current\n",
      "                                 Dload  Upload   Total   Spent    Left  Speed\n",
      "100  184k    0  184k    0     0   239k      0 --:--:-- --:--:-- --:--:--  240k\n",
      "  % Total    % Received % Xferd  Average Speed   Time    Time     Time  Current\n",
      "                                 Dload  Upload   Total   Spent    Left  Speed\n",
      "100  175k    0  175k    0     0   261k      0 --:--:-- --:--:-- --:--:--  263k\n",
      "  % Total    % Received % Xferd  Average Speed   Time    Time     Time  Current\n",
      "                                 Dload  Upload   Total   Spent    Left  Speed\n",
      "100  186k    0  186k    0     0   288k      0 --:--:-- --:--:-- --:--:--  289k\n",
      "  % Total    % Received % Xferd  Average Speed   Time    Time     Time  Current\n",
      "                                 Dload  Upload   Total   Spent    Left  Speed\n",
      "100  164k    0  164k    0     0   589k      0 --:--:-- --:--:-- --:--:--  596k\n"
     ]
    },
    {
     "name": "stdout",
     "output_type": "stream",
     "text": [
      "Downloading sequence MSIQHFRVALIPFFAAFCLPVFAHPETLVKVKDAEDQLGARVGYIELDLNSGKILESFRPEERFPMMSTFKVLLCGAVLSRVDAGQEQLGRRIHYSQNDLVEYSPVTEKHLTDGMTVRELCSAAITMSDNTAANLLLTTIGGPKELTAFLHNMGDHVTRLDRWEPELNEAIPNDERDTTMPAAMATTLRKLLTGELLTLASRQQLIDWMEADKVAGPLLRSALPAGWFIADKSGAGERGSRGIIAALGPDGKPSRIVVIYTTGSQATMDERNRQIAEIGASLIKHW...\n",
      "{'query_id': 'bed11ffe-4914-4a9b-821e-6edfb3779310', 'result_type': 'entry', 'total_count': 98, 'result_set': [{'identifier': 'AF_AFA0A0H3H688F1', 'score': 1.0}, {'identifier': 'AF_AFP62593F1', 'score': 1.0}, {'identifier': 'AF_AFP62594F1', 'score': 1.0}, {'identifier': '1ZG4', 'score': 0.9881656804733728}, {'identifier': 'AF_AFQ48406F1', 'score': 0.9822485207100592}, {'identifier': '1ZG6', 'score': 0.9763313609467456}, {'identifier': '4ZJ1', 'score': 0.9763313609467456}, {'identifier': '4ZJ2', 'score': 0.9644970414201184}, {'identifier': '3P98', 'score': 0.9526627218934911}, {'identifier': '4ZJ3', 'score': 0.9526627218934911}]}\n",
      "WARNING: multiple predicted structures found.\n"
     ]
    },
    {
     "name": "stderr",
     "output_type": "stream",
     "text": [
      "  % Total    % Received % Xferd  Average Speed   Time    Time     Time  Current\n",
      "                                 Dload  Upload   Total   Spent    Left  Speed\n",
      "100   127  100   127    0     0   1629      0 --:--:-- --:--:-- --:--:--  1739\n",
      "/Users/antoniaboca/miniconda3/envs/diss/lib/python3.8/site-packages/biopandas/pdb/pandas_pdb.py:461: UserWarning: No ATOM/HETATM entries have been loaded. Is the input file/text in the pdb format?\n",
      "  warnings.warn(\n",
      "  % Total    % Received % Xferd  Average Speed   Time    Time     Time  Current\n",
      "                                 Dload  Upload   Total   Spent    Left  Speed\n",
      "100  180k    0  180k    0     0   690k      0 --:--:-- --:--:-- --:--:--  696k\n",
      "  % Total    % Received % Xferd  Average Speed   Time    Time     Time  Current\n",
      "                                 Dload  Upload   Total   Spent    Left  Speed\n",
      "100  180k    0  180k    0     0   688k      0 --:--:-- --:--:-- --:--:--  696k\n"
     ]
    },
    {
     "name": "stdout",
     "output_type": "stream",
     "text": [
      "Downloading sequence MFVFLVLLPLVSSQCVNLTTRTQLPPAYTNSFTRGVYYPDKVFRSSVLHSTQDLFLPFFSNVTWFHAIHVSGTNGTKRFDNPVLPFNDGVYFASTEKSNIIRGWIFGTTLDSKTQSLLIVNNATNVVIKVCEFQFCNDPFLGVYYHKNNKSWMESEFRVYSSANNCTFEYVSQPFLMDLEGKQGNFKNLREFVFKNIDGYFKIYSKHTPINLVRDLPQGFSALEPLVDLPIGINITRFQTLLALHRSYLTPGDSSSGWTAGAAAYYVGYLQPRTFLLKYNENGTITDAVDCALDPLSETKCTLKSFTVEKGIYQTSNFRVQPTESIVRFPNITNLCPFGEVFNATRFASVYAWNRKRISNCVADYSVLYNSASFSTFKCYGVSPTKLNDLCFTNVYADSFVIRGDEVRQIAPGQTGKIADYNYKLPDDFTGCVIAWNSNNLDSKVGGNYNYLYRLFRKSNLKPFERDISTEIYQAGSTPCNGVEGFNCYFPLQSYGFQPTNGVGYQPYRVVVLSFELLHAPATVCGPKKSTNLVKNKCVNFNFNGLTGTGVLTESNKKFLPFQQFGRDIADTTDAVRDPQTLEILDITPCSFGGVSVITPGTNTSNQVAVLYQDVNCTEVPVAIHADQLTPTWRVYSTGSNVFQTRAGCLIGAEHVNNSYECDIPIGAGICASYQTQTNSPRRARSVASQSIIAYTMSLGAENSVAYSNNSIAIPTNFTISVTTEILPVSMTKTSVDCTMYICGDSTECSNLLLQYGSFCTQLNRALTGIAVEQDKNTQEVFAQVKQIYKTPPIKDFGGFNFSQILPDPSKPSKRSFIEDLLFNKVTLADAGFIKQYGDCLGDIAARDLICAQKFNGLTVLPPLLTDEMIAQYTSALLAGTITSGWTFGAGAALQIPFAMQMAYRFNGIGVTQNVLYENQKLIANQFNSAIGKIQDSLSSTASALGKLQDVVNQNAQALNTLVKQLSSNFGAISSVLNDILSRLDKVEAEVQIDRLITGRLQSLQTYVTQQLIRAAEIRASANLAATKMSECVLGQSKRVDFCGKGYHLMSFPQSAPHGVVFLHVTYVPAQEKNFTTAPAICHDGKAHFPREGVFVSNGTHWFVTQRNFYEPQIITTDNTFVSGNCDVVIGIVNNTVYDPLQPELDSFKEELDKYFKNHTSPDVDLGDISGINASVVNIQKEIDRLNEVAKNLNESLIDLQELGKYEQYIKWPWYIWLGFIAGLIAIVMVTIMLCCMTSCCSCLKGCCSCGSCCKFDEDDSEPVLKGVKLHYT...\n",
      "{'query_id': '7a3cf0d7-a32d-4e99-86d6-e74e4fb5201a', 'result_type': 'entry', 'total_count': 1368, 'result_set': [{'identifier': '6XR8', 'score': 1.0}, {'identifier': '6XRA', 'score': 1.0}, {'identifier': '7CWL', 'score': 1.0}, {'identifier': '7CWM', 'score': 1.0}, {'identifier': '7CWN', 'score': 1.0}, {'identifier': '7CWO', 'score': 1.0}, {'identifier': '7CWU', 'score': 1.0}, {'identifier': '7F3Q', 'score': 1.0}, {'identifier': '7FG2', 'score': 1.0}, {'identifier': '7FG3', 'score': 1.0}]}\n",
      "WARNING: no Alpha fold structure found.\n",
      "WARNING: multiple experimental structures found.\n"
     ]
    },
    {
     "name": "stderr",
     "output_type": "stream",
     "text": [
      "  % Total    % Received % Xferd  Average Speed   Time    Time     Time  Current\n",
      "                                 Dload  Upload   Total   Spent    Left  Speed\n",
      "100   260  100   260    0     0    877      0 --:--:-- --:--:-- --:--:--   890\n",
      "/Users/antoniaboca/miniconda3/envs/diss/lib/python3.8/site-packages/biopandas/pdb/pandas_pdb.py:461: UserWarning: No ATOM/HETATM entries have been loaded. Is the input file/text in the pdb format?\n",
      "  warnings.warn(\n",
      "  % Total    % Received % Xferd  Average Speed   Time    Time     Time  Current\n",
      "                                 Dload  Upload   Total   Spent    Left  Speed\n",
      "100  733k    0  733k    0     0   602k      0 --:--:--  0:00:01 --:--:--  603k\n",
      "  % Total    % Received % Xferd  Average Speed   Time    Time     Time  Current\n",
      "                                 Dload  Upload   Total   Spent    Left  Speed\n",
      "100 2485k    0 2485k    0     0   962k      0 --:--:--  0:00:02 --:--:--  963k\n",
      "  % Total    % Received % Xferd  Average Speed   Time    Time     Time  Current\n",
      "                                 Dload  Upload   Total   Spent    Left  Speed\n",
      "100 2497k    0 2497k    0     0   856k      0 --:--:--  0:00:02 --:--:--  857k\n",
      "  % Total    % Received % Xferd  Average Speed   Time    Time     Time  Current\n",
      "                                 Dload  Upload   Total   Spent    Left  Speed\n",
      "100 2943k    0 2943k    0     0  1047k      0 --:--:--  0:00:02 --:--:-- 1048k\n",
      "  % Total    % Received % Xferd  Average Speed   Time    Time     Time  Current\n",
      "                                 Dload  Upload   Total   Spent    Left  Speed\n",
      "100  272k    0  272k    0     0   318k      0 --:--:-- --:--:-- --:--:--  319k\n",
      "  % Total    % Received % Xferd  Average Speed   Time    Time     Time  Current\n",
      "                                 Dload  Upload   Total   Spent    Left  Speed\n",
      "100 2931k    0 2931k    0     0   814k      0 --:--:--  0:00:03 --:--:--  815k\n",
      "  % Total    % Received % Xferd  Average Speed   Time    Time     Time  Current\n",
      "                                 Dload  Upload   Total   Spent    Left  Speed\n",
      "100  658k    0  658k    0     0   496k      0 --:--:--  0:00:01 --:--:--  496k\n",
      "  % Total    % Received % Xferd  Average Speed   Time    Time     Time  Current\n",
      "                                 Dload  Upload   Total   Spent    Left  Speed\n",
      "100  756k    0  756k    0     0   743k      0 --:--:--  0:00:01 --:--:--  746k\n",
      "  % Total    % Received % Xferd  Average Speed   Time    Time     Time  Current\n",
      "                                 Dload  Upload   Total   Spent    Left  Speed\n",
      "100  733k    0  733k    0     0   510k      0 --:--:--  0:00:01 --:--:--  511k\n"
     ]
    },
    {
     "name": "stdout",
     "output_type": "stream",
     "text": [
      "Downloading sequence MADITDKTAEQLENLNIQDDQKQAATGSESQSVENSSASLYVGDLEPSVSEAHLYDIFSPIGSVSSIRVCRDAITKTSLGYAYVNFNDHEAGRKAIEQLNYTPIKGRLCRIMWSQRDPSLRKKGSGNIFIKNLHPDIDNKALYDTFSVFGDILSSKIATDENGKSKGFGFVHFEEEGAAKEAIDALNGMLLNGQEIYVAPHLSRKERDSQLEETKAHYTNLYVKNINSETTDEQFQELFAKFGPIVSASLEKDADGKLKGFGFVNYEKHEDAVKAVEALNDSELNGEKLYVGRAQKKNERMHVLKKQYEAYRLEKMAKYQGVNLFVKNLDDSVDDEKLEEEFAPYGTITSAKVMRTENGKSKGFGFVCFSTPEEATKAITEKNQQIVAGKPLYVAIAQRKDVRRSQLAQQIQARNQMRYQQATAAAAAAAAGMPGQFMPPMFYGVMPPRGVPFNGPNPQQMNPMGGMPKNGMPPQFRNGPVYGVPPQGGFPRNANDNNQFYQQKQRQALGEQLYKKVSAKTSNEEAAGKITGMILDLPPQEVFPLLESDELFEQHYKEASAAYESFKKEQEQQTEQA...\n",
      "{'query_id': 'be8a6009-618e-45cb-ad87-5599528e2cfa', 'result_type': 'entry', 'total_count': 3, 'result_set': [{'identifier': '6R5K', 'score': 1.0}, {'identifier': 'AF_AFP04147F1', 'score': 1.0}, {'identifier': '1IFW', 'score': 0.0}]}\n"
     ]
    },
    {
     "name": "stderr",
     "output_type": "stream",
     "text": [
      "  % Total    % Received % Xferd  Average Speed   Time    Time     Time  Current\n",
      "                                 Dload  Upload   Total   Spent    Left  Speed\n",
      "100 2289k    0 2289k    0     0   801k      0 --:--:--  0:00:02 --:--:--  802k\n",
      "  % Total    % Received % Xferd  Average Speed   Time    Time     Time  Current\n",
      "                                 Dload  Upload   Total   Spent    Left  Speed\n",
      "100  365k    0  365k    0     0   822k      0 --:--:-- --:--:-- --:--:--  827k\n"
     ]
    },
    {
     "name": "stdout",
     "output_type": "stream",
     "text": [
      "Downloading sequence MRVMGIQRNCQHLFRWGTMILGMIIICSAAENLWVTVYYGVPVWKDAETTLFCASDAKAYETEKHNVWATHACVPTDPNPQEIHLENVTEEFNMWKNNMVEQMHTDIISLWDQSLKPCVKLTPLCVTLQCTNVTNNITDDMRGELKNCSFNMTTELRDKKQKVYSLFYRLDVVQINENQGNRSNNSNKEYRLINCNTSAITQACPKVSFEPIPIHYCAPAGFAILKCKDKKFNGTGPCPSVSTVQCTHGIKPVVSTQLLLNGSLAEEEVMIRSENITNNAKNILVQFNTPVQINCTRPNNNTRKSIRIGPGQAFYATGDIIGDIRQAHCNVSKATWNETLGKVVKQLRKHFGNNTIIRFANSSGGDLEVTTHSFNCGGEFFYCNTSGLFNSTWISNTSVQGSNSTGSNDSITLPCRIKQIINMWQRIGQAMYAPPIQGVIRCVSNITGLILTRDGGSTNSTTETFRPGGGDMRDNWRSELYKYKVVKIEPLGVAPTRAKRRVVGREKRAVGIGAVFLGFLGAAGSTMGAASMTLTVQARNLLSGIVQQQSNLLRAIEAQQHLLKLTVWGIKQLQARVLAVERYLRDQQLLGIWGCSGKLICTTNVPWNSSWSNRNLSEIWDNMTWLQWDKEISNYTQIIYGLLEESQNQQEKNEQDLLALDKWASLWNWFDISNWLWYIKIFIMIVGGLIGLRIVFAVLSVIHRVRQGYSPLSFQTHTPNPRGLDRPERIEEEDGEQDRGRSTRLVSGFLALAWDDLRSLCLFCYHRLRDFILIAARIVELLGHSSLKGLRLGWEGLKYLWNLLAYWGRELKISAINLFDTIAIAVAEWTDRVIEIGQRLCRAFLHIPRRIRQGLERALL...\n",
      "{'query_id': 'b84bb904-a166-46d5-826f-fbb2fac631cc', 'result_type': 'entry', 'total_count': 226, 'result_set': [{'identifier': '7T0O', 'score': 1.0}, {'identifier': '6B0N', 'score': 0.9975806451612903}, {'identifier': '6P6F', 'score': 0.9959677419354839}, {'identifier': '6P62', 'score': 0.9911290322580645}, {'identifier': '7L8E', 'score': 0.9733870967741935}, {'identifier': '7L8F', 'score': 0.9733870967741935}, {'identifier': '7L8G', 'score': 0.9733870967741935}, {'identifier': '7MEP', 'score': 0.9693548387096774}, {'identifier': '6VFK', 'score': 0.9620967741935483}, {'identifier': '8EQN', 'score': 0.9580645161290322}]}\n",
      "WARNING: no Alpha fold structure found.\n"
     ]
    },
    {
     "name": "stderr",
     "output_type": "stream",
     "text": [
      "  % Total    % Received % Xferd  Average Speed   Time    Time     Time  Current\n",
      "                                 Dload  Upload   Total   Spent    Left  Speed\n",
      "100 1632k    0 1632k    0     0   694k      0 --:--:--  0:00:02 --:--:--  695k\n"
     ]
    },
    {
     "name": "stdout",
     "output_type": "stream",
     "text": [
      "Downloading sequence MANFLLPRGTSSFRRFTRESLAAIEKRMAEKQARGSTTLQESREGLPEEEAPRPQLDLQASKKLPDLYGNPPQELIGEPLEDLDPFYSTQKTFIVLNKGKTIFRFSATNALYVLSPFHPIRRAAVKILVHSLFNMLIMCTILTNCVFMAQHDPPPWTKYVEYTFTAIYTFESLVKILARGFCLHAFTFLRDPWNWLDFSVIIMAYTTEFVDLGNVSALRTFRVLRALKTISVISGLKTIVGALIQSVKKLADVMVLTVFCLSVFALIGLQLFMGNLRHKCVRNFTALNGTNGSVEADGLVWESLDLYLSDPENYLLKNGTSDVLLCGNSSDAGTCPEGYRCLKAGENPDHGYTSFDSFAWAFLALFRLMTQDCWERLYQQTLRSAGKIYMIFFMLVIFLGSFYLVNLILAVVAMAYEEQNQATIAETEEKEKRFQEAMEMLKKEHEALTIRGVDTVSRSSLEMSPLAPVNSHERRSKRRKRMSSGTEECGEDRLPKSDSEDGPRAMNHLSLTRGLSRTSMKPRSSRGSIFTFRRRDLGSEADFADDENSTAGESESHHTSLLVPWPLRRTSAQGQPSPGTSAPGHALHGKKNSTVDCNGVVSLLGAGDPEATSPGSHLLRPVMLEHPPDTTTPSEEPGGPQMLTSQAPCVDGFEEPGARQRALSAVSVLTSALEELEESRHKCPPCWNRLAQRYLIWECCPLWMSIKQGVKLVVMDPFTDLTITMCIVLNTLFMALEHYNMTSEFEEMLQVGNLVFTGIFTAEMTFKIIALDPYYYFQQGWNIFDSIIVILSLMELGLSRMSNLSVLRSFRLLRVFKLAKSWPTLNTLIKIIGNSVGALGNLTLVLAIIVFIFAVVGMQLFGKNYSELRDSDSGLLPRWHMMDFFHAFLIIFRILCGEWIETMWDCMEVSGQSLCLLVFLLVMVIGNLVVLNLFLALLLSSFSADNLTAPDEDREMNNLQLALARIQRGLRFVKRTTWDFCCGLLRQRPQKPAALAAQGQLPSCIATPYSPPPPETEKVPPTRKETRFEEGEQPGQGTPGDPEPVCVPIAVAESDTDDQEEDEENSLGTEEESSKQQESQPVSGGPEAPPDSRTWSQVSATASSEAEASASQADWRQQWKAEPQAPGCGETPEDSCSEGSTADMTNTAELLEQIPDLGQDVKDPEDCFTEGCVRRCPCCAVDTTQAPGKVWWRLRKTCYHIVEHSWFETFIIFMILLSSGALAFEDIYLEERKTIKVLLEYADKMFTYVFVLEMLLKWVAYGFKKYFTNAWCWLDFLIVDVSLVSLVANTLGFAEMGPIKSLRTLRALRPLRALSRFEGMRVVVNALVGAIPSIMNVLLVCLIFWLIFSIMGVNLFAGKFGRCINQTEGDLPLNYTIVNNKSQCESLNLTGELYWTKVKVNFDNVGAGYLALLQVATFKGWMDIMYAAVDSRGYEEQPQWEYNLYMYIYFVIFIIFGSFFTLNLFIGVIIDNFNQQKKKLGGQDIFMTEEQKKYYNAMKKLGSKKPQKPIPRPLNKYQGFIFDIVTKQAFDVTIMFLICLNMVTMMVETDDQSPEKINILAKINLLFVAIFTGECIVKLAALRHYYFTNSWNIFDFVVVILSIVGTVLSDIIQKYFFSPTLFRVIRLARIGRILRLIRGAKGIRTLLFALMMSLPALFNIGLLLFLVMFIYSIFGMANFAYVKWEAGIDDMFNFQTFANSMLCLFQITTSAGWDGLLSPILNTGPPYCDPTLPNSNGSRGDCGSPAVGILFFTTYIIISFLIVVNMYIAIILENFSVATEESTEPLSEDDFDMFYEIWEKFDPEATQFIEYSVLSDFADALSEPLRIAKPNQISLINMDLPMVSGDRIHCMDILFAFTKRVLGESGEMDALKIQMEEKFMAANPSKISYEPITTTLRRKHEEVSAMVIQRAFRRHLLQRSLKHASFLFRQQAGSGLSEEDAPEREGLIAYVMSENFSRPLGPPSSSSISSTSFPPSYDSVTRATSDNLQVRGSDYSHSEDLADFPPSPDRDRESIV...\n",
      "{'query_id': '8dfbb8ce-d767-46dc-99db-2fb70c30b5f8', 'result_type': 'entry', 'total_count': 15, 'result_set': [{'identifier': '6LQA', 'score': 1.0}, {'identifier': 'AF_AFQ14524F1', 'score': 1.0}, {'identifier': '7DTC', 'score': 0.9994901860820801}, {'identifier': 'AF_AFQ9JJV9F1', 'score': 0.9418812133571246}, {'identifier': 'AF_AFP15389F1', 'score': 0.9347438185062452}, {'identifier': '4DCK', 'score': 0.07137394850879429}, {'identifier': '4JQ0', 'score': 0.07137394850879429}, {'identifier': '4OVN', 'score': 0.06602090237063472}, {'identifier': '6MUD', 'score': 0.056079530971195515}, {'identifier': '2KBI', 'score': 0.034667346418557225}]}\n"
     ]
    },
    {
     "name": "stderr",
     "output_type": "stream",
     "text": [
      "  % Total    % Received % Xferd  Average Speed   Time    Time     Time  Current\n",
      "                                 Dload  Upload   Total   Spent    Left  Speed\n",
      "100  763k    0  763k    0     0   519k      0 --:--:--  0:00:01 --:--:--  520k\n",
      "  % Total    % Received % Xferd  Average Speed   Time    Time     Time  Current\n",
      "                                 Dload  Upload   Total   Spent    Left  Speed\n",
      "100 1277k    0 1277k    0     0  1126k      0 --:--:--  0:00:01 --:--:-- 1128k\n"
     ]
    },
    {
     "name": "stdout",
     "output_type": "stream",
     "text": [
      "Downloading sequence MEEPQSDPSVEPPLSQETFSDLWKLLPENNVLSPLPSQAMDDLMLSPDDIEQWFTEDPGPDEAPRMPEAAPRVAPAPAAPTPAAPAPAPSWPLSSSVPSQKTYQGSYGFRLGFLHSGTAKSVTCTYSPALNKMFCQLAKTCPVQLWVDSTPPPGTRVRAMAIYKQSQHMTEVVRRCPHHERCSDSDGLAPPQHLIRVEGNLRVEYLDDRNTFRHSVVVPYEPPEVGSDCTTIHYNYMCNSSCMGGMNRRPILTIITLEDSSGNLLGRNSFEVRVCACPGRDRRTEEENLRKKGEPHHELPPGSTKRALPNNTSSSPQPKKKPLDGEYFTLQIRGRERFEMFRELNEALELKDAQAGKEPGGSRAHSSHLKSKKGQSTSRHKKLMFKTEGPDSD...\n",
      "{'query_id': '3a262ae3-ec3d-4f17-a510-232772de91b8', 'result_type': 'entry', 'total_count': 187, 'result_set': [{'identifier': '6XRE', 'score': 1.0}, {'identifier': '7XZZ', 'score': 1.0}, {'identifier': '8F2H', 'score': 1.0}, {'identifier': '8F2I', 'score': 1.0}, {'identifier': 'AF_AFK7PPA8F1', 'score': 1.0}, {'identifier': 'AF_AFP04637F1', 'score': 1.0}, {'identifier': 'AF_AFP13481F1', 'score': 0.9598930481283422}, {'identifier': 'AF_AFP56423F1', 'score': 0.9572192513368984}, {'identifier': 'AF_AFP56424F1', 'score': 0.9572192513368984}, {'identifier': 'AF_AFP61260F1', 'score': 0.9572192513368984}]}\n",
      "WARNING: multiple predicted structures found.\n",
      "WARNING: multiple experimental structures found.\n"
     ]
    },
    {
     "name": "stderr",
     "output_type": "stream",
     "text": [
      "  % Total    % Received % Xferd  Average Speed   Time    Time     Time  Current\n",
      "                                 Dload  Upload   Total   Spent    Left  Speed\n",
      "100 5480k    0 5480k    0     0   870k      0 --:--:--  0:00:06 --:--:--  935k\n",
      "  % Total    % Received % Xferd  Average Speed   Time    Time     Time  Current\n",
      "                                 Dload  Upload   Total   Spent    Left  Speed\n",
      "100 1503k    0 1503k    0     0   753k      0 --:--:--  0:00:01 --:--:--  753k\n",
      "  % Total    % Received % Xferd  Average Speed   Time    Time     Time  Current\n",
      "                                 Dload  Upload   Total   Spent    Left  Speed\n",
      "100  965k    0  965k    0     0   810k      0 --:--:--  0:00:01 --:--:--  811k\n",
      "  % Total    % Received % Xferd  Average Speed   Time    Time     Time  Current\n",
      "                                 Dload  Upload   Total   Spent    Left  Speed\n",
      "100  483k    0  483k    0     0   533k      0 --:--:-- --:--:-- --:--:--  534k\n",
      "  % Total    % Received % Xferd  Average Speed   Time    Time     Time  Current\n",
      "                                 Dload  Upload   Total   Spent    Left  Speed\n",
      "100  248k    0  248k    0     0   873k      0 --:--:-- --:--:-- --:--:--  880k\n",
      "  % Total    % Received % Xferd  Average Speed   Time    Time     Time  Current\n",
      "                                 Dload  Upload   Total   Spent    Left  Speed\n",
      "100  248k    0  248k    0     0   884k      0 --:--:-- --:--:-- --:--:--  893k\n"
     ]
    },
    {
     "name": "stdout",
     "output_type": "stream",
     "text": [
      "Downloading sequence MAADGYLPDWLEDTLSEGIRQWWKLKPGPPPPKPAERHKDDSRGLVLPGYKYLGPFNGLDKGEPVNEADAAALEHDKAYDRQLDSGDNPYLKYNHADAEFQERLKEDTSFGGNLGRAVFQAKKRVLEPLGLVEEPVKTAPGKKRPVEHSPVEPDSSSGTGKAGQQPARKRLNFGQTGDADSVPDPQPLGQPPAAPSGLGTNTMATGSGAPMADNNEGADGVGNSSGNWHCDSTWMGDRVITTSTRTWALPTYNNHLYKQISSQSGASNDNHYFGYSTPWGYFDFNRFHCHFSPRDWQRLINNNWGFRPKRLNFKLFNIQVKEVTQNDGTTTIANNLTSTVQVFTDSEYQLPYVLGSAHQGCLPPFPADVFMVPQYGYLTLNNGSQAVGRSSFYCLEYFPSQMLRTGNNFTFSYTFEDVPFHSSYAHSQSLDRLMNPLIDQYLYYLSRTNTPSGTTTQSRLQFSQAGASDIRDQSRNWLPGPCYRQQRVSKTSADNNNSEYSWTGATKYHLNGRDSLVNPGPAMASHKDDEEKFFPQSGVLIFGKQGSEKTNVDIEKVMITDEEEIRTTNPVATEQYGSVSTNLQRGNRQAATADVNTQGVLPGMVWQDRDVYLQGPIWAKIPHTDGHFHPSPLMGGFGLKHPPPQILIKNTPVPANPSTTFSAAKFASFITQYSTGQVSVEIEWELQKENSKRWNPEIQYTSNYNKSVNVDFTVDTNGVYSEPRPIGTRYLTRNL...\n",
      "{'query_id': '960bab4a-fee3-4596-9173-c7fc30f6d9ec', 'result_type': 'entry', 'total_count': 19, 'result_set': [{'identifier': '6IHB', 'score': 1.0}, {'identifier': '7RWL', 'score': 1.0}, {'identifier': '7RWT', 'score': 1.0}, {'identifier': '5IPI', 'score': 0.9981481481481481}, {'identifier': '5IPK', 'score': 0.9962962962962963}, {'identifier': '6E9D', 'score': 0.9962962962962963}, {'identifier': '6NZ0', 'score': 0.9944444444444445}, {'identifier': '6CBE', 'score': 0.975925925925926}, {'identifier': '6U3Q', 'score': 0.9555555555555556}, {'identifier': '3J1Q', 'score': 0.8111111111111111}]}\n",
      "WARNING: no Alpha fold structure found.\n",
      "WARNING: multiple experimental structures found.\n"
     ]
    },
    {
     "name": "stderr",
     "output_type": "stream",
     "text": [
      "  % Total    % Received % Xferd  Average Speed   Time    Time     Time  Current\n",
      "                                 Dload  Upload   Total   Spent    Left  Speed\n",
      "100 22.5M    0 22.5M    0     0  1136k      0 --:--:--  0:00:20 --:--:-- 1113k\n",
      "  % Total    % Received % Xferd  Average Speed   Time    Time     Time  Current\n",
      "                                 Dload  Upload   Total   Spent    Left  Speed\n",
      "100   260  100   260    0     0    733      0 --:--:-- --:--:-- --:--:--   740\n",
      "/Users/antoniaboca/miniconda3/envs/diss/lib/python3.8/site-packages/biopandas/pdb/pandas_pdb.py:461: UserWarning: No ATOM/HETATM entries have been loaded. Is the input file/text in the pdb format?\n",
      "  warnings.warn(\n",
      "  % Total    % Received % Xferd  Average Speed   Time    Time     Time  Current\n",
      "                                 Dload  Upload   Total   Spent    Left  Speed\n",
      "100   260  100   260    0     0    848      0 --:--:-- --:--:-- --:--:--   858\n",
      "/Users/antoniaboca/miniconda3/envs/diss/lib/python3.8/site-packages/biopandas/pdb/pandas_pdb.py:461: UserWarning: No ATOM/HETATM entries have been loaded. Is the input file/text in the pdb format?\n",
      "  warnings.warn(\n"
     ]
    },
    {
     "name": "stdout",
     "output_type": "stream",
     "text": [
      "Downloading sequence MLPGLALLLLAAWTARALEVPTDGNAGLLAEPQIAMFCGRLNMHMNVQNGKWDSDPSGTKTCIDTKEGILQYCQEVYPELQITNVVEANQPVTIQNWCKRGRKQCKTHPHFVIPYRCLVGEFVSDALLVPDKCKFLHQERMDVCETHLHWHTVAKETCSEKSTNLHDYGMLLPCGIDKFRGVEFVCCPLAEESDNVDSADAEEDDSDVWWGGADTDYADGSEDKVVEVAEEEEVAEVEEEEADDDEDDEDGDEVEEEAEEPYEEATERTTSIATTTTTTTESVEEVVREVCSEQAETGPCRAMISRWYFDVTEGKCAPFFYGGCGGNRNNFDTEEYCMAVCGSAMSQSLLKTTQEPLARDPVKLPTTAASTPDAVDKYLETPGDENEHAHFQKAKERLEAKHRERMSQVMREWEEAERQAKNLPKADKKAVIQHFQEKVESLEQEAANERQQLVETHMARVEAMLNDRRRLALENYITALQAVPPRPRHVFNMLKKYVRAEQKDRQHTLKHFEHVRMVDPKKAAQIRSQVMTHLRVIYERMNQSLSLLYNVPAVAEEIQDEVDELLQKEQNYSDDVLANMISEPRISYGNDALMPSLTETKTTVELLPVNGEFSLDDLQPWHSFGADSVPANTENEVEPVDARPAADRGLTTRPGSGLTNIKTEEISEVKMDAEFRHDSGYEVHHQKLVFFAEDVGSNKGAIIGLMVGGVVIATVIVITLVMLKKKQYTSIHHGVVEVDAAVTPEERHLSKMQQNGYENPTYKFFEQMQN...\n",
      "{'query_id': '4bcd4a43-df56-4f51-a0c5-86efae71c2eb', 'result_type': 'entry', 'total_count': 132, 'result_set': [{'identifier': 'AF_AFA0A140VJC8F1', 'score': 1.0}, {'identifier': 'AF_AFP05067F1', 'score': 1.0}, {'identifier': 'AF_AFQ5IS80F1', 'score': 0.9993197278911564}, {'identifier': 'AF_AFP53601F1', 'score': 0.9952380952380953}, {'identifier': 'AF_AFP79307F1', 'score': 0.9795918367346939}, {'identifier': 'AF_AFQ60495F1', 'score': 0.972108843537415}, {'identifier': 'AF_AFP08592F1', 'score': 0.9680272108843537}, {'identifier': 'AF_AFP12023F1', 'score': 0.9639455782312926}, {'identifier': 'AF_AFQ95241F1', 'score': 0.9625850340136054}, {'identifier': '5BUO', 'score': 0.4170068027210884}]}\n",
      "WARNING: multiple predicted structures found.\n"
     ]
    },
    {
     "name": "stderr",
     "output_type": "stream",
     "text": [
      "  % Total    % Received % Xferd  Average Speed   Time    Time     Time  Current\n",
      "                                 Dload  Upload   Total   Spent    Left  Speed\n",
      "100   127  100   127    0     0   1231      0 --:--:-- --:--:-- --:--:--  1295\n",
      "/Users/antoniaboca/miniconda3/envs/diss/lib/python3.8/site-packages/biopandas/pdb/pandas_pdb.py:461: UserWarning: No ATOM/HETATM entries have been loaded. Is the input file/text in the pdb format?\n",
      "  warnings.warn(\n",
      "  % Total    % Received % Xferd  Average Speed   Time    Time     Time  Current\n",
      "                                 Dload  Upload   Total   Spent    Left  Speed\n",
      "100  490k    0  490k    0     0   957k      0 --:--:-- --:--:-- --:--:--  963k\n"
     ]
    },
    {
     "name": "stdout",
     "output_type": "stream",
     "text": [
      "Downloading sequence MNPNQKIITIGSICMVVGIISLILQIGNIISIWISHSIQTGNQNHTGICNQGIITYNVVAGQDSTSVILTGNSSLCPIRGWAIHSKDNGIRIGSKGDVFVIREPFISCSHLECRTFFLTQGALLNDKHSNGTVKDRSPYRALMSCPVGEAPSPYNSRFESVAWSASACHDGMGWLTIGISGPDNGAVAVLKYNGIITETIKSWRKKILRTQESECTCVNGSCFTIMTDGPSNGLASYKIFKIEKGKVTKSIELNAPNSHYEECSCYPDTGKVMCVCRDNWHGSNRPWVSFDQNLDYQIGYICSGVFGDNPRPKDGPGSCGPVSADGANGVKGFSYRYGNGVWIGRTKSDSSRHGFEMIWDPNGWTETDSRFSVRQDVVAMTDRSGYSGSFVQHPELTGLDCMRPCFWVELIRGRPEEETIWTSGSIISFCGVNSDTVDWSWPDGAELPFTIDK...\n",
      "{'query_id': '4b5b6cfb-be70-4d9e-b528-c7f643d53e49', 'result_type': 'entry', 'total_count': 4, 'result_set': [{'identifier': '6D96', 'score': 1.0}, {'identifier': '3CYE', 'score': 0.4444444444444444}, {'identifier': '3B7E', 'score': 0.0}, {'identifier': '3BEQ', 'score': 0.0}]}\n",
      "WARNING: no Alpha fold structure found.\n"
     ]
    },
    {
     "name": "stderr",
     "output_type": "stream",
     "text": [
      "  % Total    % Received % Xferd  Average Speed   Time    Time     Time  Current\n",
      "                                 Dload  Upload   Total   Spent    Left  Speed\n",
      "100 2012k    0 2012k    0     0   730k      0 --:--:--  0:00:02 --:--:--  731k\n"
     ]
    },
    {
     "name": "stdout",
     "output_type": "stream",
     "text": [
      "Downloading sequence MNLISLFSGAGGLDLGFQKAGFRIIAANEYDKSIWKTYESNHSAKLIKGDISKISSDEFPKCDGIIGGPPCQSWSEGGSLRGIDDPRGKLFYEYIRILKQKKPKFFLAENVKGMLAQRHNKAVQEFIQEFDNAGYDVHIILLNANDYGVAQDRKRVFYIGFRKELNINYLPPIPHLIKPTLKDVIWDLKDNPIPALDKNKTNGNKCIYPNHEYFIGSYSTIFMSRNRVRQWNEPAFTVQASGRQCQLHPQAPVMLKVSKNLNKFVEGKEHLYRRLTVRECARVQGFPDDFIFHYESLNDGYKMIGNAVPVNLAYEIAKTIKSALEIRKGN...\n",
      "{'query_id': '2e9417e3-55ac-4971-b5af-6a12faaef327', 'result_type': 'entry', 'total_count': 3, 'result_set': [{'identifier': 'AF_AFP20589F1', 'score': 1.0}, {'identifier': '3UBT', 'score': 0.5555555555555556}, {'identifier': '1DCT', 'score': 0.0}]}\n"
     ]
    },
    {
     "name": "stderr",
     "output_type": "stream",
     "text": [
      "  % Total    % Received % Xferd  Average Speed   Time    Time     Time  Current\n",
      "                                 Dload  Upload   Total   Spent    Left  Speed\n",
      "100  216k    0  216k    0     0   649k      0 --:--:-- --:--:-- --:--:--  659k\n"
     ]
    },
    {
     "name": "stdout",
     "output_type": "stream",
     "text": [
      "Downloading sequence MLRSSNDVTQQGSRPKTKLGGSSMGIIRTCRLGPDQVKSMRAALDLFGREFGDVATYSQHQPDSDYLGNLLRSKTFIALAAFDQEAVVGALAAYVLPKFEQPRSEIYIYDLAVSGEHRRQGIATALINLLKHEANALGAYVIYVQADYGDDPAVALYTKLGIREEVMHFDIDPSTAT...\n",
      "{'query_id': '74138f9a-b64b-4688-ac47-2004ec92e83c', 'result_type': 'entry', 'total_count': 3, 'result_set': [{'identifier': '6BVC', 'score': 1.0}, {'identifier': 'AF_AFP23181F1', 'score': 0.9473684210526315}, {'identifier': '1BO4', 'score': 0.0}]}\n",
      "WARNING: no Alpha fold structure found.\n"
     ]
    },
    {
     "name": "stderr",
     "output_type": "stream",
     "text": [
      "  % Total    % Received % Xferd  Average Speed   Time    Time     Time  Current\n",
      "                                 Dload  Upload   Total   Spent    Left  Speed\n",
      "100  436k    0  436k    0     0   387k      0 --:--:--  0:00:01 --:--:--  389k\n"
     ]
    },
    {
     "name": "stdout",
     "output_type": "stream",
     "text": [
      "Downloading sequence MSIQHFRVALIPFFAAFCLPVFAHPETLVKVKDAEDQLGARVGYIELDLNSGKILESFRPEERFPMMSTFKVLLCGAVLSRVDAGQEQLGRRIHYSQNDLVEYSPVTEKHLTDGMTVRELCSAAITMSDNTAANLLLTTIGGPKELTAFLHNMGDHVTRLDRWEPELNEAIPNDERDTTMPAAMATTLRKLLTGELLTLASRQQLIDWMEADKVAGPLLRSALPAGWFIADKSGAGERGSRGIIAALGPDGKPSRIVVIYTTGSQATMDERNRQIAEIGASLIKHW...\n",
      "{'query_id': '5e3b4500-c153-41a5-bdf2-888a8394214c', 'result_type': 'entry', 'total_count': 98, 'result_set': [{'identifier': 'AF_AFA0A0H3H688F1', 'score': 1.0}, {'identifier': 'AF_AFP62593F1', 'score': 1.0}, {'identifier': 'AF_AFP62594F1', 'score': 1.0}, {'identifier': '1ZG4', 'score': 0.9881656804733728}, {'identifier': 'AF_AFQ48406F1', 'score': 0.9822485207100592}, {'identifier': '1ZG6', 'score': 0.9763313609467456}, {'identifier': '4ZJ1', 'score': 0.9763313609467456}, {'identifier': '4ZJ2', 'score': 0.9644970414201184}, {'identifier': '3P98', 'score': 0.9526627218934911}, {'identifier': '4ZJ3', 'score': 0.9526627218934911}]}\n",
      "WARNING: multiple predicted structures found.\n"
     ]
    },
    {
     "name": "stderr",
     "output_type": "stream",
     "text": [
      "  % Total    % Received % Xferd  Average Speed   Time    Time     Time  Current\n",
      "                                 Dload  Upload   Total   Spent    Left  Speed\n",
      "100   127  100   127    0     0   1280      0 --:--:-- --:--:-- --:--:--  1336\n",
      "/Users/antoniaboca/miniconda3/envs/diss/lib/python3.8/site-packages/biopandas/pdb/pandas_pdb.py:461: UserWarning: No ATOM/HETATM entries have been loaded. Is the input file/text in the pdb format?\n",
      "  warnings.warn(\n",
      "  % Total    % Received % Xferd  Average Speed   Time    Time     Time  Current\n",
      "                                 Dload  Upload   Total   Spent    Left  Speed\n",
      "100  180k    0  180k    0     0   627k      0 --:--:-- --:--:-- --:--:--  635k\n",
      "  % Total    % Received % Xferd  Average Speed   Time    Time     Time  Current\n",
      "                                 Dload  Upload   Total   Spent    Left  Speed\n",
      "100  180k  100  180k    0     0   629k      0 --:--:-- --:--:-- --:--:--  635k\n"
     ]
    },
    {
     "name": "stdout",
     "output_type": "stream",
     "text": [
      "Downloading sequence MAVQPKETLQLESAAEVGFVRFFQGMPEKPTTTVRLFDRGDFYTAHGEDALLAAREVFKTQGVIKYMGPAGAKNLQSVVLSKMNFESFVKDLLLVRQYRVEVYKNRAGNKASKENDWYLAYKASPGNLSQFEDILFGNNDMSASIGVVGVKMSAVDGQRQVGVGYVDSIQRKLGLCEFPDNDQFSNLEALLIQIGPKECVLPGGETAGDMGKLRQIIQRGGILITERKKADFSTKDIYQDLNRLLKGKKGEQMNSAVLPEMENQVAVSSLSAVIKFLELLSDDSNFGQFELTTFDFSQYMKLDIAAVRALNLFQGSVEDTTGSQSLAALLNKCKTPQGQRLVNQWIKQPLMDKNRIEERLNLVEAFVEDAELRQTLQEDLLRRFPDLNRLAKKFQRQAANLQDCYRLYQGINQLPNVIQALEKHEGKHQKLLLAVFVTPLTDLRSDFSKFQEMIETTLDMDQVENHEFLVKPSFDPNLSELREIMNDLEKKMQSTLISAARDLGLDPGKQIKLDSSAQFGYYFRVTCKEEKVLRNNKNFSTVDIQKNGVKFTNSKLTSLNEEYTKNKTEYEEAQDAIVKEIVNISSGYVEPMQTLNDVLAQLDAVVSFAHVSNGAPVPYVRPAILEKGQGRIILKASRHACVEVQDEIAFIPNDVYFEKDKQMFHIITGPNMGGKSTYIRQTGVIVLMAQIGCFVPCESAEVSIVDCILARVGAGDSQLKGVSTFMAEMLETASILRSATKDSLIIIDELGRGTSTYDGFGLAWAISEYIATKIGAFCMFATHFHELTALANQIPTVNNLHVTALTTEETLTMLYQVKKGVCDQSFGIHVAELANFPKHVIECAKQKALELEEFQYIGESQGYDIMEPAAKKCYLEREQGEKIIQEFLSKVKQMPFTEMSEENITIKLKQLKAEVIAKNNSFVNEIISRIKVTT...\n",
      "{'query_id': 'fb6388f6-f6a9-47af-8430-d6a400b139ec', 'result_type': 'entry', 'total_count': 17, 'result_set': [{'identifier': '2O8B', 'score': 1.0}, {'identifier': '2O8C', 'score': 1.0}, {'identifier': '2O8D', 'score': 1.0}, {'identifier': '2O8F', 'score': 1.0}, {'identifier': '3THW', 'score': 1.0}, {'identifier': '3THX', 'score': 1.0}, {'identifier': '3THY', 'score': 1.0}, {'identifier': '3THZ', 'score': 1.0}, {'identifier': '8AG6', 'score': 1.0}, {'identifier': 'AF_AFP43246F1', 'score': 1.0}]}\n",
      "WARNING: multiple experimental structures found.\n"
     ]
    },
    {
     "name": "stderr",
     "output_type": "stream",
     "text": [
      "  % Total    % Received % Xferd  Average Speed   Time    Time     Time  Current\n",
      "                                 Dload  Upload   Total   Spent    Left  Speed\n",
      "100 1188k    0 1188k    0     0  1001k      0 --:--:--  0:00:01 --:--:-- 1005k\n",
      "  % Total    % Received % Xferd  Average Speed   Time    Time     Time  Current\n",
      "                                 Dload  Upload   Total   Spent    Left  Speed\n",
      "100 1178k    0 1178k    0     0  1051k      0 --:--:--  0:00:01 --:--:-- 1054k\n",
      "  % Total    % Received % Xferd  Average Speed   Time    Time     Time  Current\n",
      "                                 Dload  Upload   Total   Spent    Left  Speed\n",
      "100 1179k    0 1179k    0     0  1164k      0 --:--:--  0:00:01 --:--:-- 1166k\n",
      "  % Total    % Received % Xferd  Average Speed   Time    Time     Time  Current\n",
      "                                 Dload  Upload   Total   Spent    Left  Speed\n",
      "100 1188k    0 1188k    0     0   892k      0 --:--:--  0:00:01 --:--:--  893k\n",
      "  % Total    % Received % Xferd  Average Speed   Time    Time     Time  Current\n",
      "                                 Dload  Upload   Total   Spent    Left  Speed\n",
      "100 2368k    0 2368k    0     0  1650k      0 --:--:--  0:00:01 --:--:-- 1654k\n",
      "  % Total    % Received % Xferd  Average Speed   Time    Time     Time  Current\n",
      "                                 Dload  Upload   Total   Spent    Left  Speed\n",
      "100 2338k    0 2338k    0     0  1219k      0 --:--:--  0:00:01 --:--:-- 1220k\n",
      "  % Total    % Received % Xferd  Average Speed   Time    Time     Time  Current\n",
      "                                 Dload  Upload   Total   Spent    Left  Speed\n",
      "100 2345k    0 2345k    0     0  1474k      0 --:--:--  0:00:01 --:--:-- 1476k\n",
      "  % Total    % Received % Xferd  Average Speed   Time    Time     Time  Current\n",
      "                                 Dload  Upload   Total   Spent    Left  Speed\n",
      "100 2335k    0 2335k    0     0  1418k      0 --:--:--  0:00:01 --:--:-- 1419k\n",
      "  % Total    % Received % Xferd  Average Speed   Time    Time     Time  Current\n",
      "                                 Dload  Upload   Total   Spent    Left  Speed\n",
      "100 1288k    0 1288k    0     0  1004k      0 --:--:--  0:00:01 --:--:-- 1006k\n",
      "  % Total    % Received % Xferd  Average Speed   Time    Time     Time  Current\n",
      "                                 Dload  Upload   Total   Spent    Left  Speed\n",
      "100  591k    0  591k    0     0  1683k      0 --:--:-- --:--:-- --:--:-- 1699k\n"
     ]
    },
    {
     "name": "stdout",
     "output_type": "stream",
     "text": [
      "Downloading sequence MRVKGIQMNSQHLLRWGIMILGMIMICSVAGNLWVTVYYGVPVWKDAETTLFCASDAKAYDAEVHNIWATHACVPTDPNPQEINLENVTEEFNMWKNNMVEQMHTDIISLWDQGLKPCVKLTPLCVTLDCHNVTYNITSDMKEEITNCSYNVTTVIRDKKQKVSSLFYKLDVVQIGGNNRTNSQYRLINCNTSAITQACPKVTFEPIPIHYCAPAGFAILKCKDEKFNGTGLCKNVSTVQCTHGIKPVVSTQLLLNGSLAEGEVRIRSENITNNAKNIIVQLASPVTINCIRPNNNTRKSVHLGPGQAFYATDGIIGEIRQAHCNVSKKEWNSTLQKVANQLRPYFKNNTIIKFANSSGGDLEITTHSFNCGGEFFYCNTSGLFNSTWEFNSTWNNSNSTENITLQCRIKQIINMWQRAGQAIYAPPIPGVIRCKSNITGLILTRDGGSNKNTSETFRPGGGDMRDNWRSELYKYKVVKIEPIGVAPTRAKRRVVEREKRAVGIGAVFIGFLGAAGSTMGAASVTLTVQARQLLSGIVQQQSNLLRAIEAQQHLLKLTVWGIKQLQARVLAVERYLKDQQLLGIWGCSGKLICTTNVPWNSSWSNKSQDEIWGNMTWLQWDKEVSNYTQIIYTLIEESQNQQEKNEQDLLALDKWASLWNWFNISQWLWYIKIFIIIVGGLIGLRIVFAVLSVINRVRQGYSPLSFQTRTPNPGELDRPGRIEEEGGEQDRGRSIRLVSGFLALAWDDLRSLCLFSYHRLRDFILIATRTVELLGHSSLKGLRLGWESLKYLGNLLVYWGRELKISAINLCDTIAIAVAGWTDRVIELGQRLCRAILHIPRRIRQGFERALL...\n",
      "{'query_id': 'b02e3ff7-6e26-412b-ae5e-6ea0ed54830f', 'result_type': 'entry', 'total_count': 161, 'result_set': [{'identifier': '6MAR', 'score': 1.0}, {'identifier': '7SD3', 'score': 0.8292682926829268}, {'identifier': '5I8H', 'score': 0.7012195121951219}, {'identifier': '6CDE', 'score': 0.7012195121951219}, {'identifier': '6CDI', 'score': 0.7012195121951219}, {'identifier': '6CH7', 'score': 0.7012195121951219}, {'identifier': '6CH8', 'score': 0.7012195121951219}, {'identifier': '6CHB', 'score': 0.7012195121951219}, {'identifier': '6CUE', 'score': 0.7012195121951219}, {'identifier': '6CUF', 'score': 0.7012195121951219}]}\n",
      "WARNING: no Alpha fold structure found.\n"
     ]
    },
    {
     "name": "stderr",
     "output_type": "stream",
     "text": [
      "  % Total    % Received % Xferd  Average Speed   Time    Time     Time  Current\n",
      "                                 Dload  Upload   Total   Spent    Left  Speed\n",
      "100 1570k    0 1570k    0     0  1248k      0 --:--:--  0:00:01 --:--:-- 1252k\n"
     ]
    },
    {
     "name": "stdout",
     "output_type": "stream",
     "text": [
      "Downloading sequence MEKEKKVKYFLRKSAFGLASVSAAFLVGSTVFAVDSPIEDTPIIRNGGELTNLLGNSETTLALRNEESATADLTAAAVADTVAAAAAENAGAAAWEAAAAADALAKAKADALKEFNKYGVSDYYKNLINNAKTVEGIKDLQAQVVESAKKARISEATDGLSDFLKSQTPAEDTVKSIELAEAKVLANRELDKYGVSDYHKNLINNAKTVEGVKELIDEILAALPKTDQYKLILNGKTLKGETTTEAVDAATAEKVFKQYANDNGVDGEWTYDDATKTFTVTEKPEVIDASELTPAVTTYKLVINGKTLKGETTTKAVDAETAEKAFKQYANDNGVDGVWTYDDATKTFTVTEMVTEVPGDAPTEPEKPEASIPLVPLTPATPIAKDDAKKDDTKKEDAKKPEAKKDDAKKAETLPTTGEGSNPFFTAAALAVMAGAGALAVASKRKED...\n",
      "{'query_id': '57ee8af3-7553-4dc1-8c0e-4f5d1727f811', 'result_type': 'entry', 'total_count': 101, 'result_set': [{'identifier': 'AF_AFP06654F1', 'score': 1.0}, {'identifier': '1PGX', 'score': 0.057455540355677154}, {'identifier': '2IGH', 'score': 0.03146374829001368}, {'identifier': '1IGC', 'score': 0.030095759233926128}, {'identifier': '1IGD', 'score': 0.030095759233926128}, {'identifier': '2IGD', 'score': 0.030095759233926128}, {'identifier': '6O41', 'score': 0.030095759233926128}, {'identifier': '6OC7', 'score': 0.030095759233926128}, {'identifier': '6UUH', 'score': 0.030095759233926128}, {'identifier': '6UYG', 'score': 0.030095759233926128}]}\n"
     ]
    },
    {
     "name": "stderr",
     "output_type": "stream",
     "text": [
      "  % Total    % Received % Xferd  Average Speed   Time    Time     Time  Current\n",
      "                                 Dload  Upload   Total   Spent    Left  Speed\n",
      "100  271k    0  271k    0     0  1068k      0 --:--:-- --:--:-- --:--:-- 1090k\n"
     ]
    },
    {
     "name": "stdout",
     "output_type": "stream",
     "text": [
      "Downloading sequence MDSLVVLVLCLSCLLLLSLWRQSSGRGKLPPGPTPLPVIGNILQIGIKDISKSLTNLSKVYGPVFTLYFGLKPIVVLHGYEAVKEALIDLGEEFSGRGIFPLAERANRGFGIVFSNGKKWKEIRRFSLMTLRNFGMGKRSIEDRVQEEARCLVEELRKTKASPCDPTFILGCAPCNVICSIIFHKRFDYKDQQFLNLMEKLNENIKILSSPWIQICNNFSPIIDYFPGTHNKLLKNVAFMKSYILEKVKEHQESMDMNNPQDFIDCFLMKMEKEKHNQPSEFTIESLENTAVDLFGAGTETTSTTLRYALLLLLKHPEVTAKVQEEIERVIGRNRSPCMQDRSHMPYTDAVVHEVQRYIDLLPTSLPHAVTCDIKFRNYLIPKGTTILISLTSVLHDNKEFPNPEMFDPHHFLDEGGNFKKSKYFMPFSAGKRICVGEALAGMELFLFLTSILQNFNLKSLVDPKNLDTTPVVNGFASVPPFYQLCFIPV...\n",
      "{'query_id': 'a4caa4fc-0bab-4591-8a05-cce02cb665aa', 'result_type': 'entry', 'total_count': 16, 'result_set': [{'identifier': 'AF_AFP11712F1', 'score': 1.0}, {'identifier': '1R9O', 'score': 0.6608695652173913}, {'identifier': '5A5I', 'score': 0.6608695652173913}, {'identifier': '5A5J', 'score': 0.6608695652173913}, {'identifier': '5K7K', 'score': 0.6608695652173913}, {'identifier': '5W0C', 'score': 0.6608695652173913}, {'identifier': '5X24', 'score': 0.6521739130434783}, {'identifier': '5X23', 'score': 0.6434782608695652}, {'identifier': '7RL2', 'score': 0.6347826086956522}, {'identifier': '6VLT', 'score': 0.6260869565217392}]}\n"
     ]
    },
    {
     "name": "stderr",
     "output_type": "stream",
     "text": [
      "  % Total    % Received % Xferd  Average Speed   Time    Time     Time  Current\n",
      "                                 Dload  Upload   Total   Spent    Left  Speed\n",
      "100  316k    0  316k    0     0   970k      0 --:--:-- --:--:-- --:--:--  984k\n"
     ]
    },
    {
     "name": "stdout",
     "output_type": "stream",
     "text": [
      "Downloading sequence MSEYIRVTEDENDEPIEIPSEDDGTVLLSTVTAQFPGACGLRYRNPVSQCMRGVRLVEGILHAPDAGWGNLVYVVNYPKDNKRKMDETDASSAVKVKRAVQKTSDLIVLGLPWKTTEQDLKEYFSTFGEVLMVQVKKDLKTGHSKGFGFVRFTEYETQVKVMSQRHMIDGRWCDCKLPNSKQSQDEPLRSRKVFVGRCTEDMTEDELREFFSQYGDVMDVFIPKPFRAFAFVTFADDQIAQSLCGEDLIIKGISVHISNAEPKHNSNRQLERSGRFGGNPGGFGNQGGFGNSRGGGAGLGNNQGSNMGGGMNFGAFSINPAMMAAAQAALQSSWGMMGMLASQQNQSGPSGNNQNQGNMQREPNQAFGSGNNSYSGSNSGAAIGWGSASNAGSGSGFNGGFGSSMDSKSSGWGM...\n",
      "{'query_id': 'efbe500c-7bf8-411f-b36e-178532ee4864', 'result_type': 'entry', 'total_count': 31, 'result_set': [{'identifier': '7PY2', 'score': 1.0}, {'identifier': 'AF_AFA0A024R4E2F1', 'score': 1.0}, {'identifier': 'AF_AFQ13148F1', 'score': 1.0}, {'identifier': 'AF_AFQ5R5W2F1', 'score': 0.9973787680209698}, {'identifier': 'AF_AFQ921F2F1', 'score': 0.9659239842726082}, {'identifier': 'AF_AFQ5ZLN5F1', 'score': 0.9515072083879423}, {'identifier': 'AF_AFI6L9G6F1', 'score': 0.6644823066841415}, {'identifier': '4BS2', 'score': 0.3984272608125819}, {'identifier': '7KWZ', 'score': 0.2804718217562254}, {'identifier': '5MRG', 'score': 0.21363040629095675}]}\n",
      "WARNING: multiple predicted structures found.\n"
     ]
    },
    {
     "name": "stderr",
     "output_type": "stream",
     "text": [
      "  % Total    % Received % Xferd  Average Speed   Time    Time     Time  Current\n",
      "                                 Dload  Upload   Total   Spent    Left  Speed\n",
      "100  186k    0  186k    0     0   273k      0 --:--:-- --:--:-- --:--:--  276k\n",
      "  % Total    % Received % Xferd  Average Speed   Time    Time     Time  Current\n",
      "                                 Dload  Upload   Total   Spent    Left  Speed\n",
      "100  228k    0  228k    0     0   878k      0 --:--:-- --:--:-- --:--:--  888k\n",
      "  % Total    % Received % Xferd  Average Speed   Time    Time     Time  Current\n",
      "                                 Dload  Upload   Total   Spent    Left  Speed\n",
      "100  254k    0  254k    0     0  1215k      0 --:--:-- --:--:-- --:--:-- 1228k\n"
     ]
    },
    {
     "name": "stdout",
     "output_type": "stream",
     "text": [
      "Downloading sequence MASETFEFQAEITQLMSLIINTVYSNKEIFLRELISNASDALDKIRYKSLSDPKQLETEPDLFIRITPKPEQKVLEIRDSGIGMTKAELINNLGTIAKSGTKAFMEALSAGADVSMIGQFGVGFYSLFLVADRVQVISKSNDDEQYIWESNAGGSFTVTLDEVNERIGRGTILRLFLKDDQLEYLEEKRIKEVIKRHSEFVAYPIQLVVTKEVEKEVPIPEEEKKDEEKKDEEKKDEDDKKPKLEEVDEEEEKKPKTKKVKEEVQEIEELNKTKPLWTRNPSDITQEEYNAFYKSISNDWEDPLYVKHFSVEGQLEFRAILFIPKRAPFDLFESKKKKNNIKLYVRRVFITDEAEDLIPEWLSFVKGVVDSEDLPLNLSREMLQQNKIMKVIRKNIVKKLIEAFNEIAEDSEQFEKFYSAFSKNIKLGVHEDTQNRAALAKLLRYNSTKSVDELTSLTDYVTRMPEHQKNIYYITGESLKAVEKSPFLDALKAKNFEVLFLTDPIDEYAFTQLKEFEGKTLVDITKDFELEETDEEKAEREKEIKEYEPLTKALKEILGDQVEKVVVSYKLLDAPAAIRTGQFGWSANMERIMKAQALRDSSMSSYMSSKKTFEISPKSPIIKELKKRVDEGGAQDKTVKDLTKLLYETALLTSGFSLDEPTSFASRINRLISLGLNIDEDEETETAPEASTAAPVEEVPADTEMEEVD...\n",
      "{'query_id': '8281d68a-ef94-4e04-8b8a-dbf12dc1f432', 'result_type': 'entry', 'total_count': 53, 'result_set': [{'identifier': 'AF_AFP02829F1', 'score': 1.0}, {'identifier': '6XLB', 'score': 0.9619341563786008}, {'identifier': '6XLC', 'score': 0.9619341563786008}, {'identifier': '6XLD', 'score': 0.9619341563786008}, {'identifier': '6XLE', 'score': 0.9619341563786008}, {'identifier': '6XLF', 'score': 0.9619341563786008}, {'identifier': '6XLG', 'score': 0.9619341563786008}, {'identifier': '6XLH', 'score': 0.9619341563786008}, {'identifier': 'AF_AFP15108F1', 'score': 0.9619341563786008}, {'identifier': '2CG9', 'score': 0.9434156378600823}]}\n"
     ]
    },
    {
     "name": "stderr",
     "output_type": "stream",
     "text": [
      "  % Total    % Received % Xferd  Average Speed   Time    Time     Time  Current\n",
      "                                 Dload  Upload   Total   Spent    Left  Speed\n",
      "100  461k    0  461k    0     0  1882k      0 --:--:-- --:--:-- --:--:-- 1916k\n"
     ]
    },
    {
     "name": "stdout",
     "output_type": "stream",
     "text": [
      "Downloading sequence MEPVDPRLEPWKHPGSQPKTACTNCYCKKCCFHCQVCFMTKALGISYGRKKRRQRRRAHQNSQTHQASLSKQPTSQSRGDPTGPKE...\n",
      "{'query_id': '2b0449be-2950-46f6-b55f-11992ea27fa1', 'result_type': 'entry', 'total_count': 7, 'result_set': [{'identifier': '3MI9', 'score': 1.0}, {'identifier': '3MIA', 'score': 1.0}, {'identifier': '1JFW', 'score': 0.7761194029850746}, {'identifier': '4OGR', 'score': 0.208955223880597}, {'identifier': '5L1Z', 'score': 0.208955223880597}, {'identifier': '6CYT', 'score': 0.208955223880597}, {'identifier': '4OR5', 'score': 0.0}]}\n",
      "WARNING: no Alpha fold structure found.\n",
      "WARNING: multiple experimental structures found.\n"
     ]
    },
    {
     "name": "stderr",
     "output_type": "stream",
     "text": [
      "  % Total    % Received % Xferd  Average Speed   Time    Time     Time  Current\n",
      "                                 Dload  Upload   Total   Spent    Left  Speed\n",
      "100  438k    0  438k    0     0   505k      0 --:--:-- --:--:-- --:--:--  508k\n",
      "  % Total    % Received % Xferd  Average Speed   Time    Time     Time  Current\n",
      "                                 Dload  Upload   Total   Spent    Left  Speed\n",
      "100  413k    0  413k    0     0   474k      0 --:--:-- --:--:-- --:--:--  476k\n"
     ]
    },
    {
     "name": "stdout",
     "output_type": "stream",
     "text": [
      "Downloading sequence MIEQDGLHAGSPAAWVERLFGYDWAQQTIGCSDAAVFRLSAQGRPVLFVKTDLSGALNELQDEAARLSWLATTGVPCAAVLDVVTEAGRDWLLLGEVPGQDLLSSHLAPAEKVSIMADAMRRLHTLDPATCPFDHQAKHRIERARTRMEAGLVDQDDLDEEHQGLAPAELFARLKARMPDGEDLVVTHGDACLPNIMVENGRFSGFIDCGRLGVADRYQDIALATRDIAEELGGEWADRFLVLYGIAAPDSQRIAFYRLLDEFF...\n",
      "{'query_id': 'c4dd1527-b85f-42f2-96bd-1f6d99fee0ff', 'result_type': 'entry', 'total_count': 2, 'result_set': [{'identifier': '1ND4', 'score': 1.0}, {'identifier': 'AF_AFP00552F1', 'score': 1.0}]}\n"
     ]
    },
    {
     "name": "stderr",
     "output_type": "stream",
     "text": [
      "  % Total    % Received % Xferd  Average Speed   Time    Time     Time  Current\n",
      "                                 Dload  Upload   Total   Spent    Left  Speed\n",
      "100  360k    0  360k    0     0   489k      0 --:--:-- --:--:-- --:--:--  492k\n",
      "  % Total    % Received % Xferd  Average Speed   Time    Time     Time  Current\n",
      "                                 Dload  Upload   Total   Spent    Left  Speed\n",
      "100  167k    0  167k    0     0  1056k      0 --:--:-- --:--:-- --:--:-- 1078k\n"
     ]
    },
    {
     "name": "stdout",
     "output_type": "stream",
     "text": [
      "Downloading sequence MEDFVRQCFNPMIVELAEKAMKEYGEDLKIETNKFAAICTHLEVCFMYSDFHFIDEQGESIVVELGDPNALLKHRFEIIEGRDRTIAWTVVNSICNTTGAEKPKFLPDLYDYKKNRFIEIGVTRREVHIYYLEKANKIKSEKTHIHIFSFTGEEMATKADYTLDEESRARIKTRLFTIRQEMASRGLWDSFRQSERGEETIEERFEITGTMRKLADQSLPPNFSSLEKFRAYVDGFEPNGYIEGKLSQMSKEVNARIEPFLKSTPRPLRLPDGPPCSQRSKFLLMDALKLSIEDPSHEGEGIPLYDAIKCMRTFFGWKEPNVVKPHEKGINPNYLLSWKQVLAELQDIENEEKIPRTKNMKKTSQLKWALGENMAPEKVDFDDCKDVGDLKQYDSDEPELRSLASWIQNEFNKACELTDSSWIELDEIGEDAAPIEHIASMRRNYFTAEVSHCRATEYIMKGVYINTALLNASCAAMDDFQLIPMISKCRTKEGRRKTNLYGFIIKGRSHLRNDTDVVNFVSMEFSLTDPRLEPHKWEKYCVLEVGDMLLRSAIGHVSRPMFLYVRTNGTSKIKMKWGMEMRRCLLQSLQQIESMIEAESSVKEKDMTKEFFENKSETWPVGESPKGVEEGSIGKVCRTLLAKSVFNSLYASPQLEGFSAESRKLLLIVQALRDNLEPGTFDLGGLYEAIEECLINDPWVLLNASWFNSFLTHALR...\n",
      "{'query_id': '7a809070-c94d-4075-8a39-80e07525b501', 'result_type': 'entry', 'total_count': 99, 'result_set': [{'identifier': '7NHA', 'score': 1.0}, {'identifier': '7NHC', 'score': 1.0}, {'identifier': '7NHX', 'score': 1.0}, {'identifier': '7NI0', 'score': 1.0}, {'identifier': '7NIK', 'score': 1.0}, {'identifier': '7NIL', 'score': 1.0}, {'identifier': '7NIR', 'score': 1.0}, {'identifier': '7NIS', 'score': 1.0}, {'identifier': '7NJ3', 'score': 1.0}, {'identifier': '7NJ4', 'score': 1.0}]}\n",
      "WARNING: no Alpha fold structure found.\n",
      "WARNING: multiple experimental structures found.\n"
     ]
    },
    {
     "name": "stderr",
     "output_type": "stream",
     "text": [
      "  % Total    % Received % Xferd  Average Speed   Time    Time     Time  Current\n",
      "                                 Dload  Upload   Total   Spent    Left  Speed\n",
      "100 2246k    0 2246k    0     0  1568k      0 --:--:--  0:00:01 --:--:-- 1576k\n",
      "  % Total    % Received % Xferd  Average Speed   Time    Time     Time  Current\n",
      "                                 Dload  Upload   Total   Spent    Left  Speed\n",
      "100 2222k    0 2222k    0     0  1405k      0 --:--:--  0:00:01 --:--:-- 1406k\n",
      "  % Total    % Received % Xferd  Average Speed   Time    Time     Time  Current\n",
      "                                 Dload  Upload   Total   Spent    Left  Speed\n",
      "100 2771k    0 2771k    0     0  1634k      0 --:--:--  0:00:01 --:--:-- 1636k\n",
      "  % Total    % Received % Xferd  Average Speed   Time    Time     Time  Current\n",
      "                                 Dload  Upload   Total   Spent    Left  Speed\n",
      "100 2348k    0 2348k    0     0  1365k      0 --:--:--  0:00:01 --:--:-- 1367k\n",
      "  % Total    % Received % Xferd  Average Speed   Time    Time     Time  Current\n",
      "                                 Dload  Upload   Total   Spent    Left  Speed\n",
      "100 2049k    0 2049k    0     0  1386k      0 --:--:--  0:00:01 --:--:-- 1388k\n",
      "  % Total    % Received % Xferd  Average Speed   Time    Time     Time  Current\n",
      "                                 Dload  Upload   Total   Spent    Left  Speed\n",
      "100 2050k    0 2050k    0     0  1453k      0 --:--:--  0:00:01 --:--:-- 1457k\n",
      "  % Total    % Received % Xferd  Average Speed   Time    Time     Time  Current\n",
      "                                 Dload  Upload   Total   Spent    Left  Speed\n",
      "100 2307k    0 2307k    0     0  1596k      0 --:--:--  0:00:01 --:--:-- 1598k\n",
      "  % Total    % Received % Xferd  Average Speed   Time    Time     Time  Current\n",
      "                                 Dload  Upload   Total   Spent    Left  Speed\n",
      "100 2041k    0 2041k    0     0  1316k      0 --:--:--  0:00:01 --:--:-- 1318k\n",
      "  % Total    % Received % Xferd  Average Speed   Time    Time     Time  Current\n",
      "                                 Dload  Upload   Total   Spent    Left  Speed\n",
      "100 2305k    0 2305k    0     0   869k      0 --:--:--  0:00:02 --:--:--  869k\n",
      "  % Total    % Received % Xferd  Average Speed   Time    Time     Time  Current\n",
      "                                 Dload  Upload   Total   Spent    Left  Speed\n",
      "100 2308k    0 2308k    0     0  1569k      0 --:--:--  0:00:01 --:--:-- 1572k\n"
     ]
    },
    {
     "name": "stdout",
     "output_type": "stream",
     "text": [
      "Downloading sequence MDCLCIVTTKKYRYQDEDTPPLEHSPAHLPNQANSPPVIVNTDTLEAPGYELQVNGTEGEMEYEEITLERGNSGLGFSIAGGTDNPHIGDDPSIFITKIIPGGAAAQDGRLRVNDSILFVNEVDVREVTHSAAVEALKEAGSIVRLYVMRRKPPAEKVMEIKLIKGPKGLGFSIAGGVGNQHIPGDNSIYVTKIIEGGAAHKDGRLQIGDKILAVNSVGLEDVMHEDAVAALKNTYDVVYLKVAKPSNAYLSDSYAPPDITTSYSQHLDNEISHSSYLGTDYPTAMTPTSPRRYSPVAKDLLGEEDIPREPRRIVIHRGSTGLGFNIVGGEDGEGIFISFILAGGPADLSGELRKGDQILSVNGVDLRNASHEQAAIALKNAGQTVTIIAQYKPEEYSRFEAKIHDLREQLMNSSLGSGTASLRSNPKRGFYIRALFDYDKTKDCGFLSQALSFRFGDVLHVIDASDEEWWQARRVHSDSETDDIGFIPSKRRVERREWSRLKAKDWGSSSGSQGREDSVLSYETVTQMEVHYARPIIILGPTKDRANDDLLSEFPDKFGSCVPHTTRPKREYEIDGRDYHFVSSREKMEKDIQAHKFIEAGQYNSHLYGTSVQSVREVAEQGKHCILDVSANAVRRLQAAHLHPIAIFIRPRSLENVLEINKRITEEQARKAFDRATKLEQEFTECFSAIVEGDSFEEIYHKVKRVIEDLSGPYIWVPARERL...\n",
      "{'query_id': '58fddc34-735a-4cc4-ae5f-d9c7e6cd3fe2', 'result_type': 'entry', 'total_count': 65, 'result_set': [{'identifier': 'AF_AFP78352F1', 'score': 1.0}, {'identifier': 'AF_AFP31016F1', 'score': 0.9984779299847792}, {'identifier': 'AF_AFQ62108F1', 'score': 0.9969558599695586}, {'identifier': '2XKX', 'score': 0.9863013698630136}, {'identifier': '5YPR', 'score': 0.3447488584474886}, {'identifier': '1JXM', 'score': 0.3424657534246575}, {'identifier': '1JXO', 'score': 0.3424657534246575}, {'identifier': '1KJW', 'score': 0.3424657534246575}, {'identifier': '6SPV', 'score': 0.1811263318112633}, {'identifier': '6SPZ', 'score': 0.1811263318112633}]}\n"
     ]
    },
    {
     "name": "stderr",
     "output_type": "stream",
     "text": [
      "  % Total    % Received % Xferd  Average Speed   Time    Time     Time  Current\n",
      "                                 Dload  Upload   Total   Spent    Left  Speed\n",
      "100  457k    0  457k    0     0  1563k      0 --:--:-- --:--:-- --:--:-- 1592k\n"
     ]
    },
    {
     "name": "stdout",
     "output_type": "stream",
     "text": [
      "Downloading sequence MRVKEKYQHLWRWGWKWGTMLLGILMICSATEKLWVTVYYGVPVWKEATTTLFCASDAKAYDTEVHNVWATHACVPTDPNPQEVVLVNVTENFNMWKNDMVEQMHEDIISLWDQSLKPCVKLTPLCVSLKCTDLGNATNTNSSNTNSSSGEMMMEKGEIKNCSFNISTSIRGKVQKEYAFFYKLDIIPIDNDTTSYTLTSCNTSVITQACPKVSFEPIPIHYCAPAGFAILKCNNKTFNGTGPCTNVSTVQCTHGIRPVVSTQLLLNGSLAEEEVVIRSANFTDNAKTIIVQLNQSVEINCTRPNNNTRKSIRIQRGPGRAFVTIGKIGNMRQAHCNISRAKWNATLKQIASKLREQFGNNKTIIFKQSSGGDPEIVTHSFNCGGEFFYCNSTQLFNSTWFNSTWSTEGSNNTEGSDTITLPCRIKQFINMWQEVGKAMYAPPISGQIRCSSNITGLLLTRDGGNNNNGSEIFRPGGGDMRDNWRSELYKYKVVKIEPLGVAPTKAKRRVVQREKRAVGIGALFLGFLGAAGSTMGAASMTLTVQARQLLSGIVQQQNNLLRAIEAQQHLLQLTVWGIKQLQARILAVERYLKDQQLLGIWGCSGKLICTTAVPWNASWSNKSLEQIWNNMTWMEWDREINNYTSLIHSLIEESQNQQEKNEQELLELDKWASLWNWFNITNWLWYIKIFIMIVGGLVGLRIVFAVLSIVNRVRQGYSPLSFQTHLPTPRGPDRPEGIEEEGGERDRDRSIRLVNGSLALIWDDLRSLCLFSYHRLRDLLLIVTRIVELLGRRGWEALKYWWNLLQYWSQELKNSAVSLLNATAIAVAEGTDRVIEVVQGACRAIRHIPRRIRQGLERILL...\n",
      "{'query_id': '586b47da-3b33-4adf-8dda-fb286ae3b2f4', 'result_type': 'entry', 'total_count': 90, 'result_set': [{'identifier': '3J70', 'score': 1.0}, {'identifier': '6NIJ', 'score': 0.6325167037861915}, {'identifier': '6OLP', 'score': 0.6325167037861915}, {'identifier': '7LOI', 'score': 0.36525612472160357}, {'identifier': '7LOH', 'score': 0.32516703786191536}, {'identifier': '6VPX', 'score': 0.2572383073496659}, {'identifier': '7SKA', 'score': 0.2561247216035635}, {'identifier': '6NC2', 'score': 0.25278396436525613}, {'identifier': '6NC3', 'score': 0.25278396436525613}, {'identifier': '5FUU', 'score': 0.2505567928730512}]}\n",
      "WARNING: no Alpha fold structure found.\n"
     ]
    },
    {
     "name": "stderr",
     "output_type": "stream",
     "text": [
      "  % Total    % Received % Xferd  Average Speed   Time    Time     Time  Current\n",
      "                                 Dload  Upload   Total   Spent    Left  Speed\n",
      "100 2112k    0 2112k    0     0  1294k      0 --:--:--  0:00:01 --:--:-- 1297k\n"
     ]
    },
    {
     "name": "stdout",
     "output_type": "stream",
     "text": [
      "Downloading sequence MQFKVYTYKRESRYRLFVDVQSDIIDTPGRRMVIPLASARLLSDKVSRELYPVVHIGDESWRMMTTDMASVPVSVIGEEVADLSHRENDIKNAINLMFWGI...\n",
      "{'query_id': '17965dc3-caa3-46a7-a0da-93d96eb7564e', 'result_type': 'entry', 'total_count': 17, 'result_set': [{'identifier': '1VUB', 'score': 1.0}, {'identifier': '1X75', 'score': 1.0}, {'identifier': '2VUB', 'score': 1.0}, {'identifier': '3G7Z', 'score': 1.0}, {'identifier': '3HPW', 'score': 1.0}, {'identifier': '3VUB', 'score': 1.0}, {'identifier': '4VUB', 'score': 1.0}, {'identifier': 'AF_AFP62554F1', 'score': 1.0}, {'identifier': 'AF_AFP62555F1', 'score': 1.0}, {'identifier': 'AF_AFQ52042F1', 'score': 1.0}]}\n",
      "WARNING: multiple predicted structures found.\n",
      "WARNING: multiple experimental structures found.\n"
     ]
    },
    {
     "name": "stderr",
     "output_type": "stream",
     "text": [
      "  % Total    % Received % Xferd  Average Speed   Time    Time     Time  Current\n",
      "                                 Dload  Upload   Total   Spent    Left  Speed\n",
      "100  137k    0  137k    0     0   126k      0 --:--:--  0:00:01 --:--:--  127k\n",
      "  % Total    % Received % Xferd  Average Speed   Time    Time     Time  Current\n",
      "                                 Dload  Upload   Total   Spent    Left  Speed\n",
      "100  284k    0  284k    0     0   381k      0 --:--:-- --:--:-- --:--:--  382k\n",
      "  % Total    % Received % Xferd  Average Speed   Time    Time     Time  Current\n",
      "                                 Dload  Upload   Total   Spent    Left  Speed\n",
      "100  538k    0  538k    0     0   619k      0 --:--:-- --:--:-- --:--:--  620k\n",
      "  % Total    % Received % Xferd  Average Speed   Time    Time     Time  Current\n",
      "                                 Dload  Upload   Total   Spent    Left  Speed\n",
      "100  180k    0  180k    0     0   273k      0 --:--:-- --:--:-- --:--:--  274k\n",
      "  % Total    % Received % Xferd  Average Speed   Time    Time     Time  Current\n",
      "                                 Dload  Upload   Total   Spent    Left  Speed\n",
      "100  363k    0  363k    0     0   489k      0 --:--:-- --:--:-- --:--:--  490k\n",
      "  % Total    % Received % Xferd  Average Speed   Time    Time     Time  Current\n",
      "                                 Dload  Upload   Total   Spent    Left  Speed\n",
      "100  160k    0  160k    0     0   224k      0 --:--:-- --:--:-- --:--:--  225k\n",
      "  % Total    % Received % Xferd  Average Speed   Time    Time     Time  Current\n",
      "                                 Dload  Upload   Total   Spent    Left  Speed\n",
      "100  168k    0  168k    0     0   236k      0 --:--:-- --:--:-- --:--:--  237k\n",
      "  % Total    % Received % Xferd  Average Speed   Time    Time     Time  Current\n",
      "                                 Dload  Upload   Total   Spent    Left  Speed\n",
      "100 71036    0 71036    0     0   518k      0 --:--:-- --:--:-- --:--:--  533k\n",
      "  % Total    % Received % Xferd  Average Speed   Time    Time     Time  Current\n",
      "                                 Dload  Upload   Total   Spent    Left  Speed\n",
      "100 71036    0 71036    0     0   436k      0 --:--:-- --:--:-- --:--:--  444k\n",
      "  % Total    % Received % Xferd  Average Speed   Time    Time     Time  Current\n",
      "                                 Dload  Upload   Total   Spent    Left  Speed\n",
      "100 71036    0 71036    0     0   384k      0 --:--:-- --:--:-- --:--:--  391k\n"
     ]
    },
    {
     "name": "stdout",
     "output_type": "stream",
     "text": [
      "Downloading sequence MKFVKRRIIALVTILMLSVTSLFALQPSAKAAEHNPVVMVHGIGGASFNFAGIKSYLVSQGWSRDKLYAVDFWDKTGTNYNNGPVLSRFVQKVLDETGAKKVDIVAHSMGGANTLYYIKNLDGGNKVANVVTLGGANRLTTGKALPGTDPNQKILYTSIYSSADMIVMNYLSRLDGARNVQIHGVGHIGLLYSSQVNSLIKEGLNGGGQNTN...\n",
      "{'query_id': 'd5c5bf2e-6108-420d-ae26-9b3e35c2d4a0', 'result_type': 'entry', 'total_count': 22, 'result_set': [{'identifier': 'AF_AFP37957F1', 'score': 1.0}, {'identifier': '1I6W', 'score': 0.3625}, {'identifier': '1ISP', 'score': 0.3625}, {'identifier': '1R4Z', 'score': 0.3625}, {'identifier': '1R50', 'score': 0.3625}, {'identifier': '5CRI', 'score': 0.3625}, {'identifier': '5CT4', 'score': 0.35}, {'identifier': '5CT5', 'score': 0.35}, {'identifier': '5CT6', 'score': 0.35}, {'identifier': '2QXT', 'score': 0.3125}]}\n"
     ]
    },
    {
     "name": "stderr",
     "output_type": "stream",
     "text": [
      "  % Total    % Received % Xferd  Average Speed   Time    Time     Time  Current\n",
      "                                 Dload  Upload   Total   Spent    Left  Speed\n",
      "100  132k    0  132k    0     0   763k      0 --:--:-- --:--:-- --:--:--  795k\n"
     ]
    },
    {
     "name": "stdout",
     "output_type": "stream",
     "text": [
      "Downloading sequence MASETFEFQAEITQLMSLIINTVYSNKEIFLRELISNASDALDKIRYKSLSDPKQLETEPDLFIRITPKPEQKVLEIRDSGIGMTKAELINNLGTIAKSGTKAFMEALSAGADVSMIGQFGVGFYSLFLVADRVQVISKSNDDEQYIWESNAGGSFTVTLDEVNERIGRGTILRLFLKDDQLEYLEEKRIKEVIKRHSEFVAYPIQLVVTKEVEKEVPIPEEEKKDEEKKDEEKKDEDDKKPKLEEVDEEEEKKPKTKKVKEEVQEIEELNKTKPLWTRNPSDITQEEYNAFYKSISNDWEDPLYVKHFSVEGQLEFRAILFIPKRAPFDLFESKKKKNNIKLYVRRVFITDEAEDLIPEWLSFVKGVVDSEDLPLNLSREMLQQNKIMKVIRKNIVKKLIEAFNEIAEDSEQFEKFYSAFSKNIKLGVHEDTQNRAALAKLLRYNSTKSVDELTSLTDYVTRMPEHQKNIYYITGESLKAVEKSPFLDALKAKNFEVLFLTDPIDEYAFTQLKEFEGKTLVDITKDFELEETDEEKAEREKEIKEYEPLTKALKEILGDQVEKVVVSYKLLDAPAAIRTGQFGWSANMERIMKAQALRDSSMSSYMSSKKTFEISPKSPIIKELKKRVDEGGAQDKTVKDLTKLLYETALLTSGFSLDEPTSFASRINRLISLGLNIDEDEETETAPEASTAAPVEEVPADTEMEEVD...\n",
      "{'query_id': 'bcc4b3cc-f6b1-4db2-9d69-1146e4c6f584', 'result_type': 'entry', 'total_count': 53, 'result_set': [{'identifier': 'AF_AFP02829F1', 'score': 1.0}, {'identifier': '6XLB', 'score': 0.9619341563786008}, {'identifier': '6XLC', 'score': 0.9619341563786008}, {'identifier': '6XLD', 'score': 0.9619341563786008}, {'identifier': '6XLE', 'score': 0.9619341563786008}, {'identifier': '6XLF', 'score': 0.9619341563786008}, {'identifier': '6XLG', 'score': 0.9619341563786008}, {'identifier': '6XLH', 'score': 0.9619341563786008}, {'identifier': 'AF_AFP15108F1', 'score': 0.9619341563786008}, {'identifier': '2CG9', 'score': 0.9434156378600823}]}\n"
     ]
    },
    {
     "name": "stderr",
     "output_type": "stream",
     "text": [
      "  % Total    % Received % Xferd  Average Speed   Time    Time     Time  Current\n",
      "                                 Dload  Upload   Total   Spent    Left  Speed\n",
      "100  461k    0  461k    0     0  1680k      0 --:--:-- --:--:-- --:--:-- 1716k\n"
     ]
    },
    {
     "name": "stdout",
     "output_type": "stream",
     "text": [
      "Downloading sequence MKAKLLVLLYAFVATDADTICIGYHANNSTDTVDTILEKNVAVTHSVNLLEDSHNGKLCKLKGIAPLQLGKCNITGWLLGNPECDSLLPARSWSYIVETPNSENGACYPGDLIDYEELREQLSSVSSLERFEIFPKESSWPNHTFNGVTVSCSHRGKSSFYRNLLWLTKKGDSYPKLTNSYVNNKGKEVLVLWGVHHPSSSDEQQSLYSNGNAYVSVASSNYNRRFTPEIAARPKVRDQHGRMNYYWTLLEPGDTIIFEATGNLIAPWYAFALSRGFESGIITSNASMHECNTKCQTPQGAINSNLPFQNIHPVTIGECPKYVRSTKLRMVTGLRNIPSIQYRGLFGAIAGFIEGGWTGMIDGWYGYHHQNEQGSGYAADQKSTQNAINGITNKVNSVIEKMNTQFTAVGKEFNNLEKRMENLNKKVDDGFLDIWTYNAELLVLLENERTLDFHDLNVKNLYEKVKSQLKNNAKEIGNGCFEFYHKCDNECMESVRNGTYDYPKYSEESKLNREKIDGVKLESMGVYQILAIYSTVASSLVLLVSLGAISFWMCSNGSLQCRICI...\n",
      "{'query_id': 'a0aef3c9-0ffd-4cb0-9422-a97f7b11f9df', 'result_type': 'entry', 'total_count': 91, 'result_set': [{'identifier': '8CT6', 'score': 1.0}, {'identifier': '7UYI', 'score': 0.9947478991596639}, {'identifier': '6MYA', 'score': 0.9810924369747899}, {'identifier': '6OSR', 'score': 0.9495798319327731}, {'identifier': '2WRG', 'score': 0.4065126050420168}, {'identifier': '2WRH', 'score': 0.40336134453781514}, {'identifier': '6HJQ', 'score': 0.3592436974789916}, {'identifier': '6HJR', 'score': 0.3581932773109244}, {'identifier': '5VMC', 'score': 0.33403361344537813}, {'identifier': '5VMF', 'score': 0.33403361344537813}]}\n",
      "WARNING: no Alpha fold structure found.\n"
     ]
    },
    {
     "name": "stderr",
     "output_type": "stream",
     "text": [
      "  % Total    % Received % Xferd  Average Speed   Time    Time     Time  Current\n",
      "                                 Dload  Upload   Total   Spent    Left  Speed\n",
      "100 1217k    0 1217k    0     0   984k      0 --:--:--  0:00:01 --:--:--  986k\n"
     ]
    },
    {
     "name": "stdout",
     "output_type": "stream",
     "text": [
      "Downloading sequence MEEPQSDPSVEPPLSQETFSDLWKLLPENNVLSPLPSQAMDDLMLSPDDIEQWFTEDPGPDEAPRMPEAAPRVAPAPAAPTPAAPAPAPSWPLSSSVPSQKTYQGSYGFRLGFLHSGTAKSVTCTYSPALNKMFCQLAKTCPVQLWVDSTPPPGTRVRAMAIYKQSQHMTEVVRRCPHHERCSDSDGLAPPQHLIRVEGNLRVEYLDDRNTFRHSVVVPYEPPEVGSDCTTIHYNYMCNSSCMGGMNRRPILTIITLEDSSGNLLGRNSFEVRVCACPGRDRRTEEENLRKKGEPHHELPPGSTKRALPNNTSSSPQPKKKPLDGEYFTLQIRGRERFEMFRELNEALELKDAQAGKEPGGSRAHSSHLKSKKGQSTSRHKKLMFKTEGPDSD...\n",
      "{'query_id': '1c3b129c-fd6c-4b34-82be-d4167ec04bf6', 'result_type': 'entry', 'total_count': 187, 'result_set': [{'identifier': '6XRE', 'score': 1.0}, {'identifier': '7XZZ', 'score': 1.0}, {'identifier': '8F2H', 'score': 1.0}, {'identifier': '8F2I', 'score': 1.0}, {'identifier': 'AF_AFK7PPA8F1', 'score': 1.0}, {'identifier': 'AF_AFP04637F1', 'score': 1.0}, {'identifier': 'AF_AFP13481F1', 'score': 0.9598930481283422}, {'identifier': 'AF_AFP56423F1', 'score': 0.9572192513368984}, {'identifier': 'AF_AFP56424F1', 'score': 0.9572192513368984}, {'identifier': 'AF_AFP61260F1', 'score': 0.9572192513368984}]}\n",
      "WARNING: multiple predicted structures found.\n",
      "WARNING: multiple experimental structures found.\n"
     ]
    },
    {
     "name": "stderr",
     "output_type": "stream",
     "text": [
      "  % Total    % Received % Xferd  Average Speed   Time    Time     Time  Current\n",
      "                                 Dload  Upload   Total   Spent    Left  Speed\n",
      "100 5480k    0 5480k    0     0  1915k      0 --:--:--  0:00:02 --:--:-- 1918k\n",
      "  % Total    % Received % Xferd  Average Speed   Time    Time     Time  Current\n",
      "                                 Dload  Upload   Total   Spent    Left  Speed\n",
      "100 1503k    0 1503k    0     0  1178k      0 --:--:--  0:00:01 --:--:-- 1181k\n",
      "  % Total    % Received % Xferd  Average Speed   Time    Time     Time  Current\n",
      "                                 Dload  Upload   Total   Spent    Left  Speed\n",
      "100  965k    0  965k    0     0   875k      0 --:--:--  0:00:01 --:--:--  878k\n",
      "  % Total    % Received % Xferd  Average Speed   Time    Time     Time  Current\n",
      "                                 Dload  Upload   Total   Spent    Left  Speed\n",
      "100  483k    0  483k    0     0   555k      0 --:--:-- --:--:-- --:--:--  556k\n",
      "  % Total    % Received % Xferd  Average Speed   Time    Time     Time  Current\n",
      "                                 Dload  Upload   Total   Spent    Left  Speed\n",
      "100  248k    0  248k    0     0  1149k      0 --:--:-- --:--:-- --:--:-- 1160k\n",
      "  % Total    % Received % Xferd  Average Speed   Time    Time     Time  Current\n",
      "                                 Dload  Upload   Total   Spent    Left  Speed\n",
      "100  248k    0  248k    0     0  1886k      0 --:--:-- --:--:-- --:--:-- 1940k\n"
     ]
    },
    {
     "name": "stdout",
     "output_type": "stream",
     "text": [
      "Downloading sequence MAKEDNIEMQGTVLETLPNTMFRVELENGHVVTAHISGKMRKNYIRILTGDKVTVELTPYDLSKGRIVFRSR...\n",
      "{'query_id': '2e5446f6-a53f-4494-b884-636944c30429', 'result_type': 'entry', 'total_count': 75, 'result_set': [{'identifier': 'AF_AFA0A077ZLU3F1', 'score': 1.0}, {'identifier': 'AF_AFA0A0H3GQL9F1', 'score': 1.0}, {'identifier': 'AF_AFA6T6Y1F1', 'score': 1.0}, {'identifier': 'AF_AFA7MEQ6F1', 'score': 1.0}, {'identifier': 'AF_AFA7ZJV1F1', 'score': 1.0}, {'identifier': 'AF_AFA7ZYI7F1', 'score': 1.0}, {'identifier': 'AF_AFA8AIJ9F1', 'score': 1.0}, {'identifier': 'AF_AFA9MI00F1', 'score': 1.0}, {'identifier': 'AF_AFA9N7Y7F1', 'score': 1.0}, {'identifier': 'AF_AFP69222F1', 'score': 1.0}]}\n",
      "WARNING: multiple predicted structures found.\n"
     ]
    },
    {
     "name": "stderr",
     "output_type": "stream",
     "text": [
      "  % Total    % Received % Xferd  Average Speed   Time    Time     Time  Current\n",
      "                                 Dload  Upload   Total   Spent    Left  Speed\n",
      "100  479k    0  479k    0     0  1714k      0 --:--:-- --:--:-- --:--:-- 1755k\n",
      "  % Total    % Received % Xferd  Average Speed   Time    Time     Time  Current\n",
      "                                 Dload  Upload   Total   Spent    Left  Speed\n",
      "100   127  100   127    0     0   1793      0 --:--:-- --:--:-- --:--:--  1867\n",
      "/Users/antoniaboca/miniconda3/envs/diss/lib/python3.8/site-packages/biopandas/pdb/pandas_pdb.py:461: UserWarning: No ATOM/HETATM entries have been loaded. Is the input file/text in the pdb format?\n",
      "  warnings.warn(\n",
      "  % Total    % Received % Xferd  Average Speed   Time    Time     Time  Current\n",
      "                                 Dload  Upload   Total   Spent    Left  Speed\n",
      "100 51272    0 51272    0     0   304k      0 --:--:-- --:--:-- --:--:--  309k\n",
      "  % Total    % Received % Xferd  Average Speed   Time    Time     Time  Current\n",
      "                                 Dload  Upload   Total   Spent    Left  Speed\n",
      "100 51191    0 51191    0     0   353k      0 --:--:-- --:--:-- --:--:--  362k\n",
      "  % Total    % Received % Xferd  Average Speed   Time    Time     Time  Current\n",
      "                                 Dload  Upload   Total   Spent    Left  Speed\n",
      "100 51272    0 51272    0     0   230k      0 --:--:-- --:--:-- --:--:--  235k\n",
      "  % Total    % Received % Xferd  Average Speed   Time    Time     Time  Current\n",
      "                                 Dload  Upload   Total   Spent    Left  Speed\n",
      "100 51191    0 51191    0     0   400k      0 --:--:-- --:--:-- --:--:--  413k\n",
      "  % Total    % Received % Xferd  Average Speed   Time    Time     Time  Current\n",
      "                                 Dload  Upload   Total   Spent    Left  Speed\n",
      "100 51272    0 51272    0     0   434k      0 --:--:-- --:--:-- --:--:--  447k\n",
      "  % Total    % Received % Xferd  Average Speed   Time    Time     Time  Current\n",
      "                                 Dload  Upload   Total   Spent    Left  Speed\n",
      "100 51272    0 51272    0     0   419k      0 --:--:-- --:--:-- --:--:--  431k\n",
      "  % Total    % Received % Xferd  Average Speed   Time    Time     Time  Current\n",
      "                                 Dload  Upload   Total   Spent    Left  Speed\n",
      "100 51272    0 51272    0     0   177k      0 --:--:-- --:--:-- --:--:--  178k\n",
      "  % Total    % Received % Xferd  Average Speed   Time    Time     Time  Current\n",
      "                                 Dload  Upload   Total   Spent    Left  Speed\n",
      "100 51191    0 51191    0     0   381k      0 --:--:-- --:--:-- --:--:--  396k\n"
     ]
    },
    {
     "name": "stdout",
     "output_type": "stream",
     "text": [
      "Downloading sequence MSTNPKPQRKTKRNTNRRPEDVKFPGGGQIVGGVYLLPRRGPRLGVRTTRKTSERSQPRGRRQPIPKDRRSTGKAWGKPGRPWPLYGNEGLGWAGWLLSPRGSRPSWGPTDPRHRSRNVGKVIDTLTCGFADLMGYIPVVGAPLSGAARAVAHGVRVLEDGVNYATGNLPGFPFSIFLLALLSCITVPVSAAQVKNTSSSYMVTNDCSNDSITWQLEAAVLHVPGCVPCERVGNTSRCWVPVSPNMAVRQPGALTQGLRTHIDMVVMSATFCSALYVGDLCGGVMLAAQVFIVSPQYHWFVQECNCSIYPGTITGHRMAWDMMMNWSPTATMILAYVMRVPEVIIDIVSGAHWGVMFGLAYFSMQGAWAKVIVILLLAAGVDAGTTTVGGAVARSTNVIAGVFSHGPQQNIQLINTNGSWHINRTALNCNDSLNTGFLAALFYTNRFNSSGCPGRLSACRNIEAFRIGWGTLQYEDNVTNPEDMRPYCWHYPPKPCGVVPARSVCGPVYCFTPSPVVVGTTDRRGVPTYTWGENETDVFLLNSTRPPQGSWFGCTWMNSTGFTKTCGAPPCRTRADFNASTDLLCPTDCFRKHPDATYIKCGSGPWLTPKCLVHYPYRLWHYPCTVNFTIFKIRMYVGGVEHRLTAACNFTRGDRCDLEDRDRSQLSPLLHSTTEWAILPCTYSDLPALSTGLLHLHQNIVDVQYMYGLSPAITKYVVRWEWVVLLFLLLADARVCACLWMLILLGQAEAALEKLVVLHAASAANCHGLLYFAIFFVAAWHIRGRVVPLTTYCLTGLWPFCLLLMALPRQAYAYDAPVHGQIGVGLLILITLFTLTPGYKTLLGQCLWWLCYLLTLGEAMIQEWVPPMQVRGGRDGIAWAVTIFCPGVVFDITKWLLALLGPAYLLRAALTHVPYFVRAHALIRVCALVKQLAGGRYVQVALLALGRWTGTYIYDHLTPMSDWAASGLRDLAVAVEPIIFSPMEKKVIVWGAETAACGDILHGLPVSARLGQEILLGPADGYTSKGWKLLAPITAYAQQTRGLLGAIVVSMTGRDRTEQAGEVQILSTVSQSFLGTTISGVLWTVYHGAGNKTLAGLRGPVTQMYSSAEGDLVGWPSPPGTKSLEPCKCGAVDLYLVTRNADVIPARRRGDKRGALLSPRPISTLKGSSGGPVLCPRGHVVGLFRAAVCSRGVAKSIDFIPVETLDVVTRSPTFSDNSTPPAVPQTYQVGYLHAPTGSGKSTKVPVAYAAQGYKVLVLNPSVAATLGFGAYLSKAHGINPNIRTGVRTVMTGEAITYSTYGKFLADGGCASGAYDIIICDECHAVDATSILGIGTVLDQAETAGVRLTVLATATPPGSVTTPHPDIEEVGLGREGEIPFYGRAIPLSCIKGGRHLIFCHSKKKCDELAAALRGMGLNAVAYYRGLDVSIIPAQGDVVVVATDALMTGYTGDFDSVIDCNVAVTQAVDFSLDPTFTITTQTVPQDAVSRSQRRGRTGRGRQGTYRYVSTGERASGMFDSVVLCECYDAGAAWYDLTPAETTVRLRAYFNTPGLPVCQDHLEFWEAVFTGLTHIDAHFLSQTKQAGENFAYLVAYQATVCARAKAPPPSWDAMWKCLARLKPTLAGPTPLLYRLGPITNEVTLTHPGTKYIATCMQADLEVMTSTWVLAGGVLAAVAAYCLATGCVSIIGRLHVNQRVVVAPDKEVLYEAFDEMEECASRAALIEEGQRIAEMLKSKIQGLLQQASKQAQDIQPAMQASWPKVEQFWARHMWNFISGIQYLAGLSTLPGNPAVASMMAFSAALTSPLSTSTTILLNIMGGWLASQIAPPAGATGFVVSGLVGAAVGSIGLGKVLVDILAGYGAGISGALVAFKIMSGEKPSMEDVINLLPGILSPGALVVGVICAAILRRHVGPGEGAVQWMNRLIAFASRGNHVAPTHYVTESDASQRVTQLLGSLTITSLLRRLHNWITEDCPIPCSGSWLRDVWDWVCTILTDFKNWLTSKLFPKLPGLPFISCQKGYKGVWAGTGIMTTRCPCGANISGNVRLGSMRITGPKTCMNTWQGTFPINCYTEGQCAPKPPTNYKTAIWRVAASEYAEVTQHGSYSYVTGLTTDNLKIPCQLPSPEFFSWVDGVQIHRFAPTPKPFFRDEVSFCVGLNSYAVGSQLPCEPEPDADVLRSMLTDPPHITAETAARRLARGSPPSEASSSVSQLSAPSLRATCTTHSNTYDVDMVDANLLMEGGVAQTEPESRVPVLDFLEPMAEEESDLEPSIPSECMLPRSGFPRALPAWARPDYNPPLVESWRRPDYQPPTVAGCALPPPKKAPTPPPRRRRTVGLSESTISEALQQLAIKTFGQPPSSGDAGSSTGAGAAESGGPTSPGEPAPSETGSASSMPPLEGEPGDPDLESDQVELQPPPQGGGVAPGSGSGSWSTCSEEDDTTVCCSMSYSWTGALITPCSPEEEKLPINPLSNSLLRYHNKVYCTTSKSASQRAKKVTFDRTQVLDAHYDSVLKDIKLAASKVSARLLTLEEACQLTPPHSARSKYGFGAKEVRSLSGRAVNHIKSVWKDLLEDPQTPIPTTIMAKNEVFCVDPAKGGKKPARLIVYPDLGVRVCEKMALYDITQKLPQAVMGASYGFQYSPAQRVEYLLKAWAEKKDPMGFSYDTRCFDSTVTERDIRTEESIYQACSLPEEARTAIHSLTERLYVGGPMFNSKGQTCGYRRCRASGVLTTSMGNTITCYVKALAACKAAGIVAPTMLVCGDDLVVISESQGTEEDERNLRAFTEAMTRYSAPPGDPPRPEYDLELITSCSSNVSVALGPRGRRRYYLTRDPTTPLARAAWETVRHSPINSWLGNIIQYAPTIWVRMVLMTHFFSILMVQDTLDQNLNFEMYGSVYSVNPLDLPAIIERLHGLDAFSMHTYSHHELTRVASALRKLGAPPLRVWKSRARAVRASLISRGGKAAVCGRYLFNWAVKTKLKLTPLPEARLLDLSSWFTVGAGGGDIFHSVSRARPRSLLFGLLLLFVGVGLFLLPAR...\n",
      "{'query_id': 'e6a049e5-e679-427b-b725-4f588b46034e', 'result_type': 'entry', 'total_count': 35, 'result_set': [{'identifier': '5WDX', 'score': 1.0}, {'identifier': '5QJ0', 'score': 0.9175510204081633}, {'identifier': '5QJ1', 'score': 0.9175510204081633}, {'identifier': '5TWM', 'score': 0.9175510204081633}, {'identifier': '4AEP', 'score': 0.916734693877551}, {'identifier': '4AEX', 'score': 0.916734693877551}, {'identifier': '4OBC', 'score': 0.9085714285714286}, {'identifier': '4WTI', 'score': 0.9085714285714286}, {'identifier': '4WTJ', 'score': 0.9085714285714286}, {'identifier': '4WTK', 'score': 0.9085714285714286}]}\n",
      "WARNING: no Alpha fold structure found.\n"
     ]
    },
    {
     "name": "stderr",
     "output_type": "stream",
     "text": [
      "  % Total    % Received % Xferd  Average Speed   Time    Time     Time  Current\n",
      "                                 Dload  Upload   Total   Spent    Left  Speed\n",
      "100 1152k    0 1152k    0     0  1102k      0 --:--:--  0:00:01 --:--:-- 1108k\n"
     ]
    },
    {
     "name": "stdout",
     "output_type": "stream",
     "text": [
      "Downloading sequence FTLIELMIVIAIVGILAAVALPAYQDYTARAQVSEAILLAEGQKSAVTEYYLNHGEWPGDNSSAGVATSADIKGKYVQSVTVANGVITAQMASSNVNNEIKSKKLSLWAKRQNGSVKWFCGQPVTRTTATATDVAAANGKTDDKINTKHLPSTCRDDSSAS...\n",
      "{'query_id': '218aac9a-2290-4911-b6f1-3404c76a2b60', 'result_type': 'entry', 'total_count': 2, 'result_set': [{'identifier': '5KUA', 'score': 1.0}, {'identifier': '5JW8', 'score': 0.0}]}\n",
      "WARNING: no Alpha fold structure found.\n"
     ]
    },
    {
     "name": "stderr",
     "output_type": "stream",
     "text": [
      "  % Total    % Received % Xferd  Average Speed   Time    Time     Time  Current\n",
      "                                 Dload  Upload   Total   Spent    Left  Speed\n",
      "100 2521k    0 2521k    0     0  1541k      0 --:--:--  0:00:01 --:--:-- 1545k\n"
     ]
    },
    {
     "name": "stdout",
     "output_type": "stream",
     "text": [
      "Downloading sequence MDLSALRVEEVQNVINAMQKILECPICLELIKEPVSTKCDHIFCKFCMLKLLNQKKGPSQCPLCKNDITKRSLQESTRFSQLVEELLKIICAFQLDTGLEYANSYNFAKKENNSPEHLKDEVSIIQSMGYRNRAKRLLQSEPENPSLQETSLSVQLSNLGTVRTLRTKQRIQPQKTSVYIELGSDSSEDTVNKATYCSVGDQELLQITPQGTRDEISLDSAKKAACEFSETDVTNTEHHQPSNNDLNTTEKRAAERHPEKYQGSSVSNLHVEPCGTNTHASSLQHENSSLLLTKDRMNVEKAEFCNKSKQPGLARSQHNRWAGSKETCNDRRTPSTEKKVDLNADPLCERKEWNKQKLPCSENPRDTEDVPWITLNSSIQKVNEWFSRSDELLGSDDSHDGESESNAKVADVLDVLNEVDEYSGSSEKIDLLASDPHEALICKSERVHSKSVESNIEDKIFGKTYRKKASLPNLSHVTENLIIGAFVTEPQIIQERPLTNKLKRKRRPTSGLHPEDFIKKADLAVQKTPEMINQGTNQTEQNGQVMNITNSGHENKTKGDSIQNEKNPNPIESLEKESAFKTKAEPISSSISNMELELNIHNSKAPKKNRLRRKSSTRHIHALELVVSRNLSPPNCTELQIDSCSSSEEIKKKKYNQMPVRHSRNLQLMEGKEPATGAKKSNKPNEQTSKRHDSDTFPELKLTNAPGSFTKCSNTSELKEFVNPSLPREEKEEKLETVKVSNNAEDPKDLMLSGERVLQTERSVESSSISLVPGTDYGTQESISLLEVSTLGKAKTEPNKCVSQCAAFENPKGLIHGCSKDNRNDTEGFKYPLGHEVNHSRETSIEMEESELDAQYLQNTFKVSKRQSFAPFSNPGNAEEECATFSAHSGSLKKQSPKVTFECEQKEENQGKNESNIKPVQTVNITAGFPVVGQKDKPVDNAKCSIKGGSRFCLSSQFRGNETGLITPNKHGLLQNPYRIPPLFPIKSFVKTKCKKNLLEENFEEHSMSPEREMGNENIPSTVSTISRNNIRENVFKEASSSNINEVGSSTNEVGSSINEIGSSDENIQAELGRNRGPKLNAMLRLGVLQPEVYKQSLPGSNCKHPEIKKQEYEEVVQTVNTDFSPYLISDNLEQPMGSSHASQVCSETPDDLLDDGEIKEDTSFAENDIKESSAVFSKSVQKGELSRSPSPFTHTHLAQGYRRGAKKLESSEENLSSEDEELPCFQHLLFGKVNNIPSQSTRHSTVATECLSKNTEENLLSLKNSLNDCSNQVILAKASQEHHLSEETKCSASLFSSQCSELEDLTANTNTQDPFLIGSSKQMRHQSESQGVGLSDKELVSDDEERGTGLEENNQEEQSMDSNLGEAASGCESETSVSEDCSGLSSQSDILTTQQRDTMQHNLIKLQQEMAELEAVLEQHGSQPSNSYPSIISDSSALEDLRNPEQSTSEKAVLTSQKSSEYPISQNPEGLSADKFEVSADSSTSKNKEPGVERSSPSKCPSLDDRWYMHSCSGSLQNRNYPSQEELIKVVDVEEQQLEESGPHDLTETSYLPRQDLEGTPYLESGISLFSDDPESDPSEDRAPESARVGNIPSSTSALKVPQLKVAESAQSPAAAHTTDTAGYNAMEESVSREKPELTASTERVNKRMSMVVSGLTPEEFMLVYKFARKHHITLTNLITEETTHVVMKTDAEFVCERTLKYFLGIAGGKWVVSYFWVTQSIKERKMLNEHDFEVRGDVVNGRNHQGPKRARESQDRKIFRGLEICCYGPFTNMPTDQLEWMVQLCGASVVKELSSFTLGTGVHPIVVVQPDAWTEDNGFHAIGQMCEAPVVTREWVLDSVALYQCQELDTYLIPQIPHSHY...\n",
      "{'query_id': 'b87471c2-cf5b-47ea-940c-7b840a981edb', 'result_type': 'entry', 'total_count': 50, 'result_set': [{'identifier': 'AF_AFP38398F1', 'score': 1.0}, {'identifier': 'AF_AFQ9GKK8F1', 'score': 0.9806190338443738}, {'identifier': 'AF_AFQ6J6I8F1', 'score': 0.976858547873879}, {'identifier': 'AF_AFQ6J6J0F1', 'score': 0.9600809950824414}, {'identifier': 'AF_AFQ6J6I9F1', 'score': 0.9181371131038473}, {'identifier': 'MA_MAT3VR3496', 'score': 0.07839166907723459}, {'identifier': 'MA_MAT3VR3524', 'score': 0.07839166907723459}, {'identifier': 'MA_MAT3VR3525', 'score': 0.07839166907723459}, {'identifier': 'MA_MAT3VR3526', 'score': 0.07839166907723459}, {'identifier': '3COJ', 'score': 0.07723459647092855}]}\n"
     ]
    },
    {
     "name": "stderr",
     "output_type": "stream",
     "text": [
      "  % Total    % Received % Xferd  Average Speed   Time    Time     Time  Current\n",
      "                                 Dload  Upload   Total   Spent    Left  Speed\n",
      "100 1166k    0 1166k    0     0  2601k      0 --:--:-- --:--:-- --:--:-- 2638k\n"
     ]
    },
    {
     "name": "stdout",
     "output_type": "stream",
     "text": [
      "Downloading sequence MADQLTEEQIAEFKEAFSLFDKDGDGTITTKELGTVMRSLGQNPTEAELQDMINEVDADGNGTIDFPEFLTMMARKMKDTDSEEEIREAFRVFDKDGNGYISAAELRHVMTNLGEKLTDEEVDEMIREADIDGDGQVNYEEFVQMMTAK...\n",
      "{'query_id': 'b1e43fd6-859a-48cb-9d6d-15bcc4c11a11', 'result_type': 'entry', 'total_count': 506, 'result_set': [{'identifier': '1IQ5', 'score': 1.0}, {'identifier': '1LVC', 'score': 1.0}, {'identifier': '1WRZ', 'score': 1.0}, {'identifier': '1ZUZ', 'score': 1.0}, {'identifier': '2BE6', 'score': 1.0}, {'identifier': '2BKI', 'score': 1.0}, {'identifier': '2F2O', 'score': 1.0}, {'identifier': '2F2P', 'score': 1.0}, {'identifier': '2R28', 'score': 1.0}, {'identifier': '2V01', 'score': 1.0}]}\n",
      "WARNING: no Alpha fold structure found.\n",
      "WARNING: multiple experimental structures found.\n"
     ]
    },
    {
     "name": "stderr",
     "output_type": "stream",
     "text": [
      "  % Total    % Received % Xferd  Average Speed   Time    Time     Time  Current\n",
      "                                 Dload  Upload   Total   Spent    Left  Speed\n",
      "100  118k    0  118k    0     0   172k      0 --:--:-- --:--:-- --:--:--  173k\n",
      "  % Total    % Received % Xferd  Average Speed   Time    Time     Time  Current\n",
      "                                 Dload  Upload   Total   Spent    Left  Speed\n",
      "100  438k    0  438k    0     0   501k      0 --:--:-- --:--:-- --:--:--  503k\n",
      "  % Total    % Received % Xferd  Average Speed   Time    Time     Time  Current\n",
      "                                 Dload  Upload   Total   Spent    Left  Speed\n",
      "100  122k    0  122k    0     0   185k      0 --:--:-- --:--:-- --:--:--  186k\n",
      "  % Total    % Received % Xferd  Average Speed   Time    Time     Time  Current\n",
      "                                 Dload  Upload   Total   Spent    Left  Speed\n",
      "100  125k    0  125k    0     0   199k      0 --:--:-- --:--:-- --:--:--  200k\n",
      "  % Total    % Received % Xferd  Average Speed   Time    Time     Time  Current\n",
      "                                 Dload  Upload   Total   Spent    Left  Speed\n",
      "100  135k    0  135k    0     0   199k      0 --:--:-- --:--:-- --:--:--  200k\n",
      "  % Total    % Received % Xferd  Average Speed   Time    Time     Time  Current\n",
      "                                 Dload  Upload   Total   Spent    Left  Speed\n",
      "100  655k    0  655k    0     0   815k      0 --:--:-- --:--:-- --:--:--  820k\n",
      "  % Total    % Received % Xferd  Average Speed   Time    Time     Time  Current\n",
      "                                 Dload  Upload   Total   Spent    Left  Speed\n",
      "100  223k    0  223k    0     0   278k      0 --:--:-- --:--:-- --:--:--  279k\n",
      "  % Total    % Received % Xferd  Average Speed   Time    Time     Time  Current\n",
      "                                 Dload  Upload   Total   Spent    Left  Speed\n",
      "100  225k    0  225k    0     0   348k      0 --:--:-- --:--:-- --:--:--  349k\n",
      "  % Total    % Received % Xferd  Average Speed   Time    Time     Time  Current\n",
      "                                 Dload  Upload   Total   Spent    Left  Speed\n",
      "100  233k    0  233k    0     0   342k      0 --:--:-- --:--:-- --:--:--  344k\n",
      "  % Total    % Received % Xferd  Average Speed   Time    Time     Time  Current\n",
      "                                 Dload  Upload   Total   Spent    Left  Speed\n",
      "100  101k    0  101k    0     0   155k      0 --:--:-- --:--:-- --:--:--  156k\n"
     ]
    },
    {
     "name": "stdout",
     "output_type": "stream",
     "text": [
      "Downloading sequence MRPDLSRVPGVLGEIARKRASEVAPYPLPEPPSVPSFKEALLRPGLSVIAEVKRQSPSEGLIREVDPVEAALAYARGGARAVSVLTEPHRFGGSLLDLKRVREAVDLPLLRKDFVVDPFMLEEARAFGASAALLIVALLGELTGAYLEEARRLGLEALVEVHTERELEIALEAGAEVLGINNRDLATLHINLETAPRLGRLARKRGFGGVLVAESGYSRKEELKALEGLFDAVLIGTSLMRAPDLEAALRELVG...\n",
      "{'query_id': '66de7b30-e5d8-4622-86eb-c7025cbb5a21', 'result_type': 'entry', 'total_count': 1, 'result_set': [{'identifier': '1VC4', 'score': 1.0}]}\n",
      "WARNING: no Alpha fold structure found.\n"
     ]
    },
    {
     "name": "stderr",
     "output_type": "stream",
     "text": [
      "  % Total    % Received % Xferd  Average Speed   Time    Time     Time  Current\n",
      "                                 Dload  Upload   Total   Spent    Left  Speed\n",
      "100  195k    0  195k    0     0   243k      0 --:--:-- --:--:-- --:--:--  245k\n"
     ]
    },
    {
     "name": "stdout",
     "output_type": "stream",
     "text": [
      "Downloading sequence MKLLSSIEQACDICRLKKLKCSKEKPKCAKCLKNNWECRYSPKTKRSPLTRAHLTEVESRLERLEQLFLLIFPREDLDMILKMDSLQDIKALLTGLFVQDNVNKDAVTDRLASVETDMPLTLRQHRISATSSSEESSNKGQRQLTVSIDSAAHHDNSTIPLDFMPRDALHGFDWSEEDDMSDGLPFLKTDPNNNGFFGDGSLLCILRSIGFKPENYTNSNVNRLPTMITDRYTLASRSTTSRLLQSYLNNFHPYCPIVHSPTLMMLYNNQIEIASKDQWQILFNCILAIGAWCIEGESTDIDVFYYQNAKSHLTSKVFESGSIILVTALHLLSRYTQWRQKTNTSYNFHSFSIRMAISLGLNRDLPSSFSDSSILEQRRRIWWSVYSWEIQLSLLYGRSIQLSQNTISFPSSVDDVQRTTTGPTIYHGIIETARLLQVFTKIYELDKTVTAEKSPICAKKCLMICNEIEEVSRQAPKFLQMDISTTALTNLLKEHPWLSFTRFELKWKQLSLIIYVLRDFFTNFTQKKSQLEQDQNDHQSYEVKRCSIMLSDAAQRTVMSVSSYMDNHNVTPYFAWNCSYYLFNAVLVPIKTLLSNSKSNAENNETAQLLQQINTVLMLLKKLATFKIQTCEKYIQVLEEVCAPFLLSQCAIPLPHISYNNSNGSAIKNIVGSATIAQYPTLPEENVNNISVKYVSPGSVGPSPVPLKSGASFSDLVKLLSNRPPSRNSPVTIPRSTPSHRSVTPFLGQQQQLQSLVPLTPSALFGGANFNQSGNIADSSLSFTFTNSSNGPNLITTQTNSQALSQPIASSNVHDNFMNNEITASKIDDGNNSKPLSPGWTDQTAYNAFGITTGMFNTTTMDDVYNYLFDDEDTPPNPKKE...\n",
      "{'query_id': 'e6efa78f-52a6-4954-bc16-2e1710fcaf16', 'result_type': 'entry', 'total_count': 7, 'result_set': [{'identifier': 'AF_AFP04386F1', 'score': 1.0}, {'identifier': '7UIK', 'score': 0.11291291291291292}, {'identifier': '7UIO', 'score': 0.11291291291291292}, {'identifier': '3COQ', 'score': 0.05105105105105105}, {'identifier': '1D66', 'score': 0.024024024024024024}, {'identifier': '1HBW', 'score': 0.008408408408408409}, {'identifier': '1AW6', 'score': 0.0}]}\n"
     ]
    },
    {
     "name": "stderr",
     "output_type": "stream",
     "text": [
      "  % Total    % Received % Xferd  Average Speed   Time    Time     Time  Current\n",
      "                                 Dload  Upload   Total   Spent    Left  Speed\n",
      "100  561k    0  561k    0     0  1915k      0 --:--:-- --:--:-- --:--:-- 1951k\n"
     ]
    },
    {
     "name": "stdout",
     "output_type": "stream",
     "text": [
      "Downloading sequence MASQGTKRSYEQMETDGERQNATEIRASVGKMIDGIGRFYIQMCTELKLSDYEGRLIQNSLTIERMVLSAFDERRNKYLEEHPSAGKDPKKTGGPIYKRVDRKWMRELVLYDKEEIRRIWRQANNGDDATAGLTHMMIWHSNLNDTTYQRTRALVRTGMDPRMCSLMQGSTLPRRSGAAGAAVKGVGTMVMELIRMIKRGINDRNFWRGENGRKTRSAYERMCNILKGKFQTAAQRAMMDQVRESRNPGNAEIEDLIFLARSALILRGSVAHKSCLPACVYGPAVASGYDFEKEGYSLVGIDPFKLLQNSQVYSLIRPNENPAHKSQLVWMACNSAAFEDLRVLSFIRGTKVSPRGKLSTRGVQIASNENMDAMESSTLELRSRYWAIRTRSGGNTNQQRASAGQISVQPAFSVQRNLPFDKPTIMAAFTGNTEGRTSDMRAEIIRMMEGAKPEEMSFQGRGVFELSDERAANPIVPSFDMSNEGSYFFGDNAEEYDN...\n",
      "{'query_id': '93bb468f-acbf-4d6f-85e9-24bd8378b52a', 'result_type': 'entry', 'total_count': 21, 'result_set': [{'identifier': '7NT8', 'score': 1.0}, {'identifier': '2YMN', 'score': 0.6461538461538462}, {'identifier': '5B7B', 'score': 0.6461538461538462}, {'identifier': '5TJW', 'score': 0.6461538461538462}, {'identifier': '6J1U', 'score': 0.6461538461538462}, {'identifier': '3ZDP', 'score': 0.6230769230769231}, {'identifier': '2IQH', 'score': 0.5692307692307692}, {'identifier': '2WFS', 'score': 0.5692307692307692}, {'identifier': '3RO5', 'score': 0.5692307692307692}, {'identifier': '3TG6', 'score': 0.5692307692307692}]}\n",
      "WARNING: no Alpha fold structure found.\n"
     ]
    },
    {
     "name": "stderr",
     "output_type": "stream",
     "text": [
      "  % Total    % Received % Xferd  Average Speed   Time    Time     Time  Current\n",
      "                                 Dload  Upload   Total   Spent    Left  Speed\n",
      "100  833k    0  833k    0     0   815k      0 --:--:--  0:00:01 --:--:--  821k\n"
     ]
    },
    {
     "name": "stdout",
     "output_type": "stream",
     "text": [
      "Downloading sequence MEEPQSDPSVEPPLSQETFSDLWKLLPENNVLSPLPSQAMDDLMLSPDDIEQWFTEDPGPDEAPRMPEAAPPVAPAPAAPTPAAPAPAPSWPLSSSVPSQKTYQGSYGFRLGFLHSGTAKSVTCTYSPALNKMFCQLAKTCPVQLWVDSTPPPGTRVRAMAIYKQSQHMTEVVRRCPHHERCSDSDGLAPPQHLIRVEGNLRVEYLDDRNTFRHSVVVPYEPPEVGSDCTTIHYNYMCNSSCMGGMNRRPILTIITLEDSSGNLLGRNSFEVRVCACPGRDRRTEEENLRKKGEPHHELPPGSTKRALPNNTSSSPQPKKKPLDGEYFTLQIRGRERFEMFRELNEALELKDAQAGKEPGGSRAHSSHLKSKKGQSTSRHKKLMFKTEGPDSD...\n",
      "{'query_id': '6c1b9067-16f0-468a-ac84-2e6826150235', 'result_type': 'entry', 'total_count': 187, 'result_set': [{'identifier': '6XRE', 'score': 1.0}, {'identifier': '7XZZ', 'score': 1.0}, {'identifier': '8F2H', 'score': 1.0}, {'identifier': '8F2I', 'score': 1.0}, {'identifier': 'AF_AFK7PPA8F1', 'score': 1.0}, {'identifier': 'AF_AFP04637F1', 'score': 1.0}, {'identifier': 'AF_AFP56423F1', 'score': 0.956}, {'identifier': 'AF_AFP56424F1', 'score': 0.956}, {'identifier': 'AF_AFP61260F1', 'score': 0.956}, {'identifier': 'AF_AFP13481F1', 'score': 0.9533333333333334}]}\n",
      "WARNING: multiple predicted structures found.\n",
      "WARNING: multiple experimental structures found.\n"
     ]
    },
    {
     "name": "stderr",
     "output_type": "stream",
     "text": [
      "  % Total    % Received % Xferd  Average Speed   Time    Time     Time  Current\n",
      "                                 Dload  Upload   Total   Spent    Left  Speed\n",
      "100 5480k    0 5480k    0     0  1505k      0 --:--:--  0:00:03 --:--:-- 1507k\n",
      "  % Total    % Received % Xferd  Average Speed   Time    Time     Time  Current\n",
      "                                 Dload  Upload   Total   Spent    Left  Speed\n",
      "100 1503k    0 1503k    0     0  1311k      0 --:--:--  0:00:01 --:--:-- 1314k\n",
      "  % Total    % Received % Xferd  Average Speed   Time    Time     Time  Current\n",
      "                                 Dload  Upload   Total   Spent    Left  Speed\n",
      "100  965k    0  965k    0     0   906k      0 --:--:--  0:00:01 --:--:--  908k\n",
      "  % Total    % Received % Xferd  Average Speed   Time    Time     Time  Current\n",
      "                                 Dload  Upload   Total   Spent    Left  Speed\n",
      "100  483k    0  483k    0     0   603k      0 --:--:-- --:--:-- --:--:--  604k\n",
      "  % Total    % Received % Xferd  Average Speed   Time    Time     Time  Current\n",
      "                                 Dload  Upload   Total   Spent    Left  Speed\n",
      "100  248k  100  248k    0     0  2327k      0 --:--:-- --:--:-- --:--:-- 2388k\n",
      "  % Total    % Received % Xferd  Average Speed   Time    Time     Time  Current\n",
      "                                 Dload  Upload   Total   Spent    Left  Speed\n",
      "100  248k  100  248k    0     0  1458k      0 --:--:-- --:--:-- --:--:-- 1487k\n"
     ]
    },
    {
     "name": "stdout",
     "output_type": "stream",
     "text": [
      "Downloading sequence MSGIALSRLAQERKAWRKDHPFGFVAVPTKNPDGTMNLMNWECAIPGKKGTPWEGGLFKLRMLFKDDYPSSPPKCKFEPPLFHPNVYPSGTVCLSILEEDKDWRPAITIKQILLGIQELLNEPNIQDPAQAEAYTIYCQNRVEYEKRVRAQAKKFAPSY...\n",
      "{'query_id': '4e85d490-c9df-4509-8ddf-640a5fbfc82c', 'result_type': 'entry', 'total_count': 44, 'result_set': [{'identifier': '1A3S', 'score': 1.0}, {'identifier': '1KPS', 'score': 1.0}, {'identifier': '1U9A', 'score': 1.0}, {'identifier': '1U9B', 'score': 1.0}, {'identifier': '1Z5S', 'score': 1.0}, {'identifier': '2GRN', 'score': 1.0}, {'identifier': '2O25', 'score': 1.0}, {'identifier': '2PE6', 'score': 1.0}, {'identifier': '2PX9', 'score': 1.0}, {'identifier': '2VRR', 'score': 1.0}]}\n",
      "WARNING: no Alpha fold structure found.\n",
      "WARNING: multiple experimental structures found.\n"
     ]
    },
    {
     "name": "stderr",
     "output_type": "stream",
     "text": [
      "  % Total    % Received % Xferd  Average Speed   Time    Time     Time  Current\n",
      "                                 Dload  Upload   Total   Spent    Left  Speed\n",
      "100  104k    0  104k    0     0   162k      0 --:--:-- --:--:-- --:--:--  164k\n",
      "  % Total    % Received % Xferd  Average Speed   Time    Time     Time  Current\n",
      "                                 Dload  Upload   Total   Spent    Left  Speed\n",
      "100  230k    0  230k    0     0   313k      0 --:--:-- --:--:-- --:--:--  314k\n",
      "  % Total    % Received % Xferd  Average Speed   Time    Time     Time  Current\n",
      "                                 Dload  Upload   Total   Spent    Left  Speed\n",
      "100  113k    0  113k    0     0   171k      0 --:--:-- --:--:-- --:--:--  172k\n",
      "  % Total    % Received % Xferd  Average Speed   Time    Time     Time  Current\n",
      "                                 Dload  Upload   Total   Spent    Left  Speed\n",
      "100  112k    0  112k    0     0   168k      0 --:--:-- --:--:-- --:--:--  169k\n",
      "  % Total    % Received % Xferd  Average Speed   Time    Time     Time  Current\n",
      "                                 Dload  Upload   Total   Spent    Left  Speed\n",
      "100  292k    0  292k    0     0   382k      0 --:--:-- --:--:-- --:--:--  384k\n",
      "  % Total    % Received % Xferd  Average Speed   Time    Time     Time  Current\n",
      "                                 Dload  Upload   Total   Spent    Left  Speed\n",
      "100  227k    0  227k    0     0   306k      0 --:--:-- --:--:-- --:--:--  306k\n",
      "  % Total    % Received % Xferd  Average Speed   Time    Time     Time  Current\n",
      "                                 Dload  Upload   Total   Spent    Left  Speed\n",
      "100  236k    0  236k    0     0   316k      0 --:--:-- --:--:-- --:--:--  317k\n",
      "  % Total    % Received % Xferd  Average Speed   Time    Time     Time  Current\n",
      "                                 Dload  Upload   Total   Spent    Left  Speed\n",
      "100  160k    0  160k    0     0   265k      0 --:--:-- --:--:-- --:--:--  266k\n",
      "  % Total    % Received % Xferd  Average Speed   Time    Time     Time  Current\n",
      "                                 Dload  Upload   Total   Spent    Left  Speed\n",
      "100  484k    0  484k    0     0   513k      0 --:--:-- --:--:-- --:--:--  514k\n",
      "  % Total    % Received % Xferd  Average Speed   Time    Time     Time  Current\n",
      "                                 Dload  Upload   Total   Spent    Left  Speed\n",
      "100  333k    0  333k    0     0   438k      0 --:--:-- --:--:-- --:--:--  439k\n"
     ]
    },
    {
     "name": "stdout",
     "output_type": "stream",
     "text": [
      "Downloading sequence MPSWALFMVTSCLLLAPQNLAQVSSQDVSLLASDSEPLKCFSRTFEDLTCFWDEEEAAPSGTYQLLYAYPREKPRACPLSSQSMPHFGTRYVCQFPDQEEVRLFFPLHLWVKNVFLNQTRTQRVLFVDSVGLPAPPSIIKAMGGSQPGELQISWEEPAPEISDFLRYELRYGPRDPKNSTGPTVIQLIATETCCPALQRPHSASALDQSPCAQPTMPWQDGPKQTSPSREASALTAEGGSCLISGLQPGNSYWLQLRSEPDGISLGGSWGSWSLPVTVDLPGDAVALGLQCFTLDLKNVTCQWQQQDHASSQGFFYHSRARCCPRDRYPIWENCEEEEKTNPGLQTPQFSRCHFKSRNDSIIHILVEVTTAPGTVHSYLGSPFWIHQAVRLPTPNLHWREISSGHLELEWQHPSSWAAQETCYQLRYTGEGHQDWKVLEPPLGARGGTLELRPRSRYRLQLRARLNGPTYQGPWSSWSDPTRVETATETAWISLVTALHLVLGLNAVLGLLLLRWQFPAHYRRLRHALWPSLPDLHRVLGQYLRDTAALSPPKATVSDTCEEVEPSLLEILPKSSERTPLPLCSSQAQMDYRRLQPSCLGTMPLSVCPPMAESGSCCTTHIANHSYLPLSYWQQP...\n",
      "{'query_id': 'ab42cb8b-bf7f-49fa-a6f8-2ee95404d597', 'result_type': 'entry', 'total_count': 3, 'result_set': [{'identifier': 'AF_AFP40238F1', 'score': 1.0}, {'identifier': 'MA_MAT3VR3548', 'score': 0.0}, {'identifier': 'MA_MAT3VR3549', 'score': 0.0}]}\n"
     ]
    },
    {
     "name": "stderr",
     "output_type": "stream",
     "text": [
      "  % Total    % Received % Xferd  Average Speed   Time    Time     Time  Current\n",
      "                                 Dload  Upload   Total   Spent    Left  Speed\n",
      "100  404k    0  404k    0     0  1436k      0 --:--:-- --:--:-- --:--:-- 1471k\n"
     ]
    },
    {
     "name": "stdout",
     "output_type": "stream",
     "text": [
      "Downloading sequence MDSLVVLVLCLSCLLLLSLWRQSSGRGKLPPGPTPLPVIGNILQIGIKDISKSLTNLSKVYGPVFTLYFGLKPIVVLHGYEAVKEALIDLGEEFSGRGIFPLAERANRGFGIVFSNGKKWKEIRRFSLMTLRNFGMGKRSIEDRVQEEARCLVEELRKTKASPCDPTFILGCAPCNVICSIIFHKRFDYKDQQFLNLMEKLNENIKILSSPWIQICNNFSPIIDYFPGTHNKLLKNVAFMKSYILEKVKEHQESMDMNNPQDFIDCFLMKMEKEKHNQPSEFTIESLENTAVDLFGAGTETTSTTLRYALLLLLKHPEVTAKVQEEIERVIGRNRSPCMQDRSHMPYTDAVVHEVQRYIDLLPTSLPHAVTCDIKFRNYLIPKGTTILISLTSVLHDNKEFPNPEMFDPHHFLDEGGNFKKSKYFMPFSAGKRICVGEALAGMELFLFLTSILQNFNLKSLVDPKNLDTTPVVNGFASVPPFYQLCFIPV...\n",
      "{'query_id': '054323cf-86fd-49f3-8936-c101f492e25a', 'result_type': 'entry', 'total_count': 16, 'result_set': [{'identifier': 'AF_AFP11712F1', 'score': 1.0}, {'identifier': '1R9O', 'score': 0.6608695652173913}, {'identifier': '5A5I', 'score': 0.6608695652173913}, {'identifier': '5A5J', 'score': 0.6608695652173913}, {'identifier': '5K7K', 'score': 0.6608695652173913}, {'identifier': '5W0C', 'score': 0.6608695652173913}, {'identifier': '5X24', 'score': 0.6521739130434783}, {'identifier': '5X23', 'score': 0.6434782608695652}, {'identifier': '7RL2', 'score': 0.6347826086956522}, {'identifier': '6VLT', 'score': 0.6260869565217392}]}\n"
     ]
    },
    {
     "name": "stderr",
     "output_type": "stream",
     "text": [
      "  % Total    % Received % Xferd  Average Speed   Time    Time     Time  Current\n",
      "                                 Dload  Upload   Total   Spent    Left  Speed\n",
      "100  316k    0  316k    0     0  1094k      0 --:--:-- --:--:-- --:--:-- 1105k\n"
     ]
    },
    {
     "name": "stdout",
     "output_type": "stream",
     "text": [
      "Downloading sequence MAGRSGDSDEELIRTVRLIKLLYQSNPPPNPEGTRQARRNRRRRWRERQRQIHSISERILSTYLGRSAEPVPLQLPPLERLTLDCNEDCGTSGTQGVGSPQILVESPTVLESGTKE...\n",
      "{'query_id': '5fd20de9-210e-48b3-b9a6-7a7dd9ab898a', 'result_type': 'entry', 'total_count': 8, 'result_set': [{'identifier': '2X7L', 'score': 1.0}, {'identifier': '6CF2', 'score': 0.594059405940594}, {'identifier': '6BSY', 'score': 0.09900990099009901}, {'identifier': '3LPH', 'score': 0.04950495049504951}, {'identifier': '5DHV', 'score': 0.0}, {'identifier': '5DHX', 'score': 0.0}, {'identifier': '5DHY', 'score': 0.0}, {'identifier': '5DHZ', 'score': 0.0}]}\n",
      "WARNING: no Alpha fold structure found.\n"
     ]
    },
    {
     "name": "stderr",
     "output_type": "stream",
     "text": [
      "  % Total    % Received % Xferd  Average Speed   Time    Time     Time  Current\n",
      "                                 Dload  Upload   Total   Spent    Left  Speed\n",
      "100  650k    0  650k    0     0   653k      0 --:--:-- --:--:-- --:--:--  656k\n"
     ]
    },
    {
     "name": "stdout",
     "output_type": "stream",
     "text": [
      "Downloading sequence MDVYMKGLSKAKEGVVAAAEKTKQGVAEAAGKTKEGVLFVGSKTKEGVVHGVATVAEKTKEQVTNVGGAVVTGVTAVAQKTVEGAGSIAAATGYVKKDQLGKNEEGAPQEGILEDMPVDPDNEAFEMPSEEGFQDFEPEA...\n",
      "{'query_id': 'af08b899-7de0-46e7-b2e0-87f05d5207ba', 'result_type': 'entry', 'total_count': 85, 'result_set': [{'identifier': '1XQ8', 'score': 1.0}, {'identifier': '2KKW', 'score': 1.0}, {'identifier': '2N0A', 'score': 1.0}, {'identifier': '6CU7', 'score': 1.0}, {'identifier': '6CU8', 'score': 1.0}, {'identifier': '6L1T', 'score': 1.0}, {'identifier': '6L1U', 'score': 1.0}, {'identifier': '6OSJ', 'score': 1.0}, {'identifier': '6OSL', 'score': 1.0}, {'identifier': '6OSM', 'score': 1.0}]}\n",
      "WARNING: no Alpha fold structure found.\n",
      "WARNING: multiple experimental structures found.\n"
     ]
    },
    {
     "name": "stderr",
     "output_type": "stream",
     "text": [
      "  % Total    % Received % Xferd  Average Speed   Time    Time     Time  Current\n",
      "                                 Dload  Upload   Total   Spent    Left  Speed\n",
      "100  162k    0  162k    0     0   214k      0 --:--:-- --:--:-- --:--:--  216k\n",
      "  % Total    % Received % Xferd  Average Speed   Time    Time     Time  Current\n",
      "                                 Dload  Upload   Total   Spent    Left  Speed\n",
      "100  162k    0  162k    0     0   242k      0 --:--:-- --:--:-- --:--:--  243k\n",
      "  % Total    % Received % Xferd  Average Speed   Time    Time     Time  Current\n",
      "                                 Dload  Upload   Total   Spent    Left  Speed\n",
      "100 1610k    0 1610k    0     0  1331k      0 --:--:--  0:00:01 --:--:-- 1335k\n",
      "  % Total    % Received % Xferd  Average Speed   Time    Time     Time  Current\n",
      "                                 Dload  Upload   Total   Spent    Left  Speed\n",
      "100  343k    0  343k    0     0   400k      0 --:--:-- --:--:-- --:--:--  401k\n",
      "  % Total    % Received % Xferd  Average Speed   Time    Time     Time  Current\n",
      "                                 Dload  Upload   Total   Spent    Left  Speed\n",
      "100  241k    0  241k    0     0   328k      0 --:--:-- --:--:-- --:--:--  329k\n",
      "  % Total    % Received % Xferd  Average Speed   Time    Time     Time  Current\n",
      "                                 Dload  Upload   Total   Spent    Left  Speed\n",
      "100  577k    0  577k    0     0   647k      0 --:--:-- --:--:-- --:--:--  649k\n",
      "  % Total    % Received % Xferd  Average Speed   Time    Time     Time  Current\n",
      "                                 Dload  Upload   Total   Spent    Left  Speed\n",
      "100  861k    0  861k    0     0   909k      0 --:--:-- --:--:-- --:--:--  911k\n",
      "  % Total    % Received % Xferd  Average Speed   Time    Time     Time  Current\n",
      "                                 Dload  Upload   Total   Spent    Left  Speed\n",
      "100  347k    0  347k    0     0   491k      0 --:--:-- --:--:-- --:--:--  492k\n",
      "  % Total    % Received % Xferd  Average Speed   Time    Time     Time  Current\n",
      "                                 Dload  Upload   Total   Spent    Left  Speed\n",
      "100  339k    0  339k    0     0   471k      0 --:--:-- --:--:-- --:--:--  472k\n",
      "  % Total    % Received % Xferd  Average Speed   Time    Time     Time  Current\n",
      "                                 Dload  Upload   Total   Spent    Left  Speed\n",
      "100  338k    0  338k    0     0   396k      0 --:--:-- --:--:-- --:--:--  397k\n"
     ]
    },
    {
     "name": "stdout",
     "output_type": "stream",
     "text": [
      "Downloading sequence MDPGQQPPPQPAPQGQGQPPSQPPQGQGPPSGPGQPAPAATQAAPQAPPAGHQIVHVRGDSETDLEALFNAVMNPKTANVPQTVPMRLRKLPDSFFKPPEPKSHSRQASTDAGTAGALTPQHVRAHSSPASLQLGAVSPGTLTPTGVVSGPAATPTAQHLRQSSFEIPDDVPLPAGWEMAKTSSGQRYFLNHIDQTTTWQDPRKAMLSQMNVTAPTSPPVQQNMMNSASGPLPDGWEQAMTQDGEIYYINHKNKTTSWLDPRLDPRFAMNQRISQSAPVKQPPPLAPQSPQGGVMGGSNSNQQQQMRLQQLQMEKERLRLKQQELLRQAMRNINPSTANSPKCQELALRSQLPTLEQDGGTQNPVSSPGMSQELRTMTTNSSDPFLNSGTYHSRDESTDSGLSMSSYSVPRTPDDFLNSVDEMDTGDTINQSTLPSQQNRFPDYLEAIPGTNVDLGTLEGDGMNIEGEELMPSLQEALSSDILNDMESVLAATKLDKESFLTWL...\n",
      "{'query_id': '6124d401-c6c3-49d2-beff-e232cd88f24c', 'result_type': 'entry', 'total_count': 29, 'result_set': [{'identifier': 'AF_AFP46937F1', 'score': 1.0}, {'identifier': '3KYS', 'score': 0.17900552486187846}, {'identifier': '4RE1', 'score': 0.16685082872928178}, {'identifier': '8A8R', 'score': 0.02983425414364641}, {'identifier': '8A8Q', 'score': 0.023204419889502764}, {'identifier': '1JMQ', 'score': 0.020994475138121547}, {'identifier': '4REX', 'score': 0.020994475138121547}, {'identifier': '1K9Q', 'score': 0.012154696132596685}, {'identifier': '1K9R', 'score': 0.012154696132596685}, {'identifier': '1K5R', 'score': 0.009944751381215469}]}\n"
     ]
    },
    {
     "name": "stderr",
     "output_type": "stream",
     "text": [
      "  % Total    % Received % Xferd  Average Speed   Time    Time     Time  Current\n",
      "                                 Dload  Upload   Total   Spent    Left  Speed\n",
      "100  308k    0  308k    0     0  1410k      0 --:--:-- --:--:-- --:--:-- 1450k\n"
     ]
    },
    {
     "name": "stdout",
     "output_type": "stream",
     "text": [
      "Downloading sequence MASQGTKRSYEQMETDGERQNATEIRASVGKMIGGIGRFYIQMCTELKLSDYEGRLIQNSLTIERMVLSAFDERRNKYLEEHPSAGKDPKKTGGPIYRRVNGKWMRELILYDKEEIRRIWRQANNGDDATAGLTHMMIWHSNLNDATYQRTRALVRTGMDPRMCSLMQGSTLPRRSGAAGAAVKGVGTMVMELVRMIKRGINDRNFWRGENGRKTRIAYERMCNILKGKFQTAAQKAMMDQVRESRNPGNAEFEDLTFLARSALILRGSVAHKSCLPACVYGPAVASGYDFEREGYSLVGIDPFRLLQNSQVYSLIRPNENPAHKSQLVWMACHSAAFEDLRVLSFIKGTKVLPRGKLSTRGVQIASNENMETMESSTLELRSRYWAIRTRSGGNTNQQRASAGQISIQPTFSVQRNLPFDRTTIMAAFNGNTEGRTSDMRTEIIRMMESARPEDVSFQGRGVFELSDEKAASPIVPSFDMSNEGSYFFGDNAEEYDN...\n",
      "{'query_id': '868d2660-a7f6-439d-b942-3a6d6d73f6bf', 'result_type': 'entry', 'total_count': 23, 'result_set': [{'identifier': '2YMN', 'score': 1.0}, {'identifier': '5B7B', 'score': 1.0}, {'identifier': '5TJW', 'score': 1.0}, {'identifier': '6J1U', 'score': 1.0}, {'identifier': '3ZDP', 'score': 0.9978142076502732}, {'identifier': '2IQH', 'score': 0.9901639344262295}, {'identifier': '2WFS', 'score': 0.9901639344262295}, {'identifier': '3RO5', 'score': 0.9901639344262295}, {'identifier': '3TG6', 'score': 0.9901639344262295}, {'identifier': '4BBL', 'score': 0.9901639344262295}]}\n",
      "WARNING: no Alpha fold structure found.\n",
      "WARNING: multiple experimental structures found.\n"
     ]
    },
    {
     "name": "stderr",
     "output_type": "stream",
     "text": [
      "  % Total    % Received % Xferd  Average Speed   Time    Time     Time  Current\n",
      "                                 Dload  Upload   Total   Spent    Left  Speed\n",
      "100 1533k    0 1533k    0     0  1199k      0 --:--:--  0:00:01 --:--:-- 1204k\n",
      "  % Total    % Received % Xferd  Average Speed   Time    Time     Time  Current\n",
      "                                 Dload  Upload   Total   Spent    Left  Speed\n",
      "100 1614k    0 1614k    0     0  1219k      0 --:--:--  0:00:01 --:--:-- 1222k\n",
      "  % Total    % Received % Xferd  Average Speed   Time    Time     Time  Current\n",
      "                                 Dload  Upload   Total   Spent    Left  Speed\n",
      "100 1103k    0 1103k    0     0  1000k      0 --:--:--  0:00:01 --:--:-- 1003k\n",
      "  % Total    % Received % Xferd  Average Speed   Time    Time     Time  Current\n",
      "                                 Dload  Upload   Total   Spent    Left  Speed\n",
      "100 1663k    0 1663k    0     0  1079k      0 --:--:--  0:00:01 --:--:-- 1080k\n"
     ]
    },
    {
     "name": "stdout",
     "output_type": "stream",
     "text": [
      "Downloading sequence MRRLWEIVEAKKKDILEIDGENLIVQRRNHRFLEVLSGKERVKIIAEFKKASPSAGDINADASLEDFIRMYDELADAISILTEKHYFKGDPAFVRAARNLTSRPILAKDFYIDTVQVKLASSVGADAILIIARILTAEQIKEIYEAAEELGMDSLVEVHSREDLEKVFSVIRPKIIGINTRDLDTFEIKKNVLWELLPLVPDDTVVVAESGIKDPRELKDLRGKVNAVLVGTSIMKAENPRRFLEEMRAWSE...\n",
      "{'query_id': '607f147f-5db1-4693-9b2b-eefeb9adde9c', 'result_type': 'entry', 'total_count': 3, 'result_set': [{'identifier': 'AF_AFQ56319F1', 'score': 1.0}, {'identifier': '1I4N', 'score': 0.9555555555555556}, {'identifier': '1J5T', 'score': 0.0}]}\n"
     ]
    },
    {
     "name": "stderr",
     "output_type": "stream",
     "text": [
      "  % Total    % Received % Xferd  Average Speed   Time    Time     Time  Current\n",
      "                                 Dload  Upload   Total   Spent    Left  Speed\n",
      "100  165k    0  165k    0     0   723k      0 --:--:-- --:--:-- --:--:--  743k\n"
     ]
    },
    {
     "name": "stdout",
     "output_type": "stream",
     "text": [
      "Downloading sequence MSIQHFRVALIPFFAAFCLPVFAHPETLVKVKDAEDQLGARVGYIELDLNSGKILESFRPEERFPMMSTFKVLLCGAVLSRVDAGQEQLGRRIHYSQNDLVEYSPVTEKHLTDGMTVRELCSAAITMSDNTAANLLLTTIGGPKELTAFLHNMGDHVTRLDRWEPELNEAIPNDERDTTMPAAMATTLRKLLTGELLTLASRQQLIDWMEADKVAGPLLRSALPAGWFIADKSGAGERGSRGIIAALGPDGKPSRIVVIYTTGSQATMDERNRQIAEIGASLIKHW...\n",
      "{'query_id': 'fa4c92b3-0c68-42f2-a998-8c85e9d882ef', 'result_type': 'entry', 'total_count': 98, 'result_set': [{'identifier': 'AF_AFA0A0H3H688F1', 'score': 1.0}, {'identifier': 'AF_AFP62593F1', 'score': 1.0}, {'identifier': 'AF_AFP62594F1', 'score': 1.0}, {'identifier': '1ZG4', 'score': 0.9881656804733728}, {'identifier': 'AF_AFQ48406F1', 'score': 0.9822485207100592}, {'identifier': '1ZG6', 'score': 0.9763313609467456}, {'identifier': '4ZJ1', 'score': 0.9763313609467456}, {'identifier': '4ZJ2', 'score': 0.9644970414201184}, {'identifier': '3P98', 'score': 0.9526627218934911}, {'identifier': '4ZJ3', 'score': 0.9526627218934911}]}\n",
      "WARNING: multiple predicted structures found.\n"
     ]
    },
    {
     "name": "stderr",
     "output_type": "stream",
     "text": [
      "  % Total    % Received % Xferd  Average Speed   Time    Time     Time  Current\n",
      "                                 Dload  Upload   Total   Spent    Left  Speed\n",
      "100   127  100   127    0     0   1568      0 --:--:-- --:--:-- --:--:--  1716\n",
      "/Users/antoniaboca/miniconda3/envs/diss/lib/python3.8/site-packages/biopandas/pdb/pandas_pdb.py:461: UserWarning: No ATOM/HETATM entries have been loaded. Is the input file/text in the pdb format?\n",
      "  warnings.warn(\n",
      "  % Total    % Received % Xferd  Average Speed   Time    Time     Time  Current\n",
      "                                 Dload  Upload   Total   Spent    Left  Speed\n",
      "100  180k  100  180k    0     0  1121k      0 --:--:-- --:--:-- --:--:-- 1149k\n",
      "  % Total    % Received % Xferd  Average Speed   Time    Time     Time  Current\n",
      "                                 Dload  Upload   Total   Spent    Left  Speed\n",
      "100  180k    0  180k    0     0  1036k      0 --:--:-- --:--:-- --:--:-- 1055k\n"
     ]
    },
    {
     "name": "stdout",
     "output_type": "stream",
     "text": [
      "Downloading sequence MSKGEELFTGVVPILVELDGDVNGHKFSVSGEGEGDATYGKLTLKFICTTGKLPVPWPTLVTTLSYGVQCFSRYPDHMKQHDFFKSAMPEGYVQERTIFFKDDGNYKTRAEVKFEGDTLVNRIELKGIDFKEDGNILGHKLEYNYNSHNVYIMADKQKNGIKVNFKIRHNIEDGSVQLADHYQQNTPIGDGPVLLPDNHYLSTQSALSKDPNEKRDHMVLLEFVTAAGITHGMDELYK...\n",
      "{'query_id': '42ec63e9-8018-4341-ae2f-589e46072b4e', 'result_type': 'entry', 'total_count': 541, 'result_set': [{'identifier': 'AF_AFP42212F1', 'score': 1.0}, {'identifier': '1EMM', 'score': 0.9945945945945946}, {'identifier': '1W7S', 'score': 0.9945945945945946}, {'identifier': '2OKW', 'score': 0.9945945945945946}, {'identifier': '2OKY', 'score': 0.9945945945945946}, {'identifier': '2Q6P', 'score': 0.9945945945945946}, {'identifier': '5N9O', 'score': 0.9945945945945946}, {'identifier': '1C4F', 'score': 0.9918918918918919}, {'identifier': '1EMA', 'score': 0.9918918918918919}, {'identifier': '1EMB', 'score': 0.9918918918918919}]}\n"
     ]
    },
    {
     "name": "stderr",
     "output_type": "stream",
     "text": [
      "  % Total    % Received % Xferd  Average Speed   Time    Time     Time  Current\n",
      "                                 Dload  Upload   Total   Spent    Left  Speed\n",
      "100  155k    0  155k    0     0  1064k      0 --:--:-- --:--:-- --:--:-- 1109k\n"
     ]
    },
    {
     "name": "stdout",
     "output_type": "stream",
     "text": [
      "Downloading sequence MTASAQPRGRRPGVGVGVVVTSCKHPRCVLLGKRKGSVGAGSFQLPGGHLEFGETWEECAQRETWEEAALHLKNVHFASVVNSFIEKENYHYVTILMKGEVDVTHDSEPKNVEPEKNESWEWVPWEELPPLDQLFWGLRCLKEQGYDPFKEDLNHLVGYKGNHL...\n",
      "{'query_id': '0d704876-eb5a-4842-997a-7743f2edea9c', 'result_type': 'entry', 'total_count': 13, 'result_set': [{'identifier': '5BON', 'score': 1.0}, {'identifier': '5LPG', 'score': 1.0}, {'identifier': '6T5J', 'score': 1.0}, {'identifier': '7AOM', 'score': 1.0}, {'identifier': '7AOP', 'score': 1.0}, {'identifier': '7B63', 'score': 1.0}, {'identifier': '7B64', 'score': 1.0}, {'identifier': '7B7V', 'score': 1.0}, {'identifier': '7NR6', 'score': 1.0}, {'identifier': 'AF_AFQ9NV35F1', 'score': 1.0}]}\n",
      "WARNING: multiple experimental structures found.\n"
     ]
    },
    {
     "name": "stderr",
     "output_type": "stream",
     "text": [
      "  % Total    % Received % Xferd  Average Speed   Time    Time     Time  Current\n",
      "                                 Dload  Upload   Total   Spent    Left  Speed\n",
      "100  260k    0  260k    0     0   329k      0 --:--:-- --:--:-- --:--:--  331k\n",
      "  % Total    % Received % Xferd  Average Speed   Time    Time     Time  Current\n",
      "                                 Dload  Upload   Total   Spent    Left  Speed\n",
      "100  423k    0  423k    0     0   481k      0 --:--:-- --:--:-- --:--:--  482k\n",
      "  % Total    % Received % Xferd  Average Speed   Time    Time     Time  Current\n",
      "                                 Dload  Upload   Total   Spent    Left  Speed\n",
      "100  111k    0  111k    0     0   146k      0 --:--:-- --:--:-- --:--:--  146k449k    0  449k    0     0   467k      0 --:--:-- --:--:-- --:--:--  468k\n",
      "  % Total    % Received % Xferd  Average Speed   Time    Time     Time  Current\n",
      "                                 Dload  Upload   Total   Spent    Left  Speed\n",
      "100  425k    0  425k    0     0   498k      0 --:--:-- --:--:-- --:--:--  499k\n",
      "  % Total    % Received % Xferd  Average Speed   Time    Time     Time  Current\n",
      "                                 Dload  Upload   Total   Spent    Left  Speed\n",
      "100  416k    0  416k    0     0   488k      0 --:--:-- --:--:-- --:--:--  489k\n",
      "  % Total    % Received % Xferd  Average Speed   Time    Time     Time  Current\n",
      "                                 Dload  Upload   Total   Spent    Left  Speed\n",
      "100  239k    0  239k    0     0   332k      0 --:--:-- --:--:-- --:--:--  333k\n",
      "  % Total    % Received % Xferd  Average Speed   Time    Time     Time  Current\n",
      "                                 Dload  Upload   Total   Spent    Left  Speed\n",
      "100  224k    0  224k    0     0   295k      0 --:--:-- --:--:-- --:--:--  296k\n",
      "  % Total    % Received % Xferd  Average Speed   Time    Time     Time  Current\n",
      "                                 Dload  Upload   Total   Spent    Left  Speed\n",
      "100  437k    0  437k    0     0   506k      0 --:--:-- --:--:-- --:--:--  507k\n",
      "  % Total    % Received % Xferd  Average Speed   Time    Time     Time  Current\n",
      "                                 Dload  Upload   Total   Spent    Left  Speed\n",
      "100  429k    0  429k    0     0   512k      0 --:--:-- --:--:-- --:--:--  513k\n",
      "  % Total    % Received % Xferd  Average Speed   Time    Time     Time  Current\n",
      "                                 Dload  Upload   Total   Spent    Left  Speed\n",
      "100  108k    0  108k    0     0   692k      0 --:--:-- --:--:-- --:--:--  706k\n"
     ]
    },
    {
     "name": "stdout",
     "output_type": "stream",
     "text": [
      "Downloading sequence MEELSADEIRRRRLARLAGGQTSQPTTPLTSPQRENPPGPPIAASAPGPSQSLGLNVHNMTPATSPIGAAGVAHRSQSSEGVSSLSSSPSNSLETQSQSLSRSQSMDIDGVSCEKSMSQVDVDSGIENMEVDENDRREKRSLSDKEPSSGPEVSEEQALQLVCKIFRVSWKDRDRDVIFLSSLSAQFKQNPKEVFSDFKDLIGQILMEVLMMSTQTRDENPFASLTATSQPIATAARSPDRNLMLNTGSSSGTSPMFCNMGSFSTSSLSSLGASGGASNWDSYSDHFTIETCKETDMLNYLIECFDRVGIEEKKAPKMCSQPAVSQLLSNIRSQCISHTALVLQGSLTQPRSLQQPSFLVPYMLCRNLPYGFIQELVRTTHQDEEVFKQIFIPILQGLALAAKECSLESDYFKYPLMALGELCETKFGKTHPMCNLVASLPLWLPKSLSPGSGRELQRLSYLGAFFSFSVFAEDDAKVVEKYFSGPAITLENTRVVSQSLQHYLELGRQELFKILHSILLNGETREAALSYMAALVNANMKKAQMQADDRLVSTDGFMLNLLWVLQQLSTKIKLETVDPTYIFHPRCRITLPNDETRINATMEDVNERLTELYGDQPPFSEPKFPTECFFLTLHAHHLSILPSCRRYIRRLRAIRELNRTVEDLKNNESQWKDSPLATRHREMLKRCKTQLKKLVRCKACADAGLLDESFLRRCLNFYGLLIQLMLRILDPAYPDVTLPLNSEVPKVFAALPEFYVEDVAEFLFFIVQYSPQVLYEPCTQDIVMFLVVMLCNQNYIRNPYLVAKLVEVMFMTNPSVQPRTQKFFEMIENHPLSTKLLVPSLMKFYTDVEHTGATSEFYDKFTIRYHISTIFKSLWQNIAHHGTFMEEFNSGKQFVRYINMLINDTTFLLDESLESLKRIHEVQEEMKNKEQWDQLPRDQQQARQSQLAQDERVSRSYLALATETVDMFHLLTKQVQKPFLRPELGPRLAAMLNFNLQQLCGPKCRDLKVENPEKYGFEPKKLLDQLTDIYLQLDCARFAKAIADDQRSYSKELFEEVISKMRKAGIKSTIAIEKFKLLAEKVEEIVAKNARAEIDYSDAPDEFRDPLMDTLMTDPVRLPSGTVMDRSIILRHLLNSPTDPFNRQMLTESMLEPVPELKEQIQAWMREKQSSDH...\n",
      "{'query_id': 'fbcb66e5-8731-42b7-965f-5302d79c63b6', 'result_type': 'entry', 'total_count': 7, 'result_set': [{'identifier': 'AF_AFQ9ES00F1', 'score': 1.0}, {'identifier': 'AF_AFF1M8V2F1', 'score': 0.9902597402597403}, {'identifier': '2KRE', 'score': 0.014842300556586271}, {'identifier': '3L1X', 'score': 0.014842300556586271}, {'identifier': '3L1Z', 'score': 0.014842300556586271}, {'identifier': '2KR4', 'score': 0.006493506493506494}, {'identifier': '5O75', 'score': 0.0}]}\n"
     ]
    },
    {
     "name": "stderr",
     "output_type": "stream",
     "text": [
      "  % Total    % Received % Xferd  Average Speed   Time    Time     Time  Current\n",
      "                                 Dload  Upload   Total   Spent    Left  Speed\n",
      "100  750k    0  750k    0     0  2185k      0 --:--:-- --:--:-- --:--:-- 2227k\n"
     ]
    },
    {
     "name": "stdout",
     "output_type": "stream",
     "text": [
      "Downloading sequence MFKLLSKLLVYLTASIMAIASPLAFSVDSSGEYPTVSEIPVGEVRLYQIADGVWSHIATQSFDGAVYPSNGLIVRDGDELLLIDTAWGAKNTAALLAEIEKQIGLPVTRAVSTHFHDDRVGGVDVLRAAGVATYASPSTRRLAEVEGNEIPTHSLEGLSSSGDAVRFGPVELFYPGAAHSTDNLIVYVPSASVLYGGCAIYELSRTSAGNVADADLAEWPTSIERIQQHYPEAQFVIPGHGLPGGLDLLKHTTNVVKAHTNRSVVE...\n",
      "{'query_id': '1aa6a459-5d72-4051-a001-ce5d103be98f', 'result_type': 'entry', 'total_count': 95, 'result_set': [{'identifier': '2YZ3', 'score': 1.0}, {'identifier': '5ACU', 'score': 1.0}, {'identifier': '5ACV', 'score': 1.0}, {'identifier': '5ACW', 'score': 1.0}, {'identifier': '5ACX', 'score': 1.0}, {'identifier': '5LCA', 'score': 1.0}, {'identifier': '5LCF', 'score': 1.0}, {'identifier': '5LCH', 'score': 1.0}, {'identifier': '5LE1', 'score': 1.0}, {'identifier': '5LM6', 'score': 1.0}]}\n",
      "WARNING: no Alpha fold structure found.\n",
      "WARNING: multiple experimental structures found.\n"
     ]
    },
    {
     "name": "stderr",
     "output_type": "stream",
     "text": [
      "  % Total    % Received % Xferd  Average Speed   Time    Time     Time  Current\n",
      "                                 Dload  Upload   Total   Spent    Left  Speed\n",
      "100  155k    0  155k    0     0   240k      0 --:--:-- --:--:-- --:--:--  243k\n",
      "  % Total    % Received % Xferd  Average Speed   Time    Time     Time  Current\n",
      "                                 Dload  Upload   Total   Spent    Left  Speed\n",
      "100  420k    0  420k    0     0   480k      0 --:--:-- --:--:-- --:--:--  481k\n",
      "  % Total    % Received % Xferd  Average Speed   Time    Time     Time  Current\n",
      "                                 Dload  Upload   Total   Spent    Left  Speed\n",
      "100  914k    0  914k    0     0   877k      0 --:--:--  0:00:01 --:--:--  880k\n",
      "  % Total    % Received % Xferd  Average Speed   Time    Time     Time  Current\n",
      "                                 Dload  Upload   Total   Spent    Left  Speed\n",
      "100  478k    0  478k    0     0   591k      0 --:--:-- --:--:-- --:--:--  593k\n",
      "  % Total    % Received % Xferd  Average Speed   Time    Time     Time  Current\n",
      "                                 Dload  Upload   Total   Spent    Left  Speed\n",
      "100  937k    0  937k    0     0   891k      0 --:--:--  0:00:01 --:--:--  894k\n",
      "  % Total    % Received % Xferd  Average Speed   Time    Time     Time  Current\n",
      "                                 Dload  Upload   Total   Spent    Left  Speed\n",
      "100  285k    0  285k    0     0   410k      0 --:--:-- --:--:-- --:--:--  411k\n",
      "  % Total    % Received % Xferd  Average Speed   Time    Time     Time  Current\n",
      "                                 Dload  Upload   Total   Spent    Left  Speed\n",
      "100  293k    0  293k    0     0   357k      0 --:--:-- --:--:-- --:--:--  358k\n",
      "  % Total    % Received % Xferd  Average Speed   Time    Time     Time  Current\n",
      "                                 Dload  Upload   Total   Spent    Left  Speed\n",
      "100  306k    0  306k    0     0   442k      0 --:--:-- --:--:-- --:--:--  443k\n",
      "  % Total    % Received % Xferd  Average Speed   Time    Time     Time  Current\n",
      "                                 Dload  Upload   Total   Spent    Left  Speed\n",
      "100  320k    0  320k    0     0   416k      0 --:--:-- --:--:-- --:--:--  417k\n",
      "  % Total    % Received % Xferd  Average Speed   Time    Time     Time  Current\n",
      "                                 Dload  Upload   Total   Spent    Left  Speed\n",
      "100  320k    0  320k    0     0   359k      0 --:--:-- --:--:-- --:--:--  360k\n"
     ]
    },
    {
     "name": "stdout",
     "output_type": "stream",
     "text": [
      "Downloading sequence MQFKVYTYKRESRYRLFVDVQSDIIDTPGRRMVIPLASARLLSDKVSRELYPVVHIGDESWRMMTTDMASVPVSVIGEEVADLSHRENDIKNAINLMFWGI...\n",
      "{'query_id': '3fb80598-89a9-4896-88cf-85dbb677830d', 'result_type': 'entry', 'total_count': 17, 'result_set': [{'identifier': '1VUB', 'score': 1.0}, {'identifier': '1X75', 'score': 1.0}, {'identifier': '2VUB', 'score': 1.0}, {'identifier': '3G7Z', 'score': 1.0}, {'identifier': '3HPW', 'score': 1.0}, {'identifier': '3VUB', 'score': 1.0}, {'identifier': '4VUB', 'score': 1.0}, {'identifier': 'AF_AFP62554F1', 'score': 1.0}, {'identifier': 'AF_AFP62555F1', 'score': 1.0}, {'identifier': 'AF_AFQ52042F1', 'score': 1.0}]}\n",
      "WARNING: multiple predicted structures found.\n",
      "WARNING: multiple experimental structures found.\n"
     ]
    },
    {
     "name": "stderr",
     "output_type": "stream",
     "text": [
      "  % Total    % Received % Xferd  Average Speed   Time    Time     Time  Current\n",
      "                                 Dload  Upload   Total   Spent    Left  Speed\n",
      "100  137k    0  137k    0     0   213k      0 --:--:-- --:--:-- --:--:--  214k\n",
      "  % Total    % Received % Xferd  Average Speed   Time    Time     Time  Current\n",
      "                                 Dload  Upload   Total   Spent    Left  Speed\n",
      "100  284k    0  284k    0     0   352k      0 --:--:-- --:--:-- --:--:--  354k\n",
      "  % Total    % Received % Xferd  Average Speed   Time    Time     Time  Current\n",
      "                                 Dload  Upload   Total   Spent    Left  Speed\n",
      "100  538k    0  538k    0     0   643k      0 --:--:-- --:--:-- --:--:--  645k\n",
      "  % Total    % Received % Xferd  Average Speed   Time    Time     Time  Current\n",
      "                                 Dload  Upload   Total   Spent    Left  Speed\n",
      "100  180k    0  180k    0     0   292k      0 --:--:-- --:--:-- --:--:--  293k\n",
      "  % Total    % Received % Xferd  Average Speed   Time    Time     Time  Current\n",
      "                                 Dload  Upload   Total   Spent    Left  Speed\n",
      "100  363k    0  363k    0     0   449k      0 --:--:-- --:--:-- --:--:--  451k\n",
      "  % Total    % Received % Xferd  Average Speed   Time    Time     Time  Current\n",
      "                                 Dload  Upload   Total   Spent    Left  Speed\n",
      "100  160k    0  160k    0     0   232k      0 --:--:-- --:--:-- --:--:--  233k\n",
      "  % Total    % Received % Xferd  Average Speed   Time    Time     Time  Current\n",
      "                                 Dload  Upload   Total   Spent    Left  Speed\n",
      "100  168k    0  168k    0     0   252k      0 --:--:-- --:--:-- --:--:--  253k\n",
      "  % Total    % Received % Xferd  Average Speed   Time    Time     Time  Current\n",
      "                                 Dload  Upload   Total   Spent    Left  Speed\n",
      "100 71036  100 71036    0     0  1243k      0 --:--:-- --:--:-- --:--:-- 1334k\n",
      "  % Total    % Received % Xferd  Average Speed   Time    Time     Time  Current\n",
      "                                 Dload  Upload   Total   Spent    Left  Speed\n",
      "100 71036  100 71036    0     0  1324k      0 --:--:-- --:--:-- --:--:-- 1415k\n",
      "  % Total    % Received % Xferd  Average Speed   Time    Time     Time  Current\n",
      "                                 Dload  Upload   Total   Spent    Left  Speed\n",
      "100 71036  100 71036    0     0   660k      0 --:--:-- --:--:-- --:--:--  680k\n"
     ]
    },
    {
     "name": "stdout",
     "output_type": "stream",
     "text": [
      "Downloading sequence MVPAAQQTAMAPDAALTFPEGFLWGSATASYQIEGAAAEDGRTPSIWDTYARTPGRVRNGDTGDVATDHYHRWREDVALMAELGLGAYRFSLAWPRIQPTGRGPALQKGLDFYRRLADELLAKGIQPVATLYHWDLPQELENAGGWPERATAERFAEYAAIAADALGDRVKTWTTLNEPWCSAFLGYGSGVHAPGRTDPVAALRAAHHLNLGHGLAVQALRDRLPADAQCSVTLNIHHVRPLTDSDADADAVRRIDALANRVFTGPMLQGAYPEDLVKDTAGLTDWSFVRDGDLRLAHQKLDFLGVNYYSPTLVSEADGSGTHNSDGHGRSAHSPWPGADRVAFHQPPGETTAMGWAVDPSGLYELLRRLSSDFPALPLVITENGAAFHDYADPEGNVNDPERIAYVRDHLAAVHRAIKDGSDVRGYFLWSLLDNFEWAHGYSKRFGAVYVDYPTGTRIPKASARWYAEVARTGVLPTAGDPNSSSVDKLAAALEHHHHHH...\n",
      "{'query_id': '7aa37763-1353-429c-9676-5ea9cf29a1b5', 'result_type': 'entry', 'total_count': 55, 'result_set': [{'identifier': '1GNX', 'score': 1.0}, {'identifier': '1GON', 'score': 1.0}, {'identifier': '7M7I', 'score': 0.0020768431983385254}, {'identifier': '7M7J', 'score': 0.0020768431983385254}, {'identifier': '1RJK', 'score': 0.0}, {'identifier': '1RK3', 'score': 0.0}, {'identifier': '1RKG', 'score': 0.0}, {'identifier': '1RKH', 'score': 0.0}, {'identifier': '1YX5', 'score': 0.0}, {'identifier': '1YX6', 'score': 0.0}]}\n",
      "WARNING: no Alpha fold structure found.\n",
      "WARNING: multiple experimental structures found.\n"
     ]
    },
    {
     "name": "stderr",
     "output_type": "stream",
     "text": [
      "  % Total    % Received % Xferd  Average Speed   Time    Time     Time  Current\n",
      "                                 Dload  Upload   Total   Spent    Left  Speed\n",
      "100  617k    0  617k    0     0   674k      0 --:--:-- --:--:-- --:--:--  678k\n",
      "  % Total    % Received % Xferd  Average Speed   Time    Time     Time  Current\n",
      "                                 Dload  Upload   Total   Spent    Left  Speed\n",
      "100  308k    0  308k    0     0   425k      0 --:--:-- --:--:-- --:--:--  426k\n"
     ]
    },
    {
     "name": "stdout",
     "output_type": "stream",
     "text": [
      "Downloading sequence MERIKELRDLMSQSRTREILTKTTVDHMAIIKKYTSGRQEKNPALRMKWMMAMKYPITADKRIMEMIPERNEQGQTLWSKTNDAGSDRVMVSPLAVTWWNRNGPTTSTVHYPKVYKTYFEKVERLKHGTFGPVHFRNQVKIRRRVDINPGHADLSAKEAQDVIMEVVFPNEVGARILTSESQLTITREKKEELQDCKIAPLMVAYMLERELVRKTRFLPVAGGTSSVYIEVLHLTQGTCWEQMYTPGGEVRNDDVDQSLIIAARNIVRRATVSADPLASLLEMCHSTQIGGIRMVDILRQNPTEEQAVDICKAAMGLRISSSFSFGGFTFKRTSGSSVKREEEVLTGNLQTLKIRVHEGYEEFTMVGRRATAILRKATRRLIQLIVSGRDEQSIAEAIIVALVFSQEDCMIKAVRGDLNFVNRANQRLNPMHQLLRHFQKDAKVLFQNWGIEPIDNVMGMIGILPDMTPSTEMSLRGIRVSKMGVDEYSSTERVVVSIDRFLRVRDQRGNVLLSPEEVSETQGTEKLTITYSSSMMWEINGPESVLVNTYQWIIRNWETVKIQWSQDPTMLYNKMEFEPFQSLVPKAARGQYSGFVRTLFQQMRDVLGTFDTVQIIKLLPFAAAPPEQSRMQFSSLTVNVRGSGMRILVRGNSPVFNYNKATKRLTVLGKDAGALTEDPDEGTAGVESAVLRGFLILGKEDKRYGPALSINELSNLAKGEKANVLIGQGDVVLVMKRKRDSSILTDSQTATKRIRMAIN...\n",
      "{'query_id': '9c81466a-9f46-458e-9dc1-6134e6312e7f', 'result_type': 'entry', 'total_count': 88, 'result_set': [{'identifier': '7NHA', 'score': 1.0}, {'identifier': '7NHC', 'score': 1.0}, {'identifier': '7NHX', 'score': 1.0}, {'identifier': '7NI0', 'score': 1.0}, {'identifier': '7NIK', 'score': 1.0}, {'identifier': '7NIL', 'score': 1.0}, {'identifier': '7NIR', 'score': 1.0}, {'identifier': '7NIS', 'score': 1.0}, {'identifier': '7NJ3', 'score': 1.0}, {'identifier': '7NJ4', 'score': 1.0}]}\n",
      "WARNING: no Alpha fold structure found.\n",
      "WARNING: multiple experimental structures found.\n"
     ]
    },
    {
     "name": "stderr",
     "output_type": "stream",
     "text": [
      "  % Total    % Received % Xferd  Average Speed   Time    Time     Time  Current\n",
      "                                 Dload  Upload   Total   Spent    Left  Speed\n",
      "100 2246k    0 2246k    0     0  1408k      0 --:--:--  0:00:01 --:--:-- 1414k\n",
      "  % Total    % Received % Xferd  Average Speed   Time    Time     Time  Current\n",
      "                                 Dload  Upload   Total   Spent    Left  Speed\n",
      "100 2222k    0 2222k    0     0  1357k      0 --:--:--  0:00:01 --:--:-- 1359k\n",
      "  % Total    % Received % Xferd  Average Speed   Time    Time     Time  Current\n",
      "                                 Dload  Upload   Total   Spent    Left  Speed\n",
      "100 2771k    0 2771k    0     0  1577k      0 --:--:--  0:00:01 --:--:-- 1579k\n",
      "  % Total    % Received % Xferd  Average Speed   Time    Time     Time  Current\n",
      "                                 Dload  Upload   Total   Spent    Left  Speed\n",
      "100 2348k    0 2348k    0     0  1305k      0 --:--:--  0:00:01 --:--:-- 1306k\n",
      "  % Total    % Received % Xferd  Average Speed   Time    Time     Time  Current\n",
      "                                 Dload  Upload   Total   Spent    Left  Speed\n",
      "100 2049k    0 2049k    0     0  1267k      0 --:--:--  0:00:01 --:--:-- 1268k\n",
      "  % Total    % Received % Xferd  Average Speed   Time    Time     Time  Current\n",
      "                                 Dload  Upload   Total   Spent    Left  Speed\n",
      "100 2050k    0 2050k    0     0  1316k      0 --:--:--  0:00:01 --:--:-- 1318k\n",
      "  % Total    % Received % Xferd  Average Speed   Time    Time     Time  Current\n",
      "                                 Dload  Upload   Total   Spent    Left  Speed\n",
      "100 2307k    0 2307k    0     0  1378k      0 --:--:--  0:00:01 --:--:-- 1380k\n",
      "  % Total    % Received % Xferd  Average Speed   Time    Time     Time  Current\n",
      "                                 Dload  Upload   Total   Spent    Left  Speed\n",
      "100 2041k    0 2041k    0     0  1189k      0 --:--:--  0:00:01 --:--:-- 1192k\n",
      "  % Total    % Received % Xferd  Average Speed   Time    Time     Time  Current\n",
      "                                 Dload  Upload   Total   Spent    Left  Speed\n",
      "100 2305k    0 2305k    0     0  1467k      0 --:--:--  0:00:01 --:--:-- 1470k\n",
      "  % Total    % Received % Xferd  Average Speed   Time    Time     Time  Current\n",
      "                                 Dload  Upload   Total   Spent    Left  Speed\n",
      "100 2308k    0 2308k    0     0  1439k      0 --:--:--  0:00:01 --:--:-- 1440k\n"
     ]
    },
    {
     "name": "stdout",
     "output_type": "stream",
     "text": [
      "Downloading sequence MKAKLLVLLYAFVATDADTICIGYHANNSTDTVDTILEKNVAVTHSVNLLEDSHNGKLCKLKGIAPLQLGKCNITGWLLGNPECDSLLPARSWSYIVETPNSENGACYPGDLIDYEELREQLSSVSSLERFEIFPKESSWPNHTFNGVTVSCSHRGKSSFYRNLLWLTKKGDSYPKLTNSYVNNKGKEVLVLWGVHHPSSSDEQQSLYSNGNAYVSVASSNYNRRFTPEIAARPKVRDQHGRMNYYWTLLEPGDTIIFEATGNLIAPWYAFALSRGFESGIITSNASMHECNTKCQTPQGAINSNLPFQNIHPVTIGECPKYVRSTKLRMVTGLRNIPSIQYRGLFGAIAGFIEGGWTGMIDGWYGYHHQNEQGSGYAADQKSTQNAINGITNKVNSVIEKMNTQFTAVGKEFNNLEKRMENLNKKVDDGFLDIWTYNAELLVLLENERTLDFHDLNVKNLYEKVKSQLKNNAKEIGNGCFEFYHKCDNECMESVRNGTYDYPKYSEESKLNREKIDGVKLESMGVYQILAIYSTVASSLVLLVSLGAISFWMCSNGSLQCRICI...\n",
      "{'query_id': 'd3ffa1cd-3cd0-47a2-b07a-da4155c10d3d', 'result_type': 'entry', 'total_count': 91, 'result_set': [{'identifier': '8CT6', 'score': 1.0}, {'identifier': '7UYI', 'score': 0.9947478991596639}, {'identifier': '6MYA', 'score': 0.9810924369747899}, {'identifier': '6OSR', 'score': 0.9495798319327731}, {'identifier': '2WRG', 'score': 0.4065126050420168}, {'identifier': '2WRH', 'score': 0.40336134453781514}, {'identifier': '6HJQ', 'score': 0.3592436974789916}, {'identifier': '6HJR', 'score': 0.3581932773109244}, {'identifier': '5VMC', 'score': 0.33403361344537813}, {'identifier': '5VMF', 'score': 0.33403361344537813}]}\n",
      "WARNING: no Alpha fold structure found.\n"
     ]
    },
    {
     "name": "stderr",
     "output_type": "stream",
     "text": [
      "  % Total    % Received % Xferd  Average Speed   Time    Time     Time  Current\n",
      "                                 Dload  Upload   Total   Spent    Left  Speed\n",
      "100 1217k    0 1217k    0     0  1066k      0 --:--:--  0:00:01 --:--:-- 1071k\n"
     ]
    },
    {
     "name": "stdout",
     "output_type": "stream",
     "text": [
      "Downloading sequence MGAQVSTQKTGAHETRLNASGNSIIHYTNINYYKDAASNSANRQDFTQDPGKFTEPVKDIMIKSLPALNSPTVEECGYSDRARSITLGNSTITTQECANVVVGYGVWPDYLKDSEATAEDQPTQPDVATCRFYTLDSVQWQKTSPGWWWKLPDALSNLGLFGQNMQYHYLGRTGYTVHVQCNASKFHQGCLLVVCVPEAEMGCATLDNTPSSAELLGGDSAKEFADKPVASGSNKLVQRVVYNAGMGVGVGNLTIFPHQWINLRTNNSATIVMPYTNSVPMDNMFRHNNVTLMVIPFVPLDYCPGSTTYVPITVTIAPMCAEYNGLRLAGHQGLPTMNTPGSCQFLTSDDFQSPSAMPQYDVTPEMRIPGEVKNLMEIAEVDSVVPVQNVGEKVNSMEAYQIPVRSNEGSGTQVFGFPLQPGYSSVFSRTLLGEILNYYTHWSGSIKLTFMFCGSAMATGKFLLAYSPPGAGAPTKRVDAMLGTHVIWDVGLQSSCVLCIPWISQTHYRFVASDEYTAGGFITCWYQTNIVVPADAQSSCYIMCFVSACNDFSVRLLKDTPFISQQNFFQGPVEDAITAAIGRVADTVGTGPTNSEAIPALTAAETGHTSQVVPGDTMQTRHVKNYHSRSESTIENFLCRSACVYFTEYKNSGAKRYAEWVLTPRQAAQLRRKLEFFTYVRFDLELTFVITSTQQPSTTQNQDAQILTHQIMYVPPGGPVPDKVDSYVWQTSTNPSVFWTEGNAPPRMSIPFLSIGNAYSNFYDGWSEFSRNGVYGINTLNNMGTLYARHVNAGSTGPIKSTIRIYFKPKHVKAWIPRPPRLCQYEKAKNVNFQPSGVTTTRQSITTMTNTGAFGQQSGAVYVGNYRVVNRHLATSADWQNCVWESYNRDLLVSTTTAHGCDIIARCQCTTGVYFCASKNKHYPISFEGPGLVEVQESEYYPRRYQSHVLLAAGFSEPGDCGGILRCEHGVIGIVTMGGEGVVGFADIRDLLWLEDDAMEQGVKDYVEQLGNAFGSGFTNQICEQVNLLKESLVGQDSILEKSLKALVKIISALVIVVRNHDDLITVTATLALIGCTSSPWRWLKQKVSQYYGIPMAERQNNSWLKKFTEMTNACKGMEWIAVKIQKFIEWLKVKILPEVREKHEFLNRLKQLPLLESQIATIEQSAPSQSDQEQLFSNVQYFAHYCRKYAPLYAAEAKRVFSLEKKMSNYIQFKSKCRIEPVCLLLHGSPGAGKSVATNLIGRSLAEKLNSSVYSLPPDPDHFDGYKQQAVVIMDDLCQNPDGKDVSLFCQMVSSVDFVPPMAALEEKGILFTSPFVLASTNAGSINAPTVSDSRALARRFHFDMNIEVISMYSQNGKINMPMSVKTCDDECCPVNFKKCCPLVCGKAIQFIDRRTQVRYSLDMLVTEMFREYNHRHSVGTTLEALFQGPPVYREIKISVAPETPPPPAIADLLKSVDSEAVREYCKEKGWLVPEINSTLQIEKHVSRAFICLQALTTFVSVAGIIYIIYKLFAGFQGAYTGVPNQKPRVPTLRQAKVQGPAFEFAVAMMKRNSSTVKTEYGEFTMLGIYDRWAVLPRHAKPGPTILMNDQEVGVLDAKELVDKDGTNLELTLLKLNRNEKFRDIRGFLAKEEVEVNEAVLAINTSKFPNMYIPVGQVTEYGFLNLGGTPTKRMLMYNFPTRAGQCGGVLMSTGKVLGIHVGGNGHQGFSAALLKHYFNDEQGEIEFIESSKDAGFPVINTPSKTKLEPSVFHQVFEGNKEPAVLRSGDPRLKANFEEAIFSKYIGNVNTHVDEYMLEAVDHYAGQLATLDISTEPMKLEDAVYGTEGLEALDLTTSAGYPYVALGIKKRDILSKKTKDLTKLKECMDKYGLNLPMVTYVKDELRSIEKVAKGKSRLIEASSLNDSVAMRQTFGNLYKTFHLNPGVVTGSAVGCDPDLFWSKIPVMLDGHLIAFDYSGYDASLSPVWFACLKMLLEKLGYTHKETNYIDYLCNSHHLYRDKHYFVRGGMPSGCSGTSIFNSMINNIIIRTLMLKVYKGIDLDQFRMIAYGDDVIASYPWPIDASLLAEAGKGYGLIMTPADKGECFNEVTWTNATFLKRYFRADEQYPFLVHPVMPMKDIHESIRWTKDPKNTQDHVRSLCLLAWHNGEHEYEEFIRKIRSVPVGRCLTLPAFSTLRRKWLDSF...\n",
      "{'query_id': '6d9cf8d8-6218-45a1-8e1c-03689d6dff79', 'result_type': 'entry', 'total_count': 117, 'result_set': [{'identifier': '3CDU', 'score': 1.0}, {'identifier': '3CDW', 'score': 1.0}, {'identifier': '4Y2A', 'score': 1.0}, {'identifier': '3DDK', 'score': 0.9978331527627302}, {'identifier': '4K4X', 'score': 0.9978331527627302}, {'identifier': '4K4Y', 'score': 0.9978331527627302}, {'identifier': '4K4Z', 'score': 0.9978331527627302}, {'identifier': '4WFZ', 'score': 0.9978331527627302}, {'identifier': '4Y34', 'score': 0.9978331527627302}, {'identifier': '4ZPA', 'score': 0.9967497291440953}]}\n",
      "WARNING: no Alpha fold structure found.\n",
      "WARNING: multiple experimental structures found.\n"
     ]
    },
    {
     "name": "stderr",
     "output_type": "stream",
     "text": [
      "  % Total    % Received % Xferd  Average Speed   Time    Time     Time  Current\n",
      "                                 Dload  Upload   Total   Spent    Left  Speed\n",
      "100  356k    0  356k    0     0   467k      0 --:--:-- --:--:-- --:--:--  469k\n",
      "  % Total    % Received % Xferd  Average Speed   Time    Time     Time  Current\n",
      "                                 Dload  Upload   Total   Spent    Left  Speed\n",
      "100  359k    0  359k    0     0   462k      0 --:--:-- --:--:-- --:--:--  464k\n",
      "  % Total    % Received % Xferd  Average Speed   Time    Time     Time  Current\n",
      "                                 Dload  Upload   Total   Spent    Left  Speed\n",
      "100  314k    0  314k    0     0   432k      0 --:--:-- --:--:-- --:--:--  434k\n"
     ]
    },
    {
     "name": "stdout",
     "output_type": "stream",
     "text": [
      "Downloading sequence MQIFVKTLTGKTITLEVESSDTIDNVKSKIQDKEGIPPDQQRLIFAGKQLEDGRTLSDYNIQKESTLHLVLRLRGGIIEPSLKALASKYNCDKSVCRKCYARLPPRATNCRKRKCGHTNQLRPKKKLK...\n",
      "{'query_id': 'f998205e-dc0a-4dee-81f8-0ee682254524', 'result_type': 'entry', 'total_count': 959, 'result_set': [{'identifier': '3J6X', 'score': 1.0}, {'identifier': '3J6Y', 'score': 1.0}, {'identifier': '3J77', 'score': 1.0}, {'identifier': '3J78', 'score': 1.0}, {'identifier': '4V88', 'score': 1.0}, {'identifier': '4V8T', 'score': 1.0}, {'identifier': '4V8Y', 'score': 1.0}, {'identifier': '4V8Z', 'score': 1.0}, {'identifier': '4V91', 'score': 1.0}, {'identifier': '5APN', 'score': 1.0}]}\n",
      "WARNING: no Alpha fold structure found.\n",
      "WARNING: multiple experimental structures found.\n"
     ]
    },
    {
     "name": "stderr",
     "output_type": "stream",
     "text": [
      "  % Total    % Received % Xferd  Average Speed   Time    Time     Time  Current\n",
      "                                 Dload  Upload   Total   Spent    Left  Speed\n",
      "100   260  100   260    0     0    710      0 --:--:-- --:--:-- --:--:--   722\n",
      "/Users/antoniaboca/miniconda3/envs/diss/lib/python3.8/site-packages/biopandas/pdb/pandas_pdb.py:461: UserWarning: No ATOM/HETATM entries have been loaded. Is the input file/text in the pdb format?\n",
      "  warnings.warn(\n",
      "  % Total    % Received % Xferd  Average Speed   Time    Time     Time  Current\n",
      "                                 Dload  Upload   Total   Spent    Left  Speed\n",
      "100   260  100   260    0     0    766      0 --:--:-- --:--:-- --:--:--   776\n",
      "/Users/antoniaboca/miniconda3/envs/diss/lib/python3.8/site-packages/biopandas/pdb/pandas_pdb.py:461: UserWarning: No ATOM/HETATM entries have been loaded. Is the input file/text in the pdb format?\n",
      "  warnings.warn(\n",
      "  % Total    % Received % Xferd  Average Speed   Time    Time     Time  Current\n",
      "                                 Dload  Upload   Total   Spent    Left  Speed\n",
      "100   260  100   260    0     0    884      0 --:--:-- --:--:-- --:--:--   896\n",
      "/Users/antoniaboca/miniconda3/envs/diss/lib/python3.8/site-packages/biopandas/pdb/pandas_pdb.py:461: UserWarning: No ATOM/HETATM entries have been loaded. Is the input file/text in the pdb format?\n",
      "  warnings.warn(\n",
      "  % Total    % Received % Xferd  Average Speed   Time    Time     Time  Current\n",
      "                                 Dload  Upload   Total   Spent    Left  Speed\n",
      "100   260  100   260    0     0    879      0 --:--:-- --:--:-- --:--:--   893\n",
      "/Users/antoniaboca/miniconda3/envs/diss/lib/python3.8/site-packages/biopandas/pdb/pandas_pdb.py:461: UserWarning: No ATOM/HETATM entries have been loaded. Is the input file/text in the pdb format?\n",
      "  warnings.warn(\n",
      "  % Total    % Received % Xferd  Average Speed   Time    Time     Time  Current\n",
      "                                 Dload  Upload   Total   Spent    Left  Speed\n",
      "100   260  100   260    0     0    713      0 --:--:-- --:--:-- --:--:--   724\n",
      "/Users/antoniaboca/miniconda3/envs/diss/lib/python3.8/site-packages/biopandas/pdb/pandas_pdb.py:461: UserWarning: No ATOM/HETATM entries have been loaded. Is the input file/text in the pdb format?\n",
      "  warnings.warn(\n",
      "  % Total    % Received % Xferd  Average Speed   Time    Time     Time  Current\n",
      "                                 Dload  Upload   Total   Spent    Left  Speed\n",
      "100   260  100   260    0     0    895      0 --:--:-- --:--:-- --:--:--   905\n",
      "/Users/antoniaboca/miniconda3/envs/diss/lib/python3.8/site-packages/biopandas/pdb/pandas_pdb.py:461: UserWarning: No ATOM/HETATM entries have been loaded. Is the input file/text in the pdb format?\n",
      "  warnings.warn(\n",
      "  % Total    % Received % Xferd  Average Speed   Time    Time     Time  Current\n",
      "                                 Dload  Upload   Total   Spent    Left  Speed\n",
      "100   260  100   260    0     0    739      0 --:--:-- --:--:-- --:--:--   747\n",
      "/Users/antoniaboca/miniconda3/envs/diss/lib/python3.8/site-packages/biopandas/pdb/pandas_pdb.py:461: UserWarning: No ATOM/HETATM entries have been loaded. Is the input file/text in the pdb format?\n",
      "  warnings.warn(\n",
      "  % Total    % Received % Xferd  Average Speed   Time    Time     Time  Current\n",
      "                                 Dload  Upload   Total   Spent    Left  Speed\n",
      "100   260  100   260    0     0    782      0 --:--:-- --:--:-- --:--:--   790\n",
      "/Users/antoniaboca/miniconda3/envs/diss/lib/python3.8/site-packages/biopandas/pdb/pandas_pdb.py:461: UserWarning: No ATOM/HETATM entries have been loaded. Is the input file/text in the pdb format?\n",
      "  warnings.warn(\n",
      "  % Total    % Received % Xferd  Average Speed   Time    Time     Time  Current\n",
      "                                 Dload  Upload   Total   Spent    Left  Speed\n",
      "100   260  100   260    0     0    749      0 --:--:-- --:--:-- --:--:--   760\n",
      "/Users/antoniaboca/miniconda3/envs/diss/lib/python3.8/site-packages/biopandas/pdb/pandas_pdb.py:461: UserWarning: No ATOM/HETATM entries have been loaded. Is the input file/text in the pdb format?\n",
      "  warnings.warn(\n",
      "  % Total    % Received % Xferd  Average Speed   Time    Time     Time  Current\n",
      "                                 Dload  Upload   Total   Spent    Left  Speed\n",
      "100   260  100   260    0     0    662      0 --:--:-- --:--:-- --:--:--   668\n",
      "/Users/antoniaboca/miniconda3/envs/diss/lib/python3.8/site-packages/biopandas/pdb/pandas_pdb.py:461: UserWarning: No ATOM/HETATM entries have been loaded. Is the input file/text in the pdb format?\n",
      "  warnings.warn(\n"
     ]
    },
    {
     "name": "stdout",
     "output_type": "stream",
     "text": [
      "Downloading sequence MRVKEIRKNWQHLRGGILLLGMLMICSAAKEKTWVTIYYGVPVWREATTTLFCASDAKAYDTEVHNVWATHACVPTDPNPQEVVLGNVTENFNMWKNNMVDQMHEDIISLWDESLKPCVKLTPLCVTLNCTNLNITKNTTNPTSSSWGMMEKGEIKNCSFYITTSIRNKVKKEYALFNRLDVVPIENTNNTKYRLISCNTSVITQACPKVSFQPIPIHYCVPAGFAMLKCNNKTFNGSGPCTNVSTVQCTHGIRPVVSTQLLLNGSLAEEDIVIRSENFTDNAKTIIVQLNESVVINCTRPNNNTRRRLSIGPGRAFYARRNIIGDIRQAHCNISRAKWNNTLQQIVIKLREKFRNKTIAFNQPSGGDPEIVRHSFNCGGEFFYCNTAQLFNSTWNVTGGTNGTEGNDIITLQCRIKQIINMWQKVGKAMYAPPITGQIRCSSNITGLLLTRDGGNSTETETEIFRPGGGDMRDNWRSELYKYKVVRIEPIGVAPTRAKRRTVQREKRAVGIGAVFLGFLGAAGSTMGAASVTLTVQARLLLSGIVQQQNNLLRAIEAQQHMLQLTVWGIKQLQARVLALERYLRDQQLMGIWGCSGKLICTTSVPWNVSWSNKSVDDIWNNMTWMEWEREIDNYTDYIYDLLEKSQTQQEKNEKELLELDKWASLWNWFDITNWLWYIRLFIMIVGGLIGLRIVFAVLSIVNRVRQGYSPLSFQTLLPASRGPDRPEGTEEEGGERDRDRSGPLVNGFLALFWVDLRNLCLFLYHLLRNLLLIVTRIVELLGRRGWEALKYWWNLLQYWSQELKNSAVSLLNATAIAVAEGTDRVIKIVQRACRAIRNIPTRIRQGLERALL...\n",
      "{'query_id': 'eb4d3eba-09cc-4ba6-8447-57e3aae15447', 'result_type': 'entry', 'total_count': 57, 'result_set': [{'identifier': '6SNE', 'score': 1.0}, {'identifier': '6E8W', 'score': 0.7313432835820896}, {'identifier': '6V4T', 'score': 0.7313432835820896}, {'identifier': '2X7R', 'score': 0.6268656716417911}, {'identifier': '5CMZ', 'score': 0.47761194029850745}, {'identifier': '5H0N', 'score': 0.44776119402985076}, {'identifier': '6DLN', 'score': 0.43283582089552236}, {'identifier': '5Y14', 'score': 0.40298507462686567}, {'identifier': '5YB2', 'score': 0.40298507462686567}, {'identifier': '5YC0', 'score': 0.40298507462686567}]}\n",
      "WARNING: no Alpha fold structure found.\n"
     ]
    },
    {
     "name": "stderr",
     "output_type": "stream",
     "text": [
      "  % Total    % Received % Xferd  Average Speed   Time    Time     Time  Current\n",
      "                                 Dload  Upload   Total   Spent    Left  Speed\n",
      "100  617k    0  617k    0     0   737k      0 --:--:-- --:--:-- --:--:--  742k\n"
     ]
    },
    {
     "name": "stdout",
     "output_type": "stream",
     "text": [
      "Downloading sequence MGSTWGSPGWVRLALCLTGLVLSLYALHVKAARARDRDYRALCDVGTAISCSRVFSSRWGRGFGLVEHVLGQDSILNQSNSIFGCIFYTLQLLLGCLRTRWASVLMLLSSLVSLAGSVYLAWILFFVLYDFCIVCITTYAINVSLMWLSFRKVQEPQGKAKRH...\n",
      "{'query_id': 'c874da72-8258-4527-aa14-fc04bcedbdf1', 'result_type': 'entry', 'total_count': 9, 'result_set': [{'identifier': 'AF_AFA0A0S2Z6I4F1', 'score': 1.0}, {'identifier': 'AF_AFQ9BQB6F1', 'score': 1.0}, {'identifier': '6WV3', 'score': 0.4166666666666667}, {'identifier': '6WV6', 'score': 0.4166666666666667}, {'identifier': '6WV7', 'score': 0.4166666666666667}, {'identifier': '6WVH', 'score': 0.4166666666666667}, {'identifier': '6WV4', 'score': 0.3055555555555556}, {'identifier': '6WV5', 'score': 0.3055555555555556}, {'identifier': 'AF_AFQ6B4J2F1', 'score': 0.0}]}\n",
      "WARNING: multiple predicted structures found.\n"
     ]
    },
    {
     "name": "stderr",
     "output_type": "stream",
     "text": [
      "  % Total    % Received % Xferd  Average Speed   Time    Time     Time  Current\n",
      "                                 Dload  Upload   Total   Spent    Left  Speed\n",
      "100   127  100   127    0     0    787      0 --:--:-- --:--:-- --:--:--   814\n",
      "/Users/antoniaboca/miniconda3/envs/diss/lib/python3.8/site-packages/biopandas/pdb/pandas_pdb.py:461: UserWarning: No ATOM/HETATM entries have been loaded. Is the input file/text in the pdb format?\n",
      "  warnings.warn(\n",
      "  % Total    % Received % Xferd  Average Speed   Time    Time     Time  Current\n",
      "                                 Dload  Upload   Total   Spent    Left  Speed\n",
      "100  106k    0  106k    0     0   916k      0 --:--:-- --:--:-- --:--:--  958k\n"
     ]
    },
    {
     "name": "stdout",
     "output_type": "stream",
     "text": [
      "Downloading sequence MEHAFTPLEPLLSTGNLKYCLVILNQPLDNYFRHLWNKALLRACADGGANRLYDITEGERESFLPEFINGDFDSIRPEVREYYATKGCELISTPDQDHTDFTKCLKMLQKKIEEKDLKVDVIVTLGGLAGRFDQIMASVNTLFQATHITPFPIIIIQEESLIYLLQPGKHRLHVDTGMEGDWCGLIPVGQPCMQVTTTGLKWNLTNDVLAFGTLVSTSNTYDGSGVVTVETDHPLLWTMAIKS...\n",
      "{'query_id': '49e6a807-e022-4988-acf3-5151cc2bc4f1', 'result_type': 'entry', 'total_count': 3, 'result_set': [{'identifier': 'AF_AFA0A090N8Y0F1', 'score': 1.0}, {'identifier': 'AF_AFQ9H3S4F1', 'score': 1.0}, {'identifier': '3S4Y', 'score': 0.0}]}\n",
      "WARNING: multiple predicted structures found.\n"
     ]
    },
    {
     "name": "stderr",
     "output_type": "stream",
     "text": [
      "  % Total    % Received % Xferd  Average Speed   Time    Time     Time  Current\n",
      "                                 Dload  Upload   Total   Spent    Left  Speed\n",
      "100  213k    0  213k    0     0   937k      0 --:--:-- --:--:-- --:--:--  966k\n",
      "  % Total    % Received % Xferd  Average Speed   Time    Time     Time  Current\n",
      "                                 Dload  Upload   Total   Spent    Left  Speed\n",
      "100  156k    0  156k    0     0   347k      0 --:--:-- --:--:-- --:--:--  350k\n"
     ]
    },
    {
     "name": "stdout",
     "output_type": "stream",
     "text": [
      "Downloading sequence MSDQEAKPSTEDLGDKKEGEYIKLKVIGQDSSEIHFKVKMTTHLKKLKESYCQRQGVPMNSLRFLFEGQRIADNHTPKELGMEEEDVIEVYQEQTGGHSTV...\n",
      "{'query_id': '993f966f-a594-46f9-8e77-f898173f4e73', 'result_type': 'entry', 'total_count': 69, 'result_set': [{'identifier': '1A5R', 'score': 1.0}, {'identifier': '2LAS', 'score': 1.0}, {'identifier': '2N1A', 'score': 1.0}, {'identifier': '6JXU', 'score': 1.0}, {'identifier': '6JXV', 'score': 1.0}, {'identifier': '6XOG', 'score': 1.0}, {'identifier': '6XOH', 'score': 1.0}, {'identifier': '6XOI', 'score': 1.0}, {'identifier': 'AF_AFA0A024R3Z2F1', 'score': 1.0}, {'identifier': 'AF_AFA7WLH8F1', 'score': 1.0}]}\n",
      "WARNING: multiple predicted structures found.\n",
      "WARNING: multiple experimental structures found.\n"
     ]
    },
    {
     "name": "stderr",
     "output_type": "stream",
     "text": [
      "  % Total    % Received % Xferd  Average Speed   Time    Time     Time  Current\n",
      "                                 Dload  Upload   Total   Spent    Left  Speed\n",
      "100  133k    0  133k    0     0   176k      0 --:--:-- --:--:-- --:--:--  177k\n",
      "  % Total    % Received % Xferd  Average Speed   Time    Time     Time  Current\n",
      "                                 Dload  Upload   Total   Spent    Left  Speed\n",
      "100  122k    0  122k    0     0   188k      0 --:--:-- --:--:-- --:--:--  189k\n",
      "  % Total    % Received % Xferd  Average Speed   Time    Time     Time  Current\n",
      "                                 Dload  Upload   Total   Spent    Left  Speed\n",
      "100  199k    0  199k    0     0   254k      0 --:--:-- --:--:-- --:--:--  255k\n",
      "  % Total    % Received % Xferd  Average Speed   Time    Time     Time  Current\n",
      "                                 Dload  Upload   Total   Spent    Left  Speed\n",
      "100  117k    0  117k    0     0   199k      0 --:--:-- --:--:-- --:--:--  200k\n",
      "  % Total    % Received % Xferd  Average Speed   Time    Time     Time  Current\n",
      "                                 Dload  Upload   Total   Spent    Left  Speed\n",
      "100  117k    0  117k    0     0   184k      0 --:--:-- --:--:-- --:--:--  185k\n",
      "  % Total    % Received % Xferd  Average Speed   Time    Time     Time  Current\n",
      "                                 Dload  Upload   Total   Spent    Left  Speed\n",
      "100  564k    0  564k    0     0   612k      0 --:--:-- --:--:-- --:--:--  614k\n",
      "  % Total    % Received % Xferd  Average Speed   Time    Time     Time  Current\n",
      "                                 Dload  Upload   Total   Spent    Left  Speed\n",
      "100  547k    0  547k    0     0   616k      0 --:--:-- --:--:-- --:--:--  617k\n",
      "  % Total    % Received % Xferd  Average Speed   Time    Time     Time  Current\n",
      "                                 Dload  Upload   Total   Spent    Left  Speed\n",
      "100  503k    0  503k    0     0   584k      0 --:--:-- --:--:-- --:--:--  585k\n",
      "  % Total    % Received % Xferd  Average Speed   Time    Time     Time  Current\n",
      "                                 Dload  Upload   Total   Spent    Left  Speed\n",
      "100  228k    0  228k    0     0  1405k      0 --:--:-- --:--:-- --:--:-- 1427k\n",
      "  % Total    % Received % Xferd  Average Speed   Time    Time     Time  Current\n",
      "                                 Dload  Upload   Total   Spent    Left  Speed\n",
      "100 70145    0 70145    0     0   495k      0 --:--:-- --:--:-- --:--:--  503k\n"
     ]
    },
    {
     "name": "stdout",
     "output_type": "stream",
     "text": [
      "Downloading sequence MDCLCIVTTKKYRYQDEDTPPLEHSPAHLPNQANSPPVIVNTDTLEAPGYELQVNGTEGEMEYEEITLERGNSGLGFSIAGGTDNPHIGDDPSIFITKIIPGGAAAQDGRLRVNDSILFVNEVDVREVTHSAAVEALKEAGSIVRLYVMRRKPPAEKVMEIKLIKGPKGLGFSIAGGVGNQHIPGDNSIYVTKIIEGGAAHKDGRLQIGDKILAVNSVGLEDVMHEDAVAALKNTYDVVYLKVAKPSNAYLSDSYAPPDITTSYSQHLDNEISHSSYLGTDYPTAMTPTSPRRYSPVAKDLLGEEDIPREPRRIVIHRGSTGLGFNIVGGEDGEGIFISFILAGGPADLSGELRKGDQILSVNGVDLRNASHEQAAIALKNAGQTVTIIAQYKPEEYSRFEAKIHDLREQLMNSSLGSGTASLRSNPKRGFYIRALFDYDKTKDCGFLSQALSFRFGDVLHVIDAGDEEWWQARRVHSDSETDDIGFIPSKRRVERREWSRLKAKDWGSSSGSQGREDSVLSYETVTQMEVHYARPIIILGPTKDRANDDLLSEFPDKFGSCVPHTTRPKREYEIDGRDYHFVSSREKMEKDIQAHKFIEAGQYNSHLYGTSVQSVREVAEQGKHCILDVSANAVRRLQAAHLHPIAIFIRPRSLENVLEINKRITEEQARKAFDRATKLEQEFTECFSAIVEGDSFEEIYHKVKRVIEDLSGPYIWVPARERL...\n",
      "{'query_id': 'd6e34f98-1e6a-4d21-8a4f-b6dfdca3c1a6', 'result_type': 'entry', 'total_count': 65, 'result_set': [{'identifier': 'AF_AFP31016F1', 'score': 1.0}, {'identifier': 'AF_AFP78352F1', 'score': 0.9984790874524715}, {'identifier': 'AF_AFQ62108F1', 'score': 0.9954372623574145}, {'identifier': '2XKX', 'score': 0.9878326996197718}, {'identifier': '5YPR', 'score': 0.3467680608365019}, {'identifier': '1JXM', 'score': 0.34448669201520915}, {'identifier': '1JXO', 'score': 0.34448669201520915}, {'identifier': '1KJW', 'score': 0.34372623574144484}, {'identifier': '6SPV', 'score': 0.18098859315589352}, {'identifier': '6SPZ', 'score': 0.18098859315589352}]}\n"
     ]
    },
    {
     "name": "stderr",
     "output_type": "stream",
     "text": [
      "  % Total    % Received % Xferd  Average Speed   Time    Time     Time  Current\n",
      "                                 Dload  Upload   Total   Spent    Left  Speed\n",
      "100  456k    0  456k    0     0  1870k      0 --:--:-- --:--:-- --:--:-- 1919k\n"
     ]
    },
    {
     "name": "stdout",
     "output_type": "stream",
     "text": [
      "Downloading sequence MPIATSTGDNVLDFTVLGLNSGTSMDGIDCALCHFYQKTPDAPMEFELLEYGEVPLAQPIKQRVMRMILEDTTSPSELSEVNVILGEHFADAVRQFAAERNVDLSTIDAIASHGQTIWLLSMPEEGQVKSALTMAEGAIIAARTGITSITDFRISDQAAGRQGAPLIAFFDALLLHHPTKLRACQNIGGIANVCFIPPDVDGRRTDEYYDFDTGPGNVFIDAVVRHFTNGEQEYDKDGAMGKRGKVDQELVDDFLKMPYFQLDPPKTTGREVFRDTLAHDLIRRAEAKGLSPDDIVATTTRITAQAIVDHYRRYAPSQEIDEIFMCGGGAYNPNIVEFIQQSYPNTKIMMLDEAGVPAGAKEAITFAWQGMECLVGRSIPVPTRVETRQHYVLGKVSPGLNYRSVMKKGMAFGGDAQQLPWVSEMIVKKKGKVITNNWA...\n",
      "{'query_id': 'fe2be342-5074-4420-900a-c85b034050a0', 'result_type': 'entry', 'total_count': 7, 'result_set': [{'identifier': '4YH5', 'score': 1.0}, {'identifier': '4ZFV', 'score': 1.0}, {'identifier': '4ZLU', 'score': 1.0}, {'identifier': '5BSB', 'score': 1.0}, {'identifier': '5BVC', 'score': 1.0}, {'identifier': '5TKR', 'score': 0.9620253164556962}, {'identifier': '4ZXZ', 'score': 0.0}]}\n",
      "WARNING: no Alpha fold structure found.\n",
      "WARNING: multiple experimental structures found.\n"
     ]
    },
    {
     "name": "stderr",
     "output_type": "stream",
     "text": [
      "  % Total    % Received % Xferd  Average Speed   Time    Time     Time  Current\n",
      "                                 Dload  Upload   Total   Spent    Left  Speed\n",
      "100  636k    0  636k    0     0   681k      0 --:--:-- --:--:-- --:--:--  686k\n",
      "  % Total    % Received % Xferd  Average Speed   Time    Time     Time  Current\n",
      "                                 Dload  Upload   Total   Spent    Left  Speed\n",
      "100  675k    0  675k    0     0   729k      0 --:--:-- --:--:-- --:--:--  731k\n",
      "  % Total    % Received % Xferd  Average Speed   Time    Time     Time  Current\n",
      "                                 Dload  Upload   Total   Spent    Left  Speed\n",
      "100 1159k    0 1159k    0     0  1111k      0 --:--:--  0:00:01 --:--:-- 1114k\n",
      "  % Total    % Received % Xferd  Average Speed   Time    Time     Time  Current\n",
      "                                 Dload  Upload   Total   Spent    Left  Speed\n",
      "100  591k    0  591k    0     0   635k      0 --:--:-- --:--:-- --:--:--  636k\n",
      "  % Total    % Received % Xferd  Average Speed   Time    Time     Time  Current\n",
      "                                 Dload  Upload   Total   Spent    Left  Speed\n",
      "100  581k    0  581k    0     0   713k      0 --:--:-- --:--:-- --:--:--  715k\n"
     ]
    },
    {
     "name": "stdout",
     "output_type": "stream",
     "text": [
      "Downloading sequence MSIQHFRVALIPFFAAFCLPVFAHPETLVKVKDAEDQLGARVGYIELDLNSGKILESFRPEERFPMMSTFKVLLCGAVLSRVDAGQEQLGRRIHYSQNDLVEYSPVTEKHLTDGMTVRELCSAAITMSDNTAANLLLTTIGGPKELTAFLHNMGDHVTRLDRWEPELNEAIPNDERDTTMPAAMATTLRKLLTGELLTLASRQQLIDWMEADKVAGPLLRSALPAGWFIADKSGAGERGSRGIIAALGPDGKPSRIVVIYTTGSQATMDERNRQIAEIGASLIKHW...\n",
      "{'query_id': '2ca968df-57c9-410e-80d2-8abb3ecaf24d', 'result_type': 'entry', 'total_count': 98, 'result_set': [{'identifier': 'AF_AFA0A0H3H688F1', 'score': 1.0}, {'identifier': 'AF_AFP62593F1', 'score': 1.0}, {'identifier': 'AF_AFP62594F1', 'score': 1.0}, {'identifier': '1ZG4', 'score': 0.9881656804733728}, {'identifier': 'AF_AFQ48406F1', 'score': 0.9822485207100592}, {'identifier': '1ZG6', 'score': 0.9763313609467456}, {'identifier': '4ZJ1', 'score': 0.9763313609467456}, {'identifier': '4ZJ2', 'score': 0.9644970414201184}, {'identifier': '3P98', 'score': 0.9526627218934911}, {'identifier': '4ZJ3', 'score': 0.9526627218934911}]}\n",
      "WARNING: multiple predicted structures found.\n"
     ]
    },
    {
     "name": "stderr",
     "output_type": "stream",
     "text": [
      "  % Total    % Received % Xferd  Average Speed   Time    Time     Time  Current\n",
      "                                 Dload  Upload   Total   Spent    Left  Speed\n",
      "100   127  100   127    0     0    914      0 --:--:-- --:--:-- --:--:--   947\n",
      "/Users/antoniaboca/miniconda3/envs/diss/lib/python3.8/site-packages/biopandas/pdb/pandas_pdb.py:461: UserWarning: No ATOM/HETATM entries have been loaded. Is the input file/text in the pdb format?\n",
      "  warnings.warn(\n",
      "  % Total    % Received % Xferd  Average Speed   Time    Time     Time  Current\n",
      "                                 Dload  Upload   Total   Spent    Left  Speed\n",
      "100  180k    0  180k    0     0  1124k      0 --:--:-- --:--:-- --:--:-- 1164k\n",
      "  % Total    % Received % Xferd  Average Speed   Time    Time     Time  Current\n",
      "                                 Dload  Upload   Total   Spent    Left  Speed\n",
      "100  180k  100  180k    0     0  1771k      0 --:--:-- --:--:-- --:--:-- 1823k\n"
     ]
    },
    {
     "name": "stdout",
     "output_type": "stream",
     "text": [
      "Downloading sequence MGQPGNGSAFLLAPNGSHAPDHDVTQERDEVWVVGMGIVMSLIVLAIVFGNVLVITAIAKFERLQTVTNYFITSLACADLVMGLAVVPFGAAHILMKMWTFGNFWCEFWTSIDVLCVTASIETLCVIAVDRYFAITSPFKYQSLLTKNKARVIILMVWIVSGLTSFLPIQMHWYRATHQEAINCYANETCCDFFTNQAYAIASSIVSFYVPLVIMVFVYSRVFQEAKRQLQKIDKSEGRFHVQNLSQVEQDGRTGHGLRRSSKFCLKEHKALKTLGIIMGTFTLCWLPFFIVNIVHVIQDNLIRKEVYILLNWIGYVNSGFNPLIYCRSPDFRIAFQELLCLRRSSLKAYGNGYSSNGNTGEQSGYHVEQEKENKLLCEDLPGTEDFVGHQGTVPSDNIDSQGRNCSTNDSLL...\n",
      "{'query_id': '4db2f5b3-0915-4fc4-9f5c-35c3228c3ab6', 'result_type': 'entry', 'total_count': 19, 'result_set': [{'identifier': 'AF_AFP07550F1', 'score': 1.0}, {'identifier': 'AF_AFQ28509F1', 'score': 0.9453551912568307}, {'identifier': '2R4R', 'score': 0.7131147540983607}, {'identifier': '3KJ6', 'score': 0.7021857923497268}, {'identifier': '2R4S', 'score': 0.5819672131147541}, {'identifier': '3SN6', 'score': 0.5409836065573771}, {'identifier': '7DHI', 'score': 0.43169398907103823}, {'identifier': '7DHR', 'score': 0.43169398907103823}, {'identifier': '7BZ2', 'score': 0.4207650273224044}, {'identifier': '6NI3', 'score': 0.412568306010929}]}\n"
     ]
    },
    {
     "name": "stderr",
     "output_type": "stream",
     "text": [
      "  % Total    % Received % Xferd  Average Speed   Time    Time     Time  Current\n",
      "                                 Dload  Upload   Total   Spent    Left  Speed\n",
      "100  264k    0  264k    0     0  1205k      0 --:--:-- --:--:-- --:--:-- 1244k\n"
     ]
    },
    {
     "name": "stdout",
     "output_type": "stream",
     "text": [
      "Downloading sequence MEAIAKYDFKATADDELSFKRGDILKVLNEECDQNWYKAELNGKDGFIPKNYIEMKPHPWFFGKIPRAKAEEMLSKQRHDGAFLIRESESAPGDFSLSVKFGNDVQHFKVLRDGAGKYFLWVVKFNSLNELVDYHRSTSVSRNQQIFLRDIEQVPQQPTYVQALFDFDPQEDGELGFRRGDFIHVMDNSDPNWWKGACHGQTGMFPRNYVTPVNRNV...\n",
      "{'query_id': '1e78cb33-8b39-4e2e-8f6d-b925802b5652', 'result_type': 'entry', 'total_count': 72, 'result_set': [{'identifier': '1GRI', 'score': 1.0}, {'identifier': 'AF_AFB0LPF3F1', 'score': 1.0}, {'identifier': 'AF_AFP62993F1', 'score': 1.0}, {'identifier': 'AF_AFP62994F1', 'score': 1.0}, {'identifier': 'AF_AFQ5R4J7F1', 'score': 1.0}, {'identifier': 'AF_AFQ60631F1', 'score': 0.9971830985915493}, {'identifier': 'AF_AFQ07883F1', 'score': 0.9549295774647887}, {'identifier': 'AF_AFQ6PC73F1', 'score': 0.9464788732394366}, {'identifier': 'AF_AFQ5RKN6F1', 'score': 0.9380281690140845}, {'identifier': 'AF_AFQ66II3F1', 'score': 0.9352112676056338}]}\n",
      "WARNING: multiple predicted structures found.\n"
     ]
    },
    {
     "name": "stderr",
     "output_type": "stream",
     "text": [
      "  % Total    % Received % Xferd  Average Speed   Time    Time     Time  Current\n",
      "                                 Dload  Upload   Total   Spent    Left  Speed\n",
      "100  281k    0  281k    0     0   408k      0 --:--:-- --:--:-- --:--:--  411k\n",
      "  % Total    % Received % Xferd  Average Speed   Time    Time     Time  Current\n",
      "                                 Dload  Upload   Total   Spent    Left  Speed\n",
      "100  146k    0  146k    0     0   945k      0 --:--:-- --:--:-- --:--:--  968k\n",
      "  % Total    % Received % Xferd  Average Speed   Time    Time     Time  Current\n",
      "                                 Dload  Upload   Total   Spent    Left  Speed\n",
      "100  146k    0  146k    0     0   847k      0 --:--:-- --:--:-- --:--:--  855k\n",
      "  % Total    % Received % Xferd  Average Speed   Time    Time     Time  Current\n",
      "                                 Dload  Upload   Total   Spent    Left  Speed\n",
      "100  146k    0  146k    0     0   909k      0 --:--:-- --:--:-- --:--:--  925k\n",
      "  % Total    % Received % Xferd  Average Speed   Time    Time     Time  Current\n",
      "                                 Dload  Upload   Total   Spent    Left  Speed\n",
      "100  146k    0  146k    0     0   966k      0 --:--:-- --:--:-- --:--:--  988k\n"
     ]
    },
    {
     "name": "stdout",
     "output_type": "stream",
     "text": [
      "Downloading sequence MSEYQPSLFALNPMGFSPLDGSKSTNENVSASTSTAKPMVGQLIFDKFIKTEEDPIIKQDTPSNLDFDFALPQTATAPDAKTVLPIPELDDAVVESFFSSSTDSTPMFEYENLEDNSKEWTSLFDNDIPVTTDDVSLADKAIESTEEVSLVPSNLEVSTTSFLPTPVLEDAKLTQTRKVKKPNSVVKKSHHVGKDDESRLDHLGVVAYNRKQRSIPLSPIVPESSDPAALKRARNTEAARRSRARKLQRMKQLEDKVEELLSKNYHLENEVARLKKLVGER...\n",
      "{'query_id': 'bed7db60-0571-43a4-a6f5-64a536e13edb', 'result_type': 'entry', 'total_count': 92, 'result_set': [{'identifier': 'AF_AFP03069F1', 'score': 1.0}, {'identifier': '1DGC', 'score': 0.13347022587268995}, {'identifier': '2DGC', 'score': 0.13347022587268995}, {'identifier': '1LD4', 'score': 0.11498973305954825}, {'identifier': '1YSA', 'score': 0.11088295687885011}, {'identifier': '2LPB', 'score': 0.049281314168377825}, {'identifier': '1ZTA', 'score': 0.03696098562628337}, {'identifier': '2ZTA', 'score': 0.030800821355236138}, {'identifier': '4DMD', 'score': 0.030800821355236138}, {'identifier': '4DME', 'score': 0.030800821355236138}]}\n"
     ]
    },
    {
     "name": "stderr",
     "output_type": "stream",
     "text": [
      "  % Total    % Received % Xferd  Average Speed   Time    Time     Time  Current\n",
      "                                 Dload  Upload   Total   Spent    Left  Speed\n",
      "100  179k    0  179k    0     0   957k      0 --:--:-- --:--:-- --:--:--  982k\n"
     ]
    },
    {
     "name": "stdout",
     "output_type": "stream",
     "text": [
      "Downloading sequence MQIFVKTLTGKTITLEVESSDTIDNVKSKIQDKEGIPPDQQRLIFAGKQLEDGRTLSDYNIQKESTLHLVLRLRGGIIEPSLKALASKYNCDKSVCRKCYARLPPRATNCRKRKCGHTNQLRPKKKLK...\n",
      "{'query_id': '8f452bb9-8bb6-4d96-8097-4f77a8d597b4', 'result_type': 'entry', 'total_count': 959, 'result_set': [{'identifier': '3J6X', 'score': 1.0}, {'identifier': '3J6Y', 'score': 1.0}, {'identifier': '3J77', 'score': 1.0}, {'identifier': '3J78', 'score': 1.0}, {'identifier': '4V88', 'score': 1.0}, {'identifier': '4V8T', 'score': 1.0}, {'identifier': '4V8Y', 'score': 1.0}, {'identifier': '4V8Z', 'score': 1.0}, {'identifier': '4V91', 'score': 1.0}, {'identifier': '5APN', 'score': 1.0}]}\n",
      "WARNING: no Alpha fold structure found.\n",
      "WARNING: multiple experimental structures found.\n"
     ]
    },
    {
     "name": "stderr",
     "output_type": "stream",
     "text": [
      "  % Total    % Received % Xferd  Average Speed   Time    Time     Time  Current\n",
      "                                 Dload  Upload   Total   Spent    Left  Speed\n",
      "100   260  100   260    0     0    715      0 --:--:-- --:--:-- --:--:--   728\n",
      "/Users/antoniaboca/miniconda3/envs/diss/lib/python3.8/site-packages/biopandas/pdb/pandas_pdb.py:461: UserWarning: No ATOM/HETATM entries have been loaded. Is the input file/text in the pdb format?\n",
      "  warnings.warn(\n",
      "  % Total    % Received % Xferd  Average Speed   Time    Time     Time  Current\n",
      "                                 Dload  Upload   Total   Spent    Left  Speed\n",
      "100   260  100   260    0     0    703      0 --:--:-- --:--:-- --:--:--   710\n",
      "/Users/antoniaboca/miniconda3/envs/diss/lib/python3.8/site-packages/biopandas/pdb/pandas_pdb.py:461: UserWarning: No ATOM/HETATM entries have been loaded. Is the input file/text in the pdb format?\n",
      "  warnings.warn(\n",
      "  % Total    % Received % Xferd  Average Speed   Time    Time     Time  Current\n",
      "                                 Dload  Upload   Total   Spent    Left  Speed\n",
      "100   260  100   260    0     0    752      0 --:--:-- --:--:-- --:--:--   764\n",
      "/Users/antoniaboca/miniconda3/envs/diss/lib/python3.8/site-packages/biopandas/pdb/pandas_pdb.py:461: UserWarning: No ATOM/HETATM entries have been loaded. Is the input file/text in the pdb format?\n",
      "  warnings.warn(\n",
      "  % Total    % Received % Xferd  Average Speed   Time    Time     Time  Current\n",
      "                                 Dload  Upload   Total   Spent    Left  Speed\n",
      "100   260  100   260    0     0    889      0 --:--:-- --:--:-- --:--:--   905\n",
      "/Users/antoniaboca/miniconda3/envs/diss/lib/python3.8/site-packages/biopandas/pdb/pandas_pdb.py:461: UserWarning: No ATOM/HETATM entries have been loaded. Is the input file/text in the pdb format?\n",
      "  warnings.warn(\n",
      "  % Total    % Received % Xferd  Average Speed   Time    Time     Time  Current\n",
      "                                 Dload  Upload   Total   Spent    Left  Speed\n",
      "100   260  100   260    0     0    903      0 --:--:-- --:--:-- --:--:--   912\n",
      "/Users/antoniaboca/miniconda3/envs/diss/lib/python3.8/site-packages/biopandas/pdb/pandas_pdb.py:461: UserWarning: No ATOM/HETATM entries have been loaded. Is the input file/text in the pdb format?\n",
      "  warnings.warn(\n",
      "  % Total    % Received % Xferd  Average Speed   Time    Time     Time  Current\n",
      "                                 Dload  Upload   Total   Spent    Left  Speed\n",
      "100   260  100   260    0     0    726      0 --:--:-- --:--:-- --:--:--   738\n",
      "/Users/antoniaboca/miniconda3/envs/diss/lib/python3.8/site-packages/biopandas/pdb/pandas_pdb.py:461: UserWarning: No ATOM/HETATM entries have been loaded. Is the input file/text in the pdb format?\n",
      "  warnings.warn(\n",
      "  % Total    % Received % Xferd  Average Speed   Time    Time     Time  Current\n",
      "                                 Dload  Upload   Total   Spent    Left  Speed\n",
      "100   260  100   260    0     0    653      0 --:--:-- --:--:-- --:--:--   663\n",
      "/Users/antoniaboca/miniconda3/envs/diss/lib/python3.8/site-packages/biopandas/pdb/pandas_pdb.py:461: UserWarning: No ATOM/HETATM entries have been loaded. Is the input file/text in the pdb format?\n",
      "  warnings.warn(\n",
      "  % Total    % Received % Xferd  Average Speed   Time    Time     Time  Current\n",
      "                                 Dload  Upload   Total   Spent    Left  Speed\n",
      "100   260  100   260    0     0    703      0 --:--:-- --:--:-- --:--:--   712\n",
      "/Users/antoniaboca/miniconda3/envs/diss/lib/python3.8/site-packages/biopandas/pdb/pandas_pdb.py:461: UserWarning: No ATOM/HETATM entries have been loaded. Is the input file/text in the pdb format?\n",
      "  warnings.warn(\n",
      "  % Total    % Received % Xferd  Average Speed   Time    Time     Time  Current\n",
      "                                 Dload  Upload   Total   Spent    Left  Speed\n",
      "100   260  100   260    0     0    720      0 --:--:-- --:--:-- --:--:--   730\n",
      "/Users/antoniaboca/miniconda3/envs/diss/lib/python3.8/site-packages/biopandas/pdb/pandas_pdb.py:461: UserWarning: No ATOM/HETATM entries have been loaded. Is the input file/text in the pdb format?\n",
      "  warnings.warn(\n",
      "  % Total    % Received % Xferd  Average Speed   Time    Time     Time  Current\n",
      "                                 Dload  Upload   Total   Spent    Left  Speed\n",
      "100   260  100   260    0     0    881      0 --:--:-- --:--:-- --:--:--   896\n",
      "/Users/antoniaboca/miniconda3/envs/diss/lib/python3.8/site-packages/biopandas/pdb/pandas_pdb.py:461: UserWarning: No ATOM/HETATM entries have been loaded. Is the input file/text in the pdb format?\n",
      "  warnings.warn(\n"
     ]
    },
    {
     "name": "stdout",
     "output_type": "stream",
     "text": [
      "Downloading sequence MGSTWGSPGWVRLALCLTGLVLSLYALHVKAARARDRDYRALCDVGTAISCSRVFSSRWGRGFGLVEHVLGQDSILNQSNSIFGCIFYTLQLLLGCLRTRWASVLMLLSSLVSLAGSVYLAWILFFVLYDFCIVCITTYAINVSLMWLSFRKVQEPQGKAKRH...\n",
      "{'query_id': 'ba7fc943-e053-4d01-9ce7-d5711e0db04f', 'result_type': 'entry', 'total_count': 9, 'result_set': [{'identifier': 'AF_AFA0A0S2Z6I4F1', 'score': 1.0}, {'identifier': 'AF_AFQ9BQB6F1', 'score': 1.0}, {'identifier': '6WV3', 'score': 0.4166666666666667}, {'identifier': '6WV6', 'score': 0.4166666666666667}, {'identifier': '6WV7', 'score': 0.4166666666666667}, {'identifier': '6WVH', 'score': 0.4166666666666667}, {'identifier': '6WV4', 'score': 0.3055555555555556}, {'identifier': '6WV5', 'score': 0.3055555555555556}, {'identifier': 'AF_AFQ6B4J2F1', 'score': 0.0}]}\n",
      "WARNING: multiple predicted structures found.\n"
     ]
    },
    {
     "name": "stderr",
     "output_type": "stream",
     "text": [
      "  % Total    % Received % Xferd  Average Speed   Time    Time     Time  Current\n",
      "                                 Dload  Upload   Total   Spent    Left  Speed\n",
      "100   127  100   127    0     0   1454      0 --:--:-- --:--:-- --:--:--  1567\n",
      "/Users/antoniaboca/miniconda3/envs/diss/lib/python3.8/site-packages/biopandas/pdb/pandas_pdb.py:461: UserWarning: No ATOM/HETATM entries have been loaded. Is the input file/text in the pdb format?\n",
      "  warnings.warn(\n",
      "  % Total    % Received % Xferd  Average Speed   Time    Time     Time  Current\n",
      "                                 Dload  Upload   Total   Spent    Left  Speed\n",
      "100  106k    0  106k    0     0   289k      0 --:--:-- --:--:-- --:--:--  293k\n"
     ]
    },
    {
     "name": "stdout",
     "output_type": "stream",
     "text": [
      "Downloading sequence METTPLNSQKQLSACEDGEDCQENGVLQKVVPTPGDKVESGQISNGYSAVPSPGAGDDTRHSIPATTTTLVAELHQGERETWGKKVDFLLSVIGYAVDLGNVWRFPYICYQNGGGAFLLPYTIMAIFGGIPLFYMELALGQYHRNGCISIWRKICPIFKGIGYAICIIAFYIASYYNTIMAWALYYLISSFTDQLPWTSCKNSWNTGNCTNYFSEDNITWTLHSTSPAEEFYTRHVLQIHRSKGLQDLGGISWQLALCIMLIFTVIYFSIWKGVKTSGKVVWVTATFPYIILSVLLVRGATLPGAWRGVLFYLKPNWQKLLETGVWIDAAAQIFFSLGPGFGVLLAFASYNKFNNNCYQDALVTSVVNCMTSFVSGFVIFTVLGYMAEMRNEDVSEVAKDAGPSLLFITYAEAIANMPASTFFAIIFFLMLITLGLDSTFAGLEGVITAVLDEFPHVWAKRRERFVLAVVITCFFGSLVTLTFGGAYVVKLLEEYATGPAVLTVALIEAVAVSWFYGITQFCRDVKEMLGFSPGWFWRICWVAISPLFLLFIICSFLMSPPQLRLFQYNYPYWSIILGYCIGTSSFICIPTYIAYRLIITPGTFKERIIKSITPETPTEIPCGDIRLNAV...\n",
      "{'query_id': 'e85fe578-016f-4c33-b1e1-87df5d7ddc9e', 'result_type': 'entry', 'total_count': 33, 'result_set': [{'identifier': '6VRH', 'score': 1.0}, {'identifier': '6VRK', 'score': 1.0}, {'identifier': '6VRL', 'score': 1.0}, {'identifier': 'AF_AFP31645F1', 'score': 1.0}, {'identifier': 'AF_AFQ9MYX0F1', 'score': 0.935}, {'identifier': 'AF_AFQ9XT49F1', 'score': 0.59}, {'identifier': 'AF_AFQ60857F1', 'score': 0.55}, {'identifier': 'AF_AFP31652F1', 'score': 0.495}, {'identifier': 'AF_AFO35899F1', 'score': 0.46}, {'identifier': '7LWD', 'score': 0.105}]}\n",
      "WARNING: multiple experimental structures found.\n"
     ]
    },
    {
     "name": "stderr",
     "output_type": "stream",
     "text": [
      "  % Total    % Received % Xferd  Average Speed   Time    Time     Time  Current\n",
      "                                 Dload  Upload   Total   Spent    Left  Speed\n",
      "100  507k    0  507k    0     0   653k      0 --:--:-- --:--:-- --:--:--  656k\n",
      "  % Total    % Received % Xferd  Average Speed   Time    Time     Time  Current\n",
      "                                 Dload  Upload   Total   Spent    Left  Speed\n",
      "100  507k    0  507k    0     0   583k      0 --:--:-- --:--:-- --:--:--  584k\n",
      "  % Total    % Received % Xferd  Average Speed   Time    Time     Time  Current\n",
      "                                 Dload  Upload   Total   Spent    Left  Speed\n",
      "100  507k    0  507k    0     0   603k      0 --:--:-- --:--:-- --:--:--  604k\n",
      "  % Total    % Received % Xferd  Average Speed   Time    Time     Time  Current\n",
      "                                 Dload  Upload   Total   Spent    Left  Speed\n",
      "100  400k    0  400k    0     0  1835k      0 --:--:-- --:--:-- --:--:-- 1855k\n"
     ]
    },
    {
     "name": "stdout",
     "output_type": "stream",
     "text": [
      "Downloading sequence MAAAAAAGAGPEMVRGQVFDVGPRYTNLSYIGEGAYGMVCSAYDNVNKVRVAIKKISPFEHQTYCQRTLREIKILLRFRHENIIGINDIIRAPTIEQMKDVYIVQDLMETDLYKLLKTQHLSNDHICYFLYQILRGLKYIHSANVLHRDLKPSNLLLNTTCDLKICDFGLARVADPDHDHTGFLTEYVATRWYRAPEIMLNSKGYTKSIDIWSVGCILAEMLSNRPIFPGKHYLDQLNHILGILGSPSQEDLNCIINLKARNYLLSLPHKNKVPWNRLFPNADSKALDLLDKMLTFNPHKRIEVEQALAHPYLEQYYDPSDEPIAEAPFKFDMELDDLPKEKLKELIFEETARFQPGYRS...\n",
      "{'query_id': '809c4773-47ad-45cc-97f0-2460bd53f51a', 'result_type': 'entry', 'total_count': 217, 'result_set': [{'identifier': '1TVO', 'score': 1.0}, {'identifier': '1WZY', 'score': 1.0}, {'identifier': '2OJG', 'score': 1.0}, {'identifier': '2OJI', 'score': 1.0}, {'identifier': '2OJJ', 'score': 1.0}, {'identifier': '2Y9Q', 'score': 1.0}, {'identifier': '3I5Z', 'score': 1.0}, {'identifier': '3I60', 'score': 1.0}, {'identifier': '3SA0', 'score': 1.0}, {'identifier': '3W55', 'score': 1.0}]}\n",
      "WARNING: no Alpha fold structure found.\n",
      "WARNING: multiple experimental structures found.\n"
     ]
    },
    {
     "name": "stderr",
     "output_type": "stream",
     "text": [
      "  % Total    % Received % Xferd  Average Speed   Time    Time     Time  Current\n",
      "                                 Dload  Upload   Total   Spent    Left  Speed\n",
      "100  246k    0  246k    0     0   308k      0 --:--:-- --:--:-- --:--:--  310k\n",
      "  % Total    % Received % Xferd  Average Speed   Time    Time     Time  Current\n",
      "                                 Dload  Upload   Total   Spent    Left  Speed\n",
      "100  253k    0  253k    0     0   355k      0 --:--:-- --:--:-- --:--:--  357k\n",
      "  % Total    % Received % Xferd  Average Speed   Time    Time     Time  Current\n",
      "                                 Dload  Upload   Total   Spent    Left  Speed\n",
      "100  242k    0  242k    0     0   318k      0 --:--:-- --:--:-- --:--:--  320k\n",
      "  % Total    % Received % Xferd  Average Speed   Time    Time     Time  Current\n",
      "                                 Dload  Upload   Total   Spent    Left  Speed\n",
      "100  240k    0  240k    0     0   305k      0 --:--:-- --:--:-- --:--:--  306k\n",
      "  % Total    % Received % Xferd  Average Speed   Time    Time     Time  Current\n",
      "                                 Dload  Upload   Total   Spent    Left  Speed\n",
      "100  238k    0  238k    0     0   337k      0 --:--:-- --:--:-- --:--:--  339k\n",
      "  % Total    % Received % Xferd  Average Speed   Time    Time     Time  Current\n",
      "                                 Dload  Upload   Total   Spent    Left  Speed\n",
      "100  536k    0  536k    0     0   678k      0 --:--:-- --:--:-- --:--:--  680k\n",
      "  % Total    % Received % Xferd  Average Speed   Time    Time     Time  Current\n",
      "                                 Dload  Upload   Total   Spent    Left  Speed\n",
      "100  238k    0  238k    0     0   328k      0 --:--:-- --:--:-- --:--:--  329k\n",
      "  % Total    % Received % Xferd  Average Speed   Time    Time     Time  Current\n",
      "                                 Dload  Upload   Total   Spent    Left  Speed\n",
      "100  238k    0  238k    0     0   304k      0 --:--:-- --:--:-- --:--:--  305k\n",
      "  % Total    % Received % Xferd  Average Speed   Time    Time     Time  Current\n",
      "                                 Dload  Upload   Total   Spent    Left  Speed\n",
      "100  728k    0  728k    0     0   756k      0 --:--:-- --:--:-- --:--:--  759k\n",
      "  % Total    % Received % Xferd  Average Speed   Time    Time     Time  Current\n",
      "                                 Dload  Upload   Total   Spent    Left  Speed\n",
      "100  231k    0  231k    0     0   333k      0 --:--:-- --:--:-- --:--:--  334k\n"
     ]
    },
    {
     "name": "stdout",
     "output_type": "stream",
     "text": [
      "Downloading sequence MTAIIKEIVSRNKRRYQEDGFDLDLTYIYPNIIAMGFPAERLEGVYRNNIDDVVRFLDSKHKNHYKIYNLCAERHYDTAKFNCRVAQYPFEDHNPPQLELIKPFCEDLDQWLSEDDNHVAAIHCKAGKGRTGVMICAYLLHRGKFLKAQEALDFYGEVRTRDKKGVTIPSQRRYVYYYSYLLKNHLDYRPVALLFHKMMFETIPMFSGGTCNPQFVVCQLKVKIYSSNSGPTRREDKFMYFEFPQPLPVCGDIKVEFFHKQNKMLKKDKMFHFWVNTFFIPGPEETSEKVENGSLCDQEIDSICSIERADNDKEYLVLTLTKNDLDKANKDKANRYFSPNFKVKLYFTKTVEEPSNPEASSSTSVTPDVSDNEPDHYRYSDTTDSDPENEPFDEDQHTQITKV...\n",
      "{'query_id': '91ac0a9e-b0ec-4401-8797-03d0b0b02e85', 'result_type': 'entry', 'total_count': 10, 'result_set': [{'identifier': 'AF_AFF6KD01F1', 'score': 1.0}, {'identifier': 'AF_AFP60483F1', 'score': 1.0}, {'identifier': 'AF_AFP60484F1', 'score': 1.0}, {'identifier': 'AF_AFO08586F1', 'score': 0.989010989010989}, {'identifier': 'AF_AFO54857F1', 'score': 0.978021978021978}, {'identifier': '7JVX', 'score': 0.9340659340659341}, {'identifier': '1D5R', 'score': 0.08791208791208792}, {'identifier': '5BUG', 'score': 0.0}, {'identifier': '5BZX', 'score': 0.0}, {'identifier': '5BZZ', 'score': 0.0}]}\n",
      "WARNING: multiple predicted structures found.\n"
     ]
    },
    {
     "name": "stderr",
     "output_type": "stream",
     "text": [
      "  % Total    % Received % Xferd  Average Speed   Time    Time     Time  Current\n",
      "                                 Dload  Upload   Total   Spent    Left  Speed\n",
      "100  269k    0  269k    0     0  1091k      0 --:--:-- --:--:-- --:--:-- 1103k\n",
      "  % Total    % Received % Xferd  Average Speed   Time    Time     Time  Current\n",
      "                                 Dload  Upload   Total   Spent    Left  Speed\n",
      "100  269k    0  269k    0     0  1288k      0 --:--:-- --:--:-- --:--:-- 1307k\n",
      "  % Total    % Received % Xferd  Average Speed   Time    Time     Time  Current\n",
      "                                 Dload  Upload   Total   Spent    Left  Speed\n",
      "100  269k    0  269k    0     0  1295k      0 --:--:-- --:--:-- --:--:-- 1307k\n"
     ]
    },
    {
     "name": "stdout",
     "output_type": "stream",
     "text": [
      "Downloading sequence MDGTRTSLDIEEYSDTEVQKNQVLTLEEWQDKWVNGKTAFHQEQGHQLLKKHLDTFLKGKSGLRVFFPLCGKAVEMKWFADRGHSVVGVEISELGIQEFFTEQNLSYSEEPITEIPGTKVFKSSSGNISLYCCSIFDLPRTNIGKFDMIWDRGALVAINPGDRKCYADTMFSLLGKKFQYLLCVLSYDPTKHPGPPFYVPHAEIERLFGKICNIRCLEKVDAFEERHKSWGIDCLFEKLYLLTEK...\n",
      "{'query_id': 'eedbd98c-c9d5-4ccd-8660-95756c034b29', 'result_type': 'entry', 'total_count': 8, 'result_set': [{'identifier': 'AF_AFA0A024QZW0F1', 'score': 1.0}, {'identifier': 'AF_AFP51580F1', 'score': 1.0}, {'identifier': 'AF_AFQ3BCR3F1', 'score': 0.9473684210526315}, {'identifier': 'AF_AFQ3BCR8F1', 'score': 0.8947368421052632}, {'identifier': 'AF_AFQ5RBJ3F1', 'score': 0.5263157894736842}, {'identifier': '2BZG', 'score': 0.2631578947368421}, {'identifier': '2H11', 'score': 0.2631578947368421}, {'identifier': 'AF_AFQ3BCR4F1', 'score': 0.0}]}\n",
      "WARNING: multiple predicted structures found.\n"
     ]
    },
    {
     "name": "stderr",
     "output_type": "stream",
     "text": [
      "  % Total    % Received % Xferd  Average Speed   Time    Time     Time  Current\n",
      "                                 Dload  Upload   Total   Spent    Left  Speed\n",
      "100  228k  100  228k    0     0  2125k      0 --:--:-- --:--:-- --:--:-- 2195k\n",
      "  % Total    % Received % Xferd  Average Speed   Time    Time     Time  Current\n",
      "                                 Dload  Upload   Total   Spent    Left  Speed\n",
      "100  162k    0  162k    0     0   738k      0 --:--:-- --:--:-- --:--:--  748k\n"
     ]
    },
    {
     "name": "stdout",
     "output_type": "stream",
     "text": [
      "Downloading sequence MANVEKMSVAVTPQQAAVMREAVEAGEYATASEIVREAVRDWLAKRELRHDDIRRLRQLWDEGKASGRPEPVDFDALRKEARQKLTEVPPNGR...\n",
      "{'query_id': '07423684-4b7c-44a7-8568-d7577259fad8', 'result_type': 'entry', 'total_count': 1, 'result_set': [{'identifier': '5CEG', 'score': 1.0}]}\n",
      "WARNING: no Alpha fold structure found.\n"
     ]
    },
    {
     "name": "stderr",
     "output_type": "stream",
     "text": [
      "  % Total    % Received % Xferd  Average Speed   Time    Time     Time  Current\n",
      "                                 Dload  Upload   Total   Spent    Left  Speed\n",
      "100  593k    0  593k    0     0   588k      0 --:--:--  0:00:01 --:--:--  592k\n"
     ]
    },
    {
     "name": "stdout",
     "output_type": "stream",
     "text": [
      "Downloading sequence MISLIAALAVDRVIGMENAMPWNLPADLAWFKRNTLNKPVIMGRHTWESIGRPLPGRKNIILSSQPGTDDRVTWVKSVDEAIAACGDVPEIMVIGGGRVYEQFLPKAQKLYLTHIDAEVEGDTHFPDYEPDDWESVFSEFHDADAQNSHSYCFEILERR...\n",
      "{'query_id': '69e301fc-720d-4c61-9fa7-3c5a7e08c6ef', 'result_type': 'entry', 'total_count': 133, 'result_set': [{'identifier': '1DDR', 'score': 1.0}, {'identifier': '1DDS', 'score': 1.0}, {'identifier': '3DAU', 'score': 1.0}, {'identifier': '3K74', 'score': 1.0}, {'identifier': '4EIG', 'score': 1.0}, {'identifier': '4EIZ', 'score': 1.0}, {'identifier': '4EJ1', 'score': 1.0}, {'identifier': '4FHB', 'score': 1.0}, {'identifier': '4I13', 'score': 1.0}, {'identifier': '4I1N', 'score': 1.0}]}\n",
      "WARNING: no Alpha fold structure found.\n",
      "WARNING: multiple experimental structures found.\n"
     ]
    },
    {
     "name": "stderr",
     "output_type": "stream",
     "text": [
      "  % Total    % Received % Xferd  Average Speed   Time    Time     Time  Current\n",
      "                                 Dload  Upload   Total   Spent    Left  Speed\n",
      "100  228k    0  228k    0     0   276k      0 --:--:-- --:--:-- --:--:--  277k\n",
      "  % Total    % Received % Xferd  Average Speed   Time    Time     Time  Current\n",
      "                                 Dload  Upload   Total   Spent    Left  Speed\n",
      "100  220k    0  220k    0     0   301k      0 --:--:-- --:--:-- --:--:--  302k\n",
      "  % Total    % Received % Xferd  Average Speed   Time    Time     Time  Current\n",
      "                                 Dload  Upload   Total   Spent    Left  Speed\n",
      "100  241k    0  241k    0     0   318k      0 --:--:-- --:--:-- --:--:--  320k\n",
      "  % Total    % Received % Xferd  Average Speed   Time    Time     Time  Current\n",
      "                                 Dload  Upload   Total   Spent    Left  Speed\n",
      "100  188k    0  188k    0     0   282k      0 --:--:-- --:--:-- --:--:--  283k\n",
      "  % Total    % Received % Xferd  Average Speed   Time    Time     Time  Current\n",
      "                                 Dload  Upload   Total   Spent    Left  Speed\n",
      "100  346k    0  346k    0     0   433k      0 --:--:-- --:--:-- --:--:--  434k\n",
      "  % Total    % Received % Xferd  Average Speed   Time    Time     Time  Current\n",
      "                                 Dload  Upload   Total   Spent    Left  Speed\n",
      "100  375k    0  375k    0     0   323k      0 --:--:--  0:00:01 --:--:--  324k\n",
      "  % Total    % Received % Xferd  Average Speed   Time    Time     Time  Current\n",
      "                                 Dload  Upload   Total   Spent    Left  Speed\n",
      "100  389k    0  389k    0     0   481k      0 --:--:-- --:--:-- --:--:--  482k\n",
      "  % Total    % Received % Xferd  Average Speed   Time    Time     Time  Current\n",
      "                                 Dload  Upload   Total   Spent    Left  Speed\n",
      "100  360k    0  360k    0     0   505k      0 --:--:-- --:--:-- --:--:--  507k\n",
      "  % Total    % Received % Xferd  Average Speed   Time    Time     Time  Current\n",
      "                                 Dload  Upload   Total   Spent    Left  Speed\n",
      "100  401k    0  401k    0     0   521k      0 --:--:-- --:--:-- --:--:--  523k\n",
      "  % Total    % Received % Xferd  Average Speed   Time    Time     Time  Current\n",
      "                                 Dload  Upload   Total   Spent    Left  Speed\n",
      "100  389k    0  389k    0     0   502k      0 --:--:-- --:--:-- --:--:--  504k\n"
     ]
    },
    {
     "name": "stdout",
     "output_type": "stream",
     "text": [
      "Downloading sequence MGSNKSKPKDASQRRRSLEPAENVHGAGGGAFPASQTPSKPASADGHRGPSAAFAPAAAEPKLFGGFNSSDTVTSPQRAGPLAGGVTTFVALYDYESRTETDLSFKKGERLQIVNNTEGDWWLAHSLSTGQTGYIPSNYVAPSDSIQAEEWYFGKITRRESERLLLNAENPRGTFLVRESETTKGAYCLSVSDFDNAKGLNVKHYKIRKLDSGGFYITSRTQFNSLQQLVAYYSKHADGLCHRLTTVCPTSKPQTQGLAKDAWEIPRESLRLEVKLGQGCFGEVWMGTWNGTTRVAIKTLKPGTMSPEAFLQEAQVMKKLRHEKLVQLYAVVSEEPIYIVTEYMSKGSLLDFLKGETGKYLRLPQLVDMAAQIASGMAYVERMNYVHRDLRAANILVGENLVCKVADFGLARLIEDNEYTARQGAKFPIKWTAPEAALYGRFTIKSDVWSFGILLTELTTKGRVPYPGMVNREVLDQVERGYRMPCPPECPESLHDLMCQCWRKEPEERPTFEYLQAFLEDYFTSTEPQYQPGENL...\n",
      "{'query_id': '246cbafc-b3fd-452f-8f49-b989f9c03e30', 'result_type': 'entry', 'total_count': 219, 'result_set': [{'identifier': 'AF_AFP12931F1', 'score': 1.0}, {'identifier': '2H8H', 'score': 0.9969666329625885}, {'identifier': 'AF_AFP05480F1', 'score': 0.9858442871587462}, {'identifier': 'AF_AFQ9WUD9F1', 'score': 0.9838220424671386}, {'identifier': 'AF_AFP00523F1', 'score': 0.9332659251769464}, {'identifier': '1FMK', 'score': 0.8382204246713852}, {'identifier': '1Y57', 'score': 0.8382204246713852}, {'identifier': '2SRC', 'score': 0.8382204246713852}, {'identifier': '6F3F', 'score': 0.8361981799797775}, {'identifier': '1KSW', 'score': 0.8351870576339737}]}\n"
     ]
    },
    {
     "name": "stderr",
     "output_type": "stream",
     "text": [
      "  % Total    % Received % Xferd  Average Speed   Time    Time     Time  Current\n",
      "                                 Dload  Upload   Total   Spent    Left  Speed\n",
      "100  340k    0  340k    0     0  1226k      0 --:--:-- --:--:-- --:--:-- 1256k\n"
     ]
    },
    {
     "name": "stdout",
     "output_type": "stream",
     "text": [
      "Downloading sequence MKTIIALSYILCLVFAQKLPGNDNSTATLCLGHHAVPNGTIVKTITNDQIEVTNATELVQSSSTGEICDSPHQILDGKNCTLIDALLGDPQCDDFQNKKWDLFVERSKAYSNCYPYDVPDYASLRSLVASSGTLEFNNESFNWTGVTQNGTSSACIRRSKNSFFSRLNWLTHLNFKYPALNVTMPNNEQFDKLYIWGVLHPGTDKDQIFLYAQASGRITVSTKRSQQIVSPNIGSRPRVRNIPSRISIYWTIVKPGDILLINSTGNLIAPRGYFKIRSGKSSIMRSDAPIGKCNSECITPNGSIPNDKPFQNVNRITYGACPRYVKQNTLKLATGMRNVPEKQTRGIFGAIAGFIENGWEGMVDGWYGFRHQNSEGRGQAADLKSTQAAIDQINGKLNRLIGKTNEKFHQIEKEFSEVEGRIQDLEKYVEDTKIDLWSYNAELLVALENQHTIDLTDSEMNKLFEKTKKQLRENAEDMGNGCFKIYHKCDNACIGSIRNGTYDHDVYRDEALNNRFQIKGVELKSGYKDWILWISFAISCFLLCVALLGFIMWACQKGNIRCNICI...\n",
      "{'query_id': '325ef820-ae87-427c-8e31-1cccee0e036e', 'result_type': 'entry', 'total_count': 141, 'result_set': [{'identifier': '4WE8', 'score': 1.0}, {'identifier': '4WE9', 'score': 1.0}, {'identifier': '4WEA', 'score': 1.0}, {'identifier': '4KVN', 'score': 0.9958890030832477}, {'identifier': '6WZT', 'score': 0.987667009249743}, {'identifier': '7TZ5', 'score': 0.9856115107913669}, {'identifier': '2YP7', 'score': 0.9845837615621789}, {'identifier': '2YP8', 'score': 0.9845837615621789}, {'identifier': '2YP9', 'score': 0.9845837615621789}, {'identifier': '2YP2', 'score': 0.9804727646454265}]}\n",
      "WARNING: no Alpha fold structure found.\n",
      "WARNING: multiple experimental structures found.\n"
     ]
    },
    {
     "name": "stderr",
     "output_type": "stream",
     "text": [
      "  % Total    % Received % Xferd  Average Speed   Time    Time     Time  Current\n",
      "                                 Dload  Upload   Total   Spent    Left  Speed\n",
      "100 1026k    0 1026k    0     0  1018k      0 --:--:--  0:00:01 --:--:-- 1024k\n",
      "  % Total    % Received % Xferd  Average Speed   Time    Time     Time  Current\n",
      "                                 Dload  Upload   Total   Spent    Left  Speed\n",
      "100 1927k    0 1927k    0     0  1235k      0 --:--:--  0:00:01 --:--:-- 1237k\n",
      "  % Total    % Received % Xferd  Average Speed   Time    Time     Time  Current\n",
      "                                 Dload  Upload   Total   Spent    Left  Speed\n",
      "100 1925k    0 1925k    0     0  1416k      0 --:--:--  0:00:01 --:--:-- 1418k\n"
     ]
    },
    {
     "name": "stdout",
     "output_type": "stream",
     "text": [
      "Downloading sequence MQIFVKTLTGKTITLEVESSDTIDNVKSKIQDKEGIPPDQQRLIFAGKQLEDGRTLSDYNIQKESTLHLVLRLRGGIIEPSLKALASKYNCDKSVCRKCYARLPPRATNCRKRKCGHTNQLRPKKKLK...\n",
      "{'query_id': 'e3ce3049-be50-4960-86aa-59060a74993b', 'result_type': 'entry', 'total_count': 959, 'result_set': [{'identifier': '3J6X', 'score': 1.0}, {'identifier': '3J6Y', 'score': 1.0}, {'identifier': '3J77', 'score': 1.0}, {'identifier': '3J78', 'score': 1.0}, {'identifier': '4V88', 'score': 1.0}, {'identifier': '4V8T', 'score': 1.0}, {'identifier': '4V8Y', 'score': 1.0}, {'identifier': '4V8Z', 'score': 1.0}, {'identifier': '4V91', 'score': 1.0}, {'identifier': '5APN', 'score': 1.0}]}\n",
      "WARNING: no Alpha fold structure found.\n",
      "WARNING: multiple experimental structures found.\n"
     ]
    },
    {
     "name": "stderr",
     "output_type": "stream",
     "text": [
      "  % Total    % Received % Xferd  Average Speed   Time    Time     Time  Current\n",
      "                                 Dload  Upload   Total   Spent    Left  Speed\n",
      "100   260  100   260    0     0    848      0 --:--:-- --:--:-- --:--:--   866\n",
      "/Users/antoniaboca/miniconda3/envs/diss/lib/python3.8/site-packages/biopandas/pdb/pandas_pdb.py:461: UserWarning: No ATOM/HETATM entries have been loaded. Is the input file/text in the pdb format?\n",
      "  warnings.warn(\n",
      "  % Total    % Received % Xferd  Average Speed   Time    Time     Time  Current\n",
      "                                 Dload  Upload   Total   Spent    Left  Speed\n",
      "100   260  100   260    0     0    745      0 --:--:-- --:--:-- --:--:--   753\n",
      "/Users/antoniaboca/miniconda3/envs/diss/lib/python3.8/site-packages/biopandas/pdb/pandas_pdb.py:461: UserWarning: No ATOM/HETATM entries have been loaded. Is the input file/text in the pdb format?\n",
      "  warnings.warn(\n",
      "  % Total    % Received % Xferd  Average Speed   Time    Time     Time  Current\n",
      "                                 Dload  Upload   Total   Spent    Left  Speed\n",
      "100   260  100   260    0     0    879      0 --:--:-- --:--:-- --:--:--   896\n",
      "/Users/antoniaboca/miniconda3/envs/diss/lib/python3.8/site-packages/biopandas/pdb/pandas_pdb.py:461: UserWarning: No ATOM/HETATM entries have been loaded. Is the input file/text in the pdb format?\n",
      "  warnings.warn(\n",
      "  % Total    % Received % Xferd  Average Speed   Time    Time     Time  Current\n",
      "                                 Dload  Upload   Total   Spent    Left  Speed\n",
      "100   260  100   260    0     0    774      0 --:--:-- --:--:-- --:--:--   787\n",
      "/Users/antoniaboca/miniconda3/envs/diss/lib/python3.8/site-packages/biopandas/pdb/pandas_pdb.py:461: UserWarning: No ATOM/HETATM entries have been loaded. Is the input file/text in the pdb format?\n",
      "  warnings.warn(\n",
      "  % Total    % Received % Xferd  Average Speed   Time    Time     Time  Current\n",
      "                                 Dload  Upload   Total   Spent    Left  Speed\n",
      "100   260  100   260    0     0    770      0 --:--:-- --:--:-- --:--:--   778\n",
      "/Users/antoniaboca/miniconda3/envs/diss/lib/python3.8/site-packages/biopandas/pdb/pandas_pdb.py:461: UserWarning: No ATOM/HETATM entries have been loaded. Is the input file/text in the pdb format?\n",
      "  warnings.warn(\n",
      "  % Total    % Received % Xferd  Average Speed   Time    Time     Time  Current\n",
      "                                 Dload  Upload   Total   Spent    Left  Speed\n",
      "100   260  100   260    0     0    748      0 --:--:-- --:--:-- --:--:--   760\n",
      "/Users/antoniaboca/miniconda3/envs/diss/lib/python3.8/site-packages/biopandas/pdb/pandas_pdb.py:461: UserWarning: No ATOM/HETATM entries have been loaded. Is the input file/text in the pdb format?\n",
      "  warnings.warn(\n",
      "  % Total    % Received % Xferd  Average Speed   Time    Time     Time  Current\n",
      "                                 Dload  Upload   Total   Spent    Left  Speed\n",
      "100   260  100   260    0     0    719      0 --:--:-- --:--:-- --:--:--   730\n",
      "/Users/antoniaboca/miniconda3/envs/diss/lib/python3.8/site-packages/biopandas/pdb/pandas_pdb.py:461: UserWarning: No ATOM/HETATM entries have been loaded. Is the input file/text in the pdb format?\n",
      "  warnings.warn(\n",
      "  % Total    % Received % Xferd  Average Speed   Time    Time     Time  Current\n",
      "                                 Dload  Upload   Total   Spent    Left  Speed\n",
      "100   260  100   260    0     0    682      0 --:--:-- --:--:-- --:--:--   689\n",
      "/Users/antoniaboca/miniconda3/envs/diss/lib/python3.8/site-packages/biopandas/pdb/pandas_pdb.py:461: UserWarning: No ATOM/HETATM entries have been loaded. Is the input file/text in the pdb format?\n",
      "  warnings.warn(\n",
      "  % Total    % Received % Xferd  Average Speed   Time    Time     Time  Current\n",
      "                                 Dload  Upload   Total   Spent    Left  Speed\n",
      "100   260  100   260    0     0    710      0 --:--:-- --:--:-- --:--:--   720\n",
      "/Users/antoniaboca/miniconda3/envs/diss/lib/python3.8/site-packages/biopandas/pdb/pandas_pdb.py:461: UserWarning: No ATOM/HETATM entries have been loaded. Is the input file/text in the pdb format?\n",
      "  warnings.warn(\n",
      "  % Total    % Received % Xferd  Average Speed   Time    Time     Time  Current\n",
      "                                 Dload  Upload   Total   Spent    Left  Speed\n",
      "100   260  100   260    0     0    877      0 --:--:-- --:--:-- --:--:--   890\n",
      "/Users/antoniaboca/miniconda3/envs/diss/lib/python3.8/site-packages/biopandas/pdb/pandas_pdb.py:461: UserWarning: No ATOM/HETATM entries have been loaded. Is the input file/text in the pdb format?\n",
      "  warnings.warn(\n"
     ]
    },
    {
     "name": "stdout",
     "output_type": "stream",
     "text": [
      "Downloading sequence MEEPQSDPSVEPPLSQETFSDLWKLLPENNVLSPLPSQAMDDLMLSPDDIEQWFTEDPGPDEAPRMPEAAPRVAPAPAAPTPAAPAPAPSWPLSSSVPSQKTYQGSYGFRLGFLHSGTAKSVTCTYSPALNKMFCQLAKTCPVQLWVDSTPPPGTRVRAMAIYKQSQHMTEVVRRCPHHERCSDSDGLAPPQHLIRVEGNLRVEYLDDRNTFRHSVVVPYEPPEVGSDCTTIHYNYMCNSSCMGGMNRRPILTIITLEDSSGNLLGRNSFEVRVCACPGRDRRTEEENLRKKGEPHHELPPGSTKRALPNNTSSSPQPKKKPLDGEYFTLQIRGRERFEMFRELNEALELKDAQAGKEPGGSRAHSSHLKSKKGQSTSRHKKLMFKTEGPDSD...\n",
      "{'query_id': '7244e55c-3a16-4bfe-9fa7-75e3d28be431', 'result_type': 'entry', 'total_count': 187, 'result_set': [{'identifier': '6XRE', 'score': 1.0}, {'identifier': '7XZZ', 'score': 1.0}, {'identifier': '8F2H', 'score': 1.0}, {'identifier': '8F2I', 'score': 1.0}, {'identifier': 'AF_AFK7PPA8F1', 'score': 1.0}, {'identifier': 'AF_AFP04637F1', 'score': 1.0}, {'identifier': 'AF_AFP13481F1', 'score': 0.9598930481283422}, {'identifier': 'AF_AFP56423F1', 'score': 0.9572192513368984}, {'identifier': 'AF_AFP56424F1', 'score': 0.9572192513368984}, {'identifier': 'AF_AFP61260F1', 'score': 0.9572192513368984}]}\n",
      "WARNING: multiple predicted structures found.\n",
      "WARNING: multiple experimental structures found.\n"
     ]
    },
    {
     "name": "stderr",
     "output_type": "stream",
     "text": [
      "  % Total    % Received % Xferd  Average Speed   Time    Time     Time  Current\n",
      "                                 Dload  Upload   Total   Spent    Left  Speed\n",
      "100 5480k    0 5480k    0     0  1772k      0 --:--:--  0:00:03 --:--:-- 1775k\n",
      "  % Total    % Received % Xferd  Average Speed   Time    Time     Time  Current\n",
      "                                 Dload  Upload   Total   Spent    Left  Speed\n",
      "100 1503k    0 1503k    0     0  1158k      0 --:--:--  0:00:01 --:--:-- 1160k\n",
      "  % Total    % Received % Xferd  Average Speed   Time    Time     Time  Current\n",
      "                                 Dload  Upload   Total   Spent    Left  Speed\n",
      "100  965k    0  965k    0     0   896k      0 --:--:--  0:00:01 --:--:--  899k\n",
      "  % Total    % Received % Xferd  Average Speed   Time    Time     Time  Current\n",
      "                                 Dload  Upload   Total   Spent    Left  Speed\n",
      "100  483k    0  483k    0     0   527k      0 --:--:-- --:--:-- --:--:--  528k\n",
      "  % Total    % Received % Xferd  Average Speed   Time    Time     Time  Current\n",
      "                                 Dload  Upload   Total   Spent    Left  Speed\n",
      "100  248k  100  248k    0     0  2260k      0 --:--:-- --:--:-- --:--:-- 2321k\n",
      "  % Total    % Received % Xferd  Average Speed   Time    Time     Time  Current\n",
      "                                 Dload  Upload   Total   Spent    Left  Speed\n",
      "100  248k  100  248k    0     0  1923k      0 --:--:-- --:--:-- --:--:-- 1955k\n"
     ]
    },
    {
     "name": "stdout",
     "output_type": "stream",
     "text": [
      "Downloading sequence MTAIIKEIVSRNKRRYQEDGFDLDLTYIYPNIIAMGFPAERLEGVYRNNIDDVVRFLDSKHKNHYKIYNLCAERHYDTAKFNCRVAQYPFEDHNPPQLELIKPFCEDLDQWLSEDDNHVAAIHCKAGKGRTGVMICAYLLHRGKFLKAQEALDFYGEVRTRDKKGVTIPSQRRYVYYYSYLLKNHLDYRPVALLFHKMMFETIPMFSGGTCNPQFVVCQLKVKIYSSNSGPTRREDKFMYFEFPQPLPVCGDIKVEFFHKQNKMLKKDKMFHFWVNTFFIPGPEETSEKVENGSLCDQEIDSICSIERADNDKEYLVLTLTKNDLDKANKDKANRYFSPNFKVKLYFTKTVEEPSNPEASSSTSVTPDVSDNEPDHYRYSDTTDSDPENEPFDEDQHTQITKV...\n",
      "{'query_id': '80a6f9dc-f410-4ecd-9562-617d32b83a9c', 'result_type': 'entry', 'total_count': 10, 'result_set': [{'identifier': 'AF_AFF6KD01F1', 'score': 1.0}, {'identifier': 'AF_AFP60483F1', 'score': 1.0}, {'identifier': 'AF_AFP60484F1', 'score': 1.0}, {'identifier': 'AF_AFO08586F1', 'score': 0.989010989010989}, {'identifier': 'AF_AFO54857F1', 'score': 0.978021978021978}, {'identifier': '7JVX', 'score': 0.9340659340659341}, {'identifier': '1D5R', 'score': 0.08791208791208792}, {'identifier': '5BUG', 'score': 0.0}, {'identifier': '5BZX', 'score': 0.0}, {'identifier': '5BZZ', 'score': 0.0}]}\n",
      "WARNING: multiple predicted structures found.\n"
     ]
    },
    {
     "name": "stderr",
     "output_type": "stream",
     "text": [
      "  % Total    % Received % Xferd  Average Speed   Time    Time     Time  Current\n",
      "                                 Dload  Upload   Total   Spent    Left  Speed\n",
      "100  269k    0  269k    0     0  1497k      0 --:--:-- --:--:-- --:--:-- 1539k\n",
      "  % Total    % Received % Xferd  Average Speed   Time    Time     Time  Current\n",
      "                                 Dload  Upload   Total   Spent    Left  Speed\n",
      "100  269k    0  269k    0     0  1560k      0 --:--:-- --:--:-- --:--:-- 1593k\n",
      "  % Total    % Received % Xferd  Average Speed   Time    Time     Time  Current\n",
      "                                 Dload  Upload   Total   Spent    Left  Speed\n",
      "100  269k    0  269k    0     0  1759k      0 --:--:-- --:--:-- --:--:-- 1795k\n"
     ]
    },
    {
     "name": "stdout",
     "output_type": "stream",
     "text": [
      "Downloading sequence SGFRKMAFPSGKVEGCMVQVTCGTTTLNGLWLDDVVYCPRHVICTSEDMLNPNYEDLLIRKSNHNFLVQAGNVQLRVIGHSMQNCVLKLKVDTANPKTPKYKFVRIQPGQTFSVLACYNGSPSGVYQCAMRPNFTIKGSFLNGSCGSVGFNIDYDCVSFCYMHHMELPTGVHAGTDLEGNFYGPFVDRQTAQAAGTDTTITVNVLAWLYAAVINGDRWFLNRFTTTLNDFNLVAMKYNYEPLTQDHVDILGPLSAQTGIAVLDMCASLKELLQNGMNGRTILGSALLEDEFTPFDVVRQCSGVTFQ...\n",
      "{'query_id': '5759004b-605a-4ac6-a88e-3ca2ef426ef4', 'result_type': 'entry', 'total_count': 824, 'result_set': [{'identifier': '5R7Y', 'score': 1.0}, {'identifier': '5R7Z', 'score': 1.0}, {'identifier': '5R80', 'score': 1.0}, {'identifier': '5R81', 'score': 1.0}, {'identifier': '5R82', 'score': 1.0}, {'identifier': '5R83', 'score': 1.0}, {'identifier': '5R84', 'score': 1.0}, {'identifier': '5R8T', 'score': 1.0}, {'identifier': '5RE4', 'score': 1.0}, {'identifier': '5RE5', 'score': 1.0}]}\n",
      "WARNING: no Alpha fold structure found.\n",
      "WARNING: multiple experimental structures found.\n"
     ]
    },
    {
     "name": "stderr",
     "output_type": "stream",
     "text": [
      "  % Total    % Received % Xferd  Average Speed   Time    Time     Time  Current\n",
      "                                 Dload  Upload   Total   Spent    Left  Speed\n",
      "100  447k    0  447k    0     0   524k      0 --:--:-- --:--:-- --:--:--  527k\n",
      "  % Total    % Received % Xferd  Average Speed   Time    Time     Time  Current\n",
      "                                 Dload  Upload   Total   Spent    Left  Speed\n",
      "100  439k    0  439k    0     0   496k      0 --:--:-- --:--:-- --:--:--  498k\n",
      "  % Total    % Received % Xferd  Average Speed   Time    Time     Time  Current\n",
      "                                 Dload  Upload   Total   Spent    Left  Speed\n",
      "100  438k    0  438k    0     0   547k      0 --:--:-- --:--:-- --:--:--  548k\n",
      "  % Total    % Received % Xferd  Average Speed   Time    Time     Time  Current\n",
      "                                 Dload  Upload   Total   Spent    Left  Speed\n",
      "100  440k    0  440k    0     0   520k      0 --:--:-- --:--:-- --:--:--  522k\n",
      "  % Total    % Received % Xferd  Average Speed   Time    Time     Time  Current\n",
      "                                 Dload  Upload   Total   Spent    Left  Speed\n",
      "100  441k    0  441k    0     0   515k      0 --:--:-- --:--:-- --:--:--  516k\n",
      "  % Total    % Received % Xferd  Average Speed   Time    Time     Time  Current\n",
      "                                 Dload  Upload   Total   Spent    Left  Speed\n",
      "100  439k    0  439k    0     0   533k      0 --:--:-- --:--:-- --:--:--  535k\n",
      "  % Total    % Received % Xferd  Average Speed   Time    Time     Time  Current\n",
      "                                 Dload  Upload   Total   Spent    Left  Speed\n",
      "100  438k    0  438k    0     0   517k      0 --:--:-- --:--:-- --:--:--  518k\n",
      "  % Total    % Received % Xferd  Average Speed   Time    Time     Time  Current\n",
      "                                 Dload  Upload   Total   Spent    Left  Speed\n",
      "100  437k    0  437k    0     0   493k      0 --:--:-- --:--:-- --:--:--  494k\n",
      "  % Total    % Received % Xferd  Average Speed   Time    Time     Time  Current\n",
      "                                 Dload  Upload   Total   Spent    Left  Speed\n",
      "100  439k    0  439k    0     0   515k      0 --:--:-- --:--:-- --:--:--  516k\n",
      "  % Total    % Received % Xferd  Average Speed   Time    Time     Time  Current\n",
      "                                 Dload  Upload   Total   Spent    Left  Speed\n",
      "100  439k    0  439k    0     0   555k      0 --:--:-- --:--:-- --:--:--  556k\n"
     ]
    },
    {
     "name": "stdout",
     "output_type": "stream",
     "text": [
      "Downloading sequence MPVRRGHVAPQNTFLDTIIRKFEGQSRKFIIANARVENCAVIYCNDGFCELCGYSRAEVMQRPCTCDFLHGPRTQRRAAAQIAQALLGAEERKVEIAFYRKDGSCFLCLVDVVPVKNEDGAVIMFILNFEVVMEKDMVGSPAHDTNHRGPPTSWLAPGRAKTFRLKLPALLALTARESSVRSGGAGGAGAPGAVVVDVDLTPAAPSSESLALDEVTAMDNHVAGLGPAEERRALVGPGSPPRSAPGQLPSPRAHSLNPDASGSSCSLARTRSRESCASVRRASSADDIEAMRAGVLPPPPRHASTGAMHPLRSGLLNSTSDSDLVRYRTISKIPQITLNFVDLKGDPFLASPTSDREIIAPKIKERTHNVTEKVTQVLSLGADVLPEYKLQAPRIHRWTILHYSPFKAVWDWLILLLVIYTAVFTPYSAAFLLKETEEGPPATECGYACQPLAVVDLIVDIMFIVDILINFRTTYVNANEEVVSHPGRIAVHYFKGWFLIDMVAAIPFDLLIFGSGSEELIGLLKTARLLRLVRVARKLDRYSEYGAAVLFLLMCTFALIAHWLACIWYAIGNMEQPHMDSRIGWLHNLGDQIGKPYNSSGLGGPSIKDKYVTALYFTFSSLTSVGFGNVSPNTNSEKIFSICVMLIGSLMYASIFGNVSAIIQRLYSGTARYHTQMLRVREFIRFHQIPNPLRQRLEEYFQHAWSYTNGIDMNAVLKGFPECLQADICLHLNRSLLQHCKPFRGATKGCLRALAMKFKTTHAPPGDTLVHAGDLLTALYFISRGSIEILRGDVVVAILGKNDIFGEPLNLYARPGKSNGDVRALTYCDLHKIHRDDLLEVLDMYPEFSDHFWSSLEITFNLRDTNMIPGSPGSTELEGGFSRQRKRKLSFRRRTDKDTEQPGEVSALGPGRAGAGPSSRGRPGGPWGESPSSGPSSPESSEDEGPGRSSSPLRLVPFSSPRPPGEPPGGEPLMEDCEKSSDTCNPLSGAFSGVSNIFSFWGDSRGRQYQELPRCPAPTPSLLNIPLSSPGRRPRGDVESRLDALQRQLNRLETRLSADMATVLQLLQRQMTLVPPAYSAVTTPGPGPTSTSPLLPVSPLPTLTLDSLSQVSQFMACEELPPGAPELPQEGPTRRLSLPGQLGALTSQPLHRHGSDPGS...\n",
      "{'query_id': 'e6cf0c3f-0827-4a41-b304-b3e4e4e87ffb', 'result_type': 'entry', 'total_count': 17, 'result_set': [{'identifier': 'AF_AFA0A090N8Q0F1', 'score': 1.0}, {'identifier': 'AF_AFQ12809F1', 'score': 1.0}, {'identifier': 'AF_AFQ8WNY2F1', 'score': 0.9753914988814317}, {'identifier': 'AF_AFQ9TSZ3F1', 'score': 0.96331096196868}, {'identifier': 'AF_AFO35219F1', 'score': 0.9498881431767338}, {'identifier': 'AF_AFO08962F1', 'score': 0.9485458612975392}, {'identifier': 'AF_AFO08703F1', 'score': 0.09753914988814318}, {'identifier': '2L1M', 'score': 0.08322147651006712}, {'identifier': '2L0W', 'score': 0.08277404921700224}, {'identifier': '2L4R', 'score': 0.08277404921700224}]}\n",
      "WARNING: multiple predicted structures found.\n"
     ]
    },
    {
     "name": "stderr",
     "output_type": "stream",
     "text": [
      "  % Total    % Received % Xferd  Average Speed   Time    Time     Time  Current\n",
      "                                 Dload  Upload   Total   Spent    Left  Speed\n",
      "100  213k    0  213k    0     0  1282k      0 --:--:-- --:--:-- --:--:-- 1317k\n",
      "  % Total    % Received % Xferd  Average Speed   Time    Time     Time  Current\n",
      "                                 Dload  Upload   Total   Spent    Left  Speed\n",
      "100  715k    0  715k    0     0  2208k      0 --:--:-- --:--:-- --:--:-- 2229k\n"
     ]
    },
    {
     "name": "stdout",
     "output_type": "stream",
     "text": [
      "Downloading sequence MTEYKLVVVGAGGVGKSALTIQLIQNHFVDEYDPTIEDSYRKQVVIDGETCLLDILDTAGQEEYSAMRDQYMRTGEGFLCVFAINNTKSFEDIHQYREQIKRVKDSDDVPMVLVGNKCDLAARTVESRQAQDLARSYGIPYIETSAKTRQGVEDAFYTLVREIRQHKLRKLNPPDESGPGCMSCKCVLS...\n",
      "{'query_id': 'c5992f23-278a-4b29-8daa-c78675742549', 'result_type': 'entry', 'total_count': 455, 'result_set': [{'identifier': '4Q21', 'score': 1.0}, {'identifier': 'AF_AFP01112F1', 'score': 1.0}, {'identifier': 'AF_AFP20171F1', 'score': 1.0}, {'identifier': 'AF_AFQ61411F1', 'score': 1.0}, {'identifier': 'AF_AFP08642F1', 'score': 0.9764150943396226}, {'identifier': 'AF_AFF1QNG4F1', 'score': 0.9245283018867925}, {'identifier': 'AF_AFQ503B6F1', 'score': 0.9150943396226415}, {'identifier': '5X9S', 'score': 0.8820754716981132}, {'identifier': '1AA9', 'score': 0.7971698113207547}, {'identifier': '1IOZ', 'score': 0.7971698113207547}]}\n",
      "WARNING: multiple predicted structures found.\n"
     ]
    },
    {
     "name": "stderr",
     "output_type": "stream",
     "text": [
      "  % Total    % Received % Xferd  Average Speed   Time    Time     Time  Current\n",
      "                                 Dload  Upload   Total   Spent    Left  Speed\n",
      "100  122k    0  122k    0     0   190k      0 --:--:-- --:--:-- --:--:--  192k\n",
      "  % Total    % Received % Xferd  Average Speed   Time    Time     Time  Current\n",
      "                                 Dload  Upload   Total   Spent    Left  Speed\n",
      "100  122k    0  122k    0     0   624k      0 --:--:-- --:--:-- --:--:--  636k\n",
      "  % Total    % Received % Xferd  Average Speed   Time    Time     Time  Current\n",
      "                                 Dload  Upload   Total   Spent    Left  Speed\n",
      "100  122k    0  122k    0     0   753k      0 --:--:-- --:--:-- --:--:--  772k\n",
      "  % Total    % Received % Xferd  Average Speed   Time    Time     Time  Current\n",
      "                                 Dload  Upload   Total   Spent    Left  Speed\n",
      "100  122k    0  122k    0     0   493k      0 --:--:-- --:--:-- --:--:--  501k\n"
     ]
    },
    {
     "name": "stdout",
     "output_type": "stream",
     "text": [
      "Downloading sequence MKNPKKKSGGFRIVNMLKRGVARVNPLGGLKRLPAGLLLGHGPIRMVLAILAFLRFTAIKPSLGLINRWGSVGKKEAMEIIKKFKKDLAAMLRIINARKERKRRGADTSIGIIGLLLTTAMAAEITRRGSAYYMYLDRSDAGKAISFATTLGVNKCHVQIMDLGHMCDATMSYECPMLDEGVEPDDVDCWCNTTSTWVVYGTCHHKKGEARRSRRAVTLPSHSTRKLQTRSQTWLESREYTKHLIKVENWIFRNPGFALVAVAIAWLLGSSTSQKVIYLVMILLIAPAYSIRCIGVSNRDFVEGMSGGTWVDVVLEHGGCVTVMAQDKPTVDIELVTTTVSNMAEVRSYCYEASISDMASDSRCPTQGEAYLDKQSDTQYVCKRTLVDRGWGNGCGLFGKGSLVTCAKFTCSKKMTGKSIQPENLEYRIMLSVHGSQHSGMIVNDTGYETDENRAKVEVTPNSPRAEATLGGFGSLGLDCEPRTGLDFSDLYYLTMNNKHWLVHKEWFHDIPLPWHAGADTGTPHWNNKEALVEFKDAHAKRQTVVVLGSQEGAVHTALAGALEAEMDGAKGKLFSGHLKCRLKMDKLRLKGVSYSLCTAAFTFTKVPAETLHGTVTVEVQYAGTDGPCKIPVQMAVDMQTLTPVGRLITANPVITESTENSKMMLELDPPFGDSYIVIGVGDKKITHHWHRSGSTIGKAFEATVRGAKRMAVLGDTAWDFGSVGGVFNSLGKGIHQIFGAAFKSLFGGMSWFSQILIGTLLVWLGLNTKNGSISLTCLALGGVMIFLSTAVSADVGCSVDFSKKETRCGTGVFIYNDVEAWRDRYKYHPDSPRRLAAAVKQAWEEGICGISSVSRMENIMWKSVEGELNAILEENGVQLTVVVGSVKNPMWRGPQRLPVPVNELPHGWKAWGKSYFVRAAKTNNSFVVDGDTLKECPLEHRAWNSFLVEDHGFGVFHTSVWLKVREDYSLECDPAVIGTAVKGREAAHSDLGYWIESEKNDTWRLKRAHLIEMKTCEWPKSHTLWTDGVEESDLIIPKSLAGPLSHHNTREGYRTQVKGPWHSEELEIRFEECPGTKVYVEETCGTRGPSLRSTTASGRVIEEWCCRECTMPPLSFRAKDGCWYGMEIRPRKEPESNLVRSMVTAGSTDHMDHFSLGVLVILLMVQEGLKKRMTTKIIMSTSMAVLVVMILGGFSMSDLAKLVILMGATFAEMNTGGDVAHLALVAAFKVRPALLVSFIFRANWTPRESMLLALASCLLQTAISALEGDLMVLINGFALAWLAIRAMAVPRTDNIALPILAALTPLARGTLLVAWRAGLATCGGIMLLSLKGKGSVKKNLPFVMALGLTAVRVVDPINVVGLLLLTRSGKRSWPPSEVLTAVGLICALAGGFAKADIEMAGPMAAVGLLIVSYVVSGKSVDMYIERAGDITWEKDAEVTGNSPRLDVALDESGDFSLVEEDGPPMREIILKVVLMAICGMNPIAIPFAAGAWYVYVKTGKRSGALWDVPAPKEVKKGETTDGVYRVMTRRLLGSTQVGVGVMQEGVFHTMWHVTKGAALRSGEGRLDPYWGDVKQDLVSYCGPWKLDAAWDGLSEVQLLAVPPGERARNIQTLPGIFKTKDGDIGAVALDYPAGTSGSPILDKCGRVIGLYGNGVVIKNGSYVSAITQGKREEETPVECFEPSMLKKKQLTVLDLHPGAGKTRRVLPEIVREAIKKRLRTVILAPTRVVAAEMEEALRGLPVRYMTTAVNVTHSGTEIVDLMCHATFTSRLLQPIRVPNYNLYIMDEAHFTDPSSIAARGYISTRVEMGEAAAIFMTATPPGTRDAFPDSNSPIMDTEVEVPERAWSSGFDWVTDHSGKTVWFVPSVRNGNEIAACLTKAGKRVIQLSRKTFETEFQKTKNQEWDFVITTDISEMGANFKADRVIDSRRCLKPVILDGERVILAGPMPVTHASAAQRRGRIGRNPNKPGDEYMYGGGCAETDEGHAHWLEARMLLDNIYLQDGLIASLYRPEADKVAAIEGEFKLRTEQRKTFVELMKRGDLPVWLAYQVASAGITYTDRRWCFDGTTNNTIMEDSVPAEVWTKYGEKRVLKPRWMDARVCSDHAALKSFKEFAAGKRGAALGVMEALGTLPGHMTERFQEAIDNLAVLMRAETGSRPYKAAAAQLPETLETIMLLGLLGTVSLGIFFVLMRNKGIGKMGFGMVTLGASAWLMWLSEIEPARIACVLIVVFLLLVVLIPEPEKQRSPQDNQMAIIIMVAVGLLGLITANELGWLERTKNDIAHLMGRREEGATMGFSMDIDLRPASAWAIYAALTTLITPAVQHAVTTSYNNYSLMAMATQAGVLFGMGKGMPFYAWDLGVPLLMMGCYSQLTPLTLIVAIILLVAHYMYLIPGLQAAAARAAQKRTAAGIMKNPVVDGIVVTDIDTMTIDPQVEKKMGQVLLIAVAISSAVLLRTAWGWGEAGALITAATSTLWEGSPNKYWNSSTATSLCNIFRGSYLAGASLIYTVTRNAGLVKRRGGGTGETLGEKWKARLNQMSALEFYSYKKSGITEVCREEARRALKDGVATGGHAVSRGSAKLRWLVERGYLQPYGKVVDLGCGRGGWSYYAATIRKVQEVRGYTKGGPGHEEPMLVQSYGWNIVRLKSGVDVFHMAAEPCDTLLCDIGESSSSPEVEETRTLRVLSMVGDWLEKRPGAFCIKVLCPYTSTMMETMERLQRRHGGGLVRVPLSRNSTHEMYWVSGAKSNIIKSVSTTSQLLLGRMDGPRRPVKYEEDVNLGSGTRAVASCAEAPNMKIIGRRIERIRNEHAETWFLDENHPYRTWAYHGSYEAPTQGSASSLVNGVVRLLSKPWDVVTGVTGIAMTDTTPYGQQRVFKEKVDTRVPDPQEGTRQVMNIVSSWLWKELGKRKRPRVCTKEEFINKVRSNAALGAIFEEEKEWKTAVEAVNDPRFWALVDREREHHLRGECHSCVYNMMGKREKKQGEFGKAKGSRAIWYMWLGARFLEFEALGFLNEDHWMGRENSGGGVEGLGLQRLGYILEEMNRAPGGKMYADDTAGWDTRISKFDLENEALITNQMEEGHRTLALAVIKYTYQNKVVKVLRPAEGGKTVMDIISRQDQRGSGQVVTYALNTFTNLVVQLIRNMEAEEVLEMQDLWLLRKPEKVTRWLQSNGWDRLKRMAVSGDDCVVKPIDDRFAHALRFLNDMGKVRKDTQEWKPSTGWSNWEEVPFCSHHFNKLYLKDGRSIVVPCRHQDELIGRARVSPGAGWSIRETACLAKSYAQMWQLLYFHRRDLRLMANAICSAVPVDWVPTGRTTWSIHGKGEWMTTEDMLMVWNRVWIEENDHMEDKTPVTKWTDIPYLGKREDLWCGSLIGHRPRTTWAENIKDTVNMVRRIIGDEEKYMDYLSTQVRYLGEEGSTPGVL...\n",
      "{'query_id': '070a1d4e-358a-4db6-89df-54dbbe1bb142', 'result_type': 'entry', 'total_count': 178, 'result_set': [{'identifier': '6WCZ', 'score': 1.0}, {'identifier': '5TMH', 'score': 0.9994553376906318}, {'identifier': '5U0B', 'score': 0.9989106753812637}, {'identifier': '5TFR', 'score': 0.9972766884531591}, {'identifier': '5M2X', 'score': 0.9694989106753813}, {'identifier': '5M2Z', 'score': 0.9694989106753813}, {'identifier': '6I7P', 'score': 0.9694989106753813}, {'identifier': '5U0C', 'score': 0.7009803921568627}, {'identifier': '6UX2', 'score': 0.6928104575163399}, {'identifier': '6LD1', 'score': 0.6606753812636166}]}\n",
      "WARNING: no Alpha fold structure found.\n"
     ]
    },
    {
     "name": "stderr",
     "output_type": "stream",
     "text": [
      "  % Total    % Received % Xferd  Average Speed   Time    Time     Time  Current\n",
      "                                 Dload  Upload   Total   Spent    Left  Speed\n",
      "100  802k    0  802k    0     0   804k      0 --:--:-- --:--:-- --:--:--  805k\n"
     ]
    }
   ],
   "source": [
    "import csv\n",
    "\n",
    "header = ['wildtype', 'identifiers']\n",
    "failures = []\n",
    "with open('/Users/antoniaboca/partIII-amino-acid-prediction/data/mapping.csv', 'w', newline='') as csvfile:\n",
    "    writer = csv.writer(csvfile)\n",
    "    writer.writerow(header)\n",
    "\n",
    "    for dataset in datasets:\n",
    "        dataset.downloaded = False\n",
    "        wildtype = dataset.data.iloc[0]['sequence']\n",
    "        print(f'Downloading sequence {wildtype}...')\n",
    "        try:\n",
    "            lists, alpha_fold = dataset.download_structure()\n",
    "            data = [wildtype, ','.join(lists + alpha_fold)]\n",
    "            writer.writerow(data)\n",
    "        except:\n",
    "            print(f'Failed download for {wildtype}')\n",
    "            failures.append(wildtype)\n",
    "    "
   ]
  },
  {
   "cell_type": "code",
   "execution_count": 13,
   "metadata": {},
   "outputs": [],
   "source": [
    "import pandas as pd\n",
    "\n",
    "df = pd.read_csv('data/mapping.csv')"
   ]
  },
  {
   "cell_type": "code",
   "execution_count": 14,
   "metadata": {},
   "outputs": [
    {
     "data": {
      "text/html": [
       "<div>\n",
       "<style scoped>\n",
       "    .dataframe tbody tr th:only-of-type {\n",
       "        vertical-align: middle;\n",
       "    }\n",
       "\n",
       "    .dataframe tbody tr th {\n",
       "        vertical-align: top;\n",
       "    }\n",
       "\n",
       "    .dataframe thead th {\n",
       "        text-align: right;\n",
       "    }\n",
       "</style>\n",
       "<table border=\"1\" class=\"dataframe\">\n",
       "  <thead>\n",
       "    <tr style=\"text-align: right;\">\n",
       "      <th></th>\n",
       "      <th>wildtype</th>\n",
       "      <th>identifiers</th>\n",
       "    </tr>\n",
       "  </thead>\n",
       "  <tbody>\n",
       "    <tr>\n",
       "      <th>0</th>\n",
       "      <td>MTEQKALVKRITNETKIQIAISLKGGPLAIEHSIFPEKEAEAVAEQ...</td>\n",
       "      <td>6EZM,AFP06633F1</td>\n",
       "    </tr>\n",
       "    <tr>\n",
       "      <th>1</th>\n",
       "      <td>MRHGDISSSNDTVGVAVVNYKMPRLHTAAEVLDNARKIAEMIVGMK...</td>\n",
       "      <td>AFP11436F1</td>\n",
       "    </tr>\n",
       "    <tr>\n",
       "      <th>2</th>\n",
       "      <td>MFVFLVLLPLVSSQCVNLTTRTQLPPAYTNSFTRGVYYPDKVFRSS...</td>\n",
       "      <td>6XR8,6XRA,7CWL,7CWM,7CWN,7CWO,7CWU,7F3Q,7FG2,7FG3</td>\n",
       "    </tr>\n",
       "    <tr>\n",
       "      <th>3</th>\n",
       "      <td>MPRYLKGWLKDVVQLSLRRPSFRASRQRPIISLNERILEFNKRNIT...</td>\n",
       "      <td>1IGS,1JUK,1JUL,AFQ06121F1</td>\n",
       "    </tr>\n",
       "    <tr>\n",
       "      <th>4</th>\n",
       "      <td>MSIQHFRVALIPFFAAFCLPVFAHPETLVKVKDAEDQLGARVGYIE...</td>\n",
       "      <td>AFA0A0H3H688F1,AFP62593F1,AFP62594F1</td>\n",
       "    </tr>\n",
       "    <tr>\n",
       "      <th>...</th>\n",
       "      <td>...</td>\n",
       "      <td>...</td>\n",
       "    </tr>\n",
       "    <tr>\n",
       "      <th>82</th>\n",
       "      <td>MTAIIKEIVSRNKRRYQEDGFDLDLTYIYPNIIAMGFPAERLEGVY...</td>\n",
       "      <td>AFF6KD01F1,AFP60483F1,AFP60484F1</td>\n",
       "    </tr>\n",
       "    <tr>\n",
       "      <th>83</th>\n",
       "      <td>SGFRKMAFPSGKVEGCMVQVTCGTTTLNGLWLDDVVYCPRHVICTS...</td>\n",
       "      <td>5R7Y,5R7Z,5R80,5R81,5R82,5R83,5R84,5R8T,5RE4,5RE5</td>\n",
       "    </tr>\n",
       "    <tr>\n",
       "      <th>84</th>\n",
       "      <td>MPVRRGHVAPQNTFLDTIIRKFEGQSRKFIIANARVENCAVIYCND...</td>\n",
       "      <td>AFA0A090N8Q0F1,AFQ12809F1</td>\n",
       "    </tr>\n",
       "    <tr>\n",
       "      <th>85</th>\n",
       "      <td>MTEYKLVVVGAGGVGKSALTIQLIQNHFVDEYDPTIEDSYRKQVVI...</td>\n",
       "      <td>4Q21,AFP01112F1,AFP20171F1,AFQ61411F1</td>\n",
       "    </tr>\n",
       "    <tr>\n",
       "      <th>86</th>\n",
       "      <td>MKNPKKKSGGFRIVNMLKRGVARVNPLGGLKRLPAGLLLGHGPIRM...</td>\n",
       "      <td>6WCZ</td>\n",
       "    </tr>\n",
       "  </tbody>\n",
       "</table>\n",
       "<p>87 rows × 2 columns</p>\n",
       "</div>"
      ],
      "text/plain": [
       "                                             wildtype  \\\n",
       "0   MTEQKALVKRITNETKIQIAISLKGGPLAIEHSIFPEKEAEAVAEQ...   \n",
       "1   MRHGDISSSNDTVGVAVVNYKMPRLHTAAEVLDNARKIAEMIVGMK...   \n",
       "2   MFVFLVLLPLVSSQCVNLTTRTQLPPAYTNSFTRGVYYPDKVFRSS...   \n",
       "3   MPRYLKGWLKDVVQLSLRRPSFRASRQRPIISLNERILEFNKRNIT...   \n",
       "4   MSIQHFRVALIPFFAAFCLPVFAHPETLVKVKDAEDQLGARVGYIE...   \n",
       "..                                                ...   \n",
       "82  MTAIIKEIVSRNKRRYQEDGFDLDLTYIYPNIIAMGFPAERLEGVY...   \n",
       "83  SGFRKMAFPSGKVEGCMVQVTCGTTTLNGLWLDDVVYCPRHVICTS...   \n",
       "84  MPVRRGHVAPQNTFLDTIIRKFEGQSRKFIIANARVENCAVIYCND...   \n",
       "85  MTEYKLVVVGAGGVGKSALTIQLIQNHFVDEYDPTIEDSYRKQVVI...   \n",
       "86  MKNPKKKSGGFRIVNMLKRGVARVNPLGGLKRLPAGLLLGHGPIRM...   \n",
       "\n",
       "                                          identifiers  \n",
       "0                                     6EZM,AFP06633F1  \n",
       "1                                          AFP11436F1  \n",
       "2   6XR8,6XRA,7CWL,7CWM,7CWN,7CWO,7CWU,7F3Q,7FG2,7FG3  \n",
       "3                           1IGS,1JUK,1JUL,AFQ06121F1  \n",
       "4                AFA0A0H3H688F1,AFP62593F1,AFP62594F1  \n",
       "..                                                ...  \n",
       "82                   AFF6KD01F1,AFP60483F1,AFP60484F1  \n",
       "83  5R7Y,5R7Z,5R80,5R81,5R82,5R83,5R84,5R8T,5RE4,5RE5  \n",
       "84                          AFA0A090N8Q0F1,AFQ12809F1  \n",
       "85              4Q21,AFP01112F1,AFP20171F1,AFQ61411F1  \n",
       "86                                               6WCZ  \n",
       "\n",
       "[87 rows x 2 columns]"
      ]
     },
     "execution_count": 14,
     "metadata": {},
     "output_type": "execute_result"
    }
   ],
   "source": [
    "df"
   ]
  },
  {
   "cell_type": "code",
   "execution_count": 32,
   "metadata": {},
   "outputs": [],
   "source": [
    "counts = 0\n",
    "for dataset in datasets:\n",
    "    wildtype = dataset.data.iloc[0]['sequence']\n",
    "    found = False\n",
    "    for item in dataset.experimental:\n",
    "        if item.df['ATOM']['chain_id'].nunique() == 1:\n",
    "            found = True\n",
    "    for item in dataset.alpha_fold:\n",
    "        if item.df['ATOM']['chain_id'].nunique() == 1:\n",
    "            found = True\n",
    "    if not found:\n",
    "        counts += 1"
   ]
  },
  {
   "cell_type": "code",
   "execution_count": 33,
   "metadata": {},
   "outputs": [
    {
     "data": {
      "text/plain": [
       "21"
      ]
     },
     "execution_count": 33,
     "metadata": {},
     "output_type": "execute_result"
    }
   ],
   "source": [
    "counts"
   ]
  },
  {
   "cell_type": "code",
   "execution_count": 29,
   "metadata": {},
   "outputs": [],
   "source": [
    "no_alphafold = 0\n",
    "for dataset in datasets:\n",
    "    if len(dataset.alpha_fold) == 0:\n",
    "        no_alphafold += 1"
   ]
  },
  {
   "cell_type": "code",
   "execution_count": 31,
   "metadata": {},
   "outputs": [
    {
     "data": {
      "text/plain": [
       "87"
      ]
     },
     "execution_count": 31,
     "metadata": {},
     "output_type": "execute_result"
    }
   ],
   "source": [
    "len(datasets)"
   ]
  },
  {
   "cell_type": "code",
   "execution_count": 30,
   "metadata": {},
   "outputs": [
    {
     "data": {
      "text/plain": [
       "36"
      ]
     },
     "execution_count": 30,
     "metadata": {},
     "output_type": "execute_result"
    }
   ],
   "source": [
    "no_alphafold"
   ]
  },
  {
   "cell_type": "code",
   "execution_count": 13,
   "metadata": {},
   "outputs": [
    {
     "name": "stdout",
     "output_type": "stream",
     "text": [
      "{'query_id': 'a02a83d3-4350-4574-9530-f930fbcb9593', 'result_type': 'entry', 'total_count': 6, 'result_set': [{'identifier': 'AF_AFP11436F1', 'score': 1.0}, {'identifier': 'AF_AFB7V2X1F1', 'score': 0.98}, {'identifier': 'AF_AFQ02QK0F1', 'score': 0.98}, {'identifier': 'AF_AFA6V262F1', 'score': 0.94}, {'identifier': '2UXY', 'score': 0.82}, {'identifier': 'AF_AFA5W2C0F1', 'score': 0.0}]}\n"
     ]
    }
   ],
   "source": [
    "import requests\n",
    "import json\n",
    "\n",
    "base_url = 'https://search.rcsb.org/rcsbsearch/v2/query'\n",
    "\n",
    "query = {\n",
    "  \"query\": {\n",
    "    \"type\": \"terminal\",\n",
    "    \"service\": \"sequence\",\n",
    "    \"parameters\": {\n",
    "      \"value\": datasets[1].data.iloc[0]['sequence'],\n",
    "      \"evalue_cutoff\": 1,\n",
    "      \"identity_cutoff\": 0.9,\n",
    "      \"sequence_type\": \"protein\",\n",
    "    }\n",
    "  },\n",
    "  \"return_type\": \"entry\",\n",
    "  \"request_options\": {\n",
    "    \"scoring_strategy\": \"sequence\",\n",
    "    \"results_content_type\": [\n",
    "      \"computational\",\n",
    "      \"experimental\"\n",
    "    ]\n",
    "  }\n",
    "}\n",
    "\n",
    "# Convert the query dictionary to JSON\n",
    "json_query = json.dumps(query)\n",
    "\n",
    "# Construct the URL-encoded query string\n",
    "url = f\"{base_url}?json={json_query}\"\n",
    "response = requests.get(url)\n",
    "if response.status_code == 200:\n",
    "    # Extract the response JSON\n",
    "    response_json = response.json()\n",
    "    # Process the response as needed\n",
    "    print(response_json)\n",
    "else:\n",
    "    print(\"Request failed with status code:\", response.status_code)"
   ]
  },
  {
   "cell_type": "code",
   "execution_count": 14,
   "metadata": {},
   "outputs": [],
   "source": [
    "AF_code = 'AF_AFP11436F1'\n",
    "pdb_url = f'https://files.rcsb.org/download/{AF_code}.pdb1'"
   ]
  },
  {
   "cell_type": "code",
   "execution_count": 15,
   "metadata": {},
   "outputs": [
    {
     "data": {
      "text/plain": [
       "'https://files.rcsb.org/download/AF_AFP11436F1.pdb1'"
      ]
     },
     "execution_count": 15,
     "metadata": {},
     "output_type": "execute_result"
    }
   ],
   "source": [
    "pdb_url"
   ]
  },
  {
   "cell_type": "code",
   "execution_count": 26,
   "metadata": {},
   "outputs": [
    {
     "name": "stderr",
     "output_type": "stream",
     "text": [
      "  % Total    % Received % Xferd  Average Speed   Time    Time     Time  Current\n",
      "                                 Dload  Upload   Total   Spent    Left  Speed\n",
      "100  219k    0  219k    0     0  1134k      0 --:--:-- --:--:-- --:--:-- 1160k\n"
     ]
    },
    {
     "data": {
      "text/plain": [
       "0"
      ]
     },
     "execution_count": 26,
     "metadata": {},
     "output_type": "execute_result"
    }
   ],
   "source": [
    "import os\n",
    "alphafold_ID = 'AF-P11436-F1'\n",
    "database_version = 'v4'\n",
    "model_url = f'https://alphafold.ebi.ac.uk/files/{alphafold_ID}-model_{database_version}.pdb'\n",
    "\n",
    "os.system(f'curl {model_url} -o {alphafold_ID}.pdb')\n",
    "\n"
   ]
  },
  {
   "cell_type": "code",
   "execution_count": 51,
   "metadata": {},
   "outputs": [
    {
     "data": {
      "text/html": [
       "<div>\n",
       "<style scoped>\n",
       "    .dataframe tbody tr th:only-of-type {\n",
       "        vertical-align: middle;\n",
       "    }\n",
       "\n",
       "    .dataframe tbody tr th {\n",
       "        vertical-align: top;\n",
       "    }\n",
       "\n",
       "    .dataframe thead th {\n",
       "        text-align: right;\n",
       "    }\n",
       "</style>\n",
       "<table border=\"1\" class=\"dataframe\">\n",
       "  <thead>\n",
       "    <tr style=\"text-align: right;\">\n",
       "      <th></th>\n",
       "      <th>wildtype</th>\n",
       "      <th>identifiers</th>\n",
       "    </tr>\n",
       "  </thead>\n",
       "  <tbody>\n",
       "    <tr>\n",
       "      <th>0</th>\n",
       "      <td>MTEQKALVKRITNETKIQIAISLKGGPLAIEHSIFPEKEAEAVAEQ...</td>\n",
       "      <td>6EZM,AFP06633F1</td>\n",
       "    </tr>\n",
       "    <tr>\n",
       "      <th>1</th>\n",
       "      <td>MRHGDISSSNDTVGVAVVNYKMPRLHTAAEVLDNARKIAEMIVGMK...</td>\n",
       "      <td>AFP11436F1</td>\n",
       "    </tr>\n",
       "    <tr>\n",
       "      <th>2</th>\n",
       "      <td>MFVFLVLLPLVSSQCVNLTTRTQLPPAYTNSFTRGVYYPDKVFRSS...</td>\n",
       "      <td>6XR8,6XRA,7CWL,7CWM,7CWN,7CWO,7CWU,7F3Q,7FG2,7FG3</td>\n",
       "    </tr>\n",
       "    <tr>\n",
       "      <th>3</th>\n",
       "      <td>MPRYLKGWLKDVVQLSLRRPSFRASRQRPIISLNERILEFNKRNIT...</td>\n",
       "      <td>1IGS,1JUK,1JUL,AFQ06121F1</td>\n",
       "    </tr>\n",
       "    <tr>\n",
       "      <th>4</th>\n",
       "      <td>MSIQHFRVALIPFFAAFCLPVFAHPETLVKVKDAEDQLGARVGYIE...</td>\n",
       "      <td>AFA0A0H3H688F1,AFP62593F1,AFP62594F1</td>\n",
       "    </tr>\n",
       "    <tr>\n",
       "      <th>...</th>\n",
       "      <td>...</td>\n",
       "      <td>...</td>\n",
       "    </tr>\n",
       "    <tr>\n",
       "      <th>82</th>\n",
       "      <td>MTAIIKEIVSRNKRRYQEDGFDLDLTYIYPNIIAMGFPAERLEGVY...</td>\n",
       "      <td>AFF6KD01F1,AFP60483F1,AFP60484F1</td>\n",
       "    </tr>\n",
       "    <tr>\n",
       "      <th>83</th>\n",
       "      <td>SGFRKMAFPSGKVEGCMVQVTCGTTTLNGLWLDDVVYCPRHVICTS...</td>\n",
       "      <td>5R7Y,5R7Z,5R80,5R81,5R82,5R83,5R84,5R8T,5RE4,5RE5</td>\n",
       "    </tr>\n",
       "    <tr>\n",
       "      <th>84</th>\n",
       "      <td>MPVRRGHVAPQNTFLDTIIRKFEGQSRKFIIANARVENCAVIYCND...</td>\n",
       "      <td>AFA0A090N8Q0F1,AFQ12809F1</td>\n",
       "    </tr>\n",
       "    <tr>\n",
       "      <th>85</th>\n",
       "      <td>MTEYKLVVVGAGGVGKSALTIQLIQNHFVDEYDPTIEDSYRKQVVI...</td>\n",
       "      <td>4Q21,AFP01112F1,AFP20171F1,AFQ61411F1</td>\n",
       "    </tr>\n",
       "    <tr>\n",
       "      <th>86</th>\n",
       "      <td>MKNPKKKSGGFRIVNMLKRGVARVNPLGGLKRLPAGLLLGHGPIRM...</td>\n",
       "      <td>6WCZ</td>\n",
       "    </tr>\n",
       "  </tbody>\n",
       "</table>\n",
       "<p>87 rows × 2 columns</p>\n",
       "</div>"
      ],
      "text/plain": [
       "                                             wildtype  \\\n",
       "0   MTEQKALVKRITNETKIQIAISLKGGPLAIEHSIFPEKEAEAVAEQ...   \n",
       "1   MRHGDISSSNDTVGVAVVNYKMPRLHTAAEVLDNARKIAEMIVGMK...   \n",
       "2   MFVFLVLLPLVSSQCVNLTTRTQLPPAYTNSFTRGVYYPDKVFRSS...   \n",
       "3   MPRYLKGWLKDVVQLSLRRPSFRASRQRPIISLNERILEFNKRNIT...   \n",
       "4   MSIQHFRVALIPFFAAFCLPVFAHPETLVKVKDAEDQLGARVGYIE...   \n",
       "..                                                ...   \n",
       "82  MTAIIKEIVSRNKRRYQEDGFDLDLTYIYPNIIAMGFPAERLEGVY...   \n",
       "83  SGFRKMAFPSGKVEGCMVQVTCGTTTLNGLWLDDVVYCPRHVICTS...   \n",
       "84  MPVRRGHVAPQNTFLDTIIRKFEGQSRKFIIANARVENCAVIYCND...   \n",
       "85  MTEYKLVVVGAGGVGKSALTIQLIQNHFVDEYDPTIEDSYRKQVVI...   \n",
       "86  MKNPKKKSGGFRIVNMLKRGVARVNPLGGLKRLPAGLLLGHGPIRM...   \n",
       "\n",
       "                                          identifiers  \n",
       "0                                     6EZM,AFP06633F1  \n",
       "1                                          AFP11436F1  \n",
       "2   6XR8,6XRA,7CWL,7CWM,7CWN,7CWO,7CWU,7F3Q,7FG2,7FG3  \n",
       "3                           1IGS,1JUK,1JUL,AFQ06121F1  \n",
       "4                AFA0A0H3H688F1,AFP62593F1,AFP62594F1  \n",
       "..                                                ...  \n",
       "82                   AFF6KD01F1,AFP60483F1,AFP60484F1  \n",
       "83  5R7Y,5R7Z,5R80,5R81,5R82,5R83,5R84,5R8T,5RE4,5RE5  \n",
       "84                          AFA0A090N8Q0F1,AFQ12809F1  \n",
       "85              4Q21,AFP01112F1,AFP20171F1,AFQ61411F1  \n",
       "86                                               6WCZ  \n",
       "\n",
       "[87 rows x 2 columns]"
      ]
     },
     "execution_count": 51,
     "metadata": {},
     "output_type": "execute_result"
    }
   ],
   "source": [
    "maps"
   ]
  },
  {
   "cell_type": "code",
   "execution_count": 50,
   "metadata": {},
   "outputs": [
    {
     "data": {
      "text/plain": [
       "0         MTEQKALVKRITNETKIQIAISLKGGPLAIEHSIFPEKEAEAVAEQ...\n",
       "0         MTEQKESIKRDTNETKIQISLSLDGGPLAIEHSIFPEKEAEAVAEQ...\n",
       "1         MTEQKSFIRRNTNETKIQIALGLKGGPLAIEHSIFPEKEAEAVAEQ...\n",
       "2         MTEQKSFISRNTNETKIQVAISINGGPLAIEHSIFPEKEAEAVAEQ...\n",
       "3         MTEQKSFISRITNETKIQVSICIDGGPLAIEHSIFPEKEAEAVAEQ...\n",
       "                                ...                        \n",
       "496132    MTEQKALVKRITNETKIQIAISLKGGPLAIEHSIFPEKEAEAVAEQ...\n",
       "496133    MTEQKALVKRITNETKIQIAISLKGGPLAIEHSIFPEKEAEAVAEQ...\n",
       "496134    MTEQKALVKRITNETKIQIAISLKGGPLAIEHSIFPEKEAEAVAEQ...\n",
       "496135    MTEQKALVKRITNETKIQIAISLKGGPLAIEHSIFPEKEAEAVAEQ...\n",
       "496136    MTEQKALVKRITNETKIQIAISLKGGPLAIEHSIFPEKEAEAVAEQ...\n",
       "Name: sequence, Length: 496138, dtype: object"
      ]
     },
     "execution_count": 50,
     "metadata": {},
     "output_type": "execute_result"
    }
   ],
   "source": [
    "datasets[0].data['sequence']"
   ]
  },
  {
   "cell_type": "code",
   "execution_count": 46,
   "metadata": {},
   "outputs": [
    {
     "data": {
      "text/plain": [
       "variant                                                                 \n",
       "fitness                                                              1.0\n",
       "sequence               MTEQKALVKRITNETKIQIAISLKGGPLAIEHSIFPEKEAEAVAEQ...\n",
       "DMS_score_bin                                                          1\n",
       "hamming_to_wildtype                                                    0\n",
       "is_wildtype                                                         True\n",
       "fitness_percentile                                              0.771838\n",
       "fitness_rank                                                      113200\n",
       "Name: 0, dtype: object"
      ]
     },
     "execution_count": 46,
     "metadata": {},
     "output_type": "execute_result"
    }
   ],
   "source": [
    "wt['']"
   ]
  },
  {
   "cell_type": "code",
   "execution_count": 69,
   "metadata": {},
   "outputs": [],
   "source": [
    "import pandas as pd\n",
    "\n",
    "maps = pd.read_csv('/Users/antoniaboca/partIII-amino-acid-prediction/data/mapping.csv')"
   ]
  },
  {
   "cell_type": "code",
   "execution_count": 70,
   "metadata": {},
   "outputs": [],
   "source": [
    "seq_to_name = {}\n",
    "for dataset in datasets:\n",
    "    df = dataset.data\n",
    "    wildtype = df[df['is_wildtype']]['sequence'].iloc[0]\n",
    "    seq_to_name[wildtype] = dataset.name\n",
    "\n",
    "maps['name'] = maps['wildtype'].map(seq_to_name)"
   ]
  },
  {
   "cell_type": "code",
   "execution_count": 71,
   "metadata": {},
   "outputs": [],
   "source": [
    "maps = maps[['wildtype', 'identifiers', 'name']]"
   ]
  },
  {
   "cell_type": "code",
   "execution_count": 1,
   "metadata": {},
   "outputs": [
    {
     "ename": "NameError",
     "evalue": "name 'maps' is not defined",
     "output_type": "error",
     "traceback": [
      "\u001b[0;31m---------------------------------------------------------------------------\u001b[0m",
      "\u001b[0;31mNameError\u001b[0m                                 Traceback (most recent call last)",
      "Cell \u001b[0;32mIn[1], line 1\u001b[0m\n\u001b[0;32m----> 1\u001b[0m maps\u001b[39m.\u001b[39mhead(\u001b[39m20\u001b[39m)\n",
      "\u001b[0;31mNameError\u001b[0m: name 'maps' is not defined"
     ]
    }
   ],
   "source": [
    "maps.head(20)"
   ]
  },
  {
   "cell_type": "code",
   "execution_count": 73,
   "metadata": {},
   "outputs": [],
   "source": [
    "with open('/Users/antoniaboca/partIII-amino-acid-prediction/data/mapping.csv', 'w') as handle:\n",
    "    maps.to_csv(handle, index=False)"
   ]
  },
  {
   "cell_type": "code",
   "execution_count": 3,
   "metadata": {},
   "outputs": [],
   "source": [
    "import pandas as pd\n",
    "maps = pd.read_csv('/Users/antoniaboca/partIII-amino-acid-prediction/data/mapping.csv')"
   ]
  },
  {
   "cell_type": "code",
   "execution_count": 23,
   "metadata": {},
   "outputs": [
    {
     "data": {
      "text/plain": [
       "'MAVQPKETLQLESAAEVGFVRFFQGMPEKPTTTVRLFDRGDFYTAHGEDALLAAREVFKTQGVIKYMGPAGAKNLQSVVLSKMNFESFVKDLLLVRQYRVEVYKNRAGNKASKENDWYLAYKASPGNLSQFEDILFGNNDMSASIGVVGVKMSAVDGQRQVGVGYVDSIQRKLGLCEFPDNDQFSNLEALLIQIGPKECVLPGGETAGDMGKLRQIIQRGGILITERKKADFSTKDIYQDLNRLLKGKKGEQMNSAVLPEMENQVAVSSLSAVIKFLELLSDDSNFGQFELTTFDFSQYMKLDIAAVRALNLFQGSVEDTTGSQSLAALLNKCKTPQGQRLVNQWIKQPLMDKNRIEERLNLVEAFVEDAELRQTLQEDLLRRFPDLNRLAKKFQRQAANLQDCYRLYQGINQLPNVIQALEKHEGKHQKLLLAVFVTPLTDLRSDFSKFQEMIETTLDMDQVENHEFLVKPSFDPNLSELREIMNDLEKKMQSTLISAARDLGLDPGKQIKLDSSAQFGYYFRVTCKEEKVLRNNKNFSTVDIQKNGVKFTNSKLTSLNEEYTKNKTEYEEAQDAIVKEIVNISSGYVEPMQTLNDVLAQLDAVVSFAHVSNGAPVPYVRPAILEKGQGRIILKASRHACVEVQDEIAFIPNDVYFEKDKQMFHIITGPNMGGKSTYIRQTGVIVLMAQIGCFVPCESAEVSIVDCILARVGAGDSQLKGVSTFMAEMLETASILRSATKDSLIIIDELGRGTSTYDGFGLAWAISEYIATKIGAFCMFATHFHELTALANQIPTVNNLHVTALTTEETLTMLYQVKKGVCDQSFGIHVAELANFPKHVIECAKQKALELEEFQYIGESQGYDIMEPAAKKCYLEREQGEKIIQEFLSKVKQMPFTEMSEENITIKLKQLKAEVIAKNNSFVNEIISRIKVTT'"
      ]
     },
     "execution_count": 23,
     "metadata": {},
     "output_type": "execute_result"
    }
   ],
   "source": [
    "maps.iloc[16]['wildtype']"
   ]
  },
  {
   "cell_type": "code",
   "execution_count": 4,
   "metadata": {},
   "outputs": [
    {
     "data": {
      "text/html": [
       "<div>\n",
       "<style scoped>\n",
       "    .dataframe tbody tr th:only-of-type {\n",
       "        vertical-align: middle;\n",
       "    }\n",
       "\n",
       "    .dataframe tbody tr th {\n",
       "        vertical-align: top;\n",
       "    }\n",
       "\n",
       "    .dataframe thead th {\n",
       "        text-align: right;\n",
       "    }\n",
       "</style>\n",
       "<table border=\"1\" class=\"dataframe\">\n",
       "  <thead>\n",
       "    <tr style=\"text-align: right;\">\n",
       "      <th></th>\n",
       "      <th>wildtype</th>\n",
       "      <th>identifiers</th>\n",
       "      <th>name</th>\n",
       "    </tr>\n",
       "  </thead>\n",
       "  <tbody>\n",
       "    <tr>\n",
       "      <th>0</th>\n",
       "      <td>MTEQKALVKRITNETKIQIAISLKGGPLAIEHSIFPEKEAEAVAEQ...</td>\n",
       "      <td>6EZM,AFP06633F1</td>\n",
       "      <td>HIS7_YEAST_Pokusaeva_2019</td>\n",
       "    </tr>\n",
       "    <tr>\n",
       "      <th>1</th>\n",
       "      <td>MRHGDISSSNDTVGVAVVNYKMPRLHTAAEVLDNARKIAEMIVGMK...</td>\n",
       "      <td>AFP11436F1</td>\n",
       "      <td>AMIE_PSEAE_Wrenbeck_2017</td>\n",
       "    </tr>\n",
       "    <tr>\n",
       "      <th>2</th>\n",
       "      <td>MFVFLVLLPLVSSQCVNLTTRTQLPPAYTNSFTRGVYYPDKVFRSS...</td>\n",
       "      <td>6XR8,6XRA,7CWL,7CWM,7CWN,7CWO,7CWU,7F3Q,7FG2,7FG3</td>\n",
       "      <td>SPIKE_SARS2_Starr_expr_2020</td>\n",
       "    </tr>\n",
       "    <tr>\n",
       "      <th>3</th>\n",
       "      <td>MPRYLKGWLKDVVQLSLRRPSFRASRQRPIISLNERILEFNKRNIT...</td>\n",
       "      <td>1IGS,1JUK,1JUL,AFQ06121F1</td>\n",
       "      <td>TRPC_SACS2_Chan_2017</td>\n",
       "    </tr>\n",
       "    <tr>\n",
       "      <th>4</th>\n",
       "      <td>MSIQHFRVALIPFFAAFCLPVFAHPETLVKVKDAEDQLGARVGYIE...</td>\n",
       "      <td>AFA0A0H3H688F1,AFP62593F1,AFP62594F1</td>\n",
       "      <td>BLAT_ECOLX_Stiffler_2015</td>\n",
       "    </tr>\n",
       "    <tr>\n",
       "      <th>5</th>\n",
       "      <td>MFVFLVLLPLVSSQCVNLTTRTQLPPAYTNSFTRGVYYPDKVFRSS...</td>\n",
       "      <td>6XR8,6XRA,7CWL,7CWM,7CWN,7CWO,7CWU,7F3Q,7FG2,7FG3</td>\n",
       "      <td>SPIKE_SARS2_Starr_expr_2020</td>\n",
       "    </tr>\n",
       "    <tr>\n",
       "      <th>6</th>\n",
       "      <td>MADITDKTAEQLENLNIQDDQKQAATGSESQSVENSSASLYVGDLE...</td>\n",
       "      <td>6R5K,AFP04147F1</td>\n",
       "      <td>PABP_YEAST_Melamed_2013</td>\n",
       "    </tr>\n",
       "    <tr>\n",
       "      <th>7</th>\n",
       "      <td>MRVMGIQRNCQHLFRWGTMILGMIIICSAAENLWVTVYYGVPVWKD...</td>\n",
       "      <td>7T0O</td>\n",
       "      <td>Q2N0S5_9HIV1_Haddox_2018</td>\n",
       "    </tr>\n",
       "    <tr>\n",
       "      <th>8</th>\n",
       "      <td>MANFLLPRGTSSFRRFTRESLAAIEKRMAEKQARGSTTLQESREGL...</td>\n",
       "      <td>6LQA,AFQ14524F1</td>\n",
       "      <td>SCN5A_HUMAN_Glazer_2019</td>\n",
       "    </tr>\n",
       "    <tr>\n",
       "      <th>9</th>\n",
       "      <td>MEEPQSDPSVEPPLSQETFSDLWKLLPENNVLSPLPSQAMDDLMLS...</td>\n",
       "      <td>6XRE,7XZZ,8F2H,8F2I,AFK7PPA8F1,AFP04637F1</td>\n",
       "      <td>P53_HUMAN_Giacomelli_NULL_Nutlin_2018</td>\n",
       "    </tr>\n",
       "    <tr>\n",
       "      <th>10</th>\n",
       "      <td>MAADGYLPDWLEDTLSEGIRQWWKLKPGPPPPKPAERHKDDSRGLV...</td>\n",
       "      <td>6IHB,7RWL,7RWT</td>\n",
       "      <td>CAPSD_AAV2S_Sinai_substitutions_2021</td>\n",
       "    </tr>\n",
       "    <tr>\n",
       "      <th>11</th>\n",
       "      <td>MLPGLALLLLAAWTARALEVPTDGNAGLLAEPQIAMFCGRLNMHMN...</td>\n",
       "      <td>AFA0A140VJC8F1,AFP05067F1</td>\n",
       "      <td>A4_HUMAN_Seuma_2021</td>\n",
       "    </tr>\n",
       "    <tr>\n",
       "      <th>12</th>\n",
       "      <td>MNPNQKIITIGSICMVVGIISLILQIGNIISIWISHSIQTGNQNHT...</td>\n",
       "      <td>6D96</td>\n",
       "      <td>NRAM_I33A0_Jiang_standard_2016</td>\n",
       "    </tr>\n",
       "    <tr>\n",
       "      <th>13</th>\n",
       "      <td>MNLISLFSGAGGLDLGFQKAGFRIIAANEYDKSIWKTYESNHSAKL...</td>\n",
       "      <td>AFP20589F1</td>\n",
       "      <td>MTH3_HAEAE_Rockah-Shmuel_2015</td>\n",
       "    </tr>\n",
       "    <tr>\n",
       "      <th>14</th>\n",
       "      <td>MLRSSNDVTQQGSRPKTKLGGSSMGIIRTCRLGPDQVKSMRAALDL...</td>\n",
       "      <td>6BVC</td>\n",
       "      <td>AACC1_PSEAI_Dandage_2018</td>\n",
       "    </tr>\n",
       "    <tr>\n",
       "      <th>15</th>\n",
       "      <td>MSIQHFRVALIPFFAAFCLPVFAHPETLVKVKDAEDQLGARVGYIE...</td>\n",
       "      <td>AFA0A0H3H688F1,AFP62593F1,AFP62594F1</td>\n",
       "      <td>BLAT_ECOLX_Stiffler_2015</td>\n",
       "    </tr>\n",
       "    <tr>\n",
       "      <th>16</th>\n",
       "      <td>MAVQPKETLQLESAAEVGFVRFFQGMPEKPTTTVRLFDRGDFYTAH...</td>\n",
       "      <td>2O8B,2O8C,2O8D,2O8F,3THW,3THX,3THY,3THZ,8AG6,A...</td>\n",
       "      <td>MSH2_HUMAN_Jia_2020</td>\n",
       "    </tr>\n",
       "    <tr>\n",
       "      <th>17</th>\n",
       "      <td>MRVKGIQMNSQHLLRWGIMILGMIMICSVAGNLWVTVYYGVPVWKD...</td>\n",
       "      <td>6MAR</td>\n",
       "      <td>A0A192B1T2_9HIV1_Haddox_2018</td>\n",
       "    </tr>\n",
       "    <tr>\n",
       "      <th>18</th>\n",
       "      <td>MEKEKKVKYFLRKSAFGLASVSAAFLVGSTVFAVDSPIEDTPIIRN...</td>\n",
       "      <td>AFP06654F1</td>\n",
       "      <td>SPG1_STRSG_Olson_2014</td>\n",
       "    </tr>\n",
       "    <tr>\n",
       "      <th>19</th>\n",
       "      <td>MDSLVVLVLCLSCLLLLSLWRQSSGRGKLPPGPTPLPVIGNILQIG...</td>\n",
       "      <td>AFP11712F1</td>\n",
       "      <td>CP2C9_HUMAN_Amorosi_abundance_2021</td>\n",
       "    </tr>\n",
       "  </tbody>\n",
       "</table>\n",
       "</div>"
      ],
      "text/plain": [
       "                                             wildtype  \\\n",
       "0   MTEQKALVKRITNETKIQIAISLKGGPLAIEHSIFPEKEAEAVAEQ...   \n",
       "1   MRHGDISSSNDTVGVAVVNYKMPRLHTAAEVLDNARKIAEMIVGMK...   \n",
       "2   MFVFLVLLPLVSSQCVNLTTRTQLPPAYTNSFTRGVYYPDKVFRSS...   \n",
       "3   MPRYLKGWLKDVVQLSLRRPSFRASRQRPIISLNERILEFNKRNIT...   \n",
       "4   MSIQHFRVALIPFFAAFCLPVFAHPETLVKVKDAEDQLGARVGYIE...   \n",
       "5   MFVFLVLLPLVSSQCVNLTTRTQLPPAYTNSFTRGVYYPDKVFRSS...   \n",
       "6   MADITDKTAEQLENLNIQDDQKQAATGSESQSVENSSASLYVGDLE...   \n",
       "7   MRVMGIQRNCQHLFRWGTMILGMIIICSAAENLWVTVYYGVPVWKD...   \n",
       "8   MANFLLPRGTSSFRRFTRESLAAIEKRMAEKQARGSTTLQESREGL...   \n",
       "9   MEEPQSDPSVEPPLSQETFSDLWKLLPENNVLSPLPSQAMDDLMLS...   \n",
       "10  MAADGYLPDWLEDTLSEGIRQWWKLKPGPPPPKPAERHKDDSRGLV...   \n",
       "11  MLPGLALLLLAAWTARALEVPTDGNAGLLAEPQIAMFCGRLNMHMN...   \n",
       "12  MNPNQKIITIGSICMVVGIISLILQIGNIISIWISHSIQTGNQNHT...   \n",
       "13  MNLISLFSGAGGLDLGFQKAGFRIIAANEYDKSIWKTYESNHSAKL...   \n",
       "14  MLRSSNDVTQQGSRPKTKLGGSSMGIIRTCRLGPDQVKSMRAALDL...   \n",
       "15  MSIQHFRVALIPFFAAFCLPVFAHPETLVKVKDAEDQLGARVGYIE...   \n",
       "16  MAVQPKETLQLESAAEVGFVRFFQGMPEKPTTTVRLFDRGDFYTAH...   \n",
       "17  MRVKGIQMNSQHLLRWGIMILGMIMICSVAGNLWVTVYYGVPVWKD...   \n",
       "18  MEKEKKVKYFLRKSAFGLASVSAAFLVGSTVFAVDSPIEDTPIIRN...   \n",
       "19  MDSLVVLVLCLSCLLLLSLWRQSSGRGKLPPGPTPLPVIGNILQIG...   \n",
       "\n",
       "                                          identifiers  \\\n",
       "0                                     6EZM,AFP06633F1   \n",
       "1                                          AFP11436F1   \n",
       "2   6XR8,6XRA,7CWL,7CWM,7CWN,7CWO,7CWU,7F3Q,7FG2,7FG3   \n",
       "3                           1IGS,1JUK,1JUL,AFQ06121F1   \n",
       "4                AFA0A0H3H688F1,AFP62593F1,AFP62594F1   \n",
       "5   6XR8,6XRA,7CWL,7CWM,7CWN,7CWO,7CWU,7F3Q,7FG2,7FG3   \n",
       "6                                     6R5K,AFP04147F1   \n",
       "7                                                7T0O   \n",
       "8                                     6LQA,AFQ14524F1   \n",
       "9           6XRE,7XZZ,8F2H,8F2I,AFK7PPA8F1,AFP04637F1   \n",
       "10                                     6IHB,7RWL,7RWT   \n",
       "11                          AFA0A140VJC8F1,AFP05067F1   \n",
       "12                                               6D96   \n",
       "13                                         AFP20589F1   \n",
       "14                                               6BVC   \n",
       "15               AFA0A0H3H688F1,AFP62593F1,AFP62594F1   \n",
       "16  2O8B,2O8C,2O8D,2O8F,3THW,3THX,3THY,3THZ,8AG6,A...   \n",
       "17                                               6MAR   \n",
       "18                                         AFP06654F1   \n",
       "19                                         AFP11712F1   \n",
       "\n",
       "                                     name  \n",
       "0               HIS7_YEAST_Pokusaeva_2019  \n",
       "1                AMIE_PSEAE_Wrenbeck_2017  \n",
       "2             SPIKE_SARS2_Starr_expr_2020  \n",
       "3                    TRPC_SACS2_Chan_2017  \n",
       "4                BLAT_ECOLX_Stiffler_2015  \n",
       "5             SPIKE_SARS2_Starr_expr_2020  \n",
       "6                 PABP_YEAST_Melamed_2013  \n",
       "7                Q2N0S5_9HIV1_Haddox_2018  \n",
       "8                 SCN5A_HUMAN_Glazer_2019  \n",
       "9   P53_HUMAN_Giacomelli_NULL_Nutlin_2018  \n",
       "10   CAPSD_AAV2S_Sinai_substitutions_2021  \n",
       "11                    A4_HUMAN_Seuma_2021  \n",
       "12         NRAM_I33A0_Jiang_standard_2016  \n",
       "13          MTH3_HAEAE_Rockah-Shmuel_2015  \n",
       "14               AACC1_PSEAI_Dandage_2018  \n",
       "15               BLAT_ECOLX_Stiffler_2015  \n",
       "16                    MSH2_HUMAN_Jia_2020  \n",
       "17           A0A192B1T2_9HIV1_Haddox_2018  \n",
       "18                  SPG1_STRSG_Olson_2014  \n",
       "19     CP2C9_HUMAN_Amorosi_abundance_2021  "
      ]
     },
     "execution_count": 4,
     "metadata": {},
     "output_type": "execute_result"
    }
   ],
   "source": [
    "maps.head(20)"
   ]
  },
  {
   "cell_type": "code",
   "execution_count": 7,
   "metadata": {},
   "outputs": [],
   "source": [
    "DATA_PATH = '/Users/antoniaboca/partIII-amino-acid-prediction/data/ProteinGym_structures_clean'"
   ]
  },
  {
   "cell_type": "code",
   "execution_count": 13,
   "metadata": {},
   "outputs": [],
   "source": [
    "from biopandas.pdb import PandasPdb\n",
    "cleaned = PandasPdb().read_pdb(f'{DATA_PATH}/2O8B.pdb')"
   ]
  },
  {
   "cell_type": "code",
   "execution_count": 14,
   "metadata": {},
   "outputs": [
    {
     "data": {
      "text/plain": [
       "<biopandas.pdb.pandas_pdb.PandasPdb at 0x141e02970>"
      ]
     },
     "execution_count": 14,
     "metadata": {},
     "output_type": "execute_result"
    }
   ],
   "source": [
    "cleaned"
   ]
  },
  {
   "cell_type": "code",
   "execution_count": 25,
   "metadata": {},
   "outputs": [
    {
     "data": {
      "text/plain": [
       "array(['E', 'F', 'A', 'B'], dtype=object)"
      ]
     },
     "execution_count": 25,
     "metadata": {},
     "output_type": "execute_result"
    }
   ],
   "source": [
    "cleaned.df['ATOM']['chain_id'].unique()"
   ]
  },
  {
   "cell_type": "code",
   "execution_count": 24,
   "metadata": {},
   "outputs": [
    {
     "data": {
      "text/html": [
       "<div>\n",
       "<style scoped>\n",
       "    .dataframe tbody tr th:only-of-type {\n",
       "        vertical-align: middle;\n",
       "    }\n",
       "\n",
       "    .dataframe tbody tr th {\n",
       "        vertical-align: top;\n",
       "    }\n",
       "\n",
       "    .dataframe thead th {\n",
       "        text-align: right;\n",
       "    }\n",
       "</style>\n",
       "<table border=\"1\" class=\"dataframe\">\n",
       "  <thead>\n",
       "    <tr style=\"text-align: right;\">\n",
       "      <th></th>\n",
       "      <th>record_name</th>\n",
       "      <th>atom_number</th>\n",
       "      <th>blank_1</th>\n",
       "      <th>atom_name</th>\n",
       "      <th>alt_loc</th>\n",
       "      <th>residue_name</th>\n",
       "      <th>blank_2</th>\n",
       "      <th>chain_id</th>\n",
       "      <th>residue_number</th>\n",
       "      <th>insertion</th>\n",
       "      <th>...</th>\n",
       "      <th>x_coord</th>\n",
       "      <th>y_coord</th>\n",
       "      <th>z_coord</th>\n",
       "      <th>occupancy</th>\n",
       "      <th>b_factor</th>\n",
       "      <th>blank_4</th>\n",
       "      <th>segment_id</th>\n",
       "      <th>element_symbol</th>\n",
       "      <th>charge</th>\n",
       "      <th>line_idx</th>\n",
       "    </tr>\n",
       "  </thead>\n",
       "  <tbody>\n",
       "    <tr>\n",
       "      <th>19</th>\n",
       "      <td>ATOM</td>\n",
       "      <td>20</td>\n",
       "      <td></td>\n",
       "      <td>P</td>\n",
       "      <td></td>\n",
       "      <td>DA</td>\n",
       "      <td></td>\n",
       "      <td>E</td>\n",
       "      <td>2</td>\n",
       "      <td></td>\n",
       "      <td>...</td>\n",
       "      <td>-44.047</td>\n",
       "      <td>48.961</td>\n",
       "      <td>13.575</td>\n",
       "      <td>1.0</td>\n",
       "      <td>0.0</td>\n",
       "      <td></td>\n",
       "      <td></td>\n",
       "      <td>P</td>\n",
       "      <td>NaN</td>\n",
       "      <td>21</td>\n",
       "    </tr>\n",
       "    <tr>\n",
       "      <th>20</th>\n",
       "      <td>ATOM</td>\n",
       "      <td>21</td>\n",
       "      <td></td>\n",
       "      <td>OP1</td>\n",
       "      <td></td>\n",
       "      <td>DA</td>\n",
       "      <td></td>\n",
       "      <td>E</td>\n",
       "      <td>2</td>\n",
       "      <td></td>\n",
       "      <td>...</td>\n",
       "      <td>-43.846</td>\n",
       "      <td>47.546</td>\n",
       "      <td>13.175</td>\n",
       "      <td>1.0</td>\n",
       "      <td>0.0</td>\n",
       "      <td></td>\n",
       "      <td></td>\n",
       "      <td>O</td>\n",
       "      <td>NaN</td>\n",
       "      <td>22</td>\n",
       "    </tr>\n",
       "    <tr>\n",
       "      <th>21</th>\n",
       "      <td>ATOM</td>\n",
       "      <td>22</td>\n",
       "      <td></td>\n",
       "      <td>OP2</td>\n",
       "      <td></td>\n",
       "      <td>DA</td>\n",
       "      <td></td>\n",
       "      <td>E</td>\n",
       "      <td>2</td>\n",
       "      <td></td>\n",
       "      <td>...</td>\n",
       "      <td>-45.107</td>\n",
       "      <td>49.317</td>\n",
       "      <td>14.555</td>\n",
       "      <td>1.0</td>\n",
       "      <td>0.0</td>\n",
       "      <td></td>\n",
       "      <td></td>\n",
       "      <td>O</td>\n",
       "      <td>NaN</td>\n",
       "      <td>23</td>\n",
       "    </tr>\n",
       "    <tr>\n",
       "      <th>22</th>\n",
       "      <td>ATOM</td>\n",
       "      <td>23</td>\n",
       "      <td></td>\n",
       "      <td>O5'</td>\n",
       "      <td></td>\n",
       "      <td>DA</td>\n",
       "      <td></td>\n",
       "      <td>E</td>\n",
       "      <td>2</td>\n",
       "      <td></td>\n",
       "      <td>...</td>\n",
       "      <td>-42.634</td>\n",
       "      <td>49.528</td>\n",
       "      <td>14.081</td>\n",
       "      <td>1.0</td>\n",
       "      <td>0.0</td>\n",
       "      <td></td>\n",
       "      <td></td>\n",
       "      <td>O</td>\n",
       "      <td>NaN</td>\n",
       "      <td>24</td>\n",
       "    </tr>\n",
       "    <tr>\n",
       "      <th>23</th>\n",
       "      <td>ATOM</td>\n",
       "      <td>24</td>\n",
       "      <td></td>\n",
       "      <td>C5'</td>\n",
       "      <td></td>\n",
       "      <td>DA</td>\n",
       "      <td></td>\n",
       "      <td>E</td>\n",
       "      <td>2</td>\n",
       "      <td></td>\n",
       "      <td>...</td>\n",
       "      <td>-42.495</td>\n",
       "      <td>50.049</td>\n",
       "      <td>15.392</td>\n",
       "      <td>1.0</td>\n",
       "      <td>0.0</td>\n",
       "      <td></td>\n",
       "      <td></td>\n",
       "      <td>C</td>\n",
       "      <td>NaN</td>\n",
       "      <td>25</td>\n",
       "    </tr>\n",
       "    <tr>\n",
       "      <th>24</th>\n",
       "      <td>ATOM</td>\n",
       "      <td>25</td>\n",
       "      <td></td>\n",
       "      <td>C4'</td>\n",
       "      <td></td>\n",
       "      <td>DA</td>\n",
       "      <td></td>\n",
       "      <td>E</td>\n",
       "      <td>2</td>\n",
       "      <td></td>\n",
       "      <td>...</td>\n",
       "      <td>-42.503</td>\n",
       "      <td>51.572</td>\n",
       "      <td>15.398</td>\n",
       "      <td>1.0</td>\n",
       "      <td>0.0</td>\n",
       "      <td></td>\n",
       "      <td></td>\n",
       "      <td>C</td>\n",
       "      <td>NaN</td>\n",
       "      <td>26</td>\n",
       "    </tr>\n",
       "    <tr>\n",
       "      <th>25</th>\n",
       "      <td>ATOM</td>\n",
       "      <td>26</td>\n",
       "      <td></td>\n",
       "      <td>O4'</td>\n",
       "      <td></td>\n",
       "      <td>DA</td>\n",
       "      <td></td>\n",
       "      <td>E</td>\n",
       "      <td>2</td>\n",
       "      <td></td>\n",
       "      <td>...</td>\n",
       "      <td>-43.652</td>\n",
       "      <td>52.117</td>\n",
       "      <td>14.677</td>\n",
       "      <td>1.0</td>\n",
       "      <td>0.0</td>\n",
       "      <td></td>\n",
       "      <td></td>\n",
       "      <td>O</td>\n",
       "      <td>NaN</td>\n",
       "      <td>27</td>\n",
       "    </tr>\n",
       "    <tr>\n",
       "      <th>26</th>\n",
       "      <td>ATOM</td>\n",
       "      <td>27</td>\n",
       "      <td></td>\n",
       "      <td>C3'</td>\n",
       "      <td></td>\n",
       "      <td>DA</td>\n",
       "      <td></td>\n",
       "      <td>E</td>\n",
       "      <td>2</td>\n",
       "      <td></td>\n",
       "      <td>...</td>\n",
       "      <td>-42.595</td>\n",
       "      <td>52.154</td>\n",
       "      <td>16.805</td>\n",
       "      <td>1.0</td>\n",
       "      <td>0.0</td>\n",
       "      <td></td>\n",
       "      <td></td>\n",
       "      <td>C</td>\n",
       "      <td>NaN</td>\n",
       "      <td>28</td>\n",
       "    </tr>\n",
       "    <tr>\n",
       "      <th>27</th>\n",
       "      <td>ATOM</td>\n",
       "      <td>28</td>\n",
       "      <td></td>\n",
       "      <td>O3'</td>\n",
       "      <td></td>\n",
       "      <td>DA</td>\n",
       "      <td></td>\n",
       "      <td>E</td>\n",
       "      <td>2</td>\n",
       "      <td></td>\n",
       "      <td>...</td>\n",
       "      <td>-41.787</td>\n",
       "      <td>53.316</td>\n",
       "      <td>16.904</td>\n",
       "      <td>1.0</td>\n",
       "      <td>0.0</td>\n",
       "      <td></td>\n",
       "      <td></td>\n",
       "      <td>O</td>\n",
       "      <td>NaN</td>\n",
       "      <td>29</td>\n",
       "    </tr>\n",
       "    <tr>\n",
       "      <th>28</th>\n",
       "      <td>ATOM</td>\n",
       "      <td>29</td>\n",
       "      <td></td>\n",
       "      <td>C2'</td>\n",
       "      <td></td>\n",
       "      <td>DA</td>\n",
       "      <td></td>\n",
       "      <td>E</td>\n",
       "      <td>2</td>\n",
       "      <td></td>\n",
       "      <td>...</td>\n",
       "      <td>-44.074</td>\n",
       "      <td>52.502</td>\n",
       "      <td>16.925</td>\n",
       "      <td>1.0</td>\n",
       "      <td>0.0</td>\n",
       "      <td></td>\n",
       "      <td></td>\n",
       "      <td>C</td>\n",
       "      <td>NaN</td>\n",
       "      <td>30</td>\n",
       "    </tr>\n",
       "    <tr>\n",
       "      <th>29</th>\n",
       "      <td>ATOM</td>\n",
       "      <td>30</td>\n",
       "      <td></td>\n",
       "      <td>C1'</td>\n",
       "      <td></td>\n",
       "      <td>DA</td>\n",
       "      <td></td>\n",
       "      <td>E</td>\n",
       "      <td>2</td>\n",
       "      <td></td>\n",
       "      <td>...</td>\n",
       "      <td>-44.307</td>\n",
       "      <td>53.051</td>\n",
       "      <td>15.519</td>\n",
       "      <td>1.0</td>\n",
       "      <td>0.0</td>\n",
       "      <td></td>\n",
       "      <td></td>\n",
       "      <td>C</td>\n",
       "      <td>NaN</td>\n",
       "      <td>31</td>\n",
       "    </tr>\n",
       "    <tr>\n",
       "      <th>30</th>\n",
       "      <td>ATOM</td>\n",
       "      <td>31</td>\n",
       "      <td></td>\n",
       "      <td>N9</td>\n",
       "      <td></td>\n",
       "      <td>DA</td>\n",
       "      <td></td>\n",
       "      <td>E</td>\n",
       "      <td>2</td>\n",
       "      <td></td>\n",
       "      <td>...</td>\n",
       "      <td>-45.725</td>\n",
       "      <td>53.194</td>\n",
       "      <td>15.153</td>\n",
       "      <td>1.0</td>\n",
       "      <td>0.0</td>\n",
       "      <td></td>\n",
       "      <td></td>\n",
       "      <td>N</td>\n",
       "      <td>NaN</td>\n",
       "      <td>32</td>\n",
       "    </tr>\n",
       "    <tr>\n",
       "      <th>31</th>\n",
       "      <td>ATOM</td>\n",
       "      <td>32</td>\n",
       "      <td></td>\n",
       "      <td>C8</td>\n",
       "      <td></td>\n",
       "      <td>DA</td>\n",
       "      <td></td>\n",
       "      <td>E</td>\n",
       "      <td>2</td>\n",
       "      <td></td>\n",
       "      <td>...</td>\n",
       "      <td>-46.629</td>\n",
       "      <td>52.178</td>\n",
       "      <td>14.960</td>\n",
       "      <td>1.0</td>\n",
       "      <td>0.0</td>\n",
       "      <td></td>\n",
       "      <td></td>\n",
       "      <td>C</td>\n",
       "      <td>NaN</td>\n",
       "      <td>33</td>\n",
       "    </tr>\n",
       "    <tr>\n",
       "      <th>32</th>\n",
       "      <td>ATOM</td>\n",
       "      <td>33</td>\n",
       "      <td></td>\n",
       "      <td>N7</td>\n",
       "      <td></td>\n",
       "      <td>DA</td>\n",
       "      <td></td>\n",
       "      <td>E</td>\n",
       "      <td>2</td>\n",
       "      <td></td>\n",
       "      <td>...</td>\n",
       "      <td>-47.838</td>\n",
       "      <td>52.615</td>\n",
       "      <td>14.634</td>\n",
       "      <td>1.0</td>\n",
       "      <td>0.0</td>\n",
       "      <td></td>\n",
       "      <td></td>\n",
       "      <td>N</td>\n",
       "      <td>NaN</td>\n",
       "      <td>34</td>\n",
       "    </tr>\n",
       "    <tr>\n",
       "      <th>33</th>\n",
       "      <td>ATOM</td>\n",
       "      <td>34</td>\n",
       "      <td></td>\n",
       "      <td>C5</td>\n",
       "      <td></td>\n",
       "      <td>DA</td>\n",
       "      <td></td>\n",
       "      <td>E</td>\n",
       "      <td>2</td>\n",
       "      <td></td>\n",
       "      <td>...</td>\n",
       "      <td>-47.723</td>\n",
       "      <td>54.018</td>\n",
       "      <td>14.617</td>\n",
       "      <td>1.0</td>\n",
       "      <td>0.0</td>\n",
       "      <td></td>\n",
       "      <td></td>\n",
       "      <td>C</td>\n",
       "      <td>NaN</td>\n",
       "      <td>35</td>\n",
       "    </tr>\n",
       "    <tr>\n",
       "      <th>34</th>\n",
       "      <td>ATOM</td>\n",
       "      <td>35</td>\n",
       "      <td></td>\n",
       "      <td>C6</td>\n",
       "      <td></td>\n",
       "      <td>DA</td>\n",
       "      <td></td>\n",
       "      <td>E</td>\n",
       "      <td>2</td>\n",
       "      <td></td>\n",
       "      <td>...</td>\n",
       "      <td>-48.646</td>\n",
       "      <td>55.066</td>\n",
       "      <td>14.514</td>\n",
       "      <td>1.0</td>\n",
       "      <td>0.0</td>\n",
       "      <td></td>\n",
       "      <td></td>\n",
       "      <td>C</td>\n",
       "      <td>NaN</td>\n",
       "      <td>36</td>\n",
       "    </tr>\n",
       "    <tr>\n",
       "      <th>35</th>\n",
       "      <td>ATOM</td>\n",
       "      <td>36</td>\n",
       "      <td></td>\n",
       "      <td>N6</td>\n",
       "      <td></td>\n",
       "      <td>DA</td>\n",
       "      <td></td>\n",
       "      <td>E</td>\n",
       "      <td>2</td>\n",
       "      <td></td>\n",
       "      <td>...</td>\n",
       "      <td>-49.924</td>\n",
       "      <td>54.839</td>\n",
       "      <td>14.163</td>\n",
       "      <td>1.0</td>\n",
       "      <td>0.0</td>\n",
       "      <td></td>\n",
       "      <td></td>\n",
       "      <td>N</td>\n",
       "      <td>NaN</td>\n",
       "      <td>37</td>\n",
       "    </tr>\n",
       "    <tr>\n",
       "      <th>36</th>\n",
       "      <td>ATOM</td>\n",
       "      <td>37</td>\n",
       "      <td></td>\n",
       "      <td>N1</td>\n",
       "      <td></td>\n",
       "      <td>DA</td>\n",
       "      <td></td>\n",
       "      <td>E</td>\n",
       "      <td>2</td>\n",
       "      <td></td>\n",
       "      <td>...</td>\n",
       "      <td>-48.201</td>\n",
       "      <td>56.346</td>\n",
       "      <td>14.672</td>\n",
       "      <td>1.0</td>\n",
       "      <td>0.0</td>\n",
       "      <td></td>\n",
       "      <td></td>\n",
       "      <td>N</td>\n",
       "      <td>NaN</td>\n",
       "      <td>38</td>\n",
       "    </tr>\n",
       "    <tr>\n",
       "      <th>37</th>\n",
       "      <td>ATOM</td>\n",
       "      <td>38</td>\n",
       "      <td></td>\n",
       "      <td>C2</td>\n",
       "      <td></td>\n",
       "      <td>DA</td>\n",
       "      <td></td>\n",
       "      <td>E</td>\n",
       "      <td>2</td>\n",
       "      <td></td>\n",
       "      <td>...</td>\n",
       "      <td>-46.908</td>\n",
       "      <td>56.557</td>\n",
       "      <td>14.846</td>\n",
       "      <td>1.0</td>\n",
       "      <td>0.0</td>\n",
       "      <td></td>\n",
       "      <td></td>\n",
       "      <td>C</td>\n",
       "      <td>NaN</td>\n",
       "      <td>39</td>\n",
       "    </tr>\n",
       "    <tr>\n",
       "      <th>38</th>\n",
       "      <td>ATOM</td>\n",
       "      <td>39</td>\n",
       "      <td></td>\n",
       "      <td>N3</td>\n",
       "      <td></td>\n",
       "      <td>DA</td>\n",
       "      <td></td>\n",
       "      <td>E</td>\n",
       "      <td>2</td>\n",
       "      <td></td>\n",
       "      <td>...</td>\n",
       "      <td>-45.954</td>\n",
       "      <td>55.658</td>\n",
       "      <td>15.024</td>\n",
       "      <td>1.0</td>\n",
       "      <td>0.0</td>\n",
       "      <td></td>\n",
       "      <td></td>\n",
       "      <td>N</td>\n",
       "      <td>NaN</td>\n",
       "      <td>40</td>\n",
       "    </tr>\n",
       "    <tr>\n",
       "      <th>39</th>\n",
       "      <td>ATOM</td>\n",
       "      <td>40</td>\n",
       "      <td></td>\n",
       "      <td>C4</td>\n",
       "      <td></td>\n",
       "      <td>DA</td>\n",
       "      <td></td>\n",
       "      <td>E</td>\n",
       "      <td>2</td>\n",
       "      <td></td>\n",
       "      <td>...</td>\n",
       "      <td>-46.428</td>\n",
       "      <td>54.396</td>\n",
       "      <td>14.931</td>\n",
       "      <td>1.0</td>\n",
       "      <td>0.0</td>\n",
       "      <td></td>\n",
       "      <td></td>\n",
       "      <td>C</td>\n",
       "      <td>NaN</td>\n",
       "      <td>41</td>\n",
       "    </tr>\n",
       "    <tr>\n",
       "      <th>618</th>\n",
       "      <td>ATOM</td>\n",
       "      <td>621</td>\n",
       "      <td></td>\n",
       "      <td>N</td>\n",
       "      <td></td>\n",
       "      <td>ALA</td>\n",
       "      <td></td>\n",
       "      <td>A</td>\n",
       "      <td>2</td>\n",
       "      <td></td>\n",
       "      <td>...</td>\n",
       "      <td>-55.000</td>\n",
       "      <td>31.155</td>\n",
       "      <td>29.459</td>\n",
       "      <td>1.0</td>\n",
       "      <td>0.0</td>\n",
       "      <td></td>\n",
       "      <td></td>\n",
       "      <td>N</td>\n",
       "      <td>NaN</td>\n",
       "      <td>622</td>\n",
       "    </tr>\n",
       "    <tr>\n",
       "      <th>619</th>\n",
       "      <td>ATOM</td>\n",
       "      <td>622</td>\n",
       "      <td></td>\n",
       "      <td>CA</td>\n",
       "      <td></td>\n",
       "      <td>ALA</td>\n",
       "      <td></td>\n",
       "      <td>A</td>\n",
       "      <td>2</td>\n",
       "      <td></td>\n",
       "      <td>...</td>\n",
       "      <td>-54.210</td>\n",
       "      <td>31.997</td>\n",
       "      <td>28.566</td>\n",
       "      <td>1.0</td>\n",
       "      <td>0.0</td>\n",
       "      <td></td>\n",
       "      <td></td>\n",
       "      <td>C</td>\n",
       "      <td>NaN</td>\n",
       "      <td>623</td>\n",
       "    </tr>\n",
       "    <tr>\n",
       "      <th>620</th>\n",
       "      <td>ATOM</td>\n",
       "      <td>623</td>\n",
       "      <td></td>\n",
       "      <td>C</td>\n",
       "      <td></td>\n",
       "      <td>ALA</td>\n",
       "      <td></td>\n",
       "      <td>A</td>\n",
       "      <td>2</td>\n",
       "      <td></td>\n",
       "      <td>...</td>\n",
       "      <td>-55.205</td>\n",
       "      <td>32.994</td>\n",
       "      <td>27.990</td>\n",
       "      <td>1.0</td>\n",
       "      <td>0.0</td>\n",
       "      <td></td>\n",
       "      <td></td>\n",
       "      <td>C</td>\n",
       "      <td>NaN</td>\n",
       "      <td>624</td>\n",
       "    </tr>\n",
       "    <tr>\n",
       "      <th>621</th>\n",
       "      <td>ATOM</td>\n",
       "      <td>624</td>\n",
       "      <td></td>\n",
       "      <td>O</td>\n",
       "      <td></td>\n",
       "      <td>ALA</td>\n",
       "      <td></td>\n",
       "      <td>A</td>\n",
       "      <td>2</td>\n",
       "      <td></td>\n",
       "      <td>...</td>\n",
       "      <td>-56.123</td>\n",
       "      <td>32.632</td>\n",
       "      <td>27.241</td>\n",
       "      <td>1.0</td>\n",
       "      <td>0.0</td>\n",
       "      <td></td>\n",
       "      <td></td>\n",
       "      <td>O</td>\n",
       "      <td>NaN</td>\n",
       "      <td>625</td>\n",
       "    </tr>\n",
       "    <tr>\n",
       "      <th>622</th>\n",
       "      <td>ATOM</td>\n",
       "      <td>625</td>\n",
       "      <td></td>\n",
       "      <td>CB</td>\n",
       "      <td></td>\n",
       "      <td>ALA</td>\n",
       "      <td></td>\n",
       "      <td>A</td>\n",
       "      <td>2</td>\n",
       "      <td></td>\n",
       "      <td>...</td>\n",
       "      <td>-53.507</td>\n",
       "      <td>31.191</td>\n",
       "      <td>27.437</td>\n",
       "      <td>1.0</td>\n",
       "      <td>0.0</td>\n",
       "      <td></td>\n",
       "      <td></td>\n",
       "      <td>C</td>\n",
       "      <td>NaN</td>\n",
       "      <td>626</td>\n",
       "    </tr>\n",
       "  </tbody>\n",
       "</table>\n",
       "<p>26 rows × 21 columns</p>\n",
       "</div>"
      ],
      "text/plain": [
       "    record_name  atom_number blank_1 atom_name alt_loc residue_name blank_2  \\\n",
       "19         ATOM           20                 P                   DA           \n",
       "20         ATOM           21               OP1                   DA           \n",
       "21         ATOM           22               OP2                   DA           \n",
       "22         ATOM           23               O5'                   DA           \n",
       "23         ATOM           24               C5'                   DA           \n",
       "24         ATOM           25               C4'                   DA           \n",
       "25         ATOM           26               O4'                   DA           \n",
       "26         ATOM           27               C3'                   DA           \n",
       "27         ATOM           28               O3'                   DA           \n",
       "28         ATOM           29               C2'                   DA           \n",
       "29         ATOM           30               C1'                   DA           \n",
       "30         ATOM           31                N9                   DA           \n",
       "31         ATOM           32                C8                   DA           \n",
       "32         ATOM           33                N7                   DA           \n",
       "33         ATOM           34                C5                   DA           \n",
       "34         ATOM           35                C6                   DA           \n",
       "35         ATOM           36                N6                   DA           \n",
       "36         ATOM           37                N1                   DA           \n",
       "37         ATOM           38                C2                   DA           \n",
       "38         ATOM           39                N3                   DA           \n",
       "39         ATOM           40                C4                   DA           \n",
       "618        ATOM          621                 N                  ALA           \n",
       "619        ATOM          622                CA                  ALA           \n",
       "620        ATOM          623                 C                  ALA           \n",
       "621        ATOM          624                 O                  ALA           \n",
       "622        ATOM          625                CB                  ALA           \n",
       "\n",
       "    chain_id  residue_number insertion  ... x_coord  y_coord  z_coord  \\\n",
       "19         E               2            ... -44.047   48.961   13.575   \n",
       "20         E               2            ... -43.846   47.546   13.175   \n",
       "21         E               2            ... -45.107   49.317   14.555   \n",
       "22         E               2            ... -42.634   49.528   14.081   \n",
       "23         E               2            ... -42.495   50.049   15.392   \n",
       "24         E               2            ... -42.503   51.572   15.398   \n",
       "25         E               2            ... -43.652   52.117   14.677   \n",
       "26         E               2            ... -42.595   52.154   16.805   \n",
       "27         E               2            ... -41.787   53.316   16.904   \n",
       "28         E               2            ... -44.074   52.502   16.925   \n",
       "29         E               2            ... -44.307   53.051   15.519   \n",
       "30         E               2            ... -45.725   53.194   15.153   \n",
       "31         E               2            ... -46.629   52.178   14.960   \n",
       "32         E               2            ... -47.838   52.615   14.634   \n",
       "33         E               2            ... -47.723   54.018   14.617   \n",
       "34         E               2            ... -48.646   55.066   14.514   \n",
       "35         E               2            ... -49.924   54.839   14.163   \n",
       "36         E               2            ... -48.201   56.346   14.672   \n",
       "37         E               2            ... -46.908   56.557   14.846   \n",
       "38         E               2            ... -45.954   55.658   15.024   \n",
       "39         E               2            ... -46.428   54.396   14.931   \n",
       "618        A               2            ... -55.000   31.155   29.459   \n",
       "619        A               2            ... -54.210   31.997   28.566   \n",
       "620        A               2            ... -55.205   32.994   27.990   \n",
       "621        A               2            ... -56.123   32.632   27.241   \n",
       "622        A               2            ... -53.507   31.191   27.437   \n",
       "\n",
       "     occupancy  b_factor  blank_4 segment_id element_symbol charge  line_idx  \n",
       "19         1.0       0.0                                  P    NaN        21  \n",
       "20         1.0       0.0                                  O    NaN        22  \n",
       "21         1.0       0.0                                  O    NaN        23  \n",
       "22         1.0       0.0                                  O    NaN        24  \n",
       "23         1.0       0.0                                  C    NaN        25  \n",
       "24         1.0       0.0                                  C    NaN        26  \n",
       "25         1.0       0.0                                  O    NaN        27  \n",
       "26         1.0       0.0                                  C    NaN        28  \n",
       "27         1.0       0.0                                  O    NaN        29  \n",
       "28         1.0       0.0                                  C    NaN        30  \n",
       "29         1.0       0.0                                  C    NaN        31  \n",
       "30         1.0       0.0                                  N    NaN        32  \n",
       "31         1.0       0.0                                  C    NaN        33  \n",
       "32         1.0       0.0                                  N    NaN        34  \n",
       "33         1.0       0.0                                  C    NaN        35  \n",
       "34         1.0       0.0                                  C    NaN        36  \n",
       "35         1.0       0.0                                  N    NaN        37  \n",
       "36         1.0       0.0                                  N    NaN        38  \n",
       "37         1.0       0.0                                  C    NaN        39  \n",
       "38         1.0       0.0                                  N    NaN        40  \n",
       "39         1.0       0.0                                  C    NaN        41  \n",
       "618        1.0       0.0                                  N    NaN       622  \n",
       "619        1.0       0.0                                  C    NaN       623  \n",
       "620        1.0       0.0                                  C    NaN       624  \n",
       "621        1.0       0.0                                  O    NaN       625  \n",
       "622        1.0       0.0                                  C    NaN       626  \n",
       "\n",
       "[26 rows x 21 columns]"
      ]
     },
     "execution_count": 24,
     "metadata": {},
     "output_type": "execute_result"
    }
   ],
   "source": [
    "dataframe = cleaned.df['ATOM']\n",
    "dataframe[dataframe['residue_number'] == 2]"
   ]
  },
  {
   "cell_type": "code",
   "execution_count": 26,
   "metadata": {},
   "outputs": [
    {
     "ename": "NameError",
     "evalue": "name 'datasets' is not defined",
     "output_type": "error",
     "traceback": [
      "\u001b[0;31m---------------------------------------------------------------------------\u001b[0m",
      "\u001b[0;31mNameError\u001b[0m                                 Traceback (most recent call last)",
      "Cell \u001b[0;32mIn[26], line 1\u001b[0m\n\u001b[0;32m----> 1\u001b[0m df \u001b[39m=\u001b[39m datasets[\u001b[39m0\u001b[39m]\u001b[39m.\u001b[39mdata\n\u001b[1;32m      3\u001b[0m df[df[\u001b[39m'\u001b[39m\u001b[39mis_wildtype\u001b[39m\u001b[39m'\u001b[39m] \u001b[39m==\u001b[39m \u001b[39mTrue\u001b[39;00m][\u001b[39m'\u001b[39m\u001b[39msequence\u001b[39m\u001b[39m'\u001b[39m]\n",
      "\u001b[0;31mNameError\u001b[0m: name 'datasets' is not defined"
     ]
    }
   ],
   "source": [
    "df = datasets[0].data\n",
    "\n",
    "df[df['is_wildtype'] == True]['sequence']"
   ]
  },
  {
   "cell_type": "code",
   "execution_count": 29,
   "metadata": {},
   "outputs": [
    {
     "data": {
      "text/plain": [
       "1"
      ]
     },
     "execution_count": 29,
     "metadata": {},
     "output_type": "execute_result"
    }
   ],
   "source": [
    "dataframe[dataframe['residue_number'] == 1]['atom_number'].iloc[0]"
   ]
  },
  {
   "cell_type": "code",
   "execution_count": 31,
   "metadata": {},
   "outputs": [
    {
     "data": {
      "text/plain": [
       "'/Users/antoniaboca/partIII-amino-acid-prediction/data/ProteinGym_structures_clean'"
      ]
     },
     "execution_count": 31,
     "metadata": {},
     "output_type": "execute_result"
    }
   ],
   "source": [
    "DATA_PATH"
   ]
  },
  {
   "cell_type": "code",
   "execution_count": 32,
   "metadata": {},
   "outputs": [],
   "source": [
    "from biopandas.pdb import PandasPdb\n",
    "\n",
    "pdb = PandasPdb().read_pdb(f'{DATA_PATH}/6EZM.pdb')"
   ]
  },
  {
   "cell_type": "code",
   "execution_count": 33,
   "metadata": {},
   "outputs": [
    {
     "data": {
      "text/html": [
       "<div>\n",
       "<style scoped>\n",
       "    .dataframe tbody tr th:only-of-type {\n",
       "        vertical-align: middle;\n",
       "    }\n",
       "\n",
       "    .dataframe tbody tr th {\n",
       "        vertical-align: top;\n",
       "    }\n",
       "\n",
       "    .dataframe thead th {\n",
       "        text-align: right;\n",
       "    }\n",
       "</style>\n",
       "<table border=\"1\" class=\"dataframe\">\n",
       "  <thead>\n",
       "    <tr style=\"text-align: right;\">\n",
       "      <th></th>\n",
       "      <th>record_name</th>\n",
       "      <th>atom_number</th>\n",
       "      <th>blank_1</th>\n",
       "      <th>atom_name</th>\n",
       "      <th>alt_loc</th>\n",
       "      <th>residue_name</th>\n",
       "      <th>blank_2</th>\n",
       "      <th>chain_id</th>\n",
       "      <th>residue_number</th>\n",
       "      <th>insertion</th>\n",
       "      <th>...</th>\n",
       "      <th>x_coord</th>\n",
       "      <th>y_coord</th>\n",
       "      <th>z_coord</th>\n",
       "      <th>occupancy</th>\n",
       "      <th>b_factor</th>\n",
       "      <th>blank_4</th>\n",
       "      <th>segment_id</th>\n",
       "      <th>element_symbol</th>\n",
       "      <th>charge</th>\n",
       "      <th>line_idx</th>\n",
       "    </tr>\n",
       "  </thead>\n",
       "  <tbody>\n",
       "    <tr>\n",
       "      <th>0</th>\n",
       "      <td>ATOM</td>\n",
       "      <td>1</td>\n",
       "      <td></td>\n",
       "      <td>N</td>\n",
       "      <td></td>\n",
       "      <td>MET</td>\n",
       "      <td></td>\n",
       "      <td>U</td>\n",
       "      <td>1</td>\n",
       "      <td></td>\n",
       "      <td>...</td>\n",
       "      <td>43.021</td>\n",
       "      <td>118.385</td>\n",
       "      <td>51.809</td>\n",
       "      <td>1.0</td>\n",
       "      <td>0.0</td>\n",
       "      <td></td>\n",
       "      <td></td>\n",
       "      <td>N</td>\n",
       "      <td>NaN</td>\n",
       "      <td>2</td>\n",
       "    </tr>\n",
       "    <tr>\n",
       "      <th>1</th>\n",
       "      <td>ATOM</td>\n",
       "      <td>2</td>\n",
       "      <td></td>\n",
       "      <td>CA</td>\n",
       "      <td></td>\n",
       "      <td>MET</td>\n",
       "      <td></td>\n",
       "      <td>U</td>\n",
       "      <td>1</td>\n",
       "      <td></td>\n",
       "      <td>...</td>\n",
       "      <td>44.223</td>\n",
       "      <td>117.574</td>\n",
       "      <td>51.681</td>\n",
       "      <td>1.0</td>\n",
       "      <td>0.0</td>\n",
       "      <td></td>\n",
       "      <td></td>\n",
       "      <td>C</td>\n",
       "      <td>NaN</td>\n",
       "      <td>3</td>\n",
       "    </tr>\n",
       "    <tr>\n",
       "      <th>2</th>\n",
       "      <td>ATOM</td>\n",
       "      <td>3</td>\n",
       "      <td></td>\n",
       "      <td>CB</td>\n",
       "      <td></td>\n",
       "      <td>MET</td>\n",
       "      <td></td>\n",
       "      <td>U</td>\n",
       "      <td>1</td>\n",
       "      <td></td>\n",
       "      <td>...</td>\n",
       "      <td>45.341</td>\n",
       "      <td>118.263</td>\n",
       "      <td>50.938</td>\n",
       "      <td>1.0</td>\n",
       "      <td>0.0</td>\n",
       "      <td></td>\n",
       "      <td></td>\n",
       "      <td>C</td>\n",
       "      <td>NaN</td>\n",
       "      <td>4</td>\n",
       "    </tr>\n",
       "    <tr>\n",
       "      <th>3</th>\n",
       "      <td>ATOM</td>\n",
       "      <td>4</td>\n",
       "      <td></td>\n",
       "      <td>CG</td>\n",
       "      <td></td>\n",
       "      <td>MET</td>\n",
       "      <td></td>\n",
       "      <td>U</td>\n",
       "      <td>1</td>\n",
       "      <td></td>\n",
       "      <td>...</td>\n",
       "      <td>45.228</td>\n",
       "      <td>119.493</td>\n",
       "      <td>50.039</td>\n",
       "      <td>1.0</td>\n",
       "      <td>0.0</td>\n",
       "      <td></td>\n",
       "      <td></td>\n",
       "      <td>C</td>\n",
       "      <td>NaN</td>\n",
       "      <td>5</td>\n",
       "    </tr>\n",
       "    <tr>\n",
       "      <th>4</th>\n",
       "      <td>ATOM</td>\n",
       "      <td>5</td>\n",
       "      <td></td>\n",
       "      <td>SD</td>\n",
       "      <td></td>\n",
       "      <td>MET</td>\n",
       "      <td></td>\n",
       "      <td>U</td>\n",
       "      <td>1</td>\n",
       "      <td></td>\n",
       "      <td>...</td>\n",
       "      <td>46.859</td>\n",
       "      <td>120.044</td>\n",
       "      <td>49.445</td>\n",
       "      <td>1.0</td>\n",
       "      <td>0.0</td>\n",
       "      <td></td>\n",
       "      <td></td>\n",
       "      <td>S</td>\n",
       "      <td>NaN</td>\n",
       "      <td>6</td>\n",
       "    </tr>\n",
       "    <tr>\n",
       "      <th>...</th>\n",
       "      <td>...</td>\n",
       "      <td>...</td>\n",
       "      <td>...</td>\n",
       "      <td>...</td>\n",
       "      <td>...</td>\n",
       "      <td>...</td>\n",
       "      <td>...</td>\n",
       "      <td>...</td>\n",
       "      <td>...</td>\n",
       "      <td>...</td>\n",
       "      <td>...</td>\n",
       "      <td>...</td>\n",
       "      <td>...</td>\n",
       "      <td>...</td>\n",
       "      <td>...</td>\n",
       "      <td>...</td>\n",
       "      <td>...</td>\n",
       "      <td>...</td>\n",
       "      <td>...</td>\n",
       "      <td>...</td>\n",
       "      <td>...</td>\n",
       "    </tr>\n",
       "    <tr>\n",
       "      <th>40171</th>\n",
       "      <td>ATOM</td>\n",
       "      <td>40195</td>\n",
       "      <td></td>\n",
       "      <td>SD</td>\n",
       "      <td></td>\n",
       "      <td>MET</td>\n",
       "      <td></td>\n",
       "      <td>X</td>\n",
       "      <td>220</td>\n",
       "      <td></td>\n",
       "      <td>...</td>\n",
       "      <td>137.896</td>\n",
       "      <td>126.936</td>\n",
       "      <td>109.159</td>\n",
       "      <td>1.0</td>\n",
       "      <td>0.0</td>\n",
       "      <td></td>\n",
       "      <td></td>\n",
       "      <td>S</td>\n",
       "      <td>NaN</td>\n",
       "      <td>40196</td>\n",
       "    </tr>\n",
       "    <tr>\n",
       "      <th>40172</th>\n",
       "      <td>ATOM</td>\n",
       "      <td>40196</td>\n",
       "      <td></td>\n",
       "      <td>CE</td>\n",
       "      <td></td>\n",
       "      <td>MET</td>\n",
       "      <td></td>\n",
       "      <td>X</td>\n",
       "      <td>220</td>\n",
       "      <td></td>\n",
       "      <td>...</td>\n",
       "      <td>136.639</td>\n",
       "      <td>126.872</td>\n",
       "      <td>107.822</td>\n",
       "      <td>1.0</td>\n",
       "      <td>0.0</td>\n",
       "      <td></td>\n",
       "      <td></td>\n",
       "      <td>C</td>\n",
       "      <td>NaN</td>\n",
       "      <td>40197</td>\n",
       "    </tr>\n",
       "    <tr>\n",
       "      <th>40173</th>\n",
       "      <td>ATOM</td>\n",
       "      <td>40197</td>\n",
       "      <td></td>\n",
       "      <td>C</td>\n",
       "      <td></td>\n",
       "      <td>MET</td>\n",
       "      <td></td>\n",
       "      <td>X</td>\n",
       "      <td>220</td>\n",
       "      <td></td>\n",
       "      <td>...</td>\n",
       "      <td>140.572</td>\n",
       "      <td>130.942</td>\n",
       "      <td>107.519</td>\n",
       "      <td>1.0</td>\n",
       "      <td>0.0</td>\n",
       "      <td></td>\n",
       "      <td></td>\n",
       "      <td>C</td>\n",
       "      <td>NaN</td>\n",
       "      <td>40198</td>\n",
       "    </tr>\n",
       "    <tr>\n",
       "      <th>40174</th>\n",
       "      <td>ATOM</td>\n",
       "      <td>40198</td>\n",
       "      <td></td>\n",
       "      <td>O</td>\n",
       "      <td></td>\n",
       "      <td>MET</td>\n",
       "      <td></td>\n",
       "      <td>X</td>\n",
       "      <td>220</td>\n",
       "      <td></td>\n",
       "      <td>...</td>\n",
       "      <td>140.534</td>\n",
       "      <td>131.689</td>\n",
       "      <td>106.527</td>\n",
       "      <td>1.0</td>\n",
       "      <td>0.0</td>\n",
       "      <td></td>\n",
       "      <td></td>\n",
       "      <td>O</td>\n",
       "      <td>NaN</td>\n",
       "      <td>40199</td>\n",
       "    </tr>\n",
       "    <tr>\n",
       "      <th>40175</th>\n",
       "      <td>ATOM</td>\n",
       "      <td>40199</td>\n",
       "      <td></td>\n",
       "      <td>OXT</td>\n",
       "      <td></td>\n",
       "      <td>MET</td>\n",
       "      <td></td>\n",
       "      <td>X</td>\n",
       "      <td>220</td>\n",
       "      <td></td>\n",
       "      <td>...</td>\n",
       "      <td>141.248</td>\n",
       "      <td>131.320</td>\n",
       "      <td>108.523</td>\n",
       "      <td>1.0</td>\n",
       "      <td>0.0</td>\n",
       "      <td></td>\n",
       "      <td></td>\n",
       "      <td>O</td>\n",
       "      <td>NaN</td>\n",
       "      <td>40200</td>\n",
       "    </tr>\n",
       "  </tbody>\n",
       "</table>\n",
       "<p>40176 rows × 21 columns</p>\n",
       "</div>"
      ],
      "text/plain": [
       "      record_name  atom_number blank_1 atom_name alt_loc residue_name blank_2  \\\n",
       "0            ATOM            1                 N                  MET           \n",
       "1            ATOM            2                CA                  MET           \n",
       "2            ATOM            3                CB                  MET           \n",
       "3            ATOM            4                CG                  MET           \n",
       "4            ATOM            5                SD                  MET           \n",
       "...           ...          ...     ...       ...     ...          ...     ...   \n",
       "40171        ATOM        40195                SD                  MET           \n",
       "40172        ATOM        40196                CE                  MET           \n",
       "40173        ATOM        40197                 C                  MET           \n",
       "40174        ATOM        40198                 O                  MET           \n",
       "40175        ATOM        40199               OXT                  MET           \n",
       "\n",
       "      chain_id  residue_number insertion  ...  x_coord  y_coord  z_coord  \\\n",
       "0            U               1            ...   43.021  118.385   51.809   \n",
       "1            U               1            ...   44.223  117.574   51.681   \n",
       "2            U               1            ...   45.341  118.263   50.938   \n",
       "3            U               1            ...   45.228  119.493   50.039   \n",
       "4            U               1            ...   46.859  120.044   49.445   \n",
       "...        ...             ...       ...  ...      ...      ...      ...   \n",
       "40171        X             220            ...  137.896  126.936  109.159   \n",
       "40172        X             220            ...  136.639  126.872  107.822   \n",
       "40173        X             220            ...  140.572  130.942  107.519   \n",
       "40174        X             220            ...  140.534  131.689  106.527   \n",
       "40175        X             220            ...  141.248  131.320  108.523   \n",
       "\n",
       "       occupancy  b_factor  blank_4 segment_id element_symbol charge  line_idx  \n",
       "0            1.0       0.0                                  N    NaN         2  \n",
       "1            1.0       0.0                                  C    NaN         3  \n",
       "2            1.0       0.0                                  C    NaN         4  \n",
       "3            1.0       0.0                                  C    NaN         5  \n",
       "4            1.0       0.0                                  S    NaN         6  \n",
       "...          ...       ...      ...        ...            ...    ...       ...  \n",
       "40171        1.0       0.0                                  S    NaN     40196  \n",
       "40172        1.0       0.0                                  C    NaN     40197  \n",
       "40173        1.0       0.0                                  C    NaN     40198  \n",
       "40174        1.0       0.0                                  O    NaN     40199  \n",
       "40175        1.0       0.0                                  O    NaN     40200  \n",
       "\n",
       "[40176 rows x 21 columns]"
      ]
     },
     "execution_count": 33,
     "metadata": {},
     "output_type": "execute_result"
    }
   ],
   "source": [
    "pdb.df['ATOM']"
   ]
  },
  {
   "cell_type": "code",
   "execution_count": null,
   "metadata": {},
   "outputs": [],
   "source": []
  }
 ],
 "metadata": {
  "kernelspec": {
   "display_name": "Python 3.8.15 ('diss')",
   "language": "python",
   "name": "python3"
  },
  "language_info": {
   "codemirror_mode": {
    "name": "ipython",
    "version": 3
   },
   "file_extension": ".py",
   "mimetype": "text/x-python",
   "name": "python",
   "nbconvert_exporter": "python",
   "pygments_lexer": "ipython3",
   "version": "3.8.16"
  },
  "orig_nbformat": 4,
  "vscode": {
   "interpreter": {
    "hash": "0a88f19788b2d489de92e777079de89cff528c8c2ec9a451fa736b3249187b30"
   }
  }
 },
 "nbformat": 4,
 "nbformat_minor": 2
}
