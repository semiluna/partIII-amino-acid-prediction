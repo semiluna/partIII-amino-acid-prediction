{
 "cells": [
  {
   "cell_type": "code",
   "execution_count": 1,
   "metadata": {},
   "outputs": [],
   "source": [
    "from torch.utils.data import DataLoader, IterableDataset\n",
    "from main import RESDataset\n",
    "\n",
    "import os\n",
    "import argparse\n",
    "\n",
    "DATASET_PATH = '/Users/antoniaboca/Downloads/split-by-cath-topology/data'\n",
    "\n",
    "parser = argparse.ArgumentParser()\n",
    "parser.add_argument('--model', type=str, default='gvp', choices=['gvp'])\n",
    "parser.add_argument('--epochs', type=int, default=10)\n",
    "parser.add_argument('--lr', type=float, default=1e-3)\n",
    "parser.add_argument('--n_layers', type=int, default=5)\n",
    "parser.add_argument('--gpus', type=int, default=0)\n",
    "parser.add_argument('--data_file', type=str, default=DATASET_PATH)\n",
    "parser.add_argument('--data_workers', type=int, default=0)\n",
    "parser.add_argument('--max_len', type=int, default=None)\n",
    "parser.add_argument('--sample_per_item', type=int, default=None)\n",
    "\n",
    "args = parser.parse_args(['--model', 'gvp'])\n",
    "\n",
    "train_dataloader = DataLoader(RESDataset(os.path.join(args.data_file, 'train'), shuffle=True, \n",
    "                        max_len=args.max_len, sample_per_item = args.sample_per_item), \n",
    "                        batch_size=None, num_workers=args.data_workers)\n",
    "val_dataloader = DataLoader(RESDataset(os.path.join(args.data_file, 'val'), \n",
    "                    max_len=args.max_len, sample_per_item = args.sample_per_item), \n",
    "                    batch_size=None, num_workers=args.data_workers)\n",
    "test_dataloader = DataLoader(RESDataset(os.path.join(args.data_file, 'test'), \n",
    "                    max_len=args.max_len, sample_per_item = args.sample_per_item), \n",
    "                    batch_size=None, num_workers=args.data_workers)"
   ]
  },
  {
   "cell_type": "code",
   "execution_count": 2,
   "metadata": {},
   "outputs": [],
   "source": [
    "gen = iter(train_dataloader)"
   ]
  },
  {
   "cell_type": "code",
   "execution_count": 3,
   "metadata": {},
   "outputs": [],
   "source": [
    "graph = next(gen)"
   ]
  },
  {
   "cell_type": "code",
   "execution_count": 4,
   "metadata": {},
   "outputs": [
    {
     "data": {
      "text/plain": [
       "Data(x=[809, 3], edge_index=[2, 12920], node_type=[809], edge_s=[12920, 16], edge_v=[12920, 1, 3], label=10, ca_idx=40, ensemble='4ogg')"
      ]
     },
     "execution_count": 4,
     "metadata": {},
     "output_type": "execute_result"
    }
   ],
   "source": [
    "graph"
   ]
  },
  {
   "cell_type": "code",
   "execution_count": 5,
   "metadata": {},
   "outputs": [
    {
     "data": {
      "text/plain": [
       "Data(x=[972, 3], edge_index=[2, 15964], node_type=[972], edge_s=[15964, 16], edge_v=[15964, 1, 3], label=9, ca_idx=45, ensemble='4ogg')"
      ]
     },
     "execution_count": 5,
     "metadata": {},
     "output_type": "execute_result"
    }
   ],
   "source": [
    "next(gen)"
   ]
  },
  {
   "cell_type": "code",
   "execution_count": 6,
   "metadata": {},
   "outputs": [
    {
     "data": {
      "text/plain": [
       "Data(x=[966, 3], edge_index=[2, 15478], node_type=[966], edge_s=[15478, 16], edge_v=[15478, 1, 3], label=4, ca_idx=41, ensemble='4ogg')"
      ]
     },
     "execution_count": 6,
     "metadata": {},
     "output_type": "execute_result"
    }
   ],
   "source": [
    "next(gen)"
   ]
  },
  {
   "cell_type": "code",
   "execution_count": 7,
   "metadata": {},
   "outputs": [
    {
     "data": {
      "text/plain": [
       "Data(x=[1014, 3], edge_index=[2, 15780], node_type=[1014], edge_s=[15780, 16], edge_v=[15780, 1, 3], label=12, ca_idx=61, ensemble='4ogg')"
      ]
     },
     "execution_count": 7,
     "metadata": {},
     "output_type": "execute_result"
    }
   ],
   "source": [
    "next(gen)"
   ]
  }
 ],
 "metadata": {
  "kernelspec": {
   "display_name": "Python 3.8.16 ('diss-python3.8')",
   "language": "python",
   "name": "python3"
  },
  "language_info": {
   "codemirror_mode": {
    "name": "ipython",
    "version": 3
   },
   "file_extension": ".py",
   "mimetype": "text/x-python",
   "name": "python",
   "nbconvert_exporter": "python",
   "pygments_lexer": "ipython3",
   "version": "3.8.16"
  },
  "orig_nbformat": 4,
  "vscode": {
   "interpreter": {
    "hash": "f8702b472f6f5896cbee56130e3a8001c86352eb4b4827700eecd20aae82d4c9"
   }
  }
 },
 "nbformat": 4,
 "nbformat_minor": 2
}
