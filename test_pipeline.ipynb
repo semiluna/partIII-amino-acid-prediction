{
 "cells": [
  {
   "cell_type": "code",
   "execution_count": null,
   "metadata": {},
   "outputs": [],
   "source": [
    "from protein_engineering.pipeline import AADataset\n",
    "from torch_geometric.loader import DataLoader as geom_DataLoader\n",
    "from protein_engineering.archive.test import GB1Olson \n",
    "\n",
    "# Data loading\n",
    "data = GB1Olson()\n",
    "protein = '2GI9'\n",
    "dataset = AADataset(protein, code=protein)\n",
    "dataloader = geom_DataLoader(dataset)\n"
   ]
  },
  {
   "cell_type": "code",
   "execution_count": null,
   "metadata": {},
   "outputs": [],
   "source": [
    "\"\"\"\n",
    "/Users/antoniaboca/partIII-amino-acid-prediction/data/ProteinGym_structures_clean/1IGS.pdb : TRPC_SACS2_Chan_2017\n",
    "/Users/antoniaboca/partIII-amino-acid-prediction/data/ProteinGym_structures_clean/6LQA.pdb : SCN5A_HUMAN_Glazer_2019\n",
    "\"\"\""
   ]
  },
  {
   "cell_type": "code",
   "execution_count": null,
   "metadata": {},
   "outputs": [],
   "source": [
    "import torch\n",
    "from gvp_antonia.main import ModelWrapper\n",
    "from protein_engineering.pipeline import Pair, uncertainty_search\n",
    "\n",
    "# Model loading\n",
    "MODEL_PATH = '/Users/antoniaboca/partIII-amino-acid-prediction/data/eqgat_debug.ckpt'\n",
    "best_model = ModelWrapper('eqgat', 1e-3, None, 0.0, n_layers=5)\n",
    "best_model.load_state_dict(torch.load(MODEL_PATH, map_location=torch.device('cpu'))['state_dict'])\n",
    "    "
   ]
  },
  {
   "cell_type": "code",
   "execution_count": null,
   "metadata": {},
   "outputs": [],
   "source": [
    "uncertainty_search(best_model, dataloader, k=4, locs=2)"
   ]
  },
  {
   "cell_type": "code",
   "execution_count": null,
   "metadata": {},
   "outputs": [],
   "source": [
    "import pandas as pd\n",
    "new_df = data.data.copy()\n",
    "new_df['variant'] = new_df['variant'].astype('str')\n",
    "\n",
    "mutations = pd.read_csv('mutations.csv')\n",
    "codes = mutations['mutation_codes']\n",
    "data.data[new_df['variant'].isin(codes)]"
   ]
  },
  {
   "cell_type": "code",
   "execution_count": 10,
   "metadata": {},
   "outputs": [
    {
     "name": "stdout",
     "output_type": "stream",
     "text": [
      "/Users/antoniaboca/partIII-amino-acid-prediction/data/ProteinGym_structures_clean/1IGS.pdb : TRPC_SACS2_Chan_2017\n",
      "/Users/antoniaboca/partIII-amino-acid-prediction/data/ProteinGym_structures_clean/6LQA.pdb : SCN5A_HUMAN_Glazer_2019\n",
      "/Users/antoniaboca/partIII-amino-acid-prediction/data/ProteinGym_structures_clean/8F2I.pdb : P53_HUMAN_Giacomelli_NULL_Nutlin_2018\n",
      "/Users/antoniaboca/partIII-amino-acid-prediction/data/ProteinGym_structures_clean/6BVC.pdb : AACC1_PSEAI_Dandage_2018\n",
      "/Users/antoniaboca/partIII-amino-acid-prediction/data/ProteinGym_structures_clean/3VUB.pdb : CCDB_ECOLI_Adkar_2012\n",
      "/Users/antoniaboca/partIII-amino-acid-prediction/data/ProteinGym_structures_clean/8F2I.pdb : P53_HUMAN_Giacomelli_NULL_Nutlin_2018\n",
      "/Users/antoniaboca/partIII-amino-acid-prediction/data/ProteinGym_structures_clean/5WDX.pdb : POLG_HCVJF_Qi_2014\n",
      "/Users/antoniaboca/partIII-amino-acid-prediction/data/ProteinGym_structures_clean/2V01.pdb : CALM1_HUMAN_Weile_2017\n",
      "/Users/antoniaboca/partIII-amino-acid-prediction/data/ProteinGym_structures_clean/1VC4.pdb : P84126_THETH_Chan_2017\n",
      "/Users/antoniaboca/partIII-amino-acid-prediction/data/ProteinGym_structures_clean/7NT8.pdb : I6TAH8_I68A0_Doud_2015\n",
      "/Users/antoniaboca/partIII-amino-acid-prediction/data/ProteinGym_structures_clean/8F2I.pdb : P53_HUMAN_Kotler_2018\n",
      "/Users/antoniaboca/partIII-amino-acid-prediction/data/ProteinGym_structures_clean/1A3S.pdb : UBC9_HUMAN_Weile_2017\n",
      "/Users/antoniaboca/partIII-amino-acid-prediction/data/ProteinGym_structures_clean/1XQ8.pdb : SYUA_HUMAN_Newberry_2020\n",
      "/Users/antoniaboca/partIII-amino-acid-prediction/data/ProteinGym_structures_clean/7AOP.pdb : NUD15_HUMAN_Suiter_2020\n",
      "/Users/antoniaboca/partIII-amino-acid-prediction/data/ProteinGym_structures_clean/2YZ3.pdb : A4GRB6_PSEAI_Chen_2020\n",
      "/Users/antoniaboca/partIII-amino-acid-prediction/data/ProteinGym_structures_clean/3VUB.pdb : CCDB_ECOLI_Adkar_2012\n",
      "/Users/antoniaboca/partIII-amino-acid-prediction/data/ProteinGym_structures_clean/1GON.pdb : Q59976_STRSQ_Romero_2015\n",
      "/Users/antoniaboca/partIII-amino-acid-prediction/data/ProteinGym_structures_clean/3CDU.pdb : POLG_CXB3N_Mattenberger_2021\n",
      "/Users/antoniaboca/partIII-amino-acid-prediction/data/ProteinGym_structures_clean/1A5R.pdb : SUMO1_HUMAN_Weile_2017\n",
      "/Users/antoniaboca/partIII-amino-acid-prediction/data/ProteinGym_structures_clean/5BSB.pdb : B3VI55_LIPST_Klesmith_2015\n",
      "/Users/antoniaboca/partIII-amino-acid-prediction/data/ProteinGym_structures_clean/1TVO.pdb : MK01_HUMAN_Brenan_2016\n",
      "/Users/antoniaboca/partIII-amino-acid-prediction/data/ProteinGym_structures_clean/3DAU.pdb : DYR_ECOLI_Thompson_plusLon_2019\n",
      "/Users/antoniaboca/partIII-amino-acid-prediction/data/ProteinGym_structures_clean/4WE8.pdb : C6KNH7_9INFA_Lee_2018\n",
      "/Users/antoniaboca/partIII-amino-acid-prediction/data/ProteinGym_structures_clean/8F2I.pdb : P53_HUMAN_Giacomelli_NULL_Nutlin_2018\n",
      "/Users/antoniaboca/partIII-amino-acid-prediction/data/ProteinGym_structures_clean/5R7Y.pdb : R1AB_SARS2_Flynn_growth_2022\n",
      "/Users/antoniaboca/partIII-amino-acid-prediction/data/ProteinGym_structures_clean/4Q21.pdb : RASH_HUMAN_Bandaru_2017\n"
     ]
    }
   ],
   "source": [
    "from pathlib import Path \n",
    "from biopandas.pdb import PandasPdb\n",
    "base_path = '/Users/antoniaboca/partIII-amino-acid-prediction/data/ProteinGym_structures_clean'\n",
    "monomers = 0\n",
    "for index, row in df.iterrows():\n",
    "    structs = row['identifiers'].split(',')\n",
    "    for struct in structs:\n",
    "        file = Path(f'{base_path}/{struct}.pdb')\n",
    "        if file.exists():\n",
    "            pdb = PandasPdb().read_pdb(str(file)).df['ATOM']\n",
    "            if pdb['chain_id'].nunique() == 1:\n",
    "                print(f'{file} : {row[\"name\"]}')\n",
    "                monomers += 1\n",
    "                break\n"
   ]
  },
  {
   "cell_type": "code",
   "execution_count": 10,
   "metadata": {},
   "outputs": [],
   "source": [
    "homomultimer = 'HIS7_YEAST_Pokusaeva_2019.csv'"
   ]
  },
  {
   "cell_type": "code",
   "execution_count": 11,
   "metadata": {},
   "outputs": [
    {
     "name": "stdout",
     "output_type": "stream",
     "text": [
      "It seems the fitness data is not log transformed.\n",
      "No wildtype data found. Inferring wildtype data.\n",
      "/Users/antoniaboca/partIII-amino-acid-prediction/data/ProteinGym_structures_clean/6EZM.pdb\n",
      "Detected heteromeric assembly. Skipping for now. Are you sure you are using AlphaFold?\n"
     ]
    }
   ],
   "source": [
    "from protein_engineering.protein_gym import ProteinGymDataset\n",
    "import pandas as pd\n",
    "from pathlib import Path\n",
    "from protein_engineering.pipeline import AADataset\n",
    "\n",
    "file = 'SCN5A_HUMAN_Glazer_2019.csv'\n",
    "base_path = '/Users/antoniaboca/partIII-amino-acid-prediction/data/ProteinGym_substitutions'\n",
    "\n",
    "df = pd.read_csv('/Users/antoniaboca/partIII-amino-acid-prediction/data/mapping.csv')\n",
    "gym_dataset = ProteinGymDataset(Path(f'{base_path}/{homomultimer}'))\n",
    "dataset = AADataset(gym_dataset, df)"
   ]
  },
  {
   "cell_type": "code",
   "execution_count": 2,
   "metadata": {},
   "outputs": [],
   "source": [
    "from torch_geometric.loader import DataLoader as geom_DataLoader\n",
    "\n",
    "loader = geom_DataLoader(dataset)"
   ]
  },
  {
   "cell_type": "code",
   "execution_count": 3,
   "metadata": {},
   "outputs": [
    {
     "name": "stdout",
     "output_type": "stream",
     "text": [
      "Using Cross Product\n",
      "With Feature Attention\n"
     ]
    },
    {
     "data": {
      "text/plain": [
       "<All keys matched successfully>"
      ]
     },
     "execution_count": 3,
     "metadata": {},
     "output_type": "execute_result"
    }
   ],
   "source": [
    "import torch\n",
    "from gvp_antonia.main import ModelWrapper\n",
    "from protein_engineering.pipeline import uncertainty_search\n",
    "\n",
    "# Model loading\n",
    "MODEL_PATH = '/Users/antoniaboca/partIII-amino-acid-prediction/data/eqgat_debug.ckpt'\n",
    "best_model = ModelWrapper('eqgat', 1e-3, None, 0.0, n_layers=5)\n",
    "best_model.load_state_dict(torch.load(MODEL_PATH, map_location=torch.device('cpu'))['state_dict'])\n",
    "    "
   ]
  },
  {
   "cell_type": "code",
   "execution_count": 4,
   "metadata": {},
   "outputs": [
    {
     "name": "stderr",
     "output_type": "stream",
     "text": [
      "1it [00:02,  2.33s/it]"
     ]
    },
    {
     "name": "stdout",
     "output_type": "stream",
     "text": [
      "tensor([[ 0.4125, -0.2038, -0.5431, -0.4071,  0.9860, -0.0642, -0.1356, -1.1135,\n",
      "          1.5418,  0.1272,  0.3535, -0.6924,  0.9228, -0.0910, -0.8472,  0.6529,\n",
      "          0.2967, -0.1092, -0.4290,  0.0823]])\n",
      "tensor([[8]])\n"
     ]
    },
    {
     "name": "stderr",
     "output_type": "stream",
     "text": [
      "2it [00:04,  2.19s/it]"
     ]
    },
    {
     "name": "stdout",
     "output_type": "stream",
     "text": [
      "tensor([[-1.5311, -3.3717, -2.9112, -2.4956,  4.8571, -2.5910, -2.7655, -2.7414,\n",
      "         -0.1756, -3.4286, -1.4761, -3.7741, -0.2533, -2.4268, -4.9171, -1.0681,\n",
      "         -2.2037, -2.2754, -2.9614, -3.9457]])\n",
      "tensor([[4]])\n"
     ]
    },
    {
     "name": "stderr",
     "output_type": "stream",
     "text": [
      "3it [00:06,  2.12s/it]"
     ]
    },
    {
     "name": "stdout",
     "output_type": "stream",
     "text": [
      "tensor([[-1.3665, -1.4528, -1.5599, -2.0405,  3.2129, -1.5341, -0.8675, -2.8573,\n",
      "          0.8822, -0.6912,  1.0495, -2.0805,  1.0369, -0.4792, -1.1437, -0.7933,\n",
      "         -0.9320, -1.1999, -1.3370, -1.3581]])\n",
      "tensor([[4]])\n"
     ]
    },
    {
     "name": "stderr",
     "output_type": "stream",
     "text": [
      "4it [00:08,  2.08s/it]"
     ]
    },
    {
     "name": "stdout",
     "output_type": "stream",
     "text": [
      "tensor([[-1.2441, -1.4707, -1.6421, -1.4034,  3.3948, -1.2156, -0.9157, -3.5730,\n",
      "          1.1012, -1.9598,  0.7000, -1.9865,  0.5431, -0.9983, -1.7451, -0.2817,\n",
      "         -0.8877, -0.9191, -1.5175, -2.3797]])\n",
      "tensor([[4]])\n"
     ]
    },
    {
     "name": "stderr",
     "output_type": "stream",
     "text": [
      "5it [00:10,  2.09s/it]"
     ]
    },
    {
     "name": "stdout",
     "output_type": "stream",
     "text": [
      "tensor([[-1.3384, -2.3301, -2.0038, -1.5211,  4.3319, -1.3846, -1.3358, -3.4052,\n",
      "          0.5777, -3.2017, -0.3482, -2.6666,  0.2039, -1.1787, -2.4520, -0.5764,\n",
      "         -2.1993, -1.2948, -1.5960, -3.4225]])\n",
      "tensor([[4]])\n"
     ]
    },
    {
     "name": "stderr",
     "output_type": "stream",
     "text": [
      "5it [00:10,  2.20s/it]\n"
     ]
    },
    {
     "ename": "KeyboardInterrupt",
     "evalue": "",
     "output_type": "error",
     "traceback": [
      "\u001b[0;31m---------------------------------------------------------------------------\u001b[0m",
      "\u001b[0;31mKeyboardInterrupt\u001b[0m                         Traceback (most recent call last)",
      "Cell \u001b[0;32mIn[4], line 1\u001b[0m\n\u001b[0;32m----> 1\u001b[0m uncertainty_search(best_model, loader)\n",
      "File \u001b[0;32m~/partIII-amino-acid-prediction/protein_engineering/pipeline.py:223\u001b[0m, in \u001b[0;36muncertainty_search\u001b[0;34m(trainer, dataloader, locs, k, correct_only)\u001b[0m\n\u001b[1;32m    221\u001b[0m \u001b[39mfor\u001b[39;00m batch \u001b[39min\u001b[39;00m tqdm(dataloader):\n\u001b[1;32m    222\u001b[0m     \u001b[39mwith\u001b[39;00m torch\u001b[39m.\u001b[39mno_grad():\n\u001b[0;32m--> 223\u001b[0m         out \u001b[39m=\u001b[39m trainer\u001b[39m.\u001b[39;49mmodel(batch)\n\u001b[1;32m    224\u001b[0m         probs \u001b[39m=\u001b[39m softmax(out)\n\u001b[1;32m    226\u001b[0m         \u001b[39mprint\u001b[39m(out)\n",
      "File \u001b[0;32m~/miniconda3/envs/diss/lib/python3.8/site-packages/torch/nn/modules/module.py:1194\u001b[0m, in \u001b[0;36mModule._call_impl\u001b[0;34m(self, *input, **kwargs)\u001b[0m\n\u001b[1;32m   1190\u001b[0m \u001b[39m# If we don't have any hooks, we want to skip the rest of the logic in\u001b[39;00m\n\u001b[1;32m   1191\u001b[0m \u001b[39m# this function, and just call forward.\u001b[39;00m\n\u001b[1;32m   1192\u001b[0m \u001b[39mif\u001b[39;00m \u001b[39mnot\u001b[39;00m (\u001b[39mself\u001b[39m\u001b[39m.\u001b[39m_backward_hooks \u001b[39mor\u001b[39;00m \u001b[39mself\u001b[39m\u001b[39m.\u001b[39m_forward_hooks \u001b[39mor\u001b[39;00m \u001b[39mself\u001b[39m\u001b[39m.\u001b[39m_forward_pre_hooks \u001b[39mor\u001b[39;00m _global_backward_hooks\n\u001b[1;32m   1193\u001b[0m         \u001b[39mor\u001b[39;00m _global_forward_hooks \u001b[39mor\u001b[39;00m _global_forward_pre_hooks):\n\u001b[0;32m-> 1194\u001b[0m     \u001b[39mreturn\u001b[39;00m forward_call(\u001b[39m*\u001b[39;49m\u001b[39minput\u001b[39;49m, \u001b[39m*\u001b[39;49m\u001b[39m*\u001b[39;49mkwargs)\n\u001b[1;32m   1195\u001b[0m \u001b[39m# Do not call functions when jit is used\u001b[39;00m\n\u001b[1;32m   1196\u001b[0m full_backward_hooks, non_full_backward_hooks \u001b[39m=\u001b[39m [], []\n",
      "File \u001b[0;32m~/partIII-amino-acid-prediction/gvp_antonia/models/eqgat.py:101\u001b[0m, in \u001b[0;36mRES_EQGATModel.forward\u001b[0;34m(self, data)\u001b[0m\n\u001b[1;32m     98\u001b[0m edge_attr \u001b[39m=\u001b[39m d, rel_pos\n\u001b[1;32m    100\u001b[0m v \u001b[39m=\u001b[39m torch\u001b[39m.\u001b[39mzeros(size\u001b[39m=\u001b[39m[s\u001b[39m.\u001b[39msize(\u001b[39m0\u001b[39m), \u001b[39m3\u001b[39m, \u001b[39mself\u001b[39m\u001b[39m.\u001b[39mvdim], device\u001b[39m=\u001b[39ms\u001b[39m.\u001b[39mdevice)\n\u001b[0;32m--> 101\u001b[0m s, v \u001b[39m=\u001b[39m \u001b[39mself\u001b[39;49m\u001b[39m.\u001b[39;49mgnn(x\u001b[39m=\u001b[39;49m(s, v), edge_index\u001b[39m=\u001b[39;49medge_index, edge_attr\u001b[39m=\u001b[39;49medge_attr, batch\u001b[39m=\u001b[39;49mbatch)\n\u001b[1;32m    102\u001b[0m \u001b[39mif\u001b[39;00m \u001b[39mself\u001b[39m\u001b[39m.\u001b[39muse_norm:\n\u001b[1;32m    103\u001b[0m     s, v \u001b[39m=\u001b[39m \u001b[39mself\u001b[39m\u001b[39m.\u001b[39mpost_norm(x\u001b[39m=\u001b[39m(s, v), batch\u001b[39m=\u001b[39mbatch)\n",
      "File \u001b[0;32m~/miniconda3/envs/diss/lib/python3.8/site-packages/torch/nn/modules/module.py:1194\u001b[0m, in \u001b[0;36mModule._call_impl\u001b[0;34m(self, *input, **kwargs)\u001b[0m\n\u001b[1;32m   1190\u001b[0m \u001b[39m# If we don't have any hooks, we want to skip the rest of the logic in\u001b[39;00m\n\u001b[1;32m   1191\u001b[0m \u001b[39m# this function, and just call forward.\u001b[39;00m\n\u001b[1;32m   1192\u001b[0m \u001b[39mif\u001b[39;00m \u001b[39mnot\u001b[39;00m (\u001b[39mself\u001b[39m\u001b[39m.\u001b[39m_backward_hooks \u001b[39mor\u001b[39;00m \u001b[39mself\u001b[39m\u001b[39m.\u001b[39m_forward_hooks \u001b[39mor\u001b[39;00m \u001b[39mself\u001b[39m\u001b[39m.\u001b[39m_forward_pre_hooks \u001b[39mor\u001b[39;00m _global_backward_hooks\n\u001b[1;32m   1193\u001b[0m         \u001b[39mor\u001b[39;00m _global_forward_hooks \u001b[39mor\u001b[39;00m _global_forward_pre_hooks):\n\u001b[0;32m-> 1194\u001b[0m     \u001b[39mreturn\u001b[39;00m forward_call(\u001b[39m*\u001b[39;49m\u001b[39minput\u001b[39;49m, \u001b[39m*\u001b[39;49m\u001b[39m*\u001b[39;49mkwargs)\n\u001b[1;32m   1195\u001b[0m \u001b[39m# Do not call functions when jit is used\u001b[39;00m\n\u001b[1;32m   1196\u001b[0m full_backward_hooks, non_full_backward_hooks \u001b[39m=\u001b[39m [], []\n",
      "File \u001b[0;32m~/partIII-amino-acid-prediction/gvp_antonia/models/eqgat.py:192\u001b[0m, in \u001b[0;36mEQGATGNN.forward\u001b[0;34m(self, x, edge_index, edge_attr, batch)\u001b[0m\n\u001b[1;32m    190\u001b[0m s, v \u001b[39m=\u001b[39m x\n\u001b[1;32m    191\u001b[0m \u001b[39mfor\u001b[39;00m i \u001b[39min\u001b[39;00m \u001b[39mrange\u001b[39m(\u001b[39mlen\u001b[39m(\u001b[39mself\u001b[39m\u001b[39m.\u001b[39mconvs)):\n\u001b[0;32m--> 192\u001b[0m     s, v \u001b[39m=\u001b[39m \u001b[39mself\u001b[39;49m\u001b[39m.\u001b[39;49mconvs[i](x\u001b[39m=\u001b[39;49m(s, v), edge_index\u001b[39m=\u001b[39;49medge_index, edge_attr\u001b[39m=\u001b[39;49medge_attr)\n\u001b[1;32m    193\u001b[0m     \u001b[39mif\u001b[39;00m \u001b[39mself\u001b[39m\u001b[39m.\u001b[39muse_norm:\n\u001b[1;32m    194\u001b[0m         s, v \u001b[39m=\u001b[39m \u001b[39mself\u001b[39m\u001b[39m.\u001b[39mnorms[i](x\u001b[39m=\u001b[39m(s, v), batch\u001b[39m=\u001b[39mbatch)\n",
      "File \u001b[0;32m~/miniconda3/envs/diss/lib/python3.8/site-packages/torch/nn/modules/module.py:1194\u001b[0m, in \u001b[0;36mModule._call_impl\u001b[0;34m(self, *input, **kwargs)\u001b[0m\n\u001b[1;32m   1190\u001b[0m \u001b[39m# If we don't have any hooks, we want to skip the rest of the logic in\u001b[39;00m\n\u001b[1;32m   1191\u001b[0m \u001b[39m# this function, and just call forward.\u001b[39;00m\n\u001b[1;32m   1192\u001b[0m \u001b[39mif\u001b[39;00m \u001b[39mnot\u001b[39;00m (\u001b[39mself\u001b[39m\u001b[39m.\u001b[39m_backward_hooks \u001b[39mor\u001b[39;00m \u001b[39mself\u001b[39m\u001b[39m.\u001b[39m_forward_hooks \u001b[39mor\u001b[39;00m \u001b[39mself\u001b[39m\u001b[39m.\u001b[39m_forward_pre_hooks \u001b[39mor\u001b[39;00m _global_backward_hooks\n\u001b[1;32m   1193\u001b[0m         \u001b[39mor\u001b[39;00m _global_forward_hooks \u001b[39mor\u001b[39;00m _global_forward_pre_hooks):\n\u001b[0;32m-> 1194\u001b[0m     \u001b[39mreturn\u001b[39;00m forward_call(\u001b[39m*\u001b[39;49m\u001b[39minput\u001b[39;49m, \u001b[39m*\u001b[39;49m\u001b[39m*\u001b[39;49mkwargs)\n\u001b[1;32m   1195\u001b[0m \u001b[39m# Do not call functions when jit is used\u001b[39;00m\n\u001b[1;32m   1196\u001b[0m full_backward_hooks, non_full_backward_hooks \u001b[39m=\u001b[39m [], []\n",
      "File \u001b[0;32m~/partIII-amino-acid-prediction/gvp_antonia/models/eqgat.py:336\u001b[0m, in \u001b[0;36mEQGATConv.forward\u001b[0;34m(self, x, edge_index, edge_attr)\u001b[0m\n\u001b[1;32m    333\u001b[0m s, v \u001b[39m=\u001b[39m x\n\u001b[1;32m    334\u001b[0m d, r \u001b[39m=\u001b[39m edge_attr\n\u001b[0;32m--> 336\u001b[0m ms, mv \u001b[39m=\u001b[39m \u001b[39mself\u001b[39;49m\u001b[39m.\u001b[39;49mpropagate(\n\u001b[1;32m    337\u001b[0m     sa\u001b[39m=\u001b[39;49ms,\n\u001b[1;32m    338\u001b[0m     sb\u001b[39m=\u001b[39;49m\u001b[39mself\u001b[39;49m\u001b[39m.\u001b[39;49mscalar_net(s),\n\u001b[1;32m    339\u001b[0m     va\u001b[39m=\u001b[39;49mv,\n\u001b[1;32m    340\u001b[0m     vb\u001b[39m=\u001b[39;49m\u001b[39mself\u001b[39;49m\u001b[39m.\u001b[39;49mvector_net(v),\n\u001b[1;32m    341\u001b[0m     edge_attr\u001b[39m=\u001b[39;49m(d, r),\n\u001b[1;32m    342\u001b[0m     edge_index\u001b[39m=\u001b[39;49medge_index,\n\u001b[1;32m    343\u001b[0m     dim_size\u001b[39m=\u001b[39;49ms\u001b[39m.\u001b[39;49msize(\u001b[39m0\u001b[39;49m),\n\u001b[1;32m    344\u001b[0m )\n\u001b[1;32m    346\u001b[0m s \u001b[39m=\u001b[39m ms \u001b[39m+\u001b[39m s\n\u001b[1;32m    347\u001b[0m v \u001b[39m=\u001b[39m mv \u001b[39m+\u001b[39m v\n",
      "File \u001b[0;32m~/miniconda3/envs/diss/lib/python3.8/site-packages/torch_geometric/nn/conv/message_passing.py:454\u001b[0m, in \u001b[0;36mMessagePassing.propagate\u001b[0;34m(self, edge_index, size, **kwargs)\u001b[0m\n\u001b[1;32m    451\u001b[0m     \u001b[39mif\u001b[39;00m res \u001b[39mis\u001b[39;00m \u001b[39mnot\u001b[39;00m \u001b[39mNone\u001b[39;00m:\n\u001b[1;32m    452\u001b[0m         aggr_kwargs \u001b[39m=\u001b[39m res[\u001b[39m0\u001b[39m] \u001b[39mif\u001b[39;00m \u001b[39misinstance\u001b[39m(res, \u001b[39mtuple\u001b[39m) \u001b[39melse\u001b[39;00m res\n\u001b[0;32m--> 454\u001b[0m out \u001b[39m=\u001b[39m \u001b[39mself\u001b[39;49m\u001b[39m.\u001b[39;49maggregate(out, \u001b[39m*\u001b[39;49m\u001b[39m*\u001b[39;49maggr_kwargs)\n\u001b[1;32m    456\u001b[0m \u001b[39mfor\u001b[39;00m hook \u001b[39min\u001b[39;00m \u001b[39mself\u001b[39m\u001b[39m.\u001b[39m_aggregate_forward_hooks\u001b[39m.\u001b[39mvalues():\n\u001b[1;32m    457\u001b[0m     res \u001b[39m=\u001b[39m hook(\u001b[39mself\u001b[39m, (aggr_kwargs, ), out)\n",
      "File \u001b[0;32m~/partIII-amino-acid-prediction/gvp_antonia/models/eqgat.py:362\u001b[0m, in \u001b[0;36mEQGATConv.aggregate\u001b[0;34m(self, inputs, index, dim_size)\u001b[0m\n\u001b[1;32m    356\u001b[0m \u001b[39mdef\u001b[39;00m \u001b[39maggregate\u001b[39m(\n\u001b[1;32m    357\u001b[0m     \u001b[39mself\u001b[39m,\n\u001b[1;32m    358\u001b[0m         inputs: Tuple[Tensor, Tensor],\n\u001b[1;32m    359\u001b[0m         index: Tensor,\n\u001b[1;32m    360\u001b[0m         dim_size: Optional[\u001b[39mint\u001b[39m] \u001b[39m=\u001b[39m \u001b[39mNone\u001b[39;00m\n\u001b[1;32m    361\u001b[0m ) \u001b[39m-\u001b[39m\u001b[39m>\u001b[39m Tuple[Tensor, Tensor]:\n\u001b[0;32m--> 362\u001b[0m     s \u001b[39m=\u001b[39m scatter(inputs[\u001b[39m0\u001b[39;49m], index\u001b[39m=\u001b[39;49mindex, dim\u001b[39m=\u001b[39;49m\u001b[39m0\u001b[39;49m, reduce\u001b[39m=\u001b[39;49m\u001b[39m\"\u001b[39;49m\u001b[39madd\u001b[39;49m\u001b[39m\"\u001b[39;49m, dim_size\u001b[39m=\u001b[39;49mdim_size)\n\u001b[1;32m    363\u001b[0m     v \u001b[39m=\u001b[39m scatter(inputs[\u001b[39m1\u001b[39m], index\u001b[39m=\u001b[39mindex, dim\u001b[39m=\u001b[39m\u001b[39m0\u001b[39m, reduce\u001b[39m=\u001b[39m\u001b[39mself\u001b[39m\u001b[39m.\u001b[39mvector_aggr, dim_size\u001b[39m=\u001b[39mdim_size)\n\u001b[1;32m    364\u001b[0m     \u001b[39mreturn\u001b[39;00m s, v\n",
      "File \u001b[0;32m~/miniconda3/envs/diss/lib/python3.8/site-packages/torch_scatter/scatter.py:152\u001b[0m, in \u001b[0;36mscatter\u001b[0;34m(src, index, dim, out, dim_size, reduce)\u001b[0m\n\u001b[1;32m     78\u001b[0m \u001b[39mr\u001b[39m\u001b[39m\"\"\"\u001b[39;00m\n\u001b[1;32m     79\u001b[0m \u001b[39m|\u001b[39;00m\n\u001b[1;32m     80\u001b[0m \n\u001b[0;32m   (...)\u001b[0m\n\u001b[1;32m    149\u001b[0m \u001b[39m    torch.Size([10, 3, 64])\u001b[39;00m\n\u001b[1;32m    150\u001b[0m \u001b[39m\"\"\"\u001b[39;00m\n\u001b[1;32m    151\u001b[0m \u001b[39mif\u001b[39;00m reduce \u001b[39m==\u001b[39m \u001b[39m'\u001b[39m\u001b[39msum\u001b[39m\u001b[39m'\u001b[39m \u001b[39mor\u001b[39;00m reduce \u001b[39m==\u001b[39m \u001b[39m'\u001b[39m\u001b[39madd\u001b[39m\u001b[39m'\u001b[39m:\n\u001b[0;32m--> 152\u001b[0m     \u001b[39mreturn\u001b[39;00m scatter_sum(src, index, dim, out, dim_size)\n\u001b[1;32m    153\u001b[0m \u001b[39mif\u001b[39;00m reduce \u001b[39m==\u001b[39m \u001b[39m'\u001b[39m\u001b[39mmul\u001b[39m\u001b[39m'\u001b[39m:\n\u001b[1;32m    154\u001b[0m     \u001b[39mreturn\u001b[39;00m scatter_mul(src, index, dim, out, dim_size)\n",
      "File \u001b[0;32m~/miniconda3/envs/diss/lib/python3.8/site-packages/torch_scatter/scatter.py:21\u001b[0m, in \u001b[0;36mscatter_sum\u001b[0;34m(src, index, dim, out, dim_size)\u001b[0m\n\u001b[1;32m     19\u001b[0m         size[dim] \u001b[39m=\u001b[39m \u001b[39mint\u001b[39m(index\u001b[39m.\u001b[39mmax()) \u001b[39m+\u001b[39m \u001b[39m1\u001b[39m\n\u001b[1;32m     20\u001b[0m     out \u001b[39m=\u001b[39m torch\u001b[39m.\u001b[39mzeros(size, dtype\u001b[39m=\u001b[39msrc\u001b[39m.\u001b[39mdtype, device\u001b[39m=\u001b[39msrc\u001b[39m.\u001b[39mdevice)\n\u001b[0;32m---> 21\u001b[0m     \u001b[39mreturn\u001b[39;00m out\u001b[39m.\u001b[39;49mscatter_add_(dim, index, src)\n\u001b[1;32m     22\u001b[0m \u001b[39melse\u001b[39;00m:\n\u001b[1;32m     23\u001b[0m     \u001b[39mreturn\u001b[39;00m out\u001b[39m.\u001b[39mscatter_add_(dim, index, src)\n",
      "\u001b[0;31mKeyboardInterrupt\u001b[0m: "
     ]
    }
   ],
   "source": [
    "uncertainty_search(best_model, loader)"
   ]
  },
  {
   "cell_type": "code",
   "execution_count": 9,
   "metadata": {},
   "outputs": [],
   "source": [
    "mutations = pd.read_csv('mutations_all.csv')"
   ]
  },
  {
   "cell_type": "code",
   "execution_count": 10,
   "metadata": {},
   "outputs": [],
   "source": [
    "mask = mutations['mutation_code'].str[0] == mutations['mutation_code'].str[-1]"
   ]
  },
  {
   "cell_type": "code",
   "execution_count": 11,
   "metadata": {},
   "outputs": [
    {
     "data": {
      "text/html": [
       "<div>\n",
       "<style scoped>\n",
       "    .dataframe tbody tr th:only-of-type {\n",
       "        vertical-align: middle;\n",
       "    }\n",
       "\n",
       "    .dataframe tbody tr th {\n",
       "        vertical-align: top;\n",
       "    }\n",
       "\n",
       "    .dataframe thead th {\n",
       "        text-align: right;\n",
       "    }\n",
       "</style>\n",
       "<table border=\"1\" class=\"dataframe\">\n",
       "  <thead>\n",
       "    <tr style=\"text-align: right;\">\n",
       "      <th></th>\n",
       "      <th>wildtype</th>\n",
       "      <th>name</th>\n",
       "      <th>mutation_position</th>\n",
       "      <th>mutation_code</th>\n",
       "      <th>mutation_confidence</th>\n",
       "      <th>rank</th>\n",
       "    </tr>\n",
       "  </thead>\n",
       "  <tbody>\n",
       "    <tr>\n",
       "      <th>75</th>\n",
       "      <td>MPRYLKGWLKDVVQLSLRRPSFRASRQRPIISLNERILEFNKRNIT...</td>\n",
       "      <td>TRPC_SACS2_Chan_2017</td>\n",
       "      <td>107</td>\n",
       "      <td>I107V</td>\n",
       "      <td>0.42251700162887573</td>\n",
       "      <td>76</td>\n",
       "    </tr>\n",
       "    <tr>\n",
       "      <th>77</th>\n",
       "      <td>MPRYLKGWLKDVVQLSLRRPSFRASRQRPIISLNERILEFNKRNIT...</td>\n",
       "      <td>TRPC_SACS2_Chan_2017</td>\n",
       "      <td>105</td>\n",
       "      <td>I105V</td>\n",
       "      <td>0.421470582485199</td>\n",
       "      <td>78</td>\n",
       "    </tr>\n",
       "    <tr>\n",
       "      <th>78</th>\n",
       "      <td>MPRYLKGWLKDVVQLSLRRPSFRASRQRPIISLNERILEFNKRNIT...</td>\n",
       "      <td>TRPC_SACS2_Chan_2017</td>\n",
       "      <td>65</td>\n",
       "      <td>D65N</td>\n",
       "      <td>0.4188465476036072</td>\n",
       "      <td>79</td>\n",
       "    </tr>\n",
       "    <tr>\n",
       "      <th>79</th>\n",
       "      <td>MPRYLKGWLKDVVQLSLRRPSFRASRQRPIISLNERILEFNKRNIT...</td>\n",
       "      <td>TRPC_SACS2_Chan_2017</td>\n",
       "      <td>183</td>\n",
       "      <td>D183N</td>\n",
       "      <td>0.4133667051792145</td>\n",
       "      <td>80</td>\n",
       "    </tr>\n",
       "    <tr>\n",
       "      <th>83</th>\n",
       "      <td>MPRYLKGWLKDVVQLSLRRPSFRASRQRPIISLNERILEFNKRNIT...</td>\n",
       "      <td>TRPC_SACS2_Chan_2017</td>\n",
       "      <td>208</td>\n",
       "      <td>V208I</td>\n",
       "      <td>0.40425795316696167</td>\n",
       "      <td>84</td>\n",
       "    </tr>\n",
       "    <tr>\n",
       "      <th>...</th>\n",
       "      <td>...</td>\n",
       "      <td>...</td>\n",
       "      <td>...</td>\n",
       "      <td>...</td>\n",
       "      <td>...</td>\n",
       "      <td>...</td>\n",
       "    </tr>\n",
       "    <tr>\n",
       "      <th>7137</th>\n",
       "      <td>MPRYLKGWLKDVVQLSLRRPSFRASRQRPIISLNERILEFNKRNIT...</td>\n",
       "      <td>TRPC_SACS2_Chan_2017</td>\n",
       "      <td>173</td>\n",
       "      <td>G173V</td>\n",
       "      <td>8.53897286212657e-10</td>\n",
       "      <td>2376</td>\n",
       "    </tr>\n",
       "    <tr>\n",
       "      <th>7138</th>\n",
       "      <td>MPRYLKGWLKDVVQLSLRRPSFRASRQRPIISLNERILEFNKRNIT...</td>\n",
       "      <td>TRPC_SACS2_Chan_2017</td>\n",
       "      <td>226</td>\n",
       "      <td>G226P</td>\n",
       "      <td>3.8456759998695134e-10</td>\n",
       "      <td>2377</td>\n",
       "    </tr>\n",
       "    <tr>\n",
       "      <th>7139</th>\n",
       "      <td>MPRYLKGWLKDVVQLSLRRPSFRASRQRPIISLNERILEFNKRNIT...</td>\n",
       "      <td>TRPC_SACS2_Chan_2017</td>\n",
       "      <td>153</td>\n",
       "      <td>G153P</td>\n",
       "      <td>1.0999452737525672e-10</td>\n",
       "      <td>2378</td>\n",
       "    </tr>\n",
       "    <tr>\n",
       "      <th>7140</th>\n",
       "      <td>MPRYLKGWLKDVVQLSLRRPSFRASRQRPIISLNERILEFNKRNIT...</td>\n",
       "      <td>TRPC_SACS2_Chan_2017</td>\n",
       "      <td>59</td>\n",
       "      <td>G59P</td>\n",
       "      <td>2.3683345215519402e-11</td>\n",
       "      <td>2379</td>\n",
       "    </tr>\n",
       "    <tr>\n",
       "      <th>7141</th>\n",
       "      <td>MPRYLKGWLKDVVQLSLRRPSFRASRQRPIISLNERILEFNKRNIT...</td>\n",
       "      <td>TRPC_SACS2_Chan_2017</td>\n",
       "      <td>173</td>\n",
       "      <td>G173P</td>\n",
       "      <td>2.2645397709797344e-11</td>\n",
       "      <td>2380</td>\n",
       "    </tr>\n",
       "  </tbody>\n",
       "</table>\n",
       "<p>6785 rows × 6 columns</p>\n",
       "</div>"
      ],
      "text/plain": [
       "                                               wildtype                  name  \\\n",
       "75    MPRYLKGWLKDVVQLSLRRPSFRASRQRPIISLNERILEFNKRNIT...  TRPC_SACS2_Chan_2017   \n",
       "77    MPRYLKGWLKDVVQLSLRRPSFRASRQRPIISLNERILEFNKRNIT...  TRPC_SACS2_Chan_2017   \n",
       "78    MPRYLKGWLKDVVQLSLRRPSFRASRQRPIISLNERILEFNKRNIT...  TRPC_SACS2_Chan_2017   \n",
       "79    MPRYLKGWLKDVVQLSLRRPSFRASRQRPIISLNERILEFNKRNIT...  TRPC_SACS2_Chan_2017   \n",
       "83    MPRYLKGWLKDVVQLSLRRPSFRASRQRPIISLNERILEFNKRNIT...  TRPC_SACS2_Chan_2017   \n",
       "...                                                 ...                   ...   \n",
       "7137  MPRYLKGWLKDVVQLSLRRPSFRASRQRPIISLNERILEFNKRNIT...  TRPC_SACS2_Chan_2017   \n",
       "7138  MPRYLKGWLKDVVQLSLRRPSFRASRQRPIISLNERILEFNKRNIT...  TRPC_SACS2_Chan_2017   \n",
       "7139  MPRYLKGWLKDVVQLSLRRPSFRASRQRPIISLNERILEFNKRNIT...  TRPC_SACS2_Chan_2017   \n",
       "7140  MPRYLKGWLKDVVQLSLRRPSFRASRQRPIISLNERILEFNKRNIT...  TRPC_SACS2_Chan_2017   \n",
       "7141  MPRYLKGWLKDVVQLSLRRPSFRASRQRPIISLNERILEFNKRNIT...  TRPC_SACS2_Chan_2017   \n",
       "\n",
       "     mutation_position mutation_code     mutation_confidence  rank  \n",
       "75                 107         I107V     0.42251700162887573    76  \n",
       "77                 105         I105V       0.421470582485199    78  \n",
       "78                  65          D65N      0.4188465476036072    79  \n",
       "79                 183         D183N      0.4133667051792145    80  \n",
       "83                 208         V208I     0.40425795316696167    84  \n",
       "...                ...           ...                     ...   ...  \n",
       "7137               173         G173V    8.53897286212657e-10  2376  \n",
       "7138               226         G226P  3.8456759998695134e-10  2377  \n",
       "7139               153         G153P  1.0999452737525672e-10  2378  \n",
       "7140                59          G59P  2.3683345215519402e-11  2379  \n",
       "7141               173         G173P  2.2645397709797344e-11  2380  \n",
       "\n",
       "[6785 rows x 6 columns]"
      ]
     },
     "execution_count": 11,
     "metadata": {},
     "output_type": "execute_result"
    }
   ],
   "source": [
    "mutations[~mask]"
   ]
  },
  {
   "cell_type": "code",
   "execution_count": 24,
   "metadata": {},
   "outputs": [
    {
     "data": {
      "text/plain": [
       "'P06633'"
      ]
     },
     "execution_count": 24,
     "metadata": {},
     "output_type": "execute_result"
    }
   ],
   "source": [
    "'AFP06633F1'[2:-2]"
   ]
  },
  {
   "cell_type": "code",
   "execution_count": 7,
   "metadata": {},
   "outputs": [
    {
     "data": {
      "text/html": [
       "<div>\n",
       "<style scoped>\n",
       "    .dataframe tbody tr th:only-of-type {\n",
       "        vertical-align: middle;\n",
       "    }\n",
       "\n",
       "    .dataframe tbody tr th {\n",
       "        vertical-align: top;\n",
       "    }\n",
       "\n",
       "    .dataframe thead th {\n",
       "        text-align: right;\n",
       "    }\n",
       "</style>\n",
       "<table border=\"1\" class=\"dataframe\">\n",
       "  <thead>\n",
       "    <tr style=\"text-align: right;\">\n",
       "      <th></th>\n",
       "      <th>wildtype</th>\n",
       "      <th>identifiers</th>\n",
       "      <th>name</th>\n",
       "    </tr>\n",
       "  </thead>\n",
       "  <tbody>\n",
       "    <tr>\n",
       "      <th>0</th>\n",
       "      <td>MTEQKALVKRITNETKIQIAISLKGGPLAIEHSIFPEKEAEAVAEQ...</td>\n",
       "      <td>6EZM,AFP06633F1</td>\n",
       "      <td>HIS7_YEAST_Pokusaeva_2019</td>\n",
       "    </tr>\n",
       "  </tbody>\n",
       "</table>\n",
       "</div>"
      ],
      "text/plain": [
       "                                            wildtype      identifiers  \\\n",
       "0  MTEQKALVKRITNETKIQIAISLKGGPLAIEHSIFPEKEAEAVAEQ...  6EZM,AFP06633F1   \n",
       "\n",
       "                        name  \n",
       "0  HIS7_YEAST_Pokusaeva_2019  "
      ]
     },
     "execution_count": 7,
     "metadata": {},
     "output_type": "execute_result"
    }
   ],
   "source": [
    "df[df['identifiers'].str.contains('6EZM')]"
   ]
  },
  {
   "cell_type": "code",
   "execution_count": 14,
   "metadata": {},
   "outputs": [
    {
     "data": {
      "text/plain": [
       "'/Users/antoniaboca/partIII-amino-acid-prediction/data/ProteinGym_substitutions/HIS7_YEAST_Pokusaeva_2019.csv'"
      ]
     },
     "execution_count": 14,
     "metadata": {},
     "output_type": "execute_result"
    }
   ],
   "source": [
    "f'{base_path}/{homomultimer}'"
   ]
  },
  {
   "cell_type": "code",
   "execution_count": 18,
   "metadata": {},
   "outputs": [
    {
     "name": "stderr",
     "output_type": "stream",
     "text": [
      "/Users/antoniaboca/miniconda3/envs/diss/lib/python3.8/site-packages/Bio/PDB/PDBParser.py:395: PDBConstructionWarning: Ignoring unrecognized record 'END' at line 40203\n",
      "  warnings.warn(\n"
     ]
    }
   ],
   "source": [
    "from Bio import PDB\n",
    "\n",
    "parser = PDB.PDBParser()  # create a PDBParser object\n",
    "structure = parser.get_structure(\"example\", f'/Users/antoniaboca/partIII-amino-acid-prediction/data/ProteinGym_structures_clean/6EZM.pdb')  # parse the PDB file\n",
    "\n",
    "chains = structure.get_chains()"
   ]
  },
  {
   "cell_type": "code",
   "execution_count": 19,
   "metadata": {},
   "outputs": [],
   "source": [
    "chain = next(chains)"
   ]
  },
  {
   "cell_type": "code",
   "execution_count": 23,
   "metadata": {},
   "outputs": [
    {
     "data": {
      "text/plain": [
       "'<Chain id=U>'"
      ]
     },
     "execution_count": 23,
     "metadata": {},
     "output_type": "execute_result"
    }
   ],
   "source": [
    "chain.__repr__()"
   ]
  },
  {
   "cell_type": "code",
   "execution_count": null,
   "metadata": {},
   "outputs": [],
   "source": [
    "seq1 = chains[0].get_sequence()\n",
    "all_same = all(seq1 == chain.get_sequence() for chain in chains)\n",
    "\n",
    "if len(chains) == 1:\n",
    "    print('Homomer')\n",
    "elif all_same:\n",
    "    print('Homomultimer')\n",
    "else:\n",
    "    print('Heteromultimer')"
   ]
  },
  {
   "cell_type": "code",
   "execution_count": 25,
   "metadata": {},
   "outputs": [],
   "source": [
    "from biopandas.pdb import PandasPdb\n",
    "\n",
    "pdb = PandasPdb().read_pdb('/Users/antoniaboca/partIII-amino-acid-prediction/data/ProteinGym_structures_clean/6EZM.pdb').df['ATOM']"
   ]
  },
  {
   "cell_type": "code",
   "execution_count": 26,
   "metadata": {},
   "outputs": [
    {
     "data": {
      "text/html": [
       "<div>\n",
       "<style scoped>\n",
       "    .dataframe tbody tr th:only-of-type {\n",
       "        vertical-align: middle;\n",
       "    }\n",
       "\n",
       "    .dataframe tbody tr th {\n",
       "        vertical-align: top;\n",
       "    }\n",
       "\n",
       "    .dataframe thead th {\n",
       "        text-align: right;\n",
       "    }\n",
       "</style>\n",
       "<table border=\"1\" class=\"dataframe\">\n",
       "  <thead>\n",
       "    <tr style=\"text-align: right;\">\n",
       "      <th></th>\n",
       "      <th>record_name</th>\n",
       "      <th>atom_number</th>\n",
       "      <th>blank_1</th>\n",
       "      <th>atom_name</th>\n",
       "      <th>alt_loc</th>\n",
       "      <th>residue_name</th>\n",
       "      <th>blank_2</th>\n",
       "      <th>chain_id</th>\n",
       "      <th>residue_number</th>\n",
       "      <th>insertion</th>\n",
       "      <th>...</th>\n",
       "      <th>x_coord</th>\n",
       "      <th>y_coord</th>\n",
       "      <th>z_coord</th>\n",
       "      <th>occupancy</th>\n",
       "      <th>b_factor</th>\n",
       "      <th>blank_4</th>\n",
       "      <th>segment_id</th>\n",
       "      <th>element_symbol</th>\n",
       "      <th>charge</th>\n",
       "      <th>line_idx</th>\n",
       "    </tr>\n",
       "  </thead>\n",
       "  <tbody>\n",
       "    <tr>\n",
       "      <th>0</th>\n",
       "      <td>ATOM</td>\n",
       "      <td>1</td>\n",
       "      <td></td>\n",
       "      <td>N</td>\n",
       "      <td></td>\n",
       "      <td>MET</td>\n",
       "      <td></td>\n",
       "      <td>U</td>\n",
       "      <td>1</td>\n",
       "      <td></td>\n",
       "      <td>...</td>\n",
       "      <td>43.021</td>\n",
       "      <td>118.385</td>\n",
       "      <td>51.809</td>\n",
       "      <td>1.0</td>\n",
       "      <td>0.0</td>\n",
       "      <td></td>\n",
       "      <td></td>\n",
       "      <td>N</td>\n",
       "      <td>NaN</td>\n",
       "      <td>2</td>\n",
       "    </tr>\n",
       "    <tr>\n",
       "      <th>1</th>\n",
       "      <td>ATOM</td>\n",
       "      <td>2</td>\n",
       "      <td></td>\n",
       "      <td>CA</td>\n",
       "      <td></td>\n",
       "      <td>MET</td>\n",
       "      <td></td>\n",
       "      <td>U</td>\n",
       "      <td>1</td>\n",
       "      <td></td>\n",
       "      <td>...</td>\n",
       "      <td>44.223</td>\n",
       "      <td>117.574</td>\n",
       "      <td>51.681</td>\n",
       "      <td>1.0</td>\n",
       "      <td>0.0</td>\n",
       "      <td></td>\n",
       "      <td></td>\n",
       "      <td>C</td>\n",
       "      <td>NaN</td>\n",
       "      <td>3</td>\n",
       "    </tr>\n",
       "    <tr>\n",
       "      <th>2</th>\n",
       "      <td>ATOM</td>\n",
       "      <td>3</td>\n",
       "      <td></td>\n",
       "      <td>CB</td>\n",
       "      <td></td>\n",
       "      <td>MET</td>\n",
       "      <td></td>\n",
       "      <td>U</td>\n",
       "      <td>1</td>\n",
       "      <td></td>\n",
       "      <td>...</td>\n",
       "      <td>45.341</td>\n",
       "      <td>118.263</td>\n",
       "      <td>50.938</td>\n",
       "      <td>1.0</td>\n",
       "      <td>0.0</td>\n",
       "      <td></td>\n",
       "      <td></td>\n",
       "      <td>C</td>\n",
       "      <td>NaN</td>\n",
       "      <td>4</td>\n",
       "    </tr>\n",
       "    <tr>\n",
       "      <th>3</th>\n",
       "      <td>ATOM</td>\n",
       "      <td>4</td>\n",
       "      <td></td>\n",
       "      <td>CG</td>\n",
       "      <td></td>\n",
       "      <td>MET</td>\n",
       "      <td></td>\n",
       "      <td>U</td>\n",
       "      <td>1</td>\n",
       "      <td></td>\n",
       "      <td>...</td>\n",
       "      <td>45.228</td>\n",
       "      <td>119.493</td>\n",
       "      <td>50.039</td>\n",
       "      <td>1.0</td>\n",
       "      <td>0.0</td>\n",
       "      <td></td>\n",
       "      <td></td>\n",
       "      <td>C</td>\n",
       "      <td>NaN</td>\n",
       "      <td>5</td>\n",
       "    </tr>\n",
       "    <tr>\n",
       "      <th>4</th>\n",
       "      <td>ATOM</td>\n",
       "      <td>5</td>\n",
       "      <td></td>\n",
       "      <td>SD</td>\n",
       "      <td></td>\n",
       "      <td>MET</td>\n",
       "      <td></td>\n",
       "      <td>U</td>\n",
       "      <td>1</td>\n",
       "      <td></td>\n",
       "      <td>...</td>\n",
       "      <td>46.859</td>\n",
       "      <td>120.044</td>\n",
       "      <td>49.445</td>\n",
       "      <td>1.0</td>\n",
       "      <td>0.0</td>\n",
       "      <td></td>\n",
       "      <td></td>\n",
       "      <td>S</td>\n",
       "      <td>NaN</td>\n",
       "      <td>6</td>\n",
       "    </tr>\n",
       "    <tr>\n",
       "      <th>...</th>\n",
       "      <td>...</td>\n",
       "      <td>...</td>\n",
       "      <td>...</td>\n",
       "      <td>...</td>\n",
       "      <td>...</td>\n",
       "      <td>...</td>\n",
       "      <td>...</td>\n",
       "      <td>...</td>\n",
       "      <td>...</td>\n",
       "      <td>...</td>\n",
       "      <td>...</td>\n",
       "      <td>...</td>\n",
       "      <td>...</td>\n",
       "      <td>...</td>\n",
       "      <td>...</td>\n",
       "      <td>...</td>\n",
       "      <td>...</td>\n",
       "      <td>...</td>\n",
       "      <td>...</td>\n",
       "      <td>...</td>\n",
       "      <td>...</td>\n",
       "    </tr>\n",
       "    <tr>\n",
       "      <th>40171</th>\n",
       "      <td>ATOM</td>\n",
       "      <td>40195</td>\n",
       "      <td></td>\n",
       "      <td>SD</td>\n",
       "      <td></td>\n",
       "      <td>MET</td>\n",
       "      <td></td>\n",
       "      <td>X</td>\n",
       "      <td>220</td>\n",
       "      <td></td>\n",
       "      <td>...</td>\n",
       "      <td>137.896</td>\n",
       "      <td>126.936</td>\n",
       "      <td>109.159</td>\n",
       "      <td>1.0</td>\n",
       "      <td>0.0</td>\n",
       "      <td></td>\n",
       "      <td></td>\n",
       "      <td>S</td>\n",
       "      <td>NaN</td>\n",
       "      <td>40196</td>\n",
       "    </tr>\n",
       "    <tr>\n",
       "      <th>40172</th>\n",
       "      <td>ATOM</td>\n",
       "      <td>40196</td>\n",
       "      <td></td>\n",
       "      <td>CE</td>\n",
       "      <td></td>\n",
       "      <td>MET</td>\n",
       "      <td></td>\n",
       "      <td>X</td>\n",
       "      <td>220</td>\n",
       "      <td></td>\n",
       "      <td>...</td>\n",
       "      <td>136.639</td>\n",
       "      <td>126.872</td>\n",
       "      <td>107.822</td>\n",
       "      <td>1.0</td>\n",
       "      <td>0.0</td>\n",
       "      <td></td>\n",
       "      <td></td>\n",
       "      <td>C</td>\n",
       "      <td>NaN</td>\n",
       "      <td>40197</td>\n",
       "    </tr>\n",
       "    <tr>\n",
       "      <th>40173</th>\n",
       "      <td>ATOM</td>\n",
       "      <td>40197</td>\n",
       "      <td></td>\n",
       "      <td>C</td>\n",
       "      <td></td>\n",
       "      <td>MET</td>\n",
       "      <td></td>\n",
       "      <td>X</td>\n",
       "      <td>220</td>\n",
       "      <td></td>\n",
       "      <td>...</td>\n",
       "      <td>140.572</td>\n",
       "      <td>130.942</td>\n",
       "      <td>107.519</td>\n",
       "      <td>1.0</td>\n",
       "      <td>0.0</td>\n",
       "      <td></td>\n",
       "      <td></td>\n",
       "      <td>C</td>\n",
       "      <td>NaN</td>\n",
       "      <td>40198</td>\n",
       "    </tr>\n",
       "    <tr>\n",
       "      <th>40174</th>\n",
       "      <td>ATOM</td>\n",
       "      <td>40198</td>\n",
       "      <td></td>\n",
       "      <td>O</td>\n",
       "      <td></td>\n",
       "      <td>MET</td>\n",
       "      <td></td>\n",
       "      <td>X</td>\n",
       "      <td>220</td>\n",
       "      <td></td>\n",
       "      <td>...</td>\n",
       "      <td>140.534</td>\n",
       "      <td>131.689</td>\n",
       "      <td>106.527</td>\n",
       "      <td>1.0</td>\n",
       "      <td>0.0</td>\n",
       "      <td></td>\n",
       "      <td></td>\n",
       "      <td>O</td>\n",
       "      <td>NaN</td>\n",
       "      <td>40199</td>\n",
       "    </tr>\n",
       "    <tr>\n",
       "      <th>40175</th>\n",
       "      <td>ATOM</td>\n",
       "      <td>40199</td>\n",
       "      <td></td>\n",
       "      <td>OXT</td>\n",
       "      <td></td>\n",
       "      <td>MET</td>\n",
       "      <td></td>\n",
       "      <td>X</td>\n",
       "      <td>220</td>\n",
       "      <td></td>\n",
       "      <td>...</td>\n",
       "      <td>141.248</td>\n",
       "      <td>131.320</td>\n",
       "      <td>108.523</td>\n",
       "      <td>1.0</td>\n",
       "      <td>0.0</td>\n",
       "      <td></td>\n",
       "      <td></td>\n",
       "      <td>O</td>\n",
       "      <td>NaN</td>\n",
       "      <td>40200</td>\n",
       "    </tr>\n",
       "  </tbody>\n",
       "</table>\n",
       "<p>40176 rows × 21 columns</p>\n",
       "</div>"
      ],
      "text/plain": [
       "      record_name  atom_number blank_1 atom_name alt_loc residue_name blank_2  \\\n",
       "0            ATOM            1                 N                  MET           \n",
       "1            ATOM            2                CA                  MET           \n",
       "2            ATOM            3                CB                  MET           \n",
       "3            ATOM            4                CG                  MET           \n",
       "4            ATOM            5                SD                  MET           \n",
       "...           ...          ...     ...       ...     ...          ...     ...   \n",
       "40171        ATOM        40195                SD                  MET           \n",
       "40172        ATOM        40196                CE                  MET           \n",
       "40173        ATOM        40197                 C                  MET           \n",
       "40174        ATOM        40198                 O                  MET           \n",
       "40175        ATOM        40199               OXT                  MET           \n",
       "\n",
       "      chain_id  residue_number insertion  ...  x_coord  y_coord  z_coord  \\\n",
       "0            U               1            ...   43.021  118.385   51.809   \n",
       "1            U               1            ...   44.223  117.574   51.681   \n",
       "2            U               1            ...   45.341  118.263   50.938   \n",
       "3            U               1            ...   45.228  119.493   50.039   \n",
       "4            U               1            ...   46.859  120.044   49.445   \n",
       "...        ...             ...       ...  ...      ...      ...      ...   \n",
       "40171        X             220            ...  137.896  126.936  109.159   \n",
       "40172        X             220            ...  136.639  126.872  107.822   \n",
       "40173        X             220            ...  140.572  130.942  107.519   \n",
       "40174        X             220            ...  140.534  131.689  106.527   \n",
       "40175        X             220            ...  141.248  131.320  108.523   \n",
       "\n",
       "       occupancy  b_factor  blank_4 segment_id element_symbol charge  line_idx  \n",
       "0            1.0       0.0                                  N    NaN         2  \n",
       "1            1.0       0.0                                  C    NaN         3  \n",
       "2            1.0       0.0                                  C    NaN         4  \n",
       "3            1.0       0.0                                  C    NaN         5  \n",
       "4            1.0       0.0                                  S    NaN         6  \n",
       "...          ...       ...      ...        ...            ...    ...       ...  \n",
       "40171        1.0       0.0                                  S    NaN     40196  \n",
       "40172        1.0       0.0                                  C    NaN     40197  \n",
       "40173        1.0       0.0                                  C    NaN     40198  \n",
       "40174        1.0       0.0                                  O    NaN     40199  \n",
       "40175        1.0       0.0                                  O    NaN     40200  \n",
       "\n",
       "[40176 rows x 21 columns]"
      ]
     },
     "execution_count": 26,
     "metadata": {},
     "output_type": "execute_result"
    }
   ],
   "source": [
    "pdb"
   ]
  },
  {
   "cell_type": "code",
   "execution_count": null,
   "metadata": {},
   "outputs": [],
   "source": []
  }
 ],
 "metadata": {
  "kernelspec": {
   "display_name": "Python 3.8.15 ('diss')",
   "language": "python",
   "name": "python3"
  },
  "language_info": {
   "codemirror_mode": {
    "name": "ipython",
    "version": 3
   },
   "file_extension": ".py",
   "mimetype": "text/x-python",
   "name": "python",
   "nbconvert_exporter": "python",
   "pygments_lexer": "ipython3",
   "version": "3.8.16"
  },
  "orig_nbformat": 4,
  "vscode": {
   "interpreter": {
    "hash": "0a88f19788b2d489de92e777079de89cff528c8c2ec9a451fa736b3249187b30"
   }
  }
 },
 "nbformat": 4,
 "nbformat_minor": 2
}
