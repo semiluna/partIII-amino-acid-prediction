{
 "cells": [
  {
   "cell_type": "code",
   "execution_count": 1,
   "metadata": {},
   "outputs": [
    {
     "name": "stderr",
     "output_type": "stream",
     "text": [
      "/Users/antoniaboca/miniconda3/envs/diss/lib/python3.8/site-packages/tqdm/auto.py:22: TqdmWarning: IProgress not found. Please update jupyter and ipywidgets. See https://ipywidgets.readthedocs.io/en/stable/user_install.html\n",
      "  from .autonotebook import tqdm as notebook_tqdm\n"
     ]
    },
    {
     "name": "stdout",
     "output_type": "stream",
     "text": [
      "Index(['Mut1 WT amino acid', 'Mut1 Position', 'Mut1 Mutation',\n",
      "       'Mut2 WT amino acid', 'Mut2 Position', 'Mut2 Mutation', 'Input Count',\n",
      "       'Selection Count', 'Mut1 Fitness', 'Mut2 Fitness'],\n",
      "      dtype='object')\n"
     ]
    }
   ],
   "source": [
    "from protein_engineering.pipeline import AADataset\n",
    "from torch_geometric.loader import DataLoader as geom_DataLoader\n",
    "from protein_engineering.archive.test import GB1Olson \n",
    "\n",
    "# Data loading\n",
    "data = GB1Olson()\n",
    "protein = '2GI9'\n",
    "dataset = AADataset(protein, code=protein)\n",
    "dataloader = geom_DataLoader(dataset)\n"
   ]
  },
  {
   "cell_type": "code",
   "execution_count": 2,
   "metadata": {},
   "outputs": [
    {
     "name": "stdout",
     "output_type": "stream",
     "text": [
      "Using Cross Product\n",
      "With Feature Attention\n"
     ]
    },
    {
     "data": {
      "text/plain": [
       "<All keys matched successfully>"
      ]
     },
     "execution_count": 2,
     "metadata": {},
     "output_type": "execute_result"
    }
   ],
   "source": [
    "import torch\n",
    "from gvp_antonia.main import ModelWrapper\n",
    "from protein_engineering.pipeline import Pair, uncertainty_search\n",
    "\n",
    "# Model loading\n",
    "MODEL_PATH = '/Users/antoniaboca/partIII-amino-acid-prediction/data/eqgat_debug.ckpt'\n",
    "best_model = ModelWrapper('eqgat', 1e-3, None, 0.0, n_layers=5)\n",
    "best_model.load_state_dict(torch.load(MODEL_PATH, map_location=torch.device('cpu'))['state_dict'])\n",
    "    "
   ]
  },
  {
   "cell_type": "code",
   "execution_count": 4,
   "metadata": {},
   "outputs": [
    {
     "name": "stderr",
     "output_type": "stream",
     "text": [
      "56it [00:04, 12.26it/s]\n"
     ]
    }
   ],
   "source": [
    "uncertainty_search(best_model, dataloader, k=4, locs=2)"
   ]
  },
  {
   "cell_type": "code",
   "execution_count": 5,
   "metadata": {},
   "outputs": [
    {
     "data": {
      "text/html": [
       "<div>\n",
       "<style scoped>\n",
       "    .dataframe tbody tr th:only-of-type {\n",
       "        vertical-align: middle;\n",
       "    }\n",
       "\n",
       "    .dataframe tbody tr th {\n",
       "        vertical-align: top;\n",
       "    }\n",
       "\n",
       "    .dataframe thead th {\n",
       "        text-align: right;\n",
       "    }\n",
       "</style>\n",
       "<table border=\"1\" class=\"dataframe\">\n",
       "  <thead>\n",
       "    <tr style=\"text-align: right;\">\n",
       "      <th></th>\n",
       "      <th>variant</th>\n",
       "      <th>fitness</th>\n",
       "      <th>sequence</th>\n",
       "      <th>hamming_to_wildtype</th>\n",
       "      <th>is_wildtype</th>\n",
       "      <th>fitness_raw</th>\n",
       "      <th>fitness_percentile</th>\n",
       "      <th>fitness_rank</th>\n",
       "    </tr>\n",
       "  </thead>\n",
       "  <tbody>\n",
       "    <tr>\n",
       "      <th>420</th>\n",
       "      <td>A24D</td>\n",
       "      <td>0.069526</td>\n",
       "      <td>MQYKLILNGKTLKGETTTEAVDADTAEKVFKQYANDNGVDGEWTYD...</td>\n",
       "      <td>1</td>\n",
       "      <td>False</td>\n",
       "      <td>1.072</td>\n",
       "      <td>0.727992</td>\n",
       "      <td>270</td>\n",
       "    </tr>\n",
       "    <tr>\n",
       "      <th>421</th>\n",
       "      <td>A24E</td>\n",
       "      <td>1.259880</td>\n",
       "      <td>MQYKLILNGKTLKGETTTEAVDAETAEKVFKQYANDNGVDGEWTYD...</td>\n",
       "      <td>1</td>\n",
       "      <td>False</td>\n",
       "      <td>3.525</td>\n",
       "      <td>0.999674</td>\n",
       "      <td>5</td>\n",
       "    </tr>\n",
       "    <tr>\n",
       "      <th>433</th>\n",
       "      <td>A24S</td>\n",
       "      <td>0.735248</td>\n",
       "      <td>MQYKLILNGKTLKGETTTEAVDASTAEKVFKQYANDNGVDGEWTYD...</td>\n",
       "      <td>1</td>\n",
       "      <td>False</td>\n",
       "      <td>2.086</td>\n",
       "      <td>0.989054</td>\n",
       "      <td>27</td>\n",
       "    </tr>\n",
       "    <tr>\n",
       "      <th>647</th>\n",
       "      <td>D36A</td>\n",
       "      <td>0.506818</td>\n",
       "      <td>MQYKLILNGKTLKGETTTEAVDAATAEKVFKQYANANGVDGEWTYD...</td>\n",
       "      <td>1</td>\n",
       "      <td>False</td>\n",
       "      <td>1.660</td>\n",
       "      <td>0.955661</td>\n",
       "      <td>66</td>\n",
       "    </tr>\n",
       "    <tr>\n",
       "      <th>657</th>\n",
       "      <td>D36N</td>\n",
       "      <td>0.622188</td>\n",
       "      <td>MQYKLILNGKTLKGETTTEAVDAATAEKVFKQYANNNGVDGEWTYD...</td>\n",
       "      <td>1</td>\n",
       "      <td>False</td>\n",
       "      <td>1.863</td>\n",
       "      <td>0.981442</td>\n",
       "      <td>38</td>\n",
       "    </tr>\n",
       "    <tr>\n",
       "      <th>661</th>\n",
       "      <td>D36S</td>\n",
       "      <td>0.515216</td>\n",
       "      <td>MQYKLILNGKTLKGETTTEAVDAATAEKVFKQYANSNGVDGEWTYD...</td>\n",
       "      <td>1</td>\n",
       "      <td>False</td>\n",
       "      <td>1.674</td>\n",
       "      <td>0.957404</td>\n",
       "      <td>62</td>\n",
       "    </tr>\n",
       "  </tbody>\n",
       "</table>\n",
       "</div>"
      ],
      "text/plain": [
       "    variant   fitness                                           sequence  \\\n",
       "420    A24D  0.069526  MQYKLILNGKTLKGETTTEAVDADTAEKVFKQYANDNGVDGEWTYD...   \n",
       "421    A24E  1.259880  MQYKLILNGKTLKGETTTEAVDAETAEKVFKQYANDNGVDGEWTYD...   \n",
       "433    A24S  0.735248  MQYKLILNGKTLKGETTTEAVDASTAEKVFKQYANDNGVDGEWTYD...   \n",
       "647    D36A  0.506818  MQYKLILNGKTLKGETTTEAVDAATAEKVFKQYANANGVDGEWTYD...   \n",
       "657    D36N  0.622188  MQYKLILNGKTLKGETTTEAVDAATAEKVFKQYANNNGVDGEWTYD...   \n",
       "661    D36S  0.515216  MQYKLILNGKTLKGETTTEAVDAATAEKVFKQYANSNGVDGEWTYD...   \n",
       "\n",
       "     hamming_to_wildtype  is_wildtype  fitness_raw  fitness_percentile  \\\n",
       "420                    1        False        1.072            0.727992   \n",
       "421                    1        False        3.525            0.999674   \n",
       "433                    1        False        2.086            0.989054   \n",
       "647                    1        False        1.660            0.955661   \n",
       "657                    1        False        1.863            0.981442   \n",
       "661                    1        False        1.674            0.957404   \n",
       "\n",
       "     fitness_rank  \n",
       "420           270  \n",
       "421             5  \n",
       "433            27  \n",
       "647            66  \n",
       "657            38  \n",
       "661            62  "
      ]
     },
     "execution_count": 5,
     "metadata": {},
     "output_type": "execute_result"
    }
   ],
   "source": [
    "import pandas as pd\n",
    "new_df = data.data.copy()\n",
    "new_df['variant'] = new_df['variant'].astype('str')\n",
    "\n",
    "mutations = pd.read_csv('mutations.csv')\n",
    "codes = mutations['mutation_codes']\n",
    "data.data[new_df['variant'].isin(codes)]"
   ]
  },
  {
   "cell_type": "code",
   "execution_count": null,
   "metadata": {},
   "outputs": [],
   "source": []
  }
 ],
 "metadata": {
  "kernelspec": {
   "display_name": "Python 3.8.15 ('diss')",
   "language": "python",
   "name": "python3"
  },
  "language_info": {
   "codemirror_mode": {
    "name": "ipython",
    "version": 3
   },
   "file_extension": ".py",
   "mimetype": "text/x-python",
   "name": "python",
   "nbconvert_exporter": "python",
   "pygments_lexer": "ipython3",
   "version": "3.8.15"
  },
  "orig_nbformat": 4,
  "vscode": {
   "interpreter": {
    "hash": "0a88f19788b2d489de92e777079de89cff528c8c2ec9a451fa736b3249187b30"
   }
  }
 },
 "nbformat": 4,
 "nbformat_minor": 2
}
